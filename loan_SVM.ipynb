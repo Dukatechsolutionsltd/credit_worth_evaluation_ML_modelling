{
 "metadata": {
  "language_info": {
   "codemirror_mode": {
    "name": "ipython",
    "version": 3
   },
   "file_extension": ".py",
   "mimetype": "text/x-python",
   "name": "python",
   "nbconvert_exporter": "python",
   "pygments_lexer": "ipython3",
   "version": "3.9.5"
  },
  "orig_nbformat": 4,
  "kernelspec": {
   "name": "python3",
   "display_name": "Python 3.9.5 64-bit (windows store)"
  },
  "interpreter": {
   "hash": "13f38cf28d818ed05ed31d9d4f5b20000160d246f2c83cb873de1fcaec656d23"
  }
 },
 "nbformat": 4,
 "nbformat_minor": 2,
 "cells": [
  {
   "cell_type": "code",
   "execution_count": 44,
   "metadata": {},
   "outputs": [],
   "source": [
    "#Import libraries that will be used in the project\n",
    "import numpy as np\n",
    "import pandas as pd\n",
    "import seaborn as sns\n",
    "import plotly.express as px\n",
    "import matplotlib\n",
    "import matplotlib.pyplot as plt \n",
    "import sklearn\n",
    "import csv\n",
    "import math\n",
    "from sklearn.preprocessing import LabelEncoder\n",
    "from sklearn.preprocessing import StandardScaler\n",
    "from sklearn.metrics import classification_report\n",
    "from sklearn.metrics import mean_absolute_error\n",
    "from sklearn.metrics import mean_squared_error\n",
    "from sklearn.metrics import confusion_matrix\n",
    "from sklearn.metrics import accuracy_score\n",
    "from sklearn.model_selection import train_test_split\n",
    "from sklearn.svm import SVC\n",
    "import pickle"
   ]
  },
  {
   "cell_type": "code",
   "execution_count": 3,
   "metadata": {},
   "outputs": [],
   "source": [
    "#load the dataset\n",
    "loan_data = pd.read_csv('bankrecords.csv')"
   ]
  },
  {
   "cell_type": "code",
   "execution_count": 4,
   "metadata": {},
   "outputs": [
    {
     "output_type": "execute_result",
     "data": {
      "text/plain": [
       "      Loan_ID  Gender Married  Dependents     Education Self_Employed  \\\n",
       "0    LP001002    Male      No         0.0      Graduate            No   \n",
       "1    LP001003    Male     Yes         1.0      Graduate            No   \n",
       "2    LP001005    Male     Yes         0.0      Graduate           Yes   \n",
       "3    LP001006    Male     Yes         0.0  Not Graduate            No   \n",
       "4    LP001008    Male      No         0.0      Graduate            No   \n",
       "..        ...     ...     ...         ...           ...           ...   \n",
       "609  LP002978  Female      No         0.0      Graduate            No   \n",
       "610  LP002979    Male     Yes         3.0      Graduate            No   \n",
       "611  LP002983    Male     Yes         1.0      Graduate            No   \n",
       "612  LP002984    Male     Yes         2.0      Graduate            No   \n",
       "613  LP002990  Female      No         0.0      Graduate           Yes   \n",
       "\n",
       "     ApplicantIncome  CoapplicantIncome  LoanAmount  Loan_Amount_Term  \\\n",
       "0               5849                0.0         NaN             360.0   \n",
       "1               4583             1508.0       128.0             360.0   \n",
       "2               3000                0.0        66.0             360.0   \n",
       "3               2583             2358.0       120.0             360.0   \n",
       "4               6000                0.0       141.0             360.0   \n",
       "..               ...                ...         ...               ...   \n",
       "609             2900                0.0        71.0             360.0   \n",
       "610             4106                0.0        40.0             180.0   \n",
       "611             8072              240.0       253.0             360.0   \n",
       "612             7583                0.0       187.0             360.0   \n",
       "613             4583                0.0       133.0             360.0   \n",
       "\n",
       "     Credit_History Property_Area Loan_Status  \n",
       "0               1.0         Urban           Y  \n",
       "1               1.0         Rural           N  \n",
       "2               1.0         Urban           Y  \n",
       "3               1.0         Urban           Y  \n",
       "4               1.0         Urban           Y  \n",
       "..              ...           ...         ...  \n",
       "609             1.0         Rural           Y  \n",
       "610             1.0         Rural           Y  \n",
       "611             1.0         Urban           Y  \n",
       "612             1.0         Urban           Y  \n",
       "613             0.0     Semiurban           N  \n",
       "\n",
       "[614 rows x 13 columns]"
      ],
      "text/html": "<div>\n<style scoped>\n    .dataframe tbody tr th:only-of-type {\n        vertical-align: middle;\n    }\n\n    .dataframe tbody tr th {\n        vertical-align: top;\n    }\n\n    .dataframe thead th {\n        text-align: right;\n    }\n</style>\n<table border=\"1\" class=\"dataframe\">\n  <thead>\n    <tr style=\"text-align: right;\">\n      <th></th>\n      <th>Loan_ID</th>\n      <th>Gender</th>\n      <th>Married</th>\n      <th>Dependents</th>\n      <th>Education</th>\n      <th>Self_Employed</th>\n      <th>ApplicantIncome</th>\n      <th>CoapplicantIncome</th>\n      <th>LoanAmount</th>\n      <th>Loan_Amount_Term</th>\n      <th>Credit_History</th>\n      <th>Property_Area</th>\n      <th>Loan_Status</th>\n    </tr>\n  </thead>\n  <tbody>\n    <tr>\n      <th>0</th>\n      <td>LP001002</td>\n      <td>Male</td>\n      <td>No</td>\n      <td>0.0</td>\n      <td>Graduate</td>\n      <td>No</td>\n      <td>5849</td>\n      <td>0.0</td>\n      <td>NaN</td>\n      <td>360.0</td>\n      <td>1.0</td>\n      <td>Urban</td>\n      <td>Y</td>\n    </tr>\n    <tr>\n      <th>1</th>\n      <td>LP001003</td>\n      <td>Male</td>\n      <td>Yes</td>\n      <td>1.0</td>\n      <td>Graduate</td>\n      <td>No</td>\n      <td>4583</td>\n      <td>1508.0</td>\n      <td>128.0</td>\n      <td>360.0</td>\n      <td>1.0</td>\n      <td>Rural</td>\n      <td>N</td>\n    </tr>\n    <tr>\n      <th>2</th>\n      <td>LP001005</td>\n      <td>Male</td>\n      <td>Yes</td>\n      <td>0.0</td>\n      <td>Graduate</td>\n      <td>Yes</td>\n      <td>3000</td>\n      <td>0.0</td>\n      <td>66.0</td>\n      <td>360.0</td>\n      <td>1.0</td>\n      <td>Urban</td>\n      <td>Y</td>\n    </tr>\n    <tr>\n      <th>3</th>\n      <td>LP001006</td>\n      <td>Male</td>\n      <td>Yes</td>\n      <td>0.0</td>\n      <td>Not Graduate</td>\n      <td>No</td>\n      <td>2583</td>\n      <td>2358.0</td>\n      <td>120.0</td>\n      <td>360.0</td>\n      <td>1.0</td>\n      <td>Urban</td>\n      <td>Y</td>\n    </tr>\n    <tr>\n      <th>4</th>\n      <td>LP001008</td>\n      <td>Male</td>\n      <td>No</td>\n      <td>0.0</td>\n      <td>Graduate</td>\n      <td>No</td>\n      <td>6000</td>\n      <td>0.0</td>\n      <td>141.0</td>\n      <td>360.0</td>\n      <td>1.0</td>\n      <td>Urban</td>\n      <td>Y</td>\n    </tr>\n    <tr>\n      <th>...</th>\n      <td>...</td>\n      <td>...</td>\n      <td>...</td>\n      <td>...</td>\n      <td>...</td>\n      <td>...</td>\n      <td>...</td>\n      <td>...</td>\n      <td>...</td>\n      <td>...</td>\n      <td>...</td>\n      <td>...</td>\n      <td>...</td>\n    </tr>\n    <tr>\n      <th>609</th>\n      <td>LP002978</td>\n      <td>Female</td>\n      <td>No</td>\n      <td>0.0</td>\n      <td>Graduate</td>\n      <td>No</td>\n      <td>2900</td>\n      <td>0.0</td>\n      <td>71.0</td>\n      <td>360.0</td>\n      <td>1.0</td>\n      <td>Rural</td>\n      <td>Y</td>\n    </tr>\n    <tr>\n      <th>610</th>\n      <td>LP002979</td>\n      <td>Male</td>\n      <td>Yes</td>\n      <td>3.0</td>\n      <td>Graduate</td>\n      <td>No</td>\n      <td>4106</td>\n      <td>0.0</td>\n      <td>40.0</td>\n      <td>180.0</td>\n      <td>1.0</td>\n      <td>Rural</td>\n      <td>Y</td>\n    </tr>\n    <tr>\n      <th>611</th>\n      <td>LP002983</td>\n      <td>Male</td>\n      <td>Yes</td>\n      <td>1.0</td>\n      <td>Graduate</td>\n      <td>No</td>\n      <td>8072</td>\n      <td>240.0</td>\n      <td>253.0</td>\n      <td>360.0</td>\n      <td>1.0</td>\n      <td>Urban</td>\n      <td>Y</td>\n    </tr>\n    <tr>\n      <th>612</th>\n      <td>LP002984</td>\n      <td>Male</td>\n      <td>Yes</td>\n      <td>2.0</td>\n      <td>Graduate</td>\n      <td>No</td>\n      <td>7583</td>\n      <td>0.0</td>\n      <td>187.0</td>\n      <td>360.0</td>\n      <td>1.0</td>\n      <td>Urban</td>\n      <td>Y</td>\n    </tr>\n    <tr>\n      <th>613</th>\n      <td>LP002990</td>\n      <td>Female</td>\n      <td>No</td>\n      <td>0.0</td>\n      <td>Graduate</td>\n      <td>Yes</td>\n      <td>4583</td>\n      <td>0.0</td>\n      <td>133.0</td>\n      <td>360.0</td>\n      <td>0.0</td>\n      <td>Semiurban</td>\n      <td>N</td>\n    </tr>\n  </tbody>\n</table>\n<p>614 rows × 13 columns</p>\n</div>"
     },
     "metadata": {},
     "execution_count": 4
    }
   ],
   "source": [
    "loan_data"
   ]
  },
  {
   "source": [
    "DATA PREPARATION"
   ],
   "cell_type": "markdown",
   "metadata": {}
  },
  {
   "cell_type": "code",
   "execution_count": 5,
   "metadata": {},
   "outputs": [
    {
     "output_type": "execute_result",
     "data": {
      "text/plain": [
       "(614, 13)"
      ]
     },
     "metadata": {},
     "execution_count": 5
    }
   ],
   "source": [
    "loan_data.shape"
   ]
  },
  {
   "cell_type": "code",
   "execution_count": 6,
   "metadata": {},
   "outputs": [],
   "source": [
    "#DELETE COLUMN(S) THAT WE MAY NOT REQUIRE FOR THE PROJECT\n",
    "del loan_data['Loan_ID']"
   ]
  },
  {
   "cell_type": "code",
   "execution_count": 7,
   "metadata": {},
   "outputs": [
    {
     "output_type": "execute_result",
     "data": {
      "text/plain": [
       "Index(['Gender', 'Married', 'Dependents', 'Education', 'Self_Employed',\n",
       "       'ApplicantIncome', 'CoapplicantIncome', 'LoanAmount',\n",
       "       'Loan_Amount_Term', 'Credit_History', 'Property_Area', 'Loan_Status'],\n",
       "      dtype='object')"
      ]
     },
     "metadata": {},
     "execution_count": 7
    }
   ],
   "source": [
    "loan_data.columns"
   ]
  },
  {
   "cell_type": "code",
   "execution_count": 8,
   "metadata": {},
   "outputs": [
    {
     "output_type": "execute_result",
     "data": {
      "text/plain": [
       "Gender                object\n",
       "Married               object\n",
       "Dependents           float64\n",
       "Education             object\n",
       "Self_Employed         object\n",
       "ApplicantIncome        int64\n",
       "CoapplicantIncome    float64\n",
       "LoanAmount           float64\n",
       "Loan_Amount_Term     float64\n",
       "Credit_History       float64\n",
       "Property_Area         object\n",
       "Loan_Status           object\n",
       "dtype: object"
      ]
     },
     "metadata": {},
     "execution_count": 8
    }
   ],
   "source": [
    "loan_data.dtypes"
   ]
  },
  {
   "cell_type": "code",
   "execution_count": 9,
   "metadata": {},
   "outputs": [
    {
     "output_type": "stream",
     "name": "stderr",
     "text": [
      "<ipython-input-9-ddf411b15a60>:3: DeprecationWarning: Converting `np.inexact` or `np.floating` to a dtype is deprecated. The current result is `float64` which is not strictly correct.\n  if loan_data[column].dtype == np.number:\n"
     ]
    }
   ],
   "source": [
    "#converting all non-numeric value columns into numeric value columns. \n",
    "for column in loan_data.columns:\n",
    "    if loan_data[column].dtype == np.number:\n",
    "        continue\n",
    "    loan_data[column] = LabelEncoder().fit_transform(loan_data[column])"
   ]
  },
  {
   "cell_type": "code",
   "execution_count": 10,
   "metadata": {},
   "outputs": [
    {
     "output_type": "execute_result",
     "data": {
      "text/plain": [
       "Gender                 int32\n",
       "Married                int32\n",
       "Dependents           float64\n",
       "Education              int32\n",
       "Self_Employed          int32\n",
       "ApplicantIncome        int64\n",
       "CoapplicantIncome    float64\n",
       "LoanAmount           float64\n",
       "Loan_Amount_Term     float64\n",
       "Credit_History       float64\n",
       "Property_Area          int32\n",
       "Loan_Status            int32\n",
       "dtype: object"
      ]
     },
     "metadata": {},
     "execution_count": 10
    }
   ],
   "source": [
    "loan_data.dtypes"
   ]
  },
  {
   "cell_type": "code",
   "execution_count": 11,
   "metadata": {},
   "outputs": [
    {
     "output_type": "execute_result",
     "data": {
      "text/plain": [
       "Gender               0.000000\n",
       "Married              0.000000\n",
       "Dependents           2.442997\n",
       "Education            0.000000\n",
       "Self_Employed        0.000000\n",
       "ApplicantIncome      0.000000\n",
       "CoapplicantIncome    0.000000\n",
       "LoanAmount           3.583062\n",
       "Loan_Amount_Term     2.280130\n",
       "Credit_History       8.143322\n",
       "Property_Area        0.000000\n",
       "Loan_Status          0.000000\n",
       "dtype: float64"
      ]
     },
     "metadata": {},
     "execution_count": 11
    }
   ],
   "source": [
    "#CHECK MISSING VALUES BY PERCENTAGE. THIS WILL HELP IN CHOOSING THE BEST METHOD FOR FILLING THEM UP\n",
    "loan_data.isnull().sum() / len(loan_data) * 100"
   ]
  },
  {
   "cell_type": "code",
   "execution_count": 12,
   "metadata": {},
   "outputs": [
    {
     "output_type": "execute_result",
     "data": {
      "text/plain": [
       "   Gender  Married  Dependents  Education  Self_Employed  ApplicantIncome  \\\n",
       "0       1        0         0.0          0              0              376   \n",
       "1       1        1         1.0          0              0              306   \n",
       "2       1        1         0.0          0              1              139   \n",
       "3       1        1         0.0          1              0               90   \n",
       "4       1        0         0.0          0              0              381   \n",
       "5       1        1         2.0          0              1              353   \n",
       "6       1        1         0.0          1              0               65   \n",
       "7       1        1         3.0          0              0              146   \n",
       "8       1        1         2.0          0              0              269   \n",
       "9       1        1         1.0          0              0              470   \n",
       "\n",
       "   CoapplicantIncome  LoanAmount  Loan_Amount_Term  Credit_History  \\\n",
       "0                0.0         NaN             360.0             1.0   \n",
       "1             1508.0       128.0             360.0             1.0   \n",
       "2                0.0        66.0             360.0             1.0   \n",
       "3             2358.0       120.0             360.0             1.0   \n",
       "4                0.0       141.0             360.0             1.0   \n",
       "5             4196.0       267.0             360.0             1.0   \n",
       "6             1516.0        95.0             360.0             1.0   \n",
       "7             2504.0       158.0             360.0             0.0   \n",
       "8             1526.0       168.0             360.0             1.0   \n",
       "9            10968.0       349.0             360.0             1.0   \n",
       "\n",
       "   Property_Area  Loan_Status  \n",
       "0              2            1  \n",
       "1              0            0  \n",
       "2              2            1  \n",
       "3              2            1  \n",
       "4              2            1  \n",
       "5              2            1  \n",
       "6              2            1  \n",
       "7              1            0  \n",
       "8              2            1  \n",
       "9              1            0  "
      ],
      "text/html": "<div>\n<style scoped>\n    .dataframe tbody tr th:only-of-type {\n        vertical-align: middle;\n    }\n\n    .dataframe tbody tr th {\n        vertical-align: top;\n    }\n\n    .dataframe thead th {\n        text-align: right;\n    }\n</style>\n<table border=\"1\" class=\"dataframe\">\n  <thead>\n    <tr style=\"text-align: right;\">\n      <th></th>\n      <th>Gender</th>\n      <th>Married</th>\n      <th>Dependents</th>\n      <th>Education</th>\n      <th>Self_Employed</th>\n      <th>ApplicantIncome</th>\n      <th>CoapplicantIncome</th>\n      <th>LoanAmount</th>\n      <th>Loan_Amount_Term</th>\n      <th>Credit_History</th>\n      <th>Property_Area</th>\n      <th>Loan_Status</th>\n    </tr>\n  </thead>\n  <tbody>\n    <tr>\n      <th>0</th>\n      <td>1</td>\n      <td>0</td>\n      <td>0.0</td>\n      <td>0</td>\n      <td>0</td>\n      <td>376</td>\n      <td>0.0</td>\n      <td>NaN</td>\n      <td>360.0</td>\n      <td>1.0</td>\n      <td>2</td>\n      <td>1</td>\n    </tr>\n    <tr>\n      <th>1</th>\n      <td>1</td>\n      <td>1</td>\n      <td>1.0</td>\n      <td>0</td>\n      <td>0</td>\n      <td>306</td>\n      <td>1508.0</td>\n      <td>128.0</td>\n      <td>360.0</td>\n      <td>1.0</td>\n      <td>0</td>\n      <td>0</td>\n    </tr>\n    <tr>\n      <th>2</th>\n      <td>1</td>\n      <td>1</td>\n      <td>0.0</td>\n      <td>0</td>\n      <td>1</td>\n      <td>139</td>\n      <td>0.0</td>\n      <td>66.0</td>\n      <td>360.0</td>\n      <td>1.0</td>\n      <td>2</td>\n      <td>1</td>\n    </tr>\n    <tr>\n      <th>3</th>\n      <td>1</td>\n      <td>1</td>\n      <td>0.0</td>\n      <td>1</td>\n      <td>0</td>\n      <td>90</td>\n      <td>2358.0</td>\n      <td>120.0</td>\n      <td>360.0</td>\n      <td>1.0</td>\n      <td>2</td>\n      <td>1</td>\n    </tr>\n    <tr>\n      <th>4</th>\n      <td>1</td>\n      <td>0</td>\n      <td>0.0</td>\n      <td>0</td>\n      <td>0</td>\n      <td>381</td>\n      <td>0.0</td>\n      <td>141.0</td>\n      <td>360.0</td>\n      <td>1.0</td>\n      <td>2</td>\n      <td>1</td>\n    </tr>\n    <tr>\n      <th>5</th>\n      <td>1</td>\n      <td>1</td>\n      <td>2.0</td>\n      <td>0</td>\n      <td>1</td>\n      <td>353</td>\n      <td>4196.0</td>\n      <td>267.0</td>\n      <td>360.0</td>\n      <td>1.0</td>\n      <td>2</td>\n      <td>1</td>\n    </tr>\n    <tr>\n      <th>6</th>\n      <td>1</td>\n      <td>1</td>\n      <td>0.0</td>\n      <td>1</td>\n      <td>0</td>\n      <td>65</td>\n      <td>1516.0</td>\n      <td>95.0</td>\n      <td>360.0</td>\n      <td>1.0</td>\n      <td>2</td>\n      <td>1</td>\n    </tr>\n    <tr>\n      <th>7</th>\n      <td>1</td>\n      <td>1</td>\n      <td>3.0</td>\n      <td>0</td>\n      <td>0</td>\n      <td>146</td>\n      <td>2504.0</td>\n      <td>158.0</td>\n      <td>360.0</td>\n      <td>0.0</td>\n      <td>1</td>\n      <td>0</td>\n    </tr>\n    <tr>\n      <th>8</th>\n      <td>1</td>\n      <td>1</td>\n      <td>2.0</td>\n      <td>0</td>\n      <td>0</td>\n      <td>269</td>\n      <td>1526.0</td>\n      <td>168.0</td>\n      <td>360.0</td>\n      <td>1.0</td>\n      <td>2</td>\n      <td>1</td>\n    </tr>\n    <tr>\n      <th>9</th>\n      <td>1</td>\n      <td>1</td>\n      <td>1.0</td>\n      <td>0</td>\n      <td>0</td>\n      <td>470</td>\n      <td>10968.0</td>\n      <td>349.0</td>\n      <td>360.0</td>\n      <td>1.0</td>\n      <td>1</td>\n      <td>0</td>\n    </tr>\n  </tbody>\n</table>\n</div>"
     },
     "metadata": {},
     "execution_count": 12
    }
   ],
   "source": [
    "loan_data.head(10)"
   ]
  },
  {
   "cell_type": "code",
   "execution_count": 13,
   "metadata": {},
   "outputs": [],
   "source": [
    "#filling up missing values in the dataset (USING DIFFERENT METHODS - CONSIDERING THE TYPE OF VARIABLES IN THE PARTICULAR COLUMN(S))\n",
    "loan_missing_1 = loan_data.LoanAmount.mean()\n",
    "loan_data.LoanAmount = loan_data.LoanAmount.fillna(loan_missing_1)"
   ]
  },
  {
   "cell_type": "code",
   "execution_count": 14,
   "metadata": {},
   "outputs": [],
   "source": [
    "loan_missing_2 = loan_data.Loan_Amount_Term.median()\n",
    "loan_data.Loan_Amount_Term = loan_data.Loan_Amount_Term.fillna(loan_missing_2)"
   ]
  },
  {
   "cell_type": "code",
   "execution_count": 15,
   "metadata": {},
   "outputs": [],
   "source": [
    "loan_missing_3 = loan_data.Dependents.median()\n",
    "loan_data.Dependents = loan_data.Dependents.fillna(loan_missing_3)"
   ]
  },
  {
   "cell_type": "code",
   "execution_count": 16,
   "metadata": {},
   "outputs": [],
   "source": [
    "loan_missing_4 = loan_data.Credit_History.median()\n",
    "loan_data.Credit_History = loan_data.Credit_History.fillna(loan_missing_4)"
   ]
  },
  {
   "cell_type": "code",
   "execution_count": 17,
   "metadata": {},
   "outputs": [
    {
     "output_type": "execute_result",
     "data": {
      "text/plain": [
       "Gender               0\n",
       "Married              0\n",
       "Dependents           0\n",
       "Education            0\n",
       "Self_Employed        0\n",
       "ApplicantIncome      0\n",
       "CoapplicantIncome    0\n",
       "LoanAmount           0\n",
       "Loan_Amount_Term     0\n",
       "Credit_History       0\n",
       "Property_Area        0\n",
       "Loan_Status          0\n",
       "dtype: int64"
      ]
     },
     "metadata": {},
     "execution_count": 17
    }
   ],
   "source": [
    "loan_data.isnull().sum()"
   ]
  },
  {
   "cell_type": "code",
   "execution_count": 18,
   "metadata": {},
   "outputs": [],
   "source": [
    "#save the dataset\n",
    "loan_data.to_csv('loan_data_clean.csv')"
   ]
  },
  {
   "source": [
    "STATISTICS & VISUALIZATION"
   ],
   "cell_type": "markdown",
   "metadata": {}
  },
  {
   "cell_type": "code",
   "execution_count": 19,
   "metadata": {},
   "outputs": [
    {
     "output_type": "execute_result",
     "data": {
      "text/plain": [
       "                   count         mean          std   min     25%     50%  \\\n",
       "Gender             614.0     0.838762     0.421752   0.0    1.00     1.0   \n",
       "Married            614.0     0.657980     0.484971   0.0    0.00     1.0   \n",
       "Dependents         614.0     0.744300     1.009623   0.0    0.00     0.0   \n",
       "Education          614.0     0.218241     0.413389   0.0    0.00     0.0   \n",
       "Self_Employed      614.0     0.237785     0.534737   0.0    0.00     0.0   \n",
       "ApplicantIncome    614.0   247.117264   143.537853   0.0  120.25   244.5   \n",
       "CoapplicantIncome  614.0  1621.245798  2926.248369   0.0    0.00  1188.5   \n",
       "LoanAmount         614.0   146.412162    84.037468   9.0  100.25   129.0   \n",
       "Loan_Amount_Term   614.0   342.410423    64.428629  12.0  360.00   360.0   \n",
       "Credit_History     614.0     0.855049     0.352339   0.0    1.00     1.0   \n",
       "Property_Area      614.0     1.037459     0.787482   0.0    0.00     1.0   \n",
       "Loan_Status        614.0     0.687296     0.463973   0.0    0.00     1.0   \n",
       "\n",
       "                       75%      max  \n",
       "Gender                1.00      2.0  \n",
       "Married               1.00      2.0  \n",
       "Dependents            1.00      3.0  \n",
       "Education             0.00      1.0  \n",
       "Self_Employed         0.00      2.0  \n",
       "ApplicantIncome     369.75    504.0  \n",
       "CoapplicantIncome  2297.25  41667.0  \n",
       "LoanAmount          164.75    700.0  \n",
       "Loan_Amount_Term    360.00    480.0  \n",
       "Credit_History        1.00      1.0  \n",
       "Property_Area         2.00      2.0  \n",
       "Loan_Status           1.00      1.0  "
      ],
      "text/html": "<div>\n<style scoped>\n    .dataframe tbody tr th:only-of-type {\n        vertical-align: middle;\n    }\n\n    .dataframe tbody tr th {\n        vertical-align: top;\n    }\n\n    .dataframe thead th {\n        text-align: right;\n    }\n</style>\n<table border=\"1\" class=\"dataframe\">\n  <thead>\n    <tr style=\"text-align: right;\">\n      <th></th>\n      <th>count</th>\n      <th>mean</th>\n      <th>std</th>\n      <th>min</th>\n      <th>25%</th>\n      <th>50%</th>\n      <th>75%</th>\n      <th>max</th>\n    </tr>\n  </thead>\n  <tbody>\n    <tr>\n      <th>Gender</th>\n      <td>614.0</td>\n      <td>0.838762</td>\n      <td>0.421752</td>\n      <td>0.0</td>\n      <td>1.00</td>\n      <td>1.0</td>\n      <td>1.00</td>\n      <td>2.0</td>\n    </tr>\n    <tr>\n      <th>Married</th>\n      <td>614.0</td>\n      <td>0.657980</td>\n      <td>0.484971</td>\n      <td>0.0</td>\n      <td>0.00</td>\n      <td>1.0</td>\n      <td>1.00</td>\n      <td>2.0</td>\n    </tr>\n    <tr>\n      <th>Dependents</th>\n      <td>614.0</td>\n      <td>0.744300</td>\n      <td>1.009623</td>\n      <td>0.0</td>\n      <td>0.00</td>\n      <td>0.0</td>\n      <td>1.00</td>\n      <td>3.0</td>\n    </tr>\n    <tr>\n      <th>Education</th>\n      <td>614.0</td>\n      <td>0.218241</td>\n      <td>0.413389</td>\n      <td>0.0</td>\n      <td>0.00</td>\n      <td>0.0</td>\n      <td>0.00</td>\n      <td>1.0</td>\n    </tr>\n    <tr>\n      <th>Self_Employed</th>\n      <td>614.0</td>\n      <td>0.237785</td>\n      <td>0.534737</td>\n      <td>0.0</td>\n      <td>0.00</td>\n      <td>0.0</td>\n      <td>0.00</td>\n      <td>2.0</td>\n    </tr>\n    <tr>\n      <th>ApplicantIncome</th>\n      <td>614.0</td>\n      <td>247.117264</td>\n      <td>143.537853</td>\n      <td>0.0</td>\n      <td>120.25</td>\n      <td>244.5</td>\n      <td>369.75</td>\n      <td>504.0</td>\n    </tr>\n    <tr>\n      <th>CoapplicantIncome</th>\n      <td>614.0</td>\n      <td>1621.245798</td>\n      <td>2926.248369</td>\n      <td>0.0</td>\n      <td>0.00</td>\n      <td>1188.5</td>\n      <td>2297.25</td>\n      <td>41667.0</td>\n    </tr>\n    <tr>\n      <th>LoanAmount</th>\n      <td>614.0</td>\n      <td>146.412162</td>\n      <td>84.037468</td>\n      <td>9.0</td>\n      <td>100.25</td>\n      <td>129.0</td>\n      <td>164.75</td>\n      <td>700.0</td>\n    </tr>\n    <tr>\n      <th>Loan_Amount_Term</th>\n      <td>614.0</td>\n      <td>342.410423</td>\n      <td>64.428629</td>\n      <td>12.0</td>\n      <td>360.00</td>\n      <td>360.0</td>\n      <td>360.00</td>\n      <td>480.0</td>\n    </tr>\n    <tr>\n      <th>Credit_History</th>\n      <td>614.0</td>\n      <td>0.855049</td>\n      <td>0.352339</td>\n      <td>0.0</td>\n      <td>1.00</td>\n      <td>1.0</td>\n      <td>1.00</td>\n      <td>1.0</td>\n    </tr>\n    <tr>\n      <th>Property_Area</th>\n      <td>614.0</td>\n      <td>1.037459</td>\n      <td>0.787482</td>\n      <td>0.0</td>\n      <td>0.00</td>\n      <td>1.0</td>\n      <td>2.00</td>\n      <td>2.0</td>\n    </tr>\n    <tr>\n      <th>Loan_Status</th>\n      <td>614.0</td>\n      <td>0.687296</td>\n      <td>0.463973</td>\n      <td>0.0</td>\n      <td>0.00</td>\n      <td>1.0</td>\n      <td>1.00</td>\n      <td>1.0</td>\n    </tr>\n  </tbody>\n</table>\n</div>"
     },
     "metadata": {},
     "execution_count": 19
    }
   ],
   "source": [
    "#CHECK THE STATISTICS OF THE DATASET\n",
    "loan_data.describe().T"
   ]
  },
  {
   "cell_type": "code",
   "execution_count": 20,
   "metadata": {},
   "outputs": [
    {
     "output_type": "stream",
     "name": "stderr",
     "text": [
      "C:\\Users\\Wessware\\AppData\\Local\\Packages\\PythonSoftwareFoundation.Python.3.9_qbz5n2kfra8p0\\LocalCache\\local-packages\\Python39\\site-packages\\seaborn\\distributions.py:2557: FutureWarning: `distplot` is a deprecated function and will be removed in a future version. Please adapt your code to use either `displot` (a figure-level function with similar flexibility) or `histplot` (an axes-level function for histograms).\n  warnings.warn(msg, FutureWarning)\n"
     ]
    },
    {
     "output_type": "execute_result",
     "data": {
      "text/plain": [
       "<AxesSubplot:xlabel='LoanAmount', ylabel='Density'>"
      ]
     },
     "metadata": {},
     "execution_count": 20
    },
    {
     "output_type": "display_data",
     "data": {
      "text/plain": "<Figure size 432x288 with 1 Axes>",
      "image/svg+xml": "<?xml version=\"1.0\" encoding=\"utf-8\" standalone=\"no\"?>\r\n<!DOCTYPE svg PUBLIC \"-//W3C//DTD SVG 1.1//EN\"\r\n  \"http://www.w3.org/Graphics/SVG/1.1/DTD/svg11.dtd\">\r\n<!-- Created with matplotlib (https://matplotlib.org/) -->\r\n<svg height=\"265.603602pt\" version=\"1.1\" viewBox=\"0 0 403.891613 265.603602\" width=\"403.891613pt\" xmlns=\"http://www.w3.org/2000/svg\" xmlns:xlink=\"http://www.w3.org/1999/xlink\">\r\n <metadata>\r\n  <rdf:RDF xmlns:cc=\"http://creativecommons.org/ns#\" xmlns:dc=\"http://purl.org/dc/elements/1.1/\" xmlns:rdf=\"http://www.w3.org/1999/02/22-rdf-syntax-ns#\">\r\n   <cc:Work>\r\n    <dc:type rdf:resource=\"http://purl.org/dc/dcmitype/StillImage\"/>\r\n    <dc:date>2021-07-11T15:55:41.285843</dc:date>\r\n    <dc:format>image/svg+xml</dc:format>\r\n    <dc:creator>\r\n     <cc:Agent>\r\n      <dc:title>Matplotlib v3.3.4, https://matplotlib.org/</dc:title>\r\n     </cc:Agent>\r\n    </dc:creator>\r\n   </cc:Work>\r\n  </rdf:RDF>\r\n </metadata>\r\n <defs>\r\n  <style type=\"text/css\">*{stroke-linecap:butt;stroke-linejoin:round;}</style>\r\n </defs>\r\n <g id=\"figure_1\">\r\n  <g id=\"patch_1\">\r\n   <path d=\"M 0 265.603602 \r\nL 403.891613 265.603602 \r\nL 403.891613 0 \r\nL 0 0 \r\nz\r\n\" style=\"fill:none;\"/>\r\n  </g>\r\n  <g id=\"axes_1\">\r\n   <g id=\"patch_2\">\r\n    <path d=\"M 56.50625 228.047352 \r\nL 391.30625 228.047352 \r\nL 391.30625 10.607352 \r\nL 56.50625 10.607352 \r\nz\r\n\" style=\"fill:#ffffff;\"/>\r\n   </g>\r\n   <g id=\"patch_3\">\r\n    <path clip-path=\"url(#pd0e92d8b52)\" d=\"M 97.306974 228.047352 \r\nL 102.811291 228.047352 \r\nL 102.811291 223.340859 \r\nL 97.306974 223.340859 \r\nz\r\n\" style=\"fill:#ff0000;opacity:0.4;stroke:#ffffff;stroke-linejoin:miter;\"/>\r\n   </g>\r\n   <g id=\"patch_4\">\r\n    <path clip-path=\"url(#pd0e92d8b52)\" d=\"M 102.811291 228.047352 \r\nL 108.315607 228.047352 \r\nL 108.315607 211.574625 \r\nL 102.811291 211.574625 \r\nz\r\n\" style=\"fill:#ff0000;opacity:0.4;stroke:#ffffff;stroke-linejoin:miter;\"/>\r\n   </g>\r\n   <g id=\"patch_5\">\r\n    <path clip-path=\"url(#pd0e92d8b52)\" d=\"M 108.315607 228.047352 \r\nL 113.819923 228.047352 \r\nL 113.819923 190.395404 \r\nL 108.315607 190.395404 \r\nz\r\n\" style=\"fill:#ff0000;opacity:0.4;stroke:#ffffff;stroke-linejoin:miter;\"/>\r\n   </g>\r\n   <g id=\"patch_6\">\r\n    <path clip-path=\"url(#pd0e92d8b52)\" d=\"M 113.819923 228.047352 \r\nL 119.32424 228.047352 \r\nL 119.32424 173.922677 \r\nL 113.819923 173.922677 \r\nz\r\n\" style=\"fill:#ff0000;opacity:0.4;stroke:#ffffff;stroke-linejoin:miter;\"/>\r\n   </g>\r\n   <g id=\"patch_7\">\r\n    <path clip-path=\"url(#pd0e92d8b52)\" d=\"M 119.32424 228.047352 \r\nL 124.828556 228.047352 \r\nL 124.828556 131.564235 \r\nL 119.32424 131.564235 \r\nz\r\n\" style=\"fill:#ff0000;opacity:0.4;stroke:#ffffff;stroke-linejoin:miter;\"/>\r\n   </g>\r\n   <g id=\"patch_8\">\r\n    <path clip-path=\"url(#pd0e92d8b52)\" d=\"M 124.828556 228.047352 \r\nL 130.332872 228.047352 \r\nL 130.332872 110.385014 \r\nL 124.828556 110.385014 \r\nz\r\n\" style=\"fill:#ff0000;opacity:0.4;stroke:#ffffff;stroke-linejoin:miter;\"/>\r\n   </g>\r\n   <g id=\"patch_9\">\r\n    <path clip-path=\"url(#pd0e92d8b52)\" d=\"M 130.332872 228.047352 \r\nL 135.837189 228.047352 \r\nL 135.837189 20.961638 \r\nL 130.332872 20.961638 \r\nz\r\n\" style=\"fill:#ff0000;opacity:0.4;stroke:#ffffff;stroke-linejoin:miter;\"/>\r\n   </g>\r\n   <g id=\"patch_10\">\r\n    <path clip-path=\"url(#pd0e92d8b52)\" d=\"M 135.837189 228.047352 \r\nL 141.341505 228.047352 \r\nL 141.341505 37.434365 \r\nL 135.837189 37.434365 \r\nz\r\n\" style=\"fill:#ff0000;opacity:0.4;stroke:#ffffff;stroke-linejoin:miter;\"/>\r\n   </g>\r\n   <g id=\"patch_11\">\r\n    <path clip-path=\"url(#pd0e92d8b52)\" d=\"M 141.341505 228.047352 \r\nL 146.845821 228.047352 \r\nL 146.845821 58.613586 \r\nL 141.341505 58.613586 \r\nz\r\n\" style=\"fill:#ff0000;opacity:0.4;stroke:#ffffff;stroke-linejoin:miter;\"/>\r\n   </g>\r\n   <g id=\"patch_12\">\r\n    <path clip-path=\"url(#pd0e92d8b52)\" d=\"M 146.845821 228.047352 \r\nL 152.350138 228.047352 \r\nL 152.350138 82.146053 \r\nL 146.845821 82.146053 \r\nz\r\n\" style=\"fill:#ff0000;opacity:0.4;stroke:#ffffff;stroke-linejoin:miter;\"/>\r\n   </g>\r\n   <g id=\"patch_13\">\r\n    <path clip-path=\"url(#pd0e92d8b52)\" d=\"M 152.350138 228.047352 \r\nL 157.854454 228.047352 \r\nL 157.854454 143.330469 \r\nL 152.350138 143.330469 \r\nz\r\n\" style=\"fill:#ff0000;opacity:0.4;stroke:#ffffff;stroke-linejoin:miter;\"/>\r\n   </g>\r\n   <g id=\"patch_14\">\r\n    <path clip-path=\"url(#pd0e92d8b52)\" d=\"M 157.854454 228.047352 \r\nL 163.35877 228.047352 \r\nL 163.35877 124.504495 \r\nL 157.854454 124.504495 \r\nz\r\n\" style=\"fill:#ff0000;opacity:0.4;stroke:#ffffff;stroke-linejoin:miter;\"/>\r\n   </g>\r\n   <g id=\"patch_15\">\r\n    <path clip-path=\"url(#pd0e92d8b52)\" d=\"M 163.35877 228.047352 \r\nL 168.863087 228.047352 \r\nL 168.863087 195.101897 \r\nL 163.35877 195.101897 \r\nz\r\n\" style=\"fill:#ff0000;opacity:0.4;stroke:#ffffff;stroke-linejoin:miter;\"/>\r\n   </g>\r\n   <g id=\"patch_16\">\r\n    <path clip-path=\"url(#pd0e92d8b52)\" d=\"M 168.863087 228.047352 \r\nL 174.367403 228.047352 \r\nL 174.367403 199.808391 \r\nL 168.863087 199.808391 \r\nz\r\n\" style=\"fill:#ff0000;opacity:0.4;stroke:#ffffff;stroke-linejoin:miter;\"/>\r\n   </g>\r\n   <g id=\"patch_17\">\r\n    <path clip-path=\"url(#pd0e92d8b52)\" d=\"M 174.367403 228.047352 \r\nL 179.871719 228.047352 \r\nL 179.871719 213.927871 \r\nL 174.367403 213.927871 \r\nz\r\n\" style=\"fill:#ff0000;opacity:0.4;stroke:#ffffff;stroke-linejoin:miter;\"/>\r\n   </g>\r\n   <g id=\"patch_18\">\r\n    <path clip-path=\"url(#pd0e92d8b52)\" d=\"M 179.871719 228.047352 \r\nL 185.376036 228.047352 \r\nL 185.376036 211.574625 \r\nL 179.871719 211.574625 \r\nz\r\n\" style=\"fill:#ff0000;opacity:0.4;stroke:#ffffff;stroke-linejoin:miter;\"/>\r\n   </g>\r\n   <g id=\"patch_19\">\r\n    <path clip-path=\"url(#pd0e92d8b52)\" d=\"M 185.376036 228.047352 \r\nL 190.880352 228.047352 \r\nL 190.880352 199.808391 \r\nL 185.376036 199.808391 \r\nz\r\n\" style=\"fill:#ff0000;opacity:0.4;stroke:#ffffff;stroke-linejoin:miter;\"/>\r\n   </g>\r\n   <g id=\"patch_20\">\r\n    <path clip-path=\"url(#pd0e92d8b52)\" d=\"M 190.880352 228.047352 \r\nL 196.384668 228.047352 \r\nL 196.384668 213.927871 \r\nL 190.880352 213.927871 \r\nz\r\n\" style=\"fill:#ff0000;opacity:0.4;stroke:#ffffff;stroke-linejoin:miter;\"/>\r\n   </g>\r\n   <g id=\"patch_21\">\r\n    <path clip-path=\"url(#pd0e92d8b52)\" d=\"M 196.384668 228.047352 \r\nL 201.888985 228.047352 \r\nL 201.888985 218.634365 \r\nL 196.384668 218.634365 \r\nz\r\n\" style=\"fill:#ff0000;opacity:0.4;stroke:#ffffff;stroke-linejoin:miter;\"/>\r\n   </g>\r\n   <g id=\"patch_22\">\r\n    <path clip-path=\"url(#pd0e92d8b52)\" d=\"M 201.888985 228.047352 \r\nL 207.393301 228.047352 \r\nL 207.393301 218.634365 \r\nL 201.888985 218.634365 \r\nz\r\n\" style=\"fill:#ff0000;opacity:0.4;stroke:#ffffff;stroke-linejoin:miter;\"/>\r\n   </g>\r\n   <g id=\"patch_23\">\r\n    <path clip-path=\"url(#pd0e92d8b52)\" d=\"M 207.393301 228.047352 \r\nL 212.897617 228.047352 \r\nL 212.897617 216.281118 \r\nL 207.393301 216.281118 \r\nz\r\n\" style=\"fill:#ff0000;opacity:0.4;stroke:#ffffff;stroke-linejoin:miter;\"/>\r\n   </g>\r\n   <g id=\"patch_24\">\r\n    <path clip-path=\"url(#pd0e92d8b52)\" d=\"M 212.897617 228.047352 \r\nL 218.401934 228.047352 \r\nL 218.401934 225.694105 \r\nL 212.897617 225.694105 \r\nz\r\n\" style=\"fill:#ff0000;opacity:0.4;stroke:#ffffff;stroke-linejoin:miter;\"/>\r\n   </g>\r\n   <g id=\"patch_25\">\r\n    <path clip-path=\"url(#pd0e92d8b52)\" d=\"M 218.401934 228.047352 \r\nL 223.90625 228.047352 \r\nL 223.90625 223.340859 \r\nL 218.401934 223.340859 \r\nz\r\n\" style=\"fill:#ff0000;opacity:0.4;stroke:#ffffff;stroke-linejoin:miter;\"/>\r\n   </g>\r\n   <g id=\"patch_26\">\r\n    <path clip-path=\"url(#pd0e92d8b52)\" d=\"M 223.90625 228.047352 \r\nL 229.410566 228.047352 \r\nL 229.410566 225.694105 \r\nL 223.90625 225.694105 \r\nz\r\n\" style=\"fill:#ff0000;opacity:0.4;stroke:#ffffff;stroke-linejoin:miter;\"/>\r\n   </g>\r\n   <g id=\"patch_27\">\r\n    <path clip-path=\"url(#pd0e92d8b52)\" d=\"M 229.410566 228.047352 \r\nL 234.914883 228.047352 \r\nL 234.914883 220.987612 \r\nL 229.410566 220.987612 \r\nz\r\n\" style=\"fill:#ff0000;opacity:0.4;stroke:#ffffff;stroke-linejoin:miter;\"/>\r\n   </g>\r\n   <g id=\"patch_28\">\r\n    <path clip-path=\"url(#pd0e92d8b52)\" d=\"M 234.914883 228.047352 \r\nL 240.419199 228.047352 \r\nL 240.419199 228.047352 \r\nL 234.914883 228.047352 \r\nz\r\n\" style=\"fill:#ff0000;opacity:0.4;stroke:#ffffff;stroke-linejoin:miter;\"/>\r\n   </g>\r\n   <g id=\"patch_29\">\r\n    <path clip-path=\"url(#pd0e92d8b52)\" d=\"M 240.419199 228.047352 \r\nL 245.923515 228.047352 \r\nL 245.923515 223.340859 \r\nL 240.419199 223.340859 \r\nz\r\n\" style=\"fill:#ff0000;opacity:0.4;stroke:#ffffff;stroke-linejoin:miter;\"/>\r\n   </g>\r\n   <g id=\"patch_30\">\r\n    <path clip-path=\"url(#pd0e92d8b52)\" d=\"M 245.923515 228.047352 \r\nL 251.427832 228.047352 \r\nL 251.427832 228.047352 \r\nL 245.923515 228.047352 \r\nz\r\n\" style=\"fill:#ff0000;opacity:0.4;stroke:#ffffff;stroke-linejoin:miter;\"/>\r\n   </g>\r\n   <g id=\"patch_31\">\r\n    <path clip-path=\"url(#pd0e92d8b52)\" d=\"M 251.427832 228.047352 \r\nL 256.932148 228.047352 \r\nL 256.932148 225.694105 \r\nL 251.427832 225.694105 \r\nz\r\n\" style=\"fill:#ff0000;opacity:0.4;stroke:#ffffff;stroke-linejoin:miter;\"/>\r\n   </g>\r\n   <g id=\"patch_32\">\r\n    <path clip-path=\"url(#pd0e92d8b52)\" d=\"M 256.932148 228.047352 \r\nL 262.436464 228.047352 \r\nL 262.436464 228.047352 \r\nL 256.932148 228.047352 \r\nz\r\n\" style=\"fill:#ff0000;opacity:0.4;stroke:#ffffff;stroke-linejoin:miter;\"/>\r\n   </g>\r\n   <g id=\"patch_33\">\r\n    <path clip-path=\"url(#pd0e92d8b52)\" d=\"M 262.436464 228.047352 \r\nL 267.940781 228.047352 \r\nL 267.940781 228.047352 \r\nL 262.436464 228.047352 \r\nz\r\n\" style=\"fill:#ff0000;opacity:0.4;stroke:#ffffff;stroke-linejoin:miter;\"/>\r\n   </g>\r\n   <g id=\"patch_34\">\r\n    <path clip-path=\"url(#pd0e92d8b52)\" d=\"M 267.940781 228.047352 \r\nL 273.445097 228.047352 \r\nL 273.445097 220.987612 \r\nL 267.940781 220.987612 \r\nz\r\n\" style=\"fill:#ff0000;opacity:0.4;stroke:#ffffff;stroke-linejoin:miter;\"/>\r\n   </g>\r\n   <g id=\"patch_35\">\r\n    <path clip-path=\"url(#pd0e92d8b52)\" d=\"M 273.445097 228.047352 \r\nL 278.949413 228.047352 \r\nL 278.949413 218.634365 \r\nL 273.445097 218.634365 \r\nz\r\n\" style=\"fill:#ff0000;opacity:0.4;stroke:#ffffff;stroke-linejoin:miter;\"/>\r\n   </g>\r\n   <g id=\"patch_36\">\r\n    <path clip-path=\"url(#pd0e92d8b52)\" d=\"M 278.949413 228.047352 \r\nL 284.45373 228.047352 \r\nL 284.45373 228.047352 \r\nL 278.949413 228.047352 \r\nz\r\n\" style=\"fill:#ff0000;opacity:0.4;stroke:#ffffff;stroke-linejoin:miter;\"/>\r\n   </g>\r\n   <g id=\"patch_37\">\r\n    <path clip-path=\"url(#pd0e92d8b52)\" d=\"M 284.45373 228.047352 \r\nL 289.958046 228.047352 \r\nL 289.958046 228.047352 \r\nL 284.45373 228.047352 \r\nz\r\n\" style=\"fill:#ff0000;opacity:0.4;stroke:#ffffff;stroke-linejoin:miter;\"/>\r\n   </g>\r\n   <g id=\"patch_38\">\r\n    <path clip-path=\"url(#pd0e92d8b52)\" d=\"M 289.958046 228.047352 \r\nL 295.462362 228.047352 \r\nL 295.462362 228.047352 \r\nL 289.958046 228.047352 \r\nz\r\n\" style=\"fill:#ff0000;opacity:0.4;stroke:#ffffff;stroke-linejoin:miter;\"/>\r\n   </g>\r\n   <g id=\"patch_39\">\r\n    <path clip-path=\"url(#pd0e92d8b52)\" d=\"M 295.462362 228.047352 \r\nL 300.966679 228.047352 \r\nL 300.966679 228.047352 \r\nL 295.462362 228.047352 \r\nz\r\n\" style=\"fill:#ff0000;opacity:0.4;stroke:#ffffff;stroke-linejoin:miter;\"/>\r\n   </g>\r\n   <g id=\"patch_40\">\r\n    <path clip-path=\"url(#pd0e92d8b52)\" d=\"M 300.966679 228.047352 \r\nL 306.470995 228.047352 \r\nL 306.470995 225.694105 \r\nL 300.966679 225.694105 \r\nz\r\n\" style=\"fill:#ff0000;opacity:0.4;stroke:#ffffff;stroke-linejoin:miter;\"/>\r\n   </g>\r\n   <g id=\"patch_41\">\r\n    <path clip-path=\"url(#pd0e92d8b52)\" d=\"M 306.470995 228.047352 \r\nL 311.975311 228.047352 \r\nL 311.975311 228.047352 \r\nL 306.470995 228.047352 \r\nz\r\n\" style=\"fill:#ff0000;opacity:0.4;stroke:#ffffff;stroke-linejoin:miter;\"/>\r\n   </g>\r\n   <g id=\"patch_42\">\r\n    <path clip-path=\"url(#pd0e92d8b52)\" d=\"M 311.975311 228.047352 \r\nL 317.479628 228.047352 \r\nL 317.479628 223.340859 \r\nL 311.975311 223.340859 \r\nz\r\n\" style=\"fill:#ff0000;opacity:0.4;stroke:#ffffff;stroke-linejoin:miter;\"/>\r\n   </g>\r\n   <g id=\"patch_43\">\r\n    <path clip-path=\"url(#pd0e92d8b52)\" d=\"M 317.479628 228.047352 \r\nL 322.983944 228.047352 \r\nL 322.983944 228.047352 \r\nL 317.479628 228.047352 \r\nz\r\n\" style=\"fill:#ff0000;opacity:0.4;stroke:#ffffff;stroke-linejoin:miter;\"/>\r\n   </g>\r\n   <g id=\"patch_44\">\r\n    <path clip-path=\"url(#pd0e92d8b52)\" d=\"M 322.983944 228.047352 \r\nL 328.48826 228.047352 \r\nL 328.48826 228.047352 \r\nL 322.983944 228.047352 \r\nz\r\n\" style=\"fill:#ff0000;opacity:0.4;stroke:#ffffff;stroke-linejoin:miter;\"/>\r\n   </g>\r\n   <g id=\"patch_45\">\r\n    <path clip-path=\"url(#pd0e92d8b52)\" d=\"M 328.48826 228.047352 \r\nL 333.992577 228.047352 \r\nL 333.992577 225.694105 \r\nL 328.48826 225.694105 \r\nz\r\n\" style=\"fill:#ff0000;opacity:0.4;stroke:#ffffff;stroke-linejoin:miter;\"/>\r\n   </g>\r\n   <g id=\"patch_46\">\r\n    <path clip-path=\"url(#pd0e92d8b52)\" d=\"M 333.992577 228.047352 \r\nL 339.496893 228.047352 \r\nL 339.496893 228.047352 \r\nL 333.992577 228.047352 \r\nz\r\n\" style=\"fill:#ff0000;opacity:0.4;stroke:#ffffff;stroke-linejoin:miter;\"/>\r\n   </g>\r\n   <g id=\"patch_47\">\r\n    <path clip-path=\"url(#pd0e92d8b52)\" d=\"M 339.496893 228.047352 \r\nL 345.001209 228.047352 \r\nL 345.001209 228.047352 \r\nL 339.496893 228.047352 \r\nz\r\n\" style=\"fill:#ff0000;opacity:0.4;stroke:#ffffff;stroke-linejoin:miter;\"/>\r\n   </g>\r\n   <g id=\"patch_48\">\r\n    <path clip-path=\"url(#pd0e92d8b52)\" d=\"M 345.001209 228.047352 \r\nL 350.505526 228.047352 \r\nL 350.505526 225.694105 \r\nL 345.001209 225.694105 \r\nz\r\n\" style=\"fill:#ff0000;opacity:0.4;stroke:#ffffff;stroke-linejoin:miter;\"/>\r\n   </g>\r\n   <g id=\"matplotlib.axis_1\">\r\n    <g id=\"xtick_1\">\r\n     <g id=\"line2d_1\">\r\n      <defs>\r\n       <path d=\"M 0 0 \r\nL 0 3.5 \r\n\" id=\"mb0c66b630f\" style=\"stroke:#000000;stroke-width:0.8;\"/>\r\n      </defs>\r\n      <g>\r\n       <use style=\"stroke:#000000;stroke-width:0.8;\" x=\"94.009164\" xlink:href=\"#mb0c66b630f\" y=\"228.047352\"/>\r\n      </g>\r\n     </g>\r\n     <g id=\"text_1\">\r\n      <!-- 0 -->\r\n      <g transform=\"translate(90.827914 242.64579)scale(0.1 -0.1)\">\r\n       <defs>\r\n        <path d=\"M 31.78125 66.40625 \r\nQ 24.171875 66.40625 20.328125 58.90625 \r\nQ 16.5 51.421875 16.5 36.375 \r\nQ 16.5 21.390625 20.328125 13.890625 \r\nQ 24.171875 6.390625 31.78125 6.390625 \r\nQ 39.453125 6.390625 43.28125 13.890625 \r\nQ 47.125 21.390625 47.125 36.375 \r\nQ 47.125 51.421875 43.28125 58.90625 \r\nQ 39.453125 66.40625 31.78125 66.40625 \r\nz\r\nM 31.78125 74.21875 \r\nQ 44.046875 74.21875 50.515625 64.515625 \r\nQ 56.984375 54.828125 56.984375 36.375 \r\nQ 56.984375 17.96875 50.515625 8.265625 \r\nQ 44.046875 -1.421875 31.78125 -1.421875 \r\nQ 19.53125 -1.421875 13.0625 8.265625 \r\nQ 6.59375 17.96875 6.59375 36.375 \r\nQ 6.59375 54.828125 13.0625 64.515625 \r\nQ 19.53125 74.21875 31.78125 74.21875 \r\nz\r\n\" id=\"DejaVuSans-48\"/>\r\n       </defs>\r\n       <use xlink:href=\"#DejaVuSans-48\"/>\r\n      </g>\r\n     </g>\r\n    </g>\r\n    <g id=\"xtick_2\">\r\n     <g id=\"line2d_2\">\r\n      <g>\r\n       <use style=\"stroke:#000000;stroke-width:0.8;\" x=\"167.293839\" xlink:href=\"#mb0c66b630f\" y=\"228.047352\"/>\r\n      </g>\r\n     </g>\r\n     <g id=\"text_2\">\r\n      <!-- 200 -->\r\n      <g transform=\"translate(157.750089 242.64579)scale(0.1 -0.1)\">\r\n       <defs>\r\n        <path d=\"M 19.1875 8.296875 \r\nL 53.609375 8.296875 \r\nL 53.609375 0 \r\nL 7.328125 0 \r\nL 7.328125 8.296875 \r\nQ 12.9375 14.109375 22.625 23.890625 \r\nQ 32.328125 33.6875 34.8125 36.53125 \r\nQ 39.546875 41.84375 41.421875 45.53125 \r\nQ 43.3125 49.21875 43.3125 52.78125 \r\nQ 43.3125 58.59375 39.234375 62.25 \r\nQ 35.15625 65.921875 28.609375 65.921875 \r\nQ 23.96875 65.921875 18.8125 64.3125 \r\nQ 13.671875 62.703125 7.8125 59.421875 \r\nL 7.8125 69.390625 \r\nQ 13.765625 71.78125 18.9375 73 \r\nQ 24.125 74.21875 28.421875 74.21875 \r\nQ 39.75 74.21875 46.484375 68.546875 \r\nQ 53.21875 62.890625 53.21875 53.421875 \r\nQ 53.21875 48.921875 51.53125 44.890625 \r\nQ 49.859375 40.875 45.40625 35.40625 \r\nQ 44.1875 33.984375 37.640625 27.21875 \r\nQ 31.109375 20.453125 19.1875 8.296875 \r\nz\r\n\" id=\"DejaVuSans-50\"/>\r\n       </defs>\r\n       <use xlink:href=\"#DejaVuSans-50\"/>\r\n       <use x=\"63.623047\" xlink:href=\"#DejaVuSans-48\"/>\r\n       <use x=\"127.246094\" xlink:href=\"#DejaVuSans-48\"/>\r\n      </g>\r\n     </g>\r\n    </g>\r\n    <g id=\"xtick_3\">\r\n     <g id=\"line2d_3\">\r\n      <g>\r\n       <use style=\"stroke:#000000;stroke-width:0.8;\" x=\"240.578513\" xlink:href=\"#mb0c66b630f\" y=\"228.047352\"/>\r\n      </g>\r\n     </g>\r\n     <g id=\"text_3\">\r\n      <!-- 400 -->\r\n      <g transform=\"translate(231.034763 242.64579)scale(0.1 -0.1)\">\r\n       <defs>\r\n        <path d=\"M 37.796875 64.3125 \r\nL 12.890625 25.390625 \r\nL 37.796875 25.390625 \r\nz\r\nM 35.203125 72.90625 \r\nL 47.609375 72.90625 \r\nL 47.609375 25.390625 \r\nL 58.015625 25.390625 \r\nL 58.015625 17.1875 \r\nL 47.609375 17.1875 \r\nL 47.609375 0 \r\nL 37.796875 0 \r\nL 37.796875 17.1875 \r\nL 4.890625 17.1875 \r\nL 4.890625 26.703125 \r\nz\r\n\" id=\"DejaVuSans-52\"/>\r\n       </defs>\r\n       <use xlink:href=\"#DejaVuSans-52\"/>\r\n       <use x=\"63.623047\" xlink:href=\"#DejaVuSans-48\"/>\r\n       <use x=\"127.246094\" xlink:href=\"#DejaVuSans-48\"/>\r\n      </g>\r\n     </g>\r\n    </g>\r\n    <g id=\"xtick_4\">\r\n     <g id=\"line2d_4\">\r\n      <g>\r\n       <use style=\"stroke:#000000;stroke-width:0.8;\" x=\"313.863188\" xlink:href=\"#mb0c66b630f\" y=\"228.047352\"/>\r\n      </g>\r\n     </g>\r\n     <g id=\"text_4\">\r\n      <!-- 600 -->\r\n      <g transform=\"translate(304.319438 242.64579)scale(0.1 -0.1)\">\r\n       <defs>\r\n        <path d=\"M 33.015625 40.375 \r\nQ 26.375 40.375 22.484375 35.828125 \r\nQ 18.609375 31.296875 18.609375 23.390625 \r\nQ 18.609375 15.53125 22.484375 10.953125 \r\nQ 26.375 6.390625 33.015625 6.390625 \r\nQ 39.65625 6.390625 43.53125 10.953125 \r\nQ 47.40625 15.53125 47.40625 23.390625 \r\nQ 47.40625 31.296875 43.53125 35.828125 \r\nQ 39.65625 40.375 33.015625 40.375 \r\nz\r\nM 52.59375 71.296875 \r\nL 52.59375 62.3125 \r\nQ 48.875 64.0625 45.09375 64.984375 \r\nQ 41.3125 65.921875 37.59375 65.921875 \r\nQ 27.828125 65.921875 22.671875 59.328125 \r\nQ 17.53125 52.734375 16.796875 39.40625 \r\nQ 19.671875 43.65625 24.015625 45.921875 \r\nQ 28.375 48.1875 33.59375 48.1875 \r\nQ 44.578125 48.1875 50.953125 41.515625 \r\nQ 57.328125 34.859375 57.328125 23.390625 \r\nQ 57.328125 12.15625 50.6875 5.359375 \r\nQ 44.046875 -1.421875 33.015625 -1.421875 \r\nQ 20.359375 -1.421875 13.671875 8.265625 \r\nQ 6.984375 17.96875 6.984375 36.375 \r\nQ 6.984375 53.65625 15.1875 63.9375 \r\nQ 23.390625 74.21875 37.203125 74.21875 \r\nQ 40.921875 74.21875 44.703125 73.484375 \r\nQ 48.484375 72.75 52.59375 71.296875 \r\nz\r\n\" id=\"DejaVuSans-54\"/>\r\n       </defs>\r\n       <use xlink:href=\"#DejaVuSans-54\"/>\r\n       <use x=\"63.623047\" xlink:href=\"#DejaVuSans-48\"/>\r\n       <use x=\"127.246094\" xlink:href=\"#DejaVuSans-48\"/>\r\n      </g>\r\n     </g>\r\n    </g>\r\n    <g id=\"xtick_5\">\r\n     <g id=\"line2d_5\">\r\n      <g>\r\n       <use style=\"stroke:#000000;stroke-width:0.8;\" x=\"387.147863\" xlink:href=\"#mb0c66b630f\" y=\"228.047352\"/>\r\n      </g>\r\n     </g>\r\n     <g id=\"text_5\">\r\n      <!-- 800 -->\r\n      <g transform=\"translate(377.604113 242.64579)scale(0.1 -0.1)\">\r\n       <defs>\r\n        <path d=\"M 31.78125 34.625 \r\nQ 24.75 34.625 20.71875 30.859375 \r\nQ 16.703125 27.09375 16.703125 20.515625 \r\nQ 16.703125 13.921875 20.71875 10.15625 \r\nQ 24.75 6.390625 31.78125 6.390625 \r\nQ 38.8125 6.390625 42.859375 10.171875 \r\nQ 46.921875 13.96875 46.921875 20.515625 \r\nQ 46.921875 27.09375 42.890625 30.859375 \r\nQ 38.875 34.625 31.78125 34.625 \r\nz\r\nM 21.921875 38.8125 \r\nQ 15.578125 40.375 12.03125 44.71875 \r\nQ 8.5 49.078125 8.5 55.328125 \r\nQ 8.5 64.0625 14.71875 69.140625 \r\nQ 20.953125 74.21875 31.78125 74.21875 \r\nQ 42.671875 74.21875 48.875 69.140625 \r\nQ 55.078125 64.0625 55.078125 55.328125 \r\nQ 55.078125 49.078125 51.53125 44.71875 \r\nQ 48 40.375 41.703125 38.8125 \r\nQ 48.828125 37.15625 52.796875 32.3125 \r\nQ 56.78125 27.484375 56.78125 20.515625 \r\nQ 56.78125 9.90625 50.3125 4.234375 \r\nQ 43.84375 -1.421875 31.78125 -1.421875 \r\nQ 19.734375 -1.421875 13.25 4.234375 \r\nQ 6.78125 9.90625 6.78125 20.515625 \r\nQ 6.78125 27.484375 10.78125 32.3125 \r\nQ 14.796875 37.15625 21.921875 38.8125 \r\nz\r\nM 18.3125 54.390625 \r\nQ 18.3125 48.734375 21.84375 45.5625 \r\nQ 25.390625 42.390625 31.78125 42.390625 \r\nQ 38.140625 42.390625 41.71875 45.5625 \r\nQ 45.3125 48.734375 45.3125 54.390625 \r\nQ 45.3125 60.0625 41.71875 63.234375 \r\nQ 38.140625 66.40625 31.78125 66.40625 \r\nQ 25.390625 66.40625 21.84375 63.234375 \r\nQ 18.3125 60.0625 18.3125 54.390625 \r\nz\r\n\" id=\"DejaVuSans-56\"/>\r\n       </defs>\r\n       <use xlink:href=\"#DejaVuSans-56\"/>\r\n       <use x=\"63.623047\" xlink:href=\"#DejaVuSans-48\"/>\r\n       <use x=\"127.246094\" xlink:href=\"#DejaVuSans-48\"/>\r\n      </g>\r\n     </g>\r\n    </g>\r\n    <g id=\"text_6\">\r\n     <!-- LoanAmount -->\r\n     <g transform=\"translate(192.267969 256.323915)scale(0.1 -0.1)\">\r\n      <defs>\r\n       <path d=\"M 9.8125 72.90625 \r\nL 19.671875 72.90625 \r\nL 19.671875 8.296875 \r\nL 55.171875 8.296875 \r\nL 55.171875 0 \r\nL 9.8125 0 \r\nz\r\n\" id=\"DejaVuSans-76\"/>\r\n       <path d=\"M 30.609375 48.390625 \r\nQ 23.390625 48.390625 19.1875 42.75 \r\nQ 14.984375 37.109375 14.984375 27.296875 \r\nQ 14.984375 17.484375 19.15625 11.84375 \r\nQ 23.34375 6.203125 30.609375 6.203125 \r\nQ 37.796875 6.203125 41.984375 11.859375 \r\nQ 46.1875 17.53125 46.1875 27.296875 \r\nQ 46.1875 37.015625 41.984375 42.703125 \r\nQ 37.796875 48.390625 30.609375 48.390625 \r\nz\r\nM 30.609375 56 \r\nQ 42.328125 56 49.015625 48.375 \r\nQ 55.71875 40.765625 55.71875 27.296875 \r\nQ 55.71875 13.875 49.015625 6.21875 \r\nQ 42.328125 -1.421875 30.609375 -1.421875 \r\nQ 18.84375 -1.421875 12.171875 6.21875 \r\nQ 5.515625 13.875 5.515625 27.296875 \r\nQ 5.515625 40.765625 12.171875 48.375 \r\nQ 18.84375 56 30.609375 56 \r\nz\r\n\" id=\"DejaVuSans-111\"/>\r\n       <path d=\"M 34.28125 27.484375 \r\nQ 23.390625 27.484375 19.1875 25 \r\nQ 14.984375 22.515625 14.984375 16.5 \r\nQ 14.984375 11.71875 18.140625 8.90625 \r\nQ 21.296875 6.109375 26.703125 6.109375 \r\nQ 34.1875 6.109375 38.703125 11.40625 \r\nQ 43.21875 16.703125 43.21875 25.484375 \r\nL 43.21875 27.484375 \r\nz\r\nM 52.203125 31.203125 \r\nL 52.203125 0 \r\nL 43.21875 0 \r\nL 43.21875 8.296875 \r\nQ 40.140625 3.328125 35.546875 0.953125 \r\nQ 30.953125 -1.421875 24.3125 -1.421875 \r\nQ 15.921875 -1.421875 10.953125 3.296875 \r\nQ 6 8.015625 6 15.921875 \r\nQ 6 25.140625 12.171875 29.828125 \r\nQ 18.359375 34.515625 30.609375 34.515625 \r\nL 43.21875 34.515625 \r\nL 43.21875 35.40625 \r\nQ 43.21875 41.609375 39.140625 45 \r\nQ 35.0625 48.390625 27.6875 48.390625 \r\nQ 23 48.390625 18.546875 47.265625 \r\nQ 14.109375 46.140625 10.015625 43.890625 \r\nL 10.015625 52.203125 \r\nQ 14.9375 54.109375 19.578125 55.046875 \r\nQ 24.21875 56 28.609375 56 \r\nQ 40.484375 56 46.34375 49.84375 \r\nQ 52.203125 43.703125 52.203125 31.203125 \r\nz\r\n\" id=\"DejaVuSans-97\"/>\r\n       <path d=\"M 54.890625 33.015625 \r\nL 54.890625 0 \r\nL 45.90625 0 \r\nL 45.90625 32.71875 \r\nQ 45.90625 40.484375 42.875 44.328125 \r\nQ 39.84375 48.1875 33.796875 48.1875 \r\nQ 26.515625 48.1875 22.3125 43.546875 \r\nQ 18.109375 38.921875 18.109375 30.90625 \r\nL 18.109375 0 \r\nL 9.078125 0 \r\nL 9.078125 54.6875 \r\nL 18.109375 54.6875 \r\nL 18.109375 46.1875 \r\nQ 21.34375 51.125 25.703125 53.5625 \r\nQ 30.078125 56 35.796875 56 \r\nQ 45.21875 56 50.046875 50.171875 \r\nQ 54.890625 44.34375 54.890625 33.015625 \r\nz\r\n\" id=\"DejaVuSans-110\"/>\r\n       <path d=\"M 34.1875 63.1875 \r\nL 20.796875 26.90625 \r\nL 47.609375 26.90625 \r\nz\r\nM 28.609375 72.90625 \r\nL 39.796875 72.90625 \r\nL 67.578125 0 \r\nL 57.328125 0 \r\nL 50.6875 18.703125 \r\nL 17.828125 18.703125 \r\nL 11.1875 0 \r\nL 0.78125 0 \r\nz\r\n\" id=\"DejaVuSans-65\"/>\r\n       <path d=\"M 52 44.1875 \r\nQ 55.375 50.25 60.0625 53.125 \r\nQ 64.75 56 71.09375 56 \r\nQ 79.640625 56 84.28125 50.015625 \r\nQ 88.921875 44.046875 88.921875 33.015625 \r\nL 88.921875 0 \r\nL 79.890625 0 \r\nL 79.890625 32.71875 \r\nQ 79.890625 40.578125 77.09375 44.375 \r\nQ 74.3125 48.1875 68.609375 48.1875 \r\nQ 61.625 48.1875 57.5625 43.546875 \r\nQ 53.515625 38.921875 53.515625 30.90625 \r\nL 53.515625 0 \r\nL 44.484375 0 \r\nL 44.484375 32.71875 \r\nQ 44.484375 40.625 41.703125 44.40625 \r\nQ 38.921875 48.1875 33.109375 48.1875 \r\nQ 26.21875 48.1875 22.15625 43.53125 \r\nQ 18.109375 38.875 18.109375 30.90625 \r\nL 18.109375 0 \r\nL 9.078125 0 \r\nL 9.078125 54.6875 \r\nL 18.109375 54.6875 \r\nL 18.109375 46.1875 \r\nQ 21.1875 51.21875 25.484375 53.609375 \r\nQ 29.78125 56 35.6875 56 \r\nQ 41.65625 56 45.828125 52.96875 \r\nQ 50 49.953125 52 44.1875 \r\nz\r\n\" id=\"DejaVuSans-109\"/>\r\n       <path d=\"M 8.5 21.578125 \r\nL 8.5 54.6875 \r\nL 17.484375 54.6875 \r\nL 17.484375 21.921875 \r\nQ 17.484375 14.15625 20.5 10.265625 \r\nQ 23.53125 6.390625 29.59375 6.390625 \r\nQ 36.859375 6.390625 41.078125 11.03125 \r\nQ 45.3125 15.671875 45.3125 23.6875 \r\nL 45.3125 54.6875 \r\nL 54.296875 54.6875 \r\nL 54.296875 0 \r\nL 45.3125 0 \r\nL 45.3125 8.40625 \r\nQ 42.046875 3.421875 37.71875 1 \r\nQ 33.40625 -1.421875 27.6875 -1.421875 \r\nQ 18.265625 -1.421875 13.375 4.4375 \r\nQ 8.5 10.296875 8.5 21.578125 \r\nz\r\nM 31.109375 56 \r\nz\r\n\" id=\"DejaVuSans-117\"/>\r\n       <path d=\"M 18.3125 70.21875 \r\nL 18.3125 54.6875 \r\nL 36.8125 54.6875 \r\nL 36.8125 47.703125 \r\nL 18.3125 47.703125 \r\nL 18.3125 18.015625 \r\nQ 18.3125 11.328125 20.140625 9.421875 \r\nQ 21.96875 7.515625 27.59375 7.515625 \r\nL 36.8125 7.515625 \r\nL 36.8125 0 \r\nL 27.59375 0 \r\nQ 17.1875 0 13.234375 3.875 \r\nQ 9.28125 7.765625 9.28125 18.015625 \r\nL 9.28125 47.703125 \r\nL 2.6875 47.703125 \r\nL 2.6875 54.6875 \r\nL 9.28125 54.6875 \r\nL 9.28125 70.21875 \r\nz\r\n\" id=\"DejaVuSans-116\"/>\r\n      </defs>\r\n      <use xlink:href=\"#DejaVuSans-76\"/>\r\n      <use x=\"53.962891\" xlink:href=\"#DejaVuSans-111\"/>\r\n      <use x=\"115.144531\" xlink:href=\"#DejaVuSans-97\"/>\r\n      <use x=\"176.423828\" xlink:href=\"#DejaVuSans-110\"/>\r\n      <use x=\"239.802734\" xlink:href=\"#DejaVuSans-65\"/>\r\n      <use x=\"308.210938\" xlink:href=\"#DejaVuSans-109\"/>\r\n      <use x=\"405.623047\" xlink:href=\"#DejaVuSans-111\"/>\r\n      <use x=\"466.804688\" xlink:href=\"#DejaVuSans-117\"/>\r\n      <use x=\"530.183594\" xlink:href=\"#DejaVuSans-110\"/>\r\n      <use x=\"593.5625\" xlink:href=\"#DejaVuSans-116\"/>\r\n     </g>\r\n    </g>\r\n   </g>\r\n   <g id=\"matplotlib.axis_2\">\r\n    <g id=\"ytick_1\">\r\n     <g id=\"line2d_6\">\r\n      <defs>\r\n       <path d=\"M 0 0 \r\nL -3.5 0 \r\n\" id=\"m458a549e03\" style=\"stroke:#000000;stroke-width:0.8;\"/>\r\n      </defs>\r\n      <g>\r\n       <use style=\"stroke:#000000;stroke-width:0.8;\" x=\"56.50625\" xlink:href=\"#m458a549e03\" y=\"228.047352\"/>\r\n      </g>\r\n     </g>\r\n     <g id=\"text_7\">\r\n      <!-- 0.000 -->\r\n      <g transform=\"translate(20.878125 231.846571)scale(0.1 -0.1)\">\r\n       <defs>\r\n        <path d=\"M 10.6875 12.40625 \r\nL 21 12.40625 \r\nL 21 0 \r\nL 10.6875 0 \r\nz\r\n\" id=\"DejaVuSans-46\"/>\r\n       </defs>\r\n       <use xlink:href=\"#DejaVuSans-48\"/>\r\n       <use x=\"63.623047\" xlink:href=\"#DejaVuSans-46\"/>\r\n       <use x=\"95.410156\" xlink:href=\"#DejaVuSans-48\"/>\r\n       <use x=\"159.033203\" xlink:href=\"#DejaVuSans-48\"/>\r\n       <use x=\"222.65625\" xlink:href=\"#DejaVuSans-48\"/>\r\n      </g>\r\n     </g>\r\n    </g>\r\n    <g id=\"ytick_2\">\r\n     <g id=\"line2d_7\">\r\n      <g>\r\n       <use style=\"stroke:#000000;stroke-width:0.8;\" x=\"56.50625\" xlink:href=\"#m458a549e03\" y=\"184.637725\"/>\r\n      </g>\r\n     </g>\r\n     <g id=\"text_8\">\r\n      <!-- 0.002 -->\r\n      <g transform=\"translate(20.878125 188.436944)scale(0.1 -0.1)\">\r\n       <use xlink:href=\"#DejaVuSans-48\"/>\r\n       <use x=\"63.623047\" xlink:href=\"#DejaVuSans-46\"/>\r\n       <use x=\"95.410156\" xlink:href=\"#DejaVuSans-48\"/>\r\n       <use x=\"159.033203\" xlink:href=\"#DejaVuSans-48\"/>\r\n       <use x=\"222.65625\" xlink:href=\"#DejaVuSans-50\"/>\r\n      </g>\r\n     </g>\r\n    </g>\r\n    <g id=\"ytick_3\">\r\n     <g id=\"line2d_8\">\r\n      <g>\r\n       <use style=\"stroke:#000000;stroke-width:0.8;\" x=\"56.50625\" xlink:href=\"#m458a549e03\" y=\"141.228099\"/>\r\n      </g>\r\n     </g>\r\n     <g id=\"text_9\">\r\n      <!-- 0.004 -->\r\n      <g transform=\"translate(20.878125 145.027317)scale(0.1 -0.1)\">\r\n       <use xlink:href=\"#DejaVuSans-48\"/>\r\n       <use x=\"63.623047\" xlink:href=\"#DejaVuSans-46\"/>\r\n       <use x=\"95.410156\" xlink:href=\"#DejaVuSans-48\"/>\r\n       <use x=\"159.033203\" xlink:href=\"#DejaVuSans-48\"/>\r\n       <use x=\"222.65625\" xlink:href=\"#DejaVuSans-52\"/>\r\n      </g>\r\n     </g>\r\n    </g>\r\n    <g id=\"ytick_4\">\r\n     <g id=\"line2d_9\">\r\n      <g>\r\n       <use style=\"stroke:#000000;stroke-width:0.8;\" x=\"56.50625\" xlink:href=\"#m458a549e03\" y=\"97.818472\"/>\r\n      </g>\r\n     </g>\r\n     <g id=\"text_10\">\r\n      <!-- 0.006 -->\r\n      <g transform=\"translate(20.878125 101.617691)scale(0.1 -0.1)\">\r\n       <use xlink:href=\"#DejaVuSans-48\"/>\r\n       <use x=\"63.623047\" xlink:href=\"#DejaVuSans-46\"/>\r\n       <use x=\"95.410156\" xlink:href=\"#DejaVuSans-48\"/>\r\n       <use x=\"159.033203\" xlink:href=\"#DejaVuSans-48\"/>\r\n       <use x=\"222.65625\" xlink:href=\"#DejaVuSans-54\"/>\r\n      </g>\r\n     </g>\r\n    </g>\r\n    <g id=\"ytick_5\">\r\n     <g id=\"line2d_10\">\r\n      <g>\r\n       <use style=\"stroke:#000000;stroke-width:0.8;\" x=\"56.50625\" xlink:href=\"#m458a549e03\" y=\"54.408845\"/>\r\n      </g>\r\n     </g>\r\n     <g id=\"text_11\">\r\n      <!-- 0.008 -->\r\n      <g transform=\"translate(20.878125 58.208064)scale(0.1 -0.1)\">\r\n       <use xlink:href=\"#DejaVuSans-48\"/>\r\n       <use x=\"63.623047\" xlink:href=\"#DejaVuSans-46\"/>\r\n       <use x=\"95.410156\" xlink:href=\"#DejaVuSans-48\"/>\r\n       <use x=\"159.033203\" xlink:href=\"#DejaVuSans-48\"/>\r\n       <use x=\"222.65625\" xlink:href=\"#DejaVuSans-56\"/>\r\n      </g>\r\n     </g>\r\n    </g>\r\n    <g id=\"ytick_6\">\r\n     <g id=\"line2d_11\">\r\n      <g>\r\n       <use style=\"stroke:#000000;stroke-width:0.8;\" x=\"56.50625\" xlink:href=\"#m458a549e03\" y=\"10.999219\"/>\r\n      </g>\r\n     </g>\r\n     <g id=\"text_12\">\r\n      <!-- 0.010 -->\r\n      <g transform=\"translate(20.878125 14.798437)scale(0.1 -0.1)\">\r\n       <defs>\r\n        <path d=\"M 12.40625 8.296875 \r\nL 28.515625 8.296875 \r\nL 28.515625 63.921875 \r\nL 10.984375 60.40625 \r\nL 10.984375 69.390625 \r\nL 28.421875 72.90625 \r\nL 38.28125 72.90625 \r\nL 38.28125 8.296875 \r\nL 54.390625 8.296875 \r\nL 54.390625 0 \r\nL 12.40625 0 \r\nz\r\n\" id=\"DejaVuSans-49\"/>\r\n       </defs>\r\n       <use xlink:href=\"#DejaVuSans-48\"/>\r\n       <use x=\"63.623047\" xlink:href=\"#DejaVuSans-46\"/>\r\n       <use x=\"95.410156\" xlink:href=\"#DejaVuSans-48\"/>\r\n       <use x=\"159.033203\" xlink:href=\"#DejaVuSans-49\"/>\r\n       <use x=\"222.65625\" xlink:href=\"#DejaVuSans-48\"/>\r\n      </g>\r\n     </g>\r\n    </g>\r\n    <g id=\"text_13\">\r\n     <!-- Density -->\r\n     <g transform=\"translate(14.798437 138.335946)rotate(-90)scale(0.1 -0.1)\">\r\n      <defs>\r\n       <path d=\"M 19.671875 64.796875 \r\nL 19.671875 8.109375 \r\nL 31.59375 8.109375 \r\nQ 46.6875 8.109375 53.6875 14.9375 \r\nQ 60.6875 21.78125 60.6875 36.53125 \r\nQ 60.6875 51.171875 53.6875 57.984375 \r\nQ 46.6875 64.796875 31.59375 64.796875 \r\nz\r\nM 9.8125 72.90625 \r\nL 30.078125 72.90625 \r\nQ 51.265625 72.90625 61.171875 64.09375 \r\nQ 71.09375 55.28125 71.09375 36.53125 \r\nQ 71.09375 17.671875 61.125 8.828125 \r\nQ 51.171875 0 30.078125 0 \r\nL 9.8125 0 \r\nz\r\n\" id=\"DejaVuSans-68\"/>\r\n       <path d=\"M 56.203125 29.59375 \r\nL 56.203125 25.203125 \r\nL 14.890625 25.203125 \r\nQ 15.484375 15.921875 20.484375 11.0625 \r\nQ 25.484375 6.203125 34.421875 6.203125 \r\nQ 39.59375 6.203125 44.453125 7.46875 \r\nQ 49.3125 8.734375 54.109375 11.28125 \r\nL 54.109375 2.78125 \r\nQ 49.265625 0.734375 44.1875 -0.34375 \r\nQ 39.109375 -1.421875 33.890625 -1.421875 \r\nQ 20.796875 -1.421875 13.15625 6.1875 \r\nQ 5.515625 13.8125 5.515625 26.8125 \r\nQ 5.515625 40.234375 12.765625 48.109375 \r\nQ 20.015625 56 32.328125 56 \r\nQ 43.359375 56 49.78125 48.890625 \r\nQ 56.203125 41.796875 56.203125 29.59375 \r\nz\r\nM 47.21875 32.234375 \r\nQ 47.125 39.59375 43.09375 43.984375 \r\nQ 39.0625 48.390625 32.421875 48.390625 \r\nQ 24.90625 48.390625 20.390625 44.140625 \r\nQ 15.875 39.890625 15.1875 32.171875 \r\nz\r\n\" id=\"DejaVuSans-101\"/>\r\n       <path d=\"M 44.28125 53.078125 \r\nL 44.28125 44.578125 \r\nQ 40.484375 46.53125 36.375 47.5 \r\nQ 32.28125 48.484375 27.875 48.484375 \r\nQ 21.1875 48.484375 17.84375 46.4375 \r\nQ 14.5 44.390625 14.5 40.28125 \r\nQ 14.5 37.15625 16.890625 35.375 \r\nQ 19.28125 33.59375 26.515625 31.984375 \r\nL 29.59375 31.296875 \r\nQ 39.15625 29.25 43.1875 25.515625 \r\nQ 47.21875 21.78125 47.21875 15.09375 \r\nQ 47.21875 7.46875 41.1875 3.015625 \r\nQ 35.15625 -1.421875 24.609375 -1.421875 \r\nQ 20.21875 -1.421875 15.453125 -0.5625 \r\nQ 10.6875 0.296875 5.421875 2 \r\nL 5.421875 11.28125 \r\nQ 10.40625 8.6875 15.234375 7.390625 \r\nQ 20.0625 6.109375 24.8125 6.109375 \r\nQ 31.15625 6.109375 34.5625 8.28125 \r\nQ 37.984375 10.453125 37.984375 14.40625 \r\nQ 37.984375 18.0625 35.515625 20.015625 \r\nQ 33.0625 21.96875 24.703125 23.78125 \r\nL 21.578125 24.515625 \r\nQ 13.234375 26.265625 9.515625 29.90625 \r\nQ 5.8125 33.546875 5.8125 39.890625 \r\nQ 5.8125 47.609375 11.28125 51.796875 \r\nQ 16.75 56 26.8125 56 \r\nQ 31.78125 56 36.171875 55.265625 \r\nQ 40.578125 54.546875 44.28125 53.078125 \r\nz\r\n\" id=\"DejaVuSans-115\"/>\r\n       <path d=\"M 9.421875 54.6875 \r\nL 18.40625 54.6875 \r\nL 18.40625 0 \r\nL 9.421875 0 \r\nz\r\nM 9.421875 75.984375 \r\nL 18.40625 75.984375 \r\nL 18.40625 64.59375 \r\nL 9.421875 64.59375 \r\nz\r\n\" id=\"DejaVuSans-105\"/>\r\n       <path d=\"M 32.171875 -5.078125 \r\nQ 28.375 -14.84375 24.75 -17.8125 \r\nQ 21.140625 -20.796875 15.09375 -20.796875 \r\nL 7.90625 -20.796875 \r\nL 7.90625 -13.28125 \r\nL 13.1875 -13.28125 \r\nQ 16.890625 -13.28125 18.9375 -11.515625 \r\nQ 21 -9.765625 23.484375 -3.21875 \r\nL 25.09375 0.875 \r\nL 2.984375 54.6875 \r\nL 12.5 54.6875 \r\nL 29.59375 11.921875 \r\nL 46.6875 54.6875 \r\nL 56.203125 54.6875 \r\nz\r\n\" id=\"DejaVuSans-121\"/>\r\n      </defs>\r\n      <use xlink:href=\"#DejaVuSans-68\"/>\r\n      <use x=\"77.001953\" xlink:href=\"#DejaVuSans-101\"/>\r\n      <use x=\"138.525391\" xlink:href=\"#DejaVuSans-110\"/>\r\n      <use x=\"201.904297\" xlink:href=\"#DejaVuSans-115\"/>\r\n      <use x=\"254.003906\" xlink:href=\"#DejaVuSans-105\"/>\r\n      <use x=\"281.787109\" xlink:href=\"#DejaVuSans-116\"/>\r\n      <use x=\"320.996094\" xlink:href=\"#DejaVuSans-121\"/>\r\n     </g>\r\n    </g>\r\n   </g>\r\n   <g id=\"line2d_12\">\r\n    <path clip-path=\"url(#pd0e92d8b52)\" d=\"M 71.724432 228.035275 \r\nL 79.371759 227.882394 \r\nL 82.43069 227.653374 \r\nL 85.489621 227.188514 \r\nL 87.019087 226.819386 \r\nL 88.548552 226.326701 \r\nL 90.078018 225.682303 \r\nL 91.607483 224.855506 \r\nL 93.136949 223.813759 \r\nL 94.666414 222.52348 \r\nL 96.19588 220.951052 \r\nL 97.725345 219.063938 \r\nL 99.254811 216.831886 \r\nL 100.784276 214.228104 \r\nL 102.313742 211.23027 \r\nL 103.843208 207.821148 \r\nL 105.372673 203.988598 \r\nL 106.902139 199.724775 \r\nL 108.431604 195.024466 \r\nL 109.96107 189.882757 \r\nL 111.490535 184.292489 \r\nL 113.020001 178.242293 \r\nL 114.549466 171.716164 \r\nL 117.608397 157.164651 \r\nL 120.667328 140.576132 \r\nL 123.726259 122.253272 \r\nL 128.314656 93.912358 \r\nL 129.844121 85.168255 \r\nL 131.373587 77.251551 \r\nL 132.903052 70.445877 \r\nL 134.432518 65.001137 \r\nL 135.961983 61.113114 \r\nL 137.491449 58.908627 \r\nL 139.020914 58.437682 \r\nL 140.55038 59.672926 \r\nL 142.079845 62.515624 \r\nL 143.609311 66.806749 \r\nL 145.138776 72.341538 \r\nL 146.668242 78.885914 \r\nL 149.727173 94.021652 \r\nL 157.3745 134.336448 \r\nL 160.433431 149.026274 \r\nL 163.492362 162.495995 \r\nL 166.551293 174.633184 \r\nL 168.080759 180.119918 \r\nL 169.610224 185.155558 \r\nL 171.13969 189.69173 \r\nL 172.669155 193.689597 \r\nL 174.198621 197.127677 \r\nL 175.728086 200.007273 \r\nL 177.257552 202.354688 \r\nL 178.787017 204.220042 \r\nL 180.316483 205.673051 \r\nL 181.845948 206.796536 \r\nL 183.375414 207.678656 \r\nL 186.434345 209.050975 \r\nL 191.022742 211.018045 \r\nL 195.611138 213.3536 \r\nL 200.199535 215.73731 \r\nL 204.787931 217.833427 \r\nL 209.376328 219.673651 \r\nL 213.964724 221.311578 \r\nL 217.023655 222.216096 \r\nL 220.082586 222.908197 \r\nL 223.141517 223.390994 \r\nL 229.259379 224.009448 \r\nL 235.377241 224.661902 \r\nL 249.142431 226.347926 \r\nL 252.201362 226.512966 \r\nL 255.260293 226.503155 \r\nL 258.319224 226.275103 \r\nL 261.378155 225.819278 \r\nL 270.554948 224.107932 \r\nL 273.613879 224.011064 \r\nL 276.67281 224.326696 \r\nL 279.731741 224.969135 \r\nL 285.849603 226.479164 \r\nL 288.908534 227.006973 \r\nL 291.967465 227.285334 \r\nL 295.026396 227.337213 \r\nL 299.614793 227.131515 \r\nL 308.791586 226.540167 \r\nL 313.379982 226.500297 \r\nL 317.968379 226.690156 \r\nL 327.145172 227.153363 \r\nL 337.85143 227.336613 \r\nL 357.734482 227.617473 \r\nL 366.911275 227.951977 \r\nL 376.088068 228.040619 \r\nL 376.088068 228.040619 \r\n\" style=\"fill:none;stroke:#ff0000;stroke-linecap:square;stroke-width:1.5;\"/>\r\n   </g>\r\n   <g id=\"patch_49\">\r\n    <path d=\"M 56.50625 228.047352 \r\nL 56.50625 10.607352 \r\n\" style=\"fill:none;stroke:#000000;stroke-linecap:square;stroke-linejoin:miter;stroke-width:0.8;\"/>\r\n   </g>\r\n   <g id=\"patch_50\">\r\n    <path d=\"M 391.30625 228.047352 \r\nL 391.30625 10.607352 \r\n\" style=\"fill:none;stroke:#000000;stroke-linecap:square;stroke-linejoin:miter;stroke-width:0.8;\"/>\r\n   </g>\r\n   <g id=\"patch_51\">\r\n    <path d=\"M 56.50625 228.047352 \r\nL 391.30625 228.047352 \r\n\" style=\"fill:none;stroke:#000000;stroke-linecap:square;stroke-linejoin:miter;stroke-width:0.8;\"/>\r\n   </g>\r\n   <g id=\"patch_52\">\r\n    <path d=\"M 56.50625 10.607352 \r\nL 391.30625 10.607352 \r\n\" style=\"fill:none;stroke:#000000;stroke-linecap:square;stroke-linejoin:miter;stroke-width:0.8;\"/>\r\n   </g>\r\n  </g>\r\n </g>\r\n <defs>\r\n  <clipPath id=\"pd0e92d8b52\">\r\n   <rect height=\"217.44\" width=\"334.8\" x=\"56.50625\" y=\"10.607352\"/>\r\n  </clipPath>\r\n </defs>\r\n</svg>\r\n",
      "image/png": "[encoded data removed]"
     },
     "metadata": {
      "needs_background": "light"
     }
    }
   ],
   "source": [
    "#VISUALIZATION OF DIFFERENT VARIABLES - TO SEE THEIR DISTRIBUTIONS. \n",
    "sns.distplot(a=loan_data.LoanAmount, color='r',  \n",
    "            hist_kws={\"edgecolor\": 'white'}) "
   ]
  },
  {
   "cell_type": "code",
   "execution_count": 21,
   "metadata": {},
   "outputs": [
    {
     "output_type": "stream",
     "name": "stderr",
     "text": [
      "C:\\Users\\Wessware\\AppData\\Local\\Packages\\PythonSoftwareFoundation.Python.3.9_qbz5n2kfra8p0\\LocalCache\\local-packages\\Python39\\site-packages\\seaborn\\distributions.py:2557: FutureWarning: `distplot` is a deprecated function and will be removed in a future version. Please adapt your code to use either `displot` (a figure-level function with similar flexibility) or `histplot` (an axes-level function for histograms).\n  warnings.warn(msg, FutureWarning)\n"
     ]
    },
    {
     "output_type": "execute_result",
     "data": {
      "text/plain": [
       "<AxesSubplot:xlabel='ApplicantIncome', ylabel='Density'>"
      ]
     },
     "metadata": {},
     "execution_count": 21
    },
    {
     "output_type": "display_data",
     "data": {
      "text/plain": "<Figure size 432x288 with 1 Axes>",
      "image/svg+xml": "<?xml version=\"1.0\" encoding=\"utf-8\" standalone=\"no\"?>\r\n<!DOCTYPE svg PUBLIC \"-//W3C//DTD SVG 1.1//EN\"\r\n  \"http://www.w3.org/Graphics/SVG/1.1/DTD/svg11.dtd\">\r\n<!-- Created with matplotlib (https://matplotlib.org/) -->\r\n<svg height=\"262.19625pt\" version=\"1.1\" viewBox=\"0 0 404.86875 262.19625\" width=\"404.86875pt\" xmlns=\"http://www.w3.org/2000/svg\" xmlns:xlink=\"http://www.w3.org/1999/xlink\">\r\n <metadata>\r\n  <rdf:RDF xmlns:cc=\"http://creativecommons.org/ns#\" xmlns:dc=\"http://purl.org/dc/elements/1.1/\" xmlns:rdf=\"http://www.w3.org/1999/02/22-rdf-syntax-ns#\">\r\n   <cc:Work>\r\n    <dc:type rdf:resource=\"http://purl.org/dc/dcmitype/StillImage\"/>\r\n    <dc:date>2021-07-11T15:55:43.247543</dc:date>\r\n    <dc:format>image/svg+xml</dc:format>\r\n    <dc:creator>\r\n     <cc:Agent>\r\n      <dc:title>Matplotlib v3.3.4, https://matplotlib.org/</dc:title>\r\n     </cc:Agent>\r\n    </dc:creator>\r\n   </cc:Work>\r\n  </rdf:RDF>\r\n </metadata>\r\n <defs>\r\n  <style type=\"text/css\">*{stroke-linecap:butt;stroke-linejoin:round;}</style>\r\n </defs>\r\n <g id=\"figure_1\">\r\n  <g id=\"patch_1\">\r\n   <path d=\"M 0 262.19625 \r\nL 404.86875 262.19625 \r\nL 404.86875 0 \r\nL 0 0 \r\nz\r\n\" style=\"fill:none;\"/>\r\n  </g>\r\n  <g id=\"axes_1\">\r\n   <g id=\"patch_2\">\r\n    <path d=\"M 62.86875 224.64 \r\nL 397.66875 224.64 \r\nL 397.66875 7.2 \r\nL 62.86875 7.2 \r\nz\r\n\" style=\"fill:#ffffff;\"/>\r\n   </g>\r\n   <g id=\"patch_3\">\r\n    <path clip-path=\"url(#pc8af6b4474)\" d=\"M 126.969243 224.64 \r\nL 147.629144 224.64 \r\nL 147.629144 69.325714 \r\nL 126.969243 69.325714 \r\nz\r\n\" style=\"fill:#800080;opacity:0.4;stroke:#ffffff;stroke-linejoin:miter;\"/>\r\n   </g>\r\n   <g id=\"patch_4\">\r\n    <path clip-path=\"url(#pc8af6b4474)\" d=\"M 147.629144 224.64 \r\nL 168.289046 224.64 \r\nL 168.289046 17.554286 \r\nL 147.629144 17.554286 \r\nz\r\n\" style=\"fill:#800080;opacity:0.4;stroke:#ffffff;stroke-linejoin:miter;\"/>\r\n   </g>\r\n   <g id=\"patch_5\">\r\n    <path clip-path=\"url(#pc8af6b4474)\" d=\"M 168.289046 224.64 \r\nL 188.948947 224.64 \r\nL 188.948947 72.050526 \r\nL 168.289046 72.050526 \r\nz\r\n\" style=\"fill:#800080;opacity:0.4;stroke:#ffffff;stroke-linejoin:miter;\"/>\r\n   </g>\r\n   <g id=\"patch_6\">\r\n    <path clip-path=\"url(#pc8af6b4474)\" d=\"M 188.948947 224.64 \r\nL 209.608849 224.64 \r\nL 209.608849 47.527218 \r\nL 188.948947 47.527218 \r\nz\r\n\" style=\"fill:#800080;opacity:0.4;stroke:#ffffff;stroke-linejoin:miter;\"/>\r\n   </g>\r\n   <g id=\"patch_7\">\r\n    <path clip-path=\"url(#pc8af6b4474)\" d=\"M 209.608849 224.64 \r\nL 230.26875 224.64 \r\nL 230.26875 61.151278 \r\nL 209.608849 61.151278 \r\nz\r\n\" style=\"fill:#800080;opacity:0.4;stroke:#ffffff;stroke-linejoin:miter;\"/>\r\n   </g>\r\n   <g id=\"patch_8\">\r\n    <path clip-path=\"url(#pc8af6b4474)\" d=\"M 230.26875 224.64 \r\nL 250.928651 224.64 \r\nL 250.928651 55.701654 \r\nL 230.26875 55.701654 \r\nz\r\n\" style=\"fill:#800080;opacity:0.4;stroke:#ffffff;stroke-linejoin:miter;\"/>\r\n   </g>\r\n   <g id=\"patch_9\">\r\n    <path clip-path=\"url(#pc8af6b4474)\" d=\"M 250.928651 224.64 \r\nL 271.588553 224.64 \r\nL 271.588553 55.701654 \r\nL 250.928651 55.701654 \r\nz\r\n\" style=\"fill:#800080;opacity:0.4;stroke:#ffffff;stroke-linejoin:miter;\"/>\r\n   </g>\r\n   <g id=\"patch_10\">\r\n    <path clip-path=\"url(#pc8af6b4474)\" d=\"M 271.588553 224.64 \r\nL 292.248454 224.64 \r\nL 292.248454 47.527218 \r\nL 271.588553 47.527218 \r\nz\r\n\" style=\"fill:#800080;opacity:0.4;stroke:#ffffff;stroke-linejoin:miter;\"/>\r\n   </g>\r\n   <g id=\"patch_11\">\r\n    <path clip-path=\"url(#pc8af6b4474)\" d=\"M 292.248454 224.64 \r\nL 312.908356 224.64 \r\nL 312.908356 72.050526 \r\nL 292.248454 72.050526 \r\nz\r\n\" style=\"fill:#800080;opacity:0.4;stroke:#ffffff;stroke-linejoin:miter;\"/>\r\n   </g>\r\n   <g id=\"patch_12\">\r\n    <path clip-path=\"url(#pc8af6b4474)\" d=\"M 312.908356 224.64 \r\nL 333.568257 224.64 \r\nL 333.568257 74.775338 \r\nL 312.908356 74.775338 \r\nz\r\n\" style=\"fill:#800080;opacity:0.4;stroke:#ffffff;stroke-linejoin:miter;\"/>\r\n   </g>\r\n   <g id=\"matplotlib.axis_1\">\r\n    <g id=\"xtick_1\">\r\n     <g id=\"line2d_1\">\r\n      <defs>\r\n       <path d=\"M 0 0 \r\nL 0 3.5 \r\n\" id=\"m877238941a\" style=\"stroke:#000000;stroke-width:0.8;\"/>\r\n      </defs>\r\n      <g>\r\n       <use style=\"stroke:#000000;stroke-width:0.8;\" x=\"85.977375\" xlink:href=\"#m877238941a\" y=\"224.64\"/>\r\n      </g>\r\n     </g>\r\n     <g id=\"text_1\">\r\n      <!-- −100 -->\r\n      <g transform=\"translate(72.243782 239.238437)scale(0.1 -0.1)\">\r\n       <defs>\r\n        <path d=\"M 10.59375 35.5 \r\nL 73.1875 35.5 \r\nL 73.1875 27.203125 \r\nL 10.59375 27.203125 \r\nz\r\n\" id=\"DejaVuSans-8722\"/>\r\n        <path d=\"M 12.40625 8.296875 \r\nL 28.515625 8.296875 \r\nL 28.515625 63.921875 \r\nL 10.984375 60.40625 \r\nL 10.984375 69.390625 \r\nL 28.421875 72.90625 \r\nL 38.28125 72.90625 \r\nL 38.28125 8.296875 \r\nL 54.390625 8.296875 \r\nL 54.390625 0 \r\nL 12.40625 0 \r\nz\r\n\" id=\"DejaVuSans-49\"/>\r\n        <path d=\"M 31.78125 66.40625 \r\nQ 24.171875 66.40625 20.328125 58.90625 \r\nQ 16.5 51.421875 16.5 36.375 \r\nQ 16.5 21.390625 20.328125 13.890625 \r\nQ 24.171875 6.390625 31.78125 6.390625 \r\nQ 39.453125 6.390625 43.28125 13.890625 \r\nQ 47.125 21.390625 47.125 36.375 \r\nQ 47.125 51.421875 43.28125 58.90625 \r\nQ 39.453125 66.40625 31.78125 66.40625 \r\nz\r\nM 31.78125 74.21875 \r\nQ 44.046875 74.21875 50.515625 64.515625 \r\nQ 56.984375 54.828125 56.984375 36.375 \r\nQ 56.984375 17.96875 50.515625 8.265625 \r\nQ 44.046875 -1.421875 31.78125 -1.421875 \r\nQ 19.53125 -1.421875 13.0625 8.265625 \r\nQ 6.59375 17.96875 6.59375 36.375 \r\nQ 6.59375 54.828125 13.0625 64.515625 \r\nQ 19.53125 74.21875 31.78125 74.21875 \r\nz\r\n\" id=\"DejaVuSans-48\"/>\r\n       </defs>\r\n       <use xlink:href=\"#DejaVuSans-8722\"/>\r\n       <use x=\"83.789062\" xlink:href=\"#DejaVuSans-49\"/>\r\n       <use x=\"147.412109\" xlink:href=\"#DejaVuSans-48\"/>\r\n       <use x=\"211.035156\" xlink:href=\"#DejaVuSans-48\"/>\r\n      </g>\r\n     </g>\r\n    </g>\r\n    <g id=\"xtick_2\">\r\n     <g id=\"line2d_2\">\r\n      <g>\r\n       <use style=\"stroke:#000000;stroke-width:0.8;\" x=\"126.969243\" xlink:href=\"#m877238941a\" y=\"224.64\"/>\r\n      </g>\r\n     </g>\r\n     <g id=\"text_2\">\r\n      <!-- 0 -->\r\n      <g transform=\"translate(123.787993 239.238437)scale(0.1 -0.1)\">\r\n       <use xlink:href=\"#DejaVuSans-48\"/>\r\n      </g>\r\n     </g>\r\n    </g>\r\n    <g id=\"xtick_3\">\r\n     <g id=\"line2d_3\">\r\n      <g>\r\n       <use style=\"stroke:#000000;stroke-width:0.8;\" x=\"167.961111\" xlink:href=\"#m877238941a\" y=\"224.64\"/>\r\n      </g>\r\n     </g>\r\n     <g id=\"text_3\">\r\n      <!-- 100 -->\r\n      <g transform=\"translate(158.417361 239.238437)scale(0.1 -0.1)\">\r\n       <use xlink:href=\"#DejaVuSans-49\"/>\r\n       <use x=\"63.623047\" xlink:href=\"#DejaVuSans-48\"/>\r\n       <use x=\"127.246094\" xlink:href=\"#DejaVuSans-48\"/>\r\n      </g>\r\n     </g>\r\n    </g>\r\n    <g id=\"xtick_4\">\r\n     <g id=\"line2d_4\">\r\n      <g>\r\n       <use style=\"stroke:#000000;stroke-width:0.8;\" x=\"208.952979\" xlink:href=\"#m877238941a\" y=\"224.64\"/>\r\n      </g>\r\n     </g>\r\n     <g id=\"text_4\">\r\n      <!-- 200 -->\r\n      <g transform=\"translate(199.409229 239.238437)scale(0.1 -0.1)\">\r\n       <defs>\r\n        <path d=\"M 19.1875 8.296875 \r\nL 53.609375 8.296875 \r\nL 53.609375 0 \r\nL 7.328125 0 \r\nL 7.328125 8.296875 \r\nQ 12.9375 14.109375 22.625 23.890625 \r\nQ 32.328125 33.6875 34.8125 36.53125 \r\nQ 39.546875 41.84375 41.421875 45.53125 \r\nQ 43.3125 49.21875 43.3125 52.78125 \r\nQ 43.3125 58.59375 39.234375 62.25 \r\nQ 35.15625 65.921875 28.609375 65.921875 \r\nQ 23.96875 65.921875 18.8125 64.3125 \r\nQ 13.671875 62.703125 7.8125 59.421875 \r\nL 7.8125 69.390625 \r\nQ 13.765625 71.78125 18.9375 73 \r\nQ 24.125 74.21875 28.421875 74.21875 \r\nQ 39.75 74.21875 46.484375 68.546875 \r\nQ 53.21875 62.890625 53.21875 53.421875 \r\nQ 53.21875 48.921875 51.53125 44.890625 \r\nQ 49.859375 40.875 45.40625 35.40625 \r\nQ 44.1875 33.984375 37.640625 27.21875 \r\nQ 31.109375 20.453125 19.1875 8.296875 \r\nz\r\n\" id=\"DejaVuSans-50\"/>\r\n       </defs>\r\n       <use xlink:href=\"#DejaVuSans-50\"/>\r\n       <use x=\"63.623047\" xlink:href=\"#DejaVuSans-48\"/>\r\n       <use x=\"127.246094\" xlink:href=\"#DejaVuSans-48\"/>\r\n      </g>\r\n     </g>\r\n    </g>\r\n    <g id=\"xtick_5\">\r\n     <g id=\"line2d_5\">\r\n      <g>\r\n       <use style=\"stroke:#000000;stroke-width:0.8;\" x=\"249.944847\" xlink:href=\"#m877238941a\" y=\"224.64\"/>\r\n      </g>\r\n     </g>\r\n     <g id=\"text_5\">\r\n      <!-- 300 -->\r\n      <g transform=\"translate(240.401097 239.238437)scale(0.1 -0.1)\">\r\n       <defs>\r\n        <path d=\"M 40.578125 39.3125 \r\nQ 47.65625 37.796875 51.625 33 \r\nQ 55.609375 28.21875 55.609375 21.1875 \r\nQ 55.609375 10.40625 48.1875 4.484375 \r\nQ 40.765625 -1.421875 27.09375 -1.421875 \r\nQ 22.515625 -1.421875 17.65625 -0.515625 \r\nQ 12.796875 0.390625 7.625 2.203125 \r\nL 7.625 11.71875 \r\nQ 11.71875 9.328125 16.59375 8.109375 \r\nQ 21.484375 6.890625 26.8125 6.890625 \r\nQ 36.078125 6.890625 40.9375 10.546875 \r\nQ 45.796875 14.203125 45.796875 21.1875 \r\nQ 45.796875 27.640625 41.28125 31.265625 \r\nQ 36.765625 34.90625 28.71875 34.90625 \r\nL 20.21875 34.90625 \r\nL 20.21875 43.015625 \r\nL 29.109375 43.015625 \r\nQ 36.375 43.015625 40.234375 45.921875 \r\nQ 44.09375 48.828125 44.09375 54.296875 \r\nQ 44.09375 59.90625 40.109375 62.90625 \r\nQ 36.140625 65.921875 28.71875 65.921875 \r\nQ 24.65625 65.921875 20.015625 65.03125 \r\nQ 15.375 64.15625 9.8125 62.3125 \r\nL 9.8125 71.09375 \r\nQ 15.4375 72.65625 20.34375 73.4375 \r\nQ 25.25 74.21875 29.59375 74.21875 \r\nQ 40.828125 74.21875 47.359375 69.109375 \r\nQ 53.90625 64.015625 53.90625 55.328125 \r\nQ 53.90625 49.265625 50.4375 45.09375 \r\nQ 46.96875 40.921875 40.578125 39.3125 \r\nz\r\n\" id=\"DejaVuSans-51\"/>\r\n       </defs>\r\n       <use xlink:href=\"#DejaVuSans-51\"/>\r\n       <use x=\"63.623047\" xlink:href=\"#DejaVuSans-48\"/>\r\n       <use x=\"127.246094\" xlink:href=\"#DejaVuSans-48\"/>\r\n      </g>\r\n     </g>\r\n    </g>\r\n    <g id=\"xtick_6\">\r\n     <g id=\"line2d_6\">\r\n      <g>\r\n       <use style=\"stroke:#000000;stroke-width:0.8;\" x=\"290.936714\" xlink:href=\"#m877238941a\" y=\"224.64\"/>\r\n      </g>\r\n     </g>\r\n     <g id=\"text_6\">\r\n      <!-- 400 -->\r\n      <g transform=\"translate(281.392964 239.238437)scale(0.1 -0.1)\">\r\n       <defs>\r\n        <path d=\"M 37.796875 64.3125 \r\nL 12.890625 25.390625 \r\nL 37.796875 25.390625 \r\nz\r\nM 35.203125 72.90625 \r\nL 47.609375 72.90625 \r\nL 47.609375 25.390625 \r\nL 58.015625 25.390625 \r\nL 58.015625 17.1875 \r\nL 47.609375 17.1875 \r\nL 47.609375 0 \r\nL 37.796875 0 \r\nL 37.796875 17.1875 \r\nL 4.890625 17.1875 \r\nL 4.890625 26.703125 \r\nz\r\n\" id=\"DejaVuSans-52\"/>\r\n       </defs>\r\n       <use xlink:href=\"#DejaVuSans-52\"/>\r\n       <use x=\"63.623047\" xlink:href=\"#DejaVuSans-48\"/>\r\n       <use x=\"127.246094\" xlink:href=\"#DejaVuSans-48\"/>\r\n      </g>\r\n     </g>\r\n    </g>\r\n    <g id=\"xtick_7\">\r\n     <g id=\"line2d_7\">\r\n      <g>\r\n       <use style=\"stroke:#000000;stroke-width:0.8;\" x=\"331.928582\" xlink:href=\"#m877238941a\" y=\"224.64\"/>\r\n      </g>\r\n     </g>\r\n     <g id=\"text_7\">\r\n      <!-- 500 -->\r\n      <g transform=\"translate(322.384832 239.238437)scale(0.1 -0.1)\">\r\n       <defs>\r\n        <path d=\"M 10.796875 72.90625 \r\nL 49.515625 72.90625 \r\nL 49.515625 64.59375 \r\nL 19.828125 64.59375 \r\nL 19.828125 46.734375 \r\nQ 21.96875 47.46875 24.109375 47.828125 \r\nQ 26.265625 48.1875 28.421875 48.1875 \r\nQ 40.625 48.1875 47.75 41.5 \r\nQ 54.890625 34.8125 54.890625 23.390625 \r\nQ 54.890625 11.625 47.5625 5.09375 \r\nQ 40.234375 -1.421875 26.90625 -1.421875 \r\nQ 22.3125 -1.421875 17.546875 -0.640625 \r\nQ 12.796875 0.140625 7.71875 1.703125 \r\nL 7.71875 11.625 \r\nQ 12.109375 9.234375 16.796875 8.0625 \r\nQ 21.484375 6.890625 26.703125 6.890625 \r\nQ 35.15625 6.890625 40.078125 11.328125 \r\nQ 45.015625 15.765625 45.015625 23.390625 \r\nQ 45.015625 31 40.078125 35.4375 \r\nQ 35.15625 39.890625 26.703125 39.890625 \r\nQ 22.75 39.890625 18.8125 39.015625 \r\nQ 14.890625 38.140625 10.796875 36.28125 \r\nz\r\n\" id=\"DejaVuSans-53\"/>\r\n       </defs>\r\n       <use xlink:href=\"#DejaVuSans-53\"/>\r\n       <use x=\"63.623047\" xlink:href=\"#DejaVuSans-48\"/>\r\n       <use x=\"127.246094\" xlink:href=\"#DejaVuSans-48\"/>\r\n      </g>\r\n     </g>\r\n    </g>\r\n    <g id=\"xtick_8\">\r\n     <g id=\"line2d_8\">\r\n      <g>\r\n       <use style=\"stroke:#000000;stroke-width:0.8;\" x=\"372.92045\" xlink:href=\"#m877238941a\" y=\"224.64\"/>\r\n      </g>\r\n     </g>\r\n     <g id=\"text_8\">\r\n      <!-- 600 -->\r\n      <g transform=\"translate(363.3767 239.238437)scale(0.1 -0.1)\">\r\n       <defs>\r\n        <path d=\"M 33.015625 40.375 \r\nQ 26.375 40.375 22.484375 35.828125 \r\nQ 18.609375 31.296875 18.609375 23.390625 \r\nQ 18.609375 15.53125 22.484375 10.953125 \r\nQ 26.375 6.390625 33.015625 6.390625 \r\nQ 39.65625 6.390625 43.53125 10.953125 \r\nQ 47.40625 15.53125 47.40625 23.390625 \r\nQ 47.40625 31.296875 43.53125 35.828125 \r\nQ 39.65625 40.375 33.015625 40.375 \r\nz\r\nM 52.59375 71.296875 \r\nL 52.59375 62.3125 \r\nQ 48.875 64.0625 45.09375 64.984375 \r\nQ 41.3125 65.921875 37.59375 65.921875 \r\nQ 27.828125 65.921875 22.671875 59.328125 \r\nQ 17.53125 52.734375 16.796875 39.40625 \r\nQ 19.671875 43.65625 24.015625 45.921875 \r\nQ 28.375 48.1875 33.59375 48.1875 \r\nQ 44.578125 48.1875 50.953125 41.515625 \r\nQ 57.328125 34.859375 57.328125 23.390625 \r\nQ 57.328125 12.15625 50.6875 5.359375 \r\nQ 44.046875 -1.421875 33.015625 -1.421875 \r\nQ 20.359375 -1.421875 13.671875 8.265625 \r\nQ 6.984375 17.96875 6.984375 36.375 \r\nQ 6.984375 53.65625 15.1875 63.9375 \r\nQ 23.390625 74.21875 37.203125 74.21875 \r\nQ 40.921875 74.21875 44.703125 73.484375 \r\nQ 48.484375 72.75 52.59375 71.296875 \r\nz\r\n\" id=\"DejaVuSans-54\"/>\r\n       </defs>\r\n       <use xlink:href=\"#DejaVuSans-54\"/>\r\n       <use x=\"63.623047\" xlink:href=\"#DejaVuSans-48\"/>\r\n       <use x=\"127.246094\" xlink:href=\"#DejaVuSans-48\"/>\r\n      </g>\r\n     </g>\r\n    </g>\r\n    <g id=\"text_9\">\r\n     <!-- ApplicantIncome -->\r\n     <g transform=\"translate(188.380469 252.916562)scale(0.1 -0.1)\">\r\n      <defs>\r\n       <path d=\"M 34.1875 63.1875 \r\nL 20.796875 26.90625 \r\nL 47.609375 26.90625 \r\nz\r\nM 28.609375 72.90625 \r\nL 39.796875 72.90625 \r\nL 67.578125 0 \r\nL 57.328125 0 \r\nL 50.6875 18.703125 \r\nL 17.828125 18.703125 \r\nL 11.1875 0 \r\nL 0.78125 0 \r\nz\r\n\" id=\"DejaVuSans-65\"/>\r\n       <path d=\"M 18.109375 8.203125 \r\nL 18.109375 -20.796875 \r\nL 9.078125 -20.796875 \r\nL 9.078125 54.6875 \r\nL 18.109375 54.6875 \r\nL 18.109375 46.390625 \r\nQ 20.953125 51.265625 25.265625 53.625 \r\nQ 29.59375 56 35.59375 56 \r\nQ 45.5625 56 51.78125 48.09375 \r\nQ 58.015625 40.1875 58.015625 27.296875 \r\nQ 58.015625 14.40625 51.78125 6.484375 \r\nQ 45.5625 -1.421875 35.59375 -1.421875 \r\nQ 29.59375 -1.421875 25.265625 0.953125 \r\nQ 20.953125 3.328125 18.109375 8.203125 \r\nz\r\nM 48.6875 27.296875 \r\nQ 48.6875 37.203125 44.609375 42.84375 \r\nQ 40.53125 48.484375 33.40625 48.484375 \r\nQ 26.265625 48.484375 22.1875 42.84375 \r\nQ 18.109375 37.203125 18.109375 27.296875 \r\nQ 18.109375 17.390625 22.1875 11.75 \r\nQ 26.265625 6.109375 33.40625 6.109375 \r\nQ 40.53125 6.109375 44.609375 11.75 \r\nQ 48.6875 17.390625 48.6875 27.296875 \r\nz\r\n\" id=\"DejaVuSans-112\"/>\r\n       <path d=\"M 9.421875 75.984375 \r\nL 18.40625 75.984375 \r\nL 18.40625 0 \r\nL 9.421875 0 \r\nz\r\n\" id=\"DejaVuSans-108\"/>\r\n       <path d=\"M 9.421875 54.6875 \r\nL 18.40625 54.6875 \r\nL 18.40625 0 \r\nL 9.421875 0 \r\nz\r\nM 9.421875 75.984375 \r\nL 18.40625 75.984375 \r\nL 18.40625 64.59375 \r\nL 9.421875 64.59375 \r\nz\r\n\" id=\"DejaVuSans-105\"/>\r\n       <path d=\"M 48.78125 52.59375 \r\nL 48.78125 44.1875 \r\nQ 44.96875 46.296875 41.140625 47.34375 \r\nQ 37.3125 48.390625 33.40625 48.390625 \r\nQ 24.65625 48.390625 19.8125 42.84375 \r\nQ 14.984375 37.3125 14.984375 27.296875 \r\nQ 14.984375 17.28125 19.8125 11.734375 \r\nQ 24.65625 6.203125 33.40625 6.203125 \r\nQ 37.3125 6.203125 41.140625 7.25 \r\nQ 44.96875 8.296875 48.78125 10.40625 \r\nL 48.78125 2.09375 \r\nQ 45.015625 0.34375 40.984375 -0.53125 \r\nQ 36.96875 -1.421875 32.421875 -1.421875 \r\nQ 20.0625 -1.421875 12.78125 6.34375 \r\nQ 5.515625 14.109375 5.515625 27.296875 \r\nQ 5.515625 40.671875 12.859375 48.328125 \r\nQ 20.21875 56 33.015625 56 \r\nQ 37.15625 56 41.109375 55.140625 \r\nQ 45.0625 54.296875 48.78125 52.59375 \r\nz\r\n\" id=\"DejaVuSans-99\"/>\r\n       <path d=\"M 34.28125 27.484375 \r\nQ 23.390625 27.484375 19.1875 25 \r\nQ 14.984375 22.515625 14.984375 16.5 \r\nQ 14.984375 11.71875 18.140625 8.90625 \r\nQ 21.296875 6.109375 26.703125 6.109375 \r\nQ 34.1875 6.109375 38.703125 11.40625 \r\nQ 43.21875 16.703125 43.21875 25.484375 \r\nL 43.21875 27.484375 \r\nz\r\nM 52.203125 31.203125 \r\nL 52.203125 0 \r\nL 43.21875 0 \r\nL 43.21875 8.296875 \r\nQ 40.140625 3.328125 35.546875 0.953125 \r\nQ 30.953125 -1.421875 24.3125 -1.421875 \r\nQ 15.921875 -1.421875 10.953125 3.296875 \r\nQ 6 8.015625 6 15.921875 \r\nQ 6 25.140625 12.171875 29.828125 \r\nQ 18.359375 34.515625 30.609375 34.515625 \r\nL 43.21875 34.515625 \r\nL 43.21875 35.40625 \r\nQ 43.21875 41.609375 39.140625 45 \r\nQ 35.0625 48.390625 27.6875 48.390625 \r\nQ 23 48.390625 18.546875 47.265625 \r\nQ 14.109375 46.140625 10.015625 43.890625 \r\nL 10.015625 52.203125 \r\nQ 14.9375 54.109375 19.578125 55.046875 \r\nQ 24.21875 56 28.609375 56 \r\nQ 40.484375 56 46.34375 49.84375 \r\nQ 52.203125 43.703125 52.203125 31.203125 \r\nz\r\n\" id=\"DejaVuSans-97\"/>\r\n       <path d=\"M 54.890625 33.015625 \r\nL 54.890625 0 \r\nL 45.90625 0 \r\nL 45.90625 32.71875 \r\nQ 45.90625 40.484375 42.875 44.328125 \r\nQ 39.84375 48.1875 33.796875 48.1875 \r\nQ 26.515625 48.1875 22.3125 43.546875 \r\nQ 18.109375 38.921875 18.109375 30.90625 \r\nL 18.109375 0 \r\nL 9.078125 0 \r\nL 9.078125 54.6875 \r\nL 18.109375 54.6875 \r\nL 18.109375 46.1875 \r\nQ 21.34375 51.125 25.703125 53.5625 \r\nQ 30.078125 56 35.796875 56 \r\nQ 45.21875 56 50.046875 50.171875 \r\nQ 54.890625 44.34375 54.890625 33.015625 \r\nz\r\n\" id=\"DejaVuSans-110\"/>\r\n       <path d=\"M 18.3125 70.21875 \r\nL 18.3125 54.6875 \r\nL 36.8125 54.6875 \r\nL 36.8125 47.703125 \r\nL 18.3125 47.703125 \r\nL 18.3125 18.015625 \r\nQ 18.3125 11.328125 20.140625 9.421875 \r\nQ 21.96875 7.515625 27.59375 7.515625 \r\nL 36.8125 7.515625 \r\nL 36.8125 0 \r\nL 27.59375 0 \r\nQ 17.1875 0 13.234375 3.875 \r\nQ 9.28125 7.765625 9.28125 18.015625 \r\nL 9.28125 47.703125 \r\nL 2.6875 47.703125 \r\nL 2.6875 54.6875 \r\nL 9.28125 54.6875 \r\nL 9.28125 70.21875 \r\nz\r\n\" id=\"DejaVuSans-116\"/>\r\n       <path d=\"M 9.8125 72.90625 \r\nL 19.671875 72.90625 \r\nL 19.671875 0 \r\nL 9.8125 0 \r\nz\r\n\" id=\"DejaVuSans-73\"/>\r\n       <path d=\"M 30.609375 48.390625 \r\nQ 23.390625 48.390625 19.1875 42.75 \r\nQ 14.984375 37.109375 14.984375 27.296875 \r\nQ 14.984375 17.484375 19.15625 11.84375 \r\nQ 23.34375 6.203125 30.609375 6.203125 \r\nQ 37.796875 6.203125 41.984375 11.859375 \r\nQ 46.1875 17.53125 46.1875 27.296875 \r\nQ 46.1875 37.015625 41.984375 42.703125 \r\nQ 37.796875 48.390625 30.609375 48.390625 \r\nz\r\nM 30.609375 56 \r\nQ 42.328125 56 49.015625 48.375 \r\nQ 55.71875 40.765625 55.71875 27.296875 \r\nQ 55.71875 13.875 49.015625 6.21875 \r\nQ 42.328125 -1.421875 30.609375 -1.421875 \r\nQ 18.84375 -1.421875 12.171875 6.21875 \r\nQ 5.515625 13.875 5.515625 27.296875 \r\nQ 5.515625 40.765625 12.171875 48.375 \r\nQ 18.84375 56 30.609375 56 \r\nz\r\n\" id=\"DejaVuSans-111\"/>\r\n       <path d=\"M 52 44.1875 \r\nQ 55.375 50.25 60.0625 53.125 \r\nQ 64.75 56 71.09375 56 \r\nQ 79.640625 56 84.28125 50.015625 \r\nQ 88.921875 44.046875 88.921875 33.015625 \r\nL 88.921875 0 \r\nL 79.890625 0 \r\nL 79.890625 32.71875 \r\nQ 79.890625 40.578125 77.09375 44.375 \r\nQ 74.3125 48.1875 68.609375 48.1875 \r\nQ 61.625 48.1875 57.5625 43.546875 \r\nQ 53.515625 38.921875 53.515625 30.90625 \r\nL 53.515625 0 \r\nL 44.484375 0 \r\nL 44.484375 32.71875 \r\nQ 44.484375 40.625 41.703125 44.40625 \r\nQ 38.921875 48.1875 33.109375 48.1875 \r\nQ 26.21875 48.1875 22.15625 43.53125 \r\nQ 18.109375 38.875 18.109375 30.90625 \r\nL 18.109375 0 \r\nL 9.078125 0 \r\nL 9.078125 54.6875 \r\nL 18.109375 54.6875 \r\nL 18.109375 46.1875 \r\nQ 21.1875 51.21875 25.484375 53.609375 \r\nQ 29.78125 56 35.6875 56 \r\nQ 41.65625 56 45.828125 52.96875 \r\nQ 50 49.953125 52 44.1875 \r\nz\r\n\" id=\"DejaVuSans-109\"/>\r\n       <path d=\"M 56.203125 29.59375 \r\nL 56.203125 25.203125 \r\nL 14.890625 25.203125 \r\nQ 15.484375 15.921875 20.484375 11.0625 \r\nQ 25.484375 6.203125 34.421875 6.203125 \r\nQ 39.59375 6.203125 44.453125 7.46875 \r\nQ 49.3125 8.734375 54.109375 11.28125 \r\nL 54.109375 2.78125 \r\nQ 49.265625 0.734375 44.1875 -0.34375 \r\nQ 39.109375 -1.421875 33.890625 -1.421875 \r\nQ 20.796875 -1.421875 13.15625 6.1875 \r\nQ 5.515625 13.8125 5.515625 26.8125 \r\nQ 5.515625 40.234375 12.765625 48.109375 \r\nQ 20.015625 56 32.328125 56 \r\nQ 43.359375 56 49.78125 48.890625 \r\nQ 56.203125 41.796875 56.203125 29.59375 \r\nz\r\nM 47.21875 32.234375 \r\nQ 47.125 39.59375 43.09375 43.984375 \r\nQ 39.0625 48.390625 32.421875 48.390625 \r\nQ 24.90625 48.390625 20.390625 44.140625 \r\nQ 15.875 39.890625 15.1875 32.171875 \r\nz\r\n\" id=\"DejaVuSans-101\"/>\r\n      </defs>\r\n      <use xlink:href=\"#DejaVuSans-65\"/>\r\n      <use x=\"68.408203\" xlink:href=\"#DejaVuSans-112\"/>\r\n      <use x=\"131.884766\" xlink:href=\"#DejaVuSans-112\"/>\r\n      <use x=\"195.361328\" xlink:href=\"#DejaVuSans-108\"/>\r\n      <use x=\"223.144531\" xlink:href=\"#DejaVuSans-105\"/>\r\n      <use x=\"250.927734\" xlink:href=\"#DejaVuSans-99\"/>\r\n      <use x=\"305.908203\" xlink:href=\"#DejaVuSans-97\"/>\r\n      <use x=\"367.1875\" xlink:href=\"#DejaVuSans-110\"/>\r\n      <use x=\"430.566406\" xlink:href=\"#DejaVuSans-116\"/>\r\n      <use x=\"469.775391\" xlink:href=\"#DejaVuSans-73\"/>\r\n      <use x=\"499.267578\" xlink:href=\"#DejaVuSans-110\"/>\r\n      <use x=\"562.646484\" xlink:href=\"#DejaVuSans-99\"/>\r\n      <use x=\"617.626953\" xlink:href=\"#DejaVuSans-111\"/>\r\n      <use x=\"678.808594\" xlink:href=\"#DejaVuSans-109\"/>\r\n      <use x=\"776.220703\" xlink:href=\"#DejaVuSans-101\"/>\r\n     </g>\r\n    </g>\r\n   </g>\r\n   <g id=\"matplotlib.axis_2\">\r\n    <g id=\"ytick_1\">\r\n     <g id=\"line2d_9\">\r\n      <defs>\r\n       <path d=\"M 0 0 \r\nL -3.5 0 \r\n\" id=\"m76aab30778\" style=\"stroke:#000000;stroke-width:0.8;\"/>\r\n      </defs>\r\n      <g>\r\n       <use style=\"stroke:#000000;stroke-width:0.8;\" x=\"62.86875\" xlink:href=\"#m76aab30778\" y=\"224.64\"/>\r\n      </g>\r\n     </g>\r\n     <g id=\"text_10\">\r\n      <!-- 0.0000 -->\r\n      <g transform=\"translate(20.878125 228.439219)scale(0.1 -0.1)\">\r\n       <defs>\r\n        <path d=\"M 10.6875 12.40625 \r\nL 21 12.40625 \r\nL 21 0 \r\nL 10.6875 0 \r\nz\r\n\" id=\"DejaVuSans-46\"/>\r\n       </defs>\r\n       <use xlink:href=\"#DejaVuSans-48\"/>\r\n       <use x=\"63.623047\" xlink:href=\"#DejaVuSans-46\"/>\r\n       <use x=\"95.410156\" xlink:href=\"#DejaVuSans-48\"/>\r\n       <use x=\"159.033203\" xlink:href=\"#DejaVuSans-48\"/>\r\n       <use x=\"222.65625\" xlink:href=\"#DejaVuSans-48\"/>\r\n       <use x=\"286.279297\" xlink:href=\"#DejaVuSans-48\"/>\r\n      </g>\r\n     </g>\r\n    </g>\r\n    <g id=\"ytick_2\">\r\n     <g id=\"line2d_10\">\r\n      <g>\r\n       <use style=\"stroke:#000000;stroke-width:0.8;\" x=\"62.86875\" xlink:href=\"#m76aab30778\" y=\"182.479528\"/>\r\n      </g>\r\n     </g>\r\n     <g id=\"text_11\">\r\n      <!-- 0.0005 -->\r\n      <g transform=\"translate(20.878125 186.278747)scale(0.1 -0.1)\">\r\n       <use xlink:href=\"#DejaVuSans-48\"/>\r\n       <use x=\"63.623047\" xlink:href=\"#DejaVuSans-46\"/>\r\n       <use x=\"95.410156\" xlink:href=\"#DejaVuSans-48\"/>\r\n       <use x=\"159.033203\" xlink:href=\"#DejaVuSans-48\"/>\r\n       <use x=\"222.65625\" xlink:href=\"#DejaVuSans-48\"/>\r\n       <use x=\"286.279297\" xlink:href=\"#DejaVuSans-53\"/>\r\n      </g>\r\n     </g>\r\n    </g>\r\n    <g id=\"ytick_3\">\r\n     <g id=\"line2d_11\">\r\n      <g>\r\n       <use style=\"stroke:#000000;stroke-width:0.8;\" x=\"62.86875\" xlink:href=\"#m76aab30778\" y=\"140.319057\"/>\r\n      </g>\r\n     </g>\r\n     <g id=\"text_12\">\r\n      <!-- 0.0010 -->\r\n      <g transform=\"translate(20.878125 144.118276)scale(0.1 -0.1)\">\r\n       <use xlink:href=\"#DejaVuSans-48\"/>\r\n       <use x=\"63.623047\" xlink:href=\"#DejaVuSans-46\"/>\r\n       <use x=\"95.410156\" xlink:href=\"#DejaVuSans-48\"/>\r\n       <use x=\"159.033203\" xlink:href=\"#DejaVuSans-48\"/>\r\n       <use x=\"222.65625\" xlink:href=\"#DejaVuSans-49\"/>\r\n       <use x=\"286.279297\" xlink:href=\"#DejaVuSans-48\"/>\r\n      </g>\r\n     </g>\r\n    </g>\r\n    <g id=\"ytick_4\">\r\n     <g id=\"line2d_12\">\r\n      <g>\r\n       <use style=\"stroke:#000000;stroke-width:0.8;\" x=\"62.86875\" xlink:href=\"#m76aab30778\" y=\"98.158585\"/>\r\n      </g>\r\n     </g>\r\n     <g id=\"text_13\">\r\n      <!-- 0.0015 -->\r\n      <g transform=\"translate(20.878125 101.957804)scale(0.1 -0.1)\">\r\n       <use xlink:href=\"#DejaVuSans-48\"/>\r\n       <use x=\"63.623047\" xlink:href=\"#DejaVuSans-46\"/>\r\n       <use x=\"95.410156\" xlink:href=\"#DejaVuSans-48\"/>\r\n       <use x=\"159.033203\" xlink:href=\"#DejaVuSans-48\"/>\r\n       <use x=\"222.65625\" xlink:href=\"#DejaVuSans-49\"/>\r\n       <use x=\"286.279297\" xlink:href=\"#DejaVuSans-53\"/>\r\n      </g>\r\n     </g>\r\n    </g>\r\n    <g id=\"ytick_5\">\r\n     <g id=\"line2d_13\">\r\n      <g>\r\n       <use style=\"stroke:#000000;stroke-width:0.8;\" x=\"62.86875\" xlink:href=\"#m76aab30778\" y=\"55.998114\"/>\r\n      </g>\r\n     </g>\r\n     <g id=\"text_14\">\r\n      <!-- 0.0020 -->\r\n      <g transform=\"translate(20.878125 59.797332)scale(0.1 -0.1)\">\r\n       <use xlink:href=\"#DejaVuSans-48\"/>\r\n       <use x=\"63.623047\" xlink:href=\"#DejaVuSans-46\"/>\r\n       <use x=\"95.410156\" xlink:href=\"#DejaVuSans-48\"/>\r\n       <use x=\"159.033203\" xlink:href=\"#DejaVuSans-48\"/>\r\n       <use x=\"222.65625\" xlink:href=\"#DejaVuSans-50\"/>\r\n       <use x=\"286.279297\" xlink:href=\"#DejaVuSans-48\"/>\r\n      </g>\r\n     </g>\r\n    </g>\r\n    <g id=\"ytick_6\">\r\n     <g id=\"line2d_14\">\r\n      <g>\r\n       <use style=\"stroke:#000000;stroke-width:0.8;\" x=\"62.86875\" xlink:href=\"#m76aab30778\" y=\"13.837642\"/>\r\n      </g>\r\n     </g>\r\n     <g id=\"text_15\">\r\n      <!-- 0.0025 -->\r\n      <g transform=\"translate(20.878125 17.636861)scale(0.1 -0.1)\">\r\n       <use xlink:href=\"#DejaVuSans-48\"/>\r\n       <use x=\"63.623047\" xlink:href=\"#DejaVuSans-46\"/>\r\n       <use x=\"95.410156\" xlink:href=\"#DejaVuSans-48\"/>\r\n       <use x=\"159.033203\" xlink:href=\"#DejaVuSans-48\"/>\r\n       <use x=\"222.65625\" xlink:href=\"#DejaVuSans-50\"/>\r\n       <use x=\"286.279297\" xlink:href=\"#DejaVuSans-53\"/>\r\n      </g>\r\n     </g>\r\n    </g>\r\n    <g id=\"text_16\">\r\n     <!-- Density -->\r\n     <g transform=\"translate(14.798438 134.928594)rotate(-90)scale(0.1 -0.1)\">\r\n      <defs>\r\n       <path d=\"M 19.671875 64.796875 \r\nL 19.671875 8.109375 \r\nL 31.59375 8.109375 \r\nQ 46.6875 8.109375 53.6875 14.9375 \r\nQ 60.6875 21.78125 60.6875 36.53125 \r\nQ 60.6875 51.171875 53.6875 57.984375 \r\nQ 46.6875 64.796875 31.59375 64.796875 \r\nz\r\nM 9.8125 72.90625 \r\nL 30.078125 72.90625 \r\nQ 51.265625 72.90625 61.171875 64.09375 \r\nQ 71.09375 55.28125 71.09375 36.53125 \r\nQ 71.09375 17.671875 61.125 8.828125 \r\nQ 51.171875 0 30.078125 0 \r\nL 9.8125 0 \r\nz\r\n\" id=\"DejaVuSans-68\"/>\r\n       <path d=\"M 44.28125 53.078125 \r\nL 44.28125 44.578125 \r\nQ 40.484375 46.53125 36.375 47.5 \r\nQ 32.28125 48.484375 27.875 48.484375 \r\nQ 21.1875 48.484375 17.84375 46.4375 \r\nQ 14.5 44.390625 14.5 40.28125 \r\nQ 14.5 37.15625 16.890625 35.375 \r\nQ 19.28125 33.59375 26.515625 31.984375 \r\nL 29.59375 31.296875 \r\nQ 39.15625 29.25 43.1875 25.515625 \r\nQ 47.21875 21.78125 47.21875 15.09375 \r\nQ 47.21875 7.46875 41.1875 3.015625 \r\nQ 35.15625 -1.421875 24.609375 -1.421875 \r\nQ 20.21875 -1.421875 15.453125 -0.5625 \r\nQ 10.6875 0.296875 5.421875 2 \r\nL 5.421875 11.28125 \r\nQ 10.40625 8.6875 15.234375 7.390625 \r\nQ 20.0625 6.109375 24.8125 6.109375 \r\nQ 31.15625 6.109375 34.5625 8.28125 \r\nQ 37.984375 10.453125 37.984375 14.40625 \r\nQ 37.984375 18.0625 35.515625 20.015625 \r\nQ 33.0625 21.96875 24.703125 23.78125 \r\nL 21.578125 24.515625 \r\nQ 13.234375 26.265625 9.515625 29.90625 \r\nQ 5.8125 33.546875 5.8125 39.890625 \r\nQ 5.8125 47.609375 11.28125 51.796875 \r\nQ 16.75 56 26.8125 56 \r\nQ 31.78125 56 36.171875 55.265625 \r\nQ 40.578125 54.546875 44.28125 53.078125 \r\nz\r\n\" id=\"DejaVuSans-115\"/>\r\n       <path d=\"M 32.171875 -5.078125 \r\nQ 28.375 -14.84375 24.75 -17.8125 \r\nQ 21.140625 -20.796875 15.09375 -20.796875 \r\nL 7.90625 -20.796875 \r\nL 7.90625 -13.28125 \r\nL 13.1875 -13.28125 \r\nQ 16.890625 -13.28125 18.9375 -11.515625 \r\nQ 21 -9.765625 23.484375 -3.21875 \r\nL 25.09375 0.875 \r\nL 2.984375 54.6875 \r\nL 12.5 54.6875 \r\nL 29.59375 11.921875 \r\nL 46.6875 54.6875 \r\nL 56.203125 54.6875 \r\nz\r\n\" id=\"DejaVuSans-121\"/>\r\n      </defs>\r\n      <use xlink:href=\"#DejaVuSans-68\"/>\r\n      <use x=\"77.001953\" xlink:href=\"#DejaVuSans-101\"/>\r\n      <use x=\"138.525391\" xlink:href=\"#DejaVuSans-110\"/>\r\n      <use x=\"201.904297\" xlink:href=\"#DejaVuSans-115\"/>\r\n      <use x=\"254.003906\" xlink:href=\"#DejaVuSans-105\"/>\r\n      <use x=\"281.787109\" xlink:href=\"#DejaVuSans-116\"/>\r\n      <use x=\"320.996094\" xlink:href=\"#DejaVuSans-121\"/>\r\n     </g>\r\n    </g>\r\n   </g>\r\n   <g id=\"line2d_15\">\r\n    <path clip-path=\"url(#pc8af6b4474)\" d=\"M 78.086932 224.428157 \r\nL 82.675328 224.125713 \r\nL 85.734259 223.747855 \r\nL 88.79319 223.141156 \r\nL 91.852121 222.200452 \r\nL 93.381587 221.564098 \r\nL 94.911052 220.791815 \r\nL 96.440518 219.86269 \r\nL 97.969983 218.754535 \r\nL 99.499449 217.444265 \r\nL 101.028914 215.908355 \r\nL 102.55838 214.123411 \r\nL 104.087845 212.066813 \r\nL 105.617311 209.717431 \r\nL 107.146776 207.056385 \r\nL 108.676242 204.067812 \r\nL 110.205708 200.739628 \r\nL 111.735173 197.064216 \r\nL 113.264639 193.039036 \r\nL 114.794104 188.6671 \r\nL 117.853035 178.924481 \r\nL 120.911966 167.978846 \r\nL 123.970897 156.061934 \r\nL 128.559294 137.043615 \r\nL 134.677156 111.426591 \r\nL 137.736087 99.299967 \r\nL 140.795018 88.03673 \r\nL 143.853949 77.87981 \r\nL 146.91288 69.015511 \r\nL 148.442345 65.110675 \r\nL 149.971811 61.572902 \r\nL 151.501276 58.40925 \r\nL 153.030742 55.622986 \r\nL 154.560207 53.213459 \r\nL 156.089673 51.175959 \r\nL 157.619138 49.501599 \r\nL 159.148604 48.177255 \r\nL 160.678069 47.185584 \r\nL 162.207535 46.505161 \r\nL 163.737 46.110752 \r\nL 165.266466 45.973725 \r\nL 166.795931 46.062626 \r\nL 168.325397 46.343881 \r\nL 169.854862 46.782622 \r\nL 172.913793 47.992101 \r\nL 180.561121 51.486471 \r\nL 183.620052 52.587398 \r\nL 186.678983 53.386238 \r\nL 189.737914 53.891655 \r\nL 192.796845 54.165128 \r\nL 200.444173 54.444406 \r\nL 205.032569 54.739416 \r\nL 209.620966 55.266576 \r\nL 220.327224 56.718678 \r\nL 223.386155 56.929555 \r\nL 226.445086 56.972239 \r\nL 229.504017 56.84125 \r\nL 234.092414 56.369462 \r\nL 247.857603 54.558872 \r\nL 252.446 54.329704 \r\nL 257.034396 54.368796 \r\nL 261.622793 54.633216 \r\nL 266.211189 55.079454 \r\nL 270.799586 55.701536 \r\nL 275.387983 56.537513 \r\nL 279.976379 57.647851 \r\nL 283.03531 58.569347 \r\nL 286.094241 59.653869 \r\nL 289.153172 60.92002 \r\nL 292.212103 62.397524 \r\nL 295.271034 64.136515 \r\nL 298.329965 66.215716 \r\nL 301.388896 68.746639 \r\nL 302.918362 70.22493 \r\nL 304.447827 71.871407 \r\nL 305.977293 73.706995 \r\nL 307.506758 75.752867 \r\nL 309.036224 78.029741 \r\nL 310.565689 80.557101 \r\nL 312.095155 83.352377 \r\nL 313.62462 86.43011 \r\nL 315.154086 89.801138 \r\nL 316.683551 93.47185 \r\nL 319.742482 101.711839 \r\nL 322.801413 111.090875 \r\nL 325.860344 121.452894 \r\nL 330.448741 138.274775 \r\nL 338.096068 166.832097 \r\nL 341.154999 177.373145 \r\nL 344.21393 186.948925 \r\nL 347.272861 195.359188 \r\nL 348.802327 199.090857 \r\nL 350.331792 202.499489 \r\nL 351.861258 205.586562 \r\nL 353.390724 208.358582 \r\nL 354.920189 210.826446 \r\nL 356.449655 213.004735 \r\nL 357.97912 214.910955 \r\nL 359.508586 216.564776 \r\nL 361.038051 217.987288 \r\nL 362.567517 219.200315 \r\nL 364.096982 220.225796 \r\nL 365.626448 221.085251 \r\nL 367.155913 221.799341 \r\nL 370.214844 222.867808 \r\nL 373.273775 223.568579 \r\nL 376.332706 224.012492 \r\nL 380.921103 224.375172 \r\nL 382.450568 224.444544 \r\nL 382.450568 224.444544 \r\n\" style=\"fill:none;stroke:#800080;stroke-linecap:square;stroke-width:1.5;\"/>\r\n   </g>\r\n   <g id=\"patch_13\">\r\n    <path d=\"M 62.86875 224.64 \r\nL 62.86875 7.2 \r\n\" style=\"fill:none;stroke:#000000;stroke-linecap:square;stroke-linejoin:miter;stroke-width:0.8;\"/>\r\n   </g>\r\n   <g id=\"patch_14\">\r\n    <path d=\"M 397.66875 224.64 \r\nL 397.66875 7.2 \r\n\" style=\"fill:none;stroke:#000000;stroke-linecap:square;stroke-linejoin:miter;stroke-width:0.8;\"/>\r\n   </g>\r\n   <g id=\"patch_15\">\r\n    <path d=\"M 62.86875 224.64 \r\nL 397.66875 224.64 \r\n\" style=\"fill:none;stroke:#000000;stroke-linecap:square;stroke-linejoin:miter;stroke-width:0.8;\"/>\r\n   </g>\r\n   <g id=\"patch_16\">\r\n    <path d=\"M 62.86875 7.2 \r\nL 397.66875 7.2 \r\n\" style=\"fill:none;stroke:#000000;stroke-linecap:square;stroke-linejoin:miter;stroke-width:0.8;\"/>\r\n   </g>\r\n  </g>\r\n </g>\r\n <defs>\r\n  <clipPath id=\"pc8af6b4474\">\r\n   <rect height=\"217.44\" width=\"334.8\" x=\"62.86875\" y=\"7.2\"/>\r\n  </clipPath>\r\n </defs>\r\n</svg>\r\n",
      "image/png": "[encoded data removed]"
     },
     "metadata": {
      "needs_background": "light"
     }
    }
   ],
   "source": [
    "sns.distplot(a=loan_data.ApplicantIncome, color='purple',  \n",
    "            hist_kws={\"edgecolor\": 'white'}, bins=10)"
   ]
  },
  {
   "cell_type": "code",
   "execution_count": 22,
   "metadata": {},
   "outputs": [
    {
     "output_type": "stream",
     "name": "stderr",
     "text": [
      "C:\\Users\\Wessware\\AppData\\Local\\Packages\\PythonSoftwareFoundation.Python.3.9_qbz5n2kfra8p0\\LocalCache\\local-packages\\Python39\\site-packages\\seaborn\\distributions.py:2557: FutureWarning: `distplot` is a deprecated function and will be removed in a future version. Please adapt your code to use either `displot` (a figure-level function with similar flexibility) or `histplot` (an axes-level function for histograms).\n  warnings.warn(msg, FutureWarning)\n"
     ]
    },
    {
     "output_type": "execute_result",
     "data": {
      "text/plain": [
       "<AxesSubplot:xlabel='CoapplicantIncome', ylabel='Density'>"
      ]
     },
     "metadata": {},
     "execution_count": 22
    },
    {
     "output_type": "display_data",
     "data": {
      "text/plain": "<Figure size 432x288 with 1 Axes>",
      "image/svg+xml": "<?xml version=\"1.0\" encoding=\"utf-8\" standalone=\"no\"?>\r\n<!DOCTYPE svg PUBLIC \"-//W3C//DTD SVG 1.1//EN\"\r\n  \"http://www.w3.org/Graphics/SVG/1.1/DTD/svg11.dtd\">\r\n<!-- Created with matplotlib (https://matplotlib.org/) -->\r\n<svg height=\"262.19625pt\" version=\"1.1\" viewBox=\"0 0 411.23125 262.19625\" width=\"411.23125pt\" xmlns=\"http://www.w3.org/2000/svg\" xmlns:xlink=\"http://www.w3.org/1999/xlink\">\r\n <metadata>\r\n  <rdf:RDF xmlns:cc=\"http://creativecommons.org/ns#\" xmlns:dc=\"http://purl.org/dc/elements/1.1/\" xmlns:rdf=\"http://www.w3.org/1999/02/22-rdf-syntax-ns#\">\r\n   <cc:Work>\r\n    <dc:type rdf:resource=\"http://purl.org/dc/dcmitype/StillImage\"/>\r\n    <dc:date>2021-07-11T15:55:44.287914</dc:date>\r\n    <dc:format>image/svg+xml</dc:format>\r\n    <dc:creator>\r\n     <cc:Agent>\r\n      <dc:title>Matplotlib v3.3.4, https://matplotlib.org/</dc:title>\r\n     </cc:Agent>\r\n    </dc:creator>\r\n   </cc:Work>\r\n  </rdf:RDF>\r\n </metadata>\r\n <defs>\r\n  <style type=\"text/css\">*{stroke-linecap:butt;stroke-linejoin:round;}</style>\r\n </defs>\r\n <g id=\"figure_1\">\r\n  <g id=\"patch_1\">\r\n   <path d=\"M 0 262.19625 \r\nL 411.23125 262.19625 \r\nL 411.23125 0 \r\nL 0 0 \r\nz\r\n\" style=\"fill:none;\"/>\r\n  </g>\r\n  <g id=\"axes_1\">\r\n   <g id=\"patch_2\">\r\n    <path d=\"M 69.23125 224.64 \r\nL 404.03125 224.64 \r\nL 404.03125 7.2 \r\nL 69.23125 7.2 \r\nz\r\n\" style=\"fill:#ffffff;\"/>\r\n   </g>\r\n   <g id=\"patch_3\">\r\n    <path clip-path=\"url(#p6f365d5258)\" d=\"M 100.351967 224.64 \r\nL 113.979895 224.64 \r\nL 113.979895 17.554286 \r\nL 100.351967 17.554286 \r\nz\r\n\" style=\"fill:#008000;opacity:0.4;stroke:#ffffff;stroke-linejoin:miter;\"/>\r\n   </g>\r\n   <g id=\"patch_4\">\r\n    <path clip-path=\"url(#p6f365d5258)\" d=\"M 113.979895 224.64 \r\nL 127.607824 224.64 \r\nL 127.607824 164.041185 \r\nL 113.979895 164.041185 \r\nz\r\n\" style=\"fill:#008000;opacity:0.4;stroke:#ffffff;stroke-linejoin:miter;\"/>\r\n   </g>\r\n   <g id=\"patch_5\">\r\n    <path clip-path=\"url(#p6f365d5258)\" d=\"M 127.607824 224.64 \r\nL 141.235752 224.64 \r\nL 141.235752 207.462383 \r\nL 127.607824 207.462383 \r\nz\r\n\" style=\"fill:#008000;opacity:0.4;stroke:#ffffff;stroke-linejoin:miter;\"/>\r\n   </g>\r\n   <g id=\"patch_6\">\r\n    <path clip-path=\"url(#p6f365d5258)\" d=\"M 141.235752 224.64 \r\nL 154.86368 224.64 \r\nL 154.86368 219.86844 \r\nL 141.235752 219.86844 \r\nz\r\n\" style=\"fill:#008000;opacity:0.4;stroke:#ffffff;stroke-linejoin:miter;\"/>\r\n   </g>\r\n   <g id=\"patch_7\">\r\n    <path clip-path=\"url(#p6f365d5258)\" d=\"M 154.86368 224.64 \r\nL 168.491609 224.64 \r\nL 168.491609 224.162844 \r\nL 154.86368 224.162844 \r\nz\r\n\" style=\"fill:#008000;opacity:0.4;stroke:#ffffff;stroke-linejoin:miter;\"/>\r\n   </g>\r\n   <g id=\"patch_8\">\r\n    <path clip-path=\"url(#p6f365d5258)\" d=\"M 168.491609 224.64 \r\nL 182.119537 224.64 \r\nL 182.119537 223.685688 \r\nL 168.491609 223.685688 \r\nz\r\n\" style=\"fill:#008000;opacity:0.4;stroke:#ffffff;stroke-linejoin:miter;\"/>\r\n   </g>\r\n   <g id=\"patch_9\">\r\n    <path clip-path=\"url(#p6f365d5258)\" d=\"M 182.119537 224.64 \r\nL 195.747465 224.64 \r\nL 195.747465 224.64 \r\nL 182.119537 224.64 \r\nz\r\n\" style=\"fill:#008000;opacity:0.4;stroke:#ffffff;stroke-linejoin:miter;\"/>\r\n   </g>\r\n   <g id=\"patch_10\">\r\n    <path clip-path=\"url(#p6f365d5258)\" d=\"M 195.747465 224.64 \r\nL 209.375393 224.64 \r\nL 209.375393 224.64 \r\nL 195.747465 224.64 \r\nz\r\n\" style=\"fill:#008000;opacity:0.4;stroke:#ffffff;stroke-linejoin:miter;\"/>\r\n   </g>\r\n   <g id=\"patch_11\">\r\n    <path clip-path=\"url(#p6f365d5258)\" d=\"M 209.375393 224.64 \r\nL 223.003322 224.64 \r\nL 223.003322 224.64 \r\nL 209.375393 224.64 \r\nz\r\n\" style=\"fill:#008000;opacity:0.4;stroke:#ffffff;stroke-linejoin:miter;\"/>\r\n   </g>\r\n   <g id=\"patch_12\">\r\n    <path clip-path=\"url(#p6f365d5258)\" d=\"M 223.003322 224.64 \r\nL 236.63125 224.64 \r\nL 236.63125 223.685688 \r\nL 223.003322 223.685688 \r\nz\r\n\" style=\"fill:#008000;opacity:0.4;stroke:#ffffff;stroke-linejoin:miter;\"/>\r\n   </g>\r\n   <g id=\"patch_13\">\r\n    <path clip-path=\"url(#p6f365d5258)\" d=\"M 236.63125 224.64 \r\nL 250.259178 224.64 \r\nL 250.259178 224.64 \r\nL 236.63125 224.64 \r\nz\r\n\" style=\"fill:#008000;opacity:0.4;stroke:#ffffff;stroke-linejoin:miter;\"/>\r\n   </g>\r\n   <g id=\"patch_14\">\r\n    <path clip-path=\"url(#p6f365d5258)\" d=\"M 250.259178 224.64 \r\nL 263.887107 224.64 \r\nL 263.887107 224.64 \r\nL 250.259178 224.64 \r\nz\r\n\" style=\"fill:#008000;opacity:0.4;stroke:#ffffff;stroke-linejoin:miter;\"/>\r\n   </g>\r\n   <g id=\"patch_15\">\r\n    <path clip-path=\"url(#p6f365d5258)\" d=\"M 263.887107 224.64 \r\nL 277.515035 224.64 \r\nL 277.515035 224.64 \r\nL 263.887107 224.64 \r\nz\r\n\" style=\"fill:#008000;opacity:0.4;stroke:#ffffff;stroke-linejoin:miter;\"/>\r\n   </g>\r\n   <g id=\"patch_16\">\r\n    <path clip-path=\"url(#p6f365d5258)\" d=\"M 277.515035 224.64 \r\nL 291.142963 224.64 \r\nL 291.142963 224.64 \r\nL 277.515035 224.64 \r\nz\r\n\" style=\"fill:#008000;opacity:0.4;stroke:#ffffff;stroke-linejoin:miter;\"/>\r\n   </g>\r\n   <g id=\"patch_17\">\r\n    <path clip-path=\"url(#p6f365d5258)\" d=\"M 291.142963 224.64 \r\nL 304.770891 224.64 \r\nL 304.770891 224.64 \r\nL 291.142963 224.64 \r\nz\r\n\" style=\"fill:#008000;opacity:0.4;stroke:#ffffff;stroke-linejoin:miter;\"/>\r\n   </g>\r\n   <g id=\"patch_18\">\r\n    <path clip-path=\"url(#p6f365d5258)\" d=\"M 304.770891 224.64 \r\nL 318.39882 224.64 \r\nL 318.39882 224.64 \r\nL 304.770891 224.64 \r\nz\r\n\" style=\"fill:#008000;opacity:0.4;stroke:#ffffff;stroke-linejoin:miter;\"/>\r\n   </g>\r\n   <g id=\"patch_19\">\r\n    <path clip-path=\"url(#p6f365d5258)\" d=\"M 318.39882 224.64 \r\nL 332.026748 224.64 \r\nL 332.026748 224.162844 \r\nL 318.39882 224.162844 \r\nz\r\n\" style=\"fill:#008000;opacity:0.4;stroke:#ffffff;stroke-linejoin:miter;\"/>\r\n   </g>\r\n   <g id=\"patch_20\">\r\n    <path clip-path=\"url(#p6f365d5258)\" d=\"M 332.026748 224.64 \r\nL 345.654676 224.64 \r\nL 345.654676 224.64 \r\nL 332.026748 224.64 \r\nz\r\n\" style=\"fill:#008000;opacity:0.4;stroke:#ffffff;stroke-linejoin:miter;\"/>\r\n   </g>\r\n   <g id=\"patch_21\">\r\n    <path clip-path=\"url(#p6f365d5258)\" d=\"M 345.654676 224.64 \r\nL 359.282605 224.64 \r\nL 359.282605 224.64 \r\nL 345.654676 224.64 \r\nz\r\n\" style=\"fill:#008000;opacity:0.4;stroke:#ffffff;stroke-linejoin:miter;\"/>\r\n   </g>\r\n   <g id=\"patch_22\">\r\n    <path clip-path=\"url(#p6f365d5258)\" d=\"M 359.282605 224.64 \r\nL 372.910533 224.64 \r\nL 372.910533 224.162844 \r\nL 359.282605 224.162844 \r\nz\r\n\" style=\"fill:#008000;opacity:0.4;stroke:#ffffff;stroke-linejoin:miter;\"/>\r\n   </g>\r\n   <g id=\"matplotlib.axis_1\">\r\n    <g id=\"xtick_1\">\r\n     <g id=\"line2d_1\">\r\n      <defs>\r\n       <path d=\"M 0 0 \r\nL 0 3.5 \r\n\" id=\"me2fc1b1428\" style=\"stroke:#000000;stroke-width:0.8;\"/>\r\n      </defs>\r\n      <g>\r\n       <use style=\"stroke:#000000;stroke-width:0.8;\" x=\"100.351967\" xlink:href=\"#me2fc1b1428\" y=\"224.64\"/>\r\n      </g>\r\n     </g>\r\n     <g id=\"text_1\">\r\n      <!-- 0 -->\r\n      <g transform=\"translate(97.170717 239.238437)scale(0.1 -0.1)\">\r\n       <defs>\r\n        <path d=\"M 31.78125 66.40625 \r\nQ 24.171875 66.40625 20.328125 58.90625 \r\nQ 16.5 51.421875 16.5 36.375 \r\nQ 16.5 21.390625 20.328125 13.890625 \r\nQ 24.171875 6.390625 31.78125 6.390625 \r\nQ 39.453125 6.390625 43.28125 13.890625 \r\nQ 47.125 21.390625 47.125 36.375 \r\nQ 47.125 51.421875 43.28125 58.90625 \r\nQ 39.453125 66.40625 31.78125 66.40625 \r\nz\r\nM 31.78125 74.21875 \r\nQ 44.046875 74.21875 50.515625 64.515625 \r\nQ 56.984375 54.828125 56.984375 36.375 \r\nQ 56.984375 17.96875 50.515625 8.265625 \r\nQ 44.046875 -1.421875 31.78125 -1.421875 \r\nQ 19.53125 -1.421875 13.0625 8.265625 \r\nQ 6.59375 17.96875 6.59375 36.375 \r\nQ 6.59375 54.828125 13.0625 64.515625 \r\nQ 19.53125 74.21875 31.78125 74.21875 \r\nz\r\n\" id=\"DejaVuSans-48\"/>\r\n       </defs>\r\n       <use xlink:href=\"#DejaVuSans-48\"/>\r\n      </g>\r\n     </g>\r\n    </g>\r\n    <g id=\"xtick_2\">\r\n     <g id=\"line2d_2\">\r\n      <g>\r\n       <use style=\"stroke:#000000;stroke-width:0.8;\" x=\"165.7655\" xlink:href=\"#me2fc1b1428\" y=\"224.64\"/>\r\n      </g>\r\n     </g>\r\n     <g id=\"text_2\">\r\n      <!-- 10000 -->\r\n      <g transform=\"translate(149.85925 239.238437)scale(0.1 -0.1)\">\r\n       <defs>\r\n        <path d=\"M 12.40625 8.296875 \r\nL 28.515625 8.296875 \r\nL 28.515625 63.921875 \r\nL 10.984375 60.40625 \r\nL 10.984375 69.390625 \r\nL 28.421875 72.90625 \r\nL 38.28125 72.90625 \r\nL 38.28125 8.296875 \r\nL 54.390625 8.296875 \r\nL 54.390625 0 \r\nL 12.40625 0 \r\nz\r\n\" id=\"DejaVuSans-49\"/>\r\n       </defs>\r\n       <use xlink:href=\"#DejaVuSans-49\"/>\r\n       <use x=\"63.623047\" xlink:href=\"#DejaVuSans-48\"/>\r\n       <use x=\"127.246094\" xlink:href=\"#DejaVuSans-48\"/>\r\n       <use x=\"190.869141\" xlink:href=\"#DejaVuSans-48\"/>\r\n       <use x=\"254.492188\" xlink:href=\"#DejaVuSans-48\"/>\r\n      </g>\r\n     </g>\r\n    </g>\r\n    <g id=\"xtick_3\">\r\n     <g id=\"line2d_3\">\r\n      <g>\r\n       <use style=\"stroke:#000000;stroke-width:0.8;\" x=\"231.179032\" xlink:href=\"#me2fc1b1428\" y=\"224.64\"/>\r\n      </g>\r\n     </g>\r\n     <g id=\"text_3\">\r\n      <!-- 20000 -->\r\n      <g transform=\"translate(215.272782 239.238437)scale(0.1 -0.1)\">\r\n       <defs>\r\n        <path d=\"M 19.1875 8.296875 \r\nL 53.609375 8.296875 \r\nL 53.609375 0 \r\nL 7.328125 0 \r\nL 7.328125 8.296875 \r\nQ 12.9375 14.109375 22.625 23.890625 \r\nQ 32.328125 33.6875 34.8125 36.53125 \r\nQ 39.546875 41.84375 41.421875 45.53125 \r\nQ 43.3125 49.21875 43.3125 52.78125 \r\nQ 43.3125 58.59375 39.234375 62.25 \r\nQ 35.15625 65.921875 28.609375 65.921875 \r\nQ 23.96875 65.921875 18.8125 64.3125 \r\nQ 13.671875 62.703125 7.8125 59.421875 \r\nL 7.8125 69.390625 \r\nQ 13.765625 71.78125 18.9375 73 \r\nQ 24.125 74.21875 28.421875 74.21875 \r\nQ 39.75 74.21875 46.484375 68.546875 \r\nQ 53.21875 62.890625 53.21875 53.421875 \r\nQ 53.21875 48.921875 51.53125 44.890625 \r\nQ 49.859375 40.875 45.40625 35.40625 \r\nQ 44.1875 33.984375 37.640625 27.21875 \r\nQ 31.109375 20.453125 19.1875 8.296875 \r\nz\r\n\" id=\"DejaVuSans-50\"/>\r\n       </defs>\r\n       <use xlink:href=\"#DejaVuSans-50\"/>\r\n       <use x=\"63.623047\" xlink:href=\"#DejaVuSans-48\"/>\r\n       <use x=\"127.246094\" xlink:href=\"#DejaVuSans-48\"/>\r\n       <use x=\"190.869141\" xlink:href=\"#DejaVuSans-48\"/>\r\n       <use x=\"254.492188\" xlink:href=\"#DejaVuSans-48\"/>\r\n      </g>\r\n     </g>\r\n    </g>\r\n    <g id=\"xtick_4\">\r\n     <g id=\"line2d_4\">\r\n      <g>\r\n       <use style=\"stroke:#000000;stroke-width:0.8;\" x=\"296.592565\" xlink:href=\"#me2fc1b1428\" y=\"224.64\"/>\r\n      </g>\r\n     </g>\r\n     <g id=\"text_4\">\r\n      <!-- 30000 -->\r\n      <g transform=\"translate(280.686315 239.238437)scale(0.1 -0.1)\">\r\n       <defs>\r\n        <path d=\"M 40.578125 39.3125 \r\nQ 47.65625 37.796875 51.625 33 \r\nQ 55.609375 28.21875 55.609375 21.1875 \r\nQ 55.609375 10.40625 48.1875 4.484375 \r\nQ 40.765625 -1.421875 27.09375 -1.421875 \r\nQ 22.515625 -1.421875 17.65625 -0.515625 \r\nQ 12.796875 0.390625 7.625 2.203125 \r\nL 7.625 11.71875 \r\nQ 11.71875 9.328125 16.59375 8.109375 \r\nQ 21.484375 6.890625 26.8125 6.890625 \r\nQ 36.078125 6.890625 40.9375 10.546875 \r\nQ 45.796875 14.203125 45.796875 21.1875 \r\nQ 45.796875 27.640625 41.28125 31.265625 \r\nQ 36.765625 34.90625 28.71875 34.90625 \r\nL 20.21875 34.90625 \r\nL 20.21875 43.015625 \r\nL 29.109375 43.015625 \r\nQ 36.375 43.015625 40.234375 45.921875 \r\nQ 44.09375 48.828125 44.09375 54.296875 \r\nQ 44.09375 59.90625 40.109375 62.90625 \r\nQ 36.140625 65.921875 28.71875 65.921875 \r\nQ 24.65625 65.921875 20.015625 65.03125 \r\nQ 15.375 64.15625 9.8125 62.3125 \r\nL 9.8125 71.09375 \r\nQ 15.4375 72.65625 20.34375 73.4375 \r\nQ 25.25 74.21875 29.59375 74.21875 \r\nQ 40.828125 74.21875 47.359375 69.109375 \r\nQ 53.90625 64.015625 53.90625 55.328125 \r\nQ 53.90625 49.265625 50.4375 45.09375 \r\nQ 46.96875 40.921875 40.578125 39.3125 \r\nz\r\n\" id=\"DejaVuSans-51\"/>\r\n       </defs>\r\n       <use xlink:href=\"#DejaVuSans-51\"/>\r\n       <use x=\"63.623047\" xlink:href=\"#DejaVuSans-48\"/>\r\n       <use x=\"127.246094\" xlink:href=\"#DejaVuSans-48\"/>\r\n       <use x=\"190.869141\" xlink:href=\"#DejaVuSans-48\"/>\r\n       <use x=\"254.492188\" xlink:href=\"#DejaVuSans-48\"/>\r\n      </g>\r\n     </g>\r\n    </g>\r\n    <g id=\"xtick_5\">\r\n     <g id=\"line2d_5\">\r\n      <g>\r\n       <use style=\"stroke:#000000;stroke-width:0.8;\" x=\"362.006097\" xlink:href=\"#me2fc1b1428\" y=\"224.64\"/>\r\n      </g>\r\n     </g>\r\n     <g id=\"text_5\">\r\n      <!-- 40000 -->\r\n      <g transform=\"translate(346.099847 239.238437)scale(0.1 -0.1)\">\r\n       <defs>\r\n        <path d=\"M 37.796875 64.3125 \r\nL 12.890625 25.390625 \r\nL 37.796875 25.390625 \r\nz\r\nM 35.203125 72.90625 \r\nL 47.609375 72.90625 \r\nL 47.609375 25.390625 \r\nL 58.015625 25.390625 \r\nL 58.015625 17.1875 \r\nL 47.609375 17.1875 \r\nL 47.609375 0 \r\nL 37.796875 0 \r\nL 37.796875 17.1875 \r\nL 4.890625 17.1875 \r\nL 4.890625 26.703125 \r\nz\r\n\" id=\"DejaVuSans-52\"/>\r\n       </defs>\r\n       <use xlink:href=\"#DejaVuSans-52\"/>\r\n       <use x=\"63.623047\" xlink:href=\"#DejaVuSans-48\"/>\r\n       <use x=\"127.246094\" xlink:href=\"#DejaVuSans-48\"/>\r\n       <use x=\"190.869141\" xlink:href=\"#DejaVuSans-48\"/>\r\n       <use x=\"254.492188\" xlink:href=\"#DejaVuSans-48\"/>\r\n      </g>\r\n     </g>\r\n    </g>\r\n    <g id=\"text_6\">\r\n     <!-- CoapplicantIncome -->\r\n     <g transform=\"translate(188.548438 252.916562)scale(0.1 -0.1)\">\r\n      <defs>\r\n       <path d=\"M 64.40625 67.28125 \r\nL 64.40625 56.890625 \r\nQ 59.421875 61.53125 53.78125 63.8125 \r\nQ 48.140625 66.109375 41.796875 66.109375 \r\nQ 29.296875 66.109375 22.65625 58.46875 \r\nQ 16.015625 50.828125 16.015625 36.375 \r\nQ 16.015625 21.96875 22.65625 14.328125 \r\nQ 29.296875 6.6875 41.796875 6.6875 \r\nQ 48.140625 6.6875 53.78125 8.984375 \r\nQ 59.421875 11.28125 64.40625 15.921875 \r\nL 64.40625 5.609375 \r\nQ 59.234375 2.09375 53.4375 0.328125 \r\nQ 47.65625 -1.421875 41.21875 -1.421875 \r\nQ 24.65625 -1.421875 15.125 8.703125 \r\nQ 5.609375 18.84375 5.609375 36.375 \r\nQ 5.609375 53.953125 15.125 64.078125 \r\nQ 24.65625 74.21875 41.21875 74.21875 \r\nQ 47.75 74.21875 53.53125 72.484375 \r\nQ 59.328125 70.75 64.40625 67.28125 \r\nz\r\n\" id=\"DejaVuSans-67\"/>\r\n       <path d=\"M 30.609375 48.390625 \r\nQ 23.390625 48.390625 19.1875 42.75 \r\nQ 14.984375 37.109375 14.984375 27.296875 \r\nQ 14.984375 17.484375 19.15625 11.84375 \r\nQ 23.34375 6.203125 30.609375 6.203125 \r\nQ 37.796875 6.203125 41.984375 11.859375 \r\nQ 46.1875 17.53125 46.1875 27.296875 \r\nQ 46.1875 37.015625 41.984375 42.703125 \r\nQ 37.796875 48.390625 30.609375 48.390625 \r\nz\r\nM 30.609375 56 \r\nQ 42.328125 56 49.015625 48.375 \r\nQ 55.71875 40.765625 55.71875 27.296875 \r\nQ 55.71875 13.875 49.015625 6.21875 \r\nQ 42.328125 -1.421875 30.609375 -1.421875 \r\nQ 18.84375 -1.421875 12.171875 6.21875 \r\nQ 5.515625 13.875 5.515625 27.296875 \r\nQ 5.515625 40.765625 12.171875 48.375 \r\nQ 18.84375 56 30.609375 56 \r\nz\r\n\" id=\"DejaVuSans-111\"/>\r\n       <path d=\"M 34.28125 27.484375 \r\nQ 23.390625 27.484375 19.1875 25 \r\nQ 14.984375 22.515625 14.984375 16.5 \r\nQ 14.984375 11.71875 18.140625 8.90625 \r\nQ 21.296875 6.109375 26.703125 6.109375 \r\nQ 34.1875 6.109375 38.703125 11.40625 \r\nQ 43.21875 16.703125 43.21875 25.484375 \r\nL 43.21875 27.484375 \r\nz\r\nM 52.203125 31.203125 \r\nL 52.203125 0 \r\nL 43.21875 0 \r\nL 43.21875 8.296875 \r\nQ 40.140625 3.328125 35.546875 0.953125 \r\nQ 30.953125 -1.421875 24.3125 -1.421875 \r\nQ 15.921875 -1.421875 10.953125 3.296875 \r\nQ 6 8.015625 6 15.921875 \r\nQ 6 25.140625 12.171875 29.828125 \r\nQ 18.359375 34.515625 30.609375 34.515625 \r\nL 43.21875 34.515625 \r\nL 43.21875 35.40625 \r\nQ 43.21875 41.609375 39.140625 45 \r\nQ 35.0625 48.390625 27.6875 48.390625 \r\nQ 23 48.390625 18.546875 47.265625 \r\nQ 14.109375 46.140625 10.015625 43.890625 \r\nL 10.015625 52.203125 \r\nQ 14.9375 54.109375 19.578125 55.046875 \r\nQ 24.21875 56 28.609375 56 \r\nQ 40.484375 56 46.34375 49.84375 \r\nQ 52.203125 43.703125 52.203125 31.203125 \r\nz\r\n\" id=\"DejaVuSans-97\"/>\r\n       <path d=\"M 18.109375 8.203125 \r\nL 18.109375 -20.796875 \r\nL 9.078125 -20.796875 \r\nL 9.078125 54.6875 \r\nL 18.109375 54.6875 \r\nL 18.109375 46.390625 \r\nQ 20.953125 51.265625 25.265625 53.625 \r\nQ 29.59375 56 35.59375 56 \r\nQ 45.5625 56 51.78125 48.09375 \r\nQ 58.015625 40.1875 58.015625 27.296875 \r\nQ 58.015625 14.40625 51.78125 6.484375 \r\nQ 45.5625 -1.421875 35.59375 -1.421875 \r\nQ 29.59375 -1.421875 25.265625 0.953125 \r\nQ 20.953125 3.328125 18.109375 8.203125 \r\nz\r\nM 48.6875 27.296875 \r\nQ 48.6875 37.203125 44.609375 42.84375 \r\nQ 40.53125 48.484375 33.40625 48.484375 \r\nQ 26.265625 48.484375 22.1875 42.84375 \r\nQ 18.109375 37.203125 18.109375 27.296875 \r\nQ 18.109375 17.390625 22.1875 11.75 \r\nQ 26.265625 6.109375 33.40625 6.109375 \r\nQ 40.53125 6.109375 44.609375 11.75 \r\nQ 48.6875 17.390625 48.6875 27.296875 \r\nz\r\n\" id=\"DejaVuSans-112\"/>\r\n       <path d=\"M 9.421875 75.984375 \r\nL 18.40625 75.984375 \r\nL 18.40625 0 \r\nL 9.421875 0 \r\nz\r\n\" id=\"DejaVuSans-108\"/>\r\n       <path d=\"M 9.421875 54.6875 \r\nL 18.40625 54.6875 \r\nL 18.40625 0 \r\nL 9.421875 0 \r\nz\r\nM 9.421875 75.984375 \r\nL 18.40625 75.984375 \r\nL 18.40625 64.59375 \r\nL 9.421875 64.59375 \r\nz\r\n\" id=\"DejaVuSans-105\"/>\r\n       <path d=\"M 48.78125 52.59375 \r\nL 48.78125 44.1875 \r\nQ 44.96875 46.296875 41.140625 47.34375 \r\nQ 37.3125 48.390625 33.40625 48.390625 \r\nQ 24.65625 48.390625 19.8125 42.84375 \r\nQ 14.984375 37.3125 14.984375 27.296875 \r\nQ 14.984375 17.28125 19.8125 11.734375 \r\nQ 24.65625 6.203125 33.40625 6.203125 \r\nQ 37.3125 6.203125 41.140625 7.25 \r\nQ 44.96875 8.296875 48.78125 10.40625 \r\nL 48.78125 2.09375 \r\nQ 45.015625 0.34375 40.984375 -0.53125 \r\nQ 36.96875 -1.421875 32.421875 -1.421875 \r\nQ 20.0625 -1.421875 12.78125 6.34375 \r\nQ 5.515625 14.109375 5.515625 27.296875 \r\nQ 5.515625 40.671875 12.859375 48.328125 \r\nQ 20.21875 56 33.015625 56 \r\nQ 37.15625 56 41.109375 55.140625 \r\nQ 45.0625 54.296875 48.78125 52.59375 \r\nz\r\n\" id=\"DejaVuSans-99\"/>\r\n       <path d=\"M 54.890625 33.015625 \r\nL 54.890625 0 \r\nL 45.90625 0 \r\nL 45.90625 32.71875 \r\nQ 45.90625 40.484375 42.875 44.328125 \r\nQ 39.84375 48.1875 33.796875 48.1875 \r\nQ 26.515625 48.1875 22.3125 43.546875 \r\nQ 18.109375 38.921875 18.109375 30.90625 \r\nL 18.109375 0 \r\nL 9.078125 0 \r\nL 9.078125 54.6875 \r\nL 18.109375 54.6875 \r\nL 18.109375 46.1875 \r\nQ 21.34375 51.125 25.703125 53.5625 \r\nQ 30.078125 56 35.796875 56 \r\nQ 45.21875 56 50.046875 50.171875 \r\nQ 54.890625 44.34375 54.890625 33.015625 \r\nz\r\n\" id=\"DejaVuSans-110\"/>\r\n       <path d=\"M 18.3125 70.21875 \r\nL 18.3125 54.6875 \r\nL 36.8125 54.6875 \r\nL 36.8125 47.703125 \r\nL 18.3125 47.703125 \r\nL 18.3125 18.015625 \r\nQ 18.3125 11.328125 20.140625 9.421875 \r\nQ 21.96875 7.515625 27.59375 7.515625 \r\nL 36.8125 7.515625 \r\nL 36.8125 0 \r\nL 27.59375 0 \r\nQ 17.1875 0 13.234375 3.875 \r\nQ 9.28125 7.765625 9.28125 18.015625 \r\nL 9.28125 47.703125 \r\nL 2.6875 47.703125 \r\nL 2.6875 54.6875 \r\nL 9.28125 54.6875 \r\nL 9.28125 70.21875 \r\nz\r\n\" id=\"DejaVuSans-116\"/>\r\n       <path d=\"M 9.8125 72.90625 \r\nL 19.671875 72.90625 \r\nL 19.671875 0 \r\nL 9.8125 0 \r\nz\r\n\" id=\"DejaVuSans-73\"/>\r\n       <path d=\"M 52 44.1875 \r\nQ 55.375 50.25 60.0625 53.125 \r\nQ 64.75 56 71.09375 56 \r\nQ 79.640625 56 84.28125 50.015625 \r\nQ 88.921875 44.046875 88.921875 33.015625 \r\nL 88.921875 0 \r\nL 79.890625 0 \r\nL 79.890625 32.71875 \r\nQ 79.890625 40.578125 77.09375 44.375 \r\nQ 74.3125 48.1875 68.609375 48.1875 \r\nQ 61.625 48.1875 57.5625 43.546875 \r\nQ 53.515625 38.921875 53.515625 30.90625 \r\nL 53.515625 0 \r\nL 44.484375 0 \r\nL 44.484375 32.71875 \r\nQ 44.484375 40.625 41.703125 44.40625 \r\nQ 38.921875 48.1875 33.109375 48.1875 \r\nQ 26.21875 48.1875 22.15625 43.53125 \r\nQ 18.109375 38.875 18.109375 30.90625 \r\nL 18.109375 0 \r\nL 9.078125 0 \r\nL 9.078125 54.6875 \r\nL 18.109375 54.6875 \r\nL 18.109375 46.1875 \r\nQ 21.1875 51.21875 25.484375 53.609375 \r\nQ 29.78125 56 35.6875 56 \r\nQ 41.65625 56 45.828125 52.96875 \r\nQ 50 49.953125 52 44.1875 \r\nz\r\n\" id=\"DejaVuSans-109\"/>\r\n       <path d=\"M 56.203125 29.59375 \r\nL 56.203125 25.203125 \r\nL 14.890625 25.203125 \r\nQ 15.484375 15.921875 20.484375 11.0625 \r\nQ 25.484375 6.203125 34.421875 6.203125 \r\nQ 39.59375 6.203125 44.453125 7.46875 \r\nQ 49.3125 8.734375 54.109375 11.28125 \r\nL 54.109375 2.78125 \r\nQ 49.265625 0.734375 44.1875 -0.34375 \r\nQ 39.109375 -1.421875 33.890625 -1.421875 \r\nQ 20.796875 -1.421875 13.15625 6.1875 \r\nQ 5.515625 13.8125 5.515625 26.8125 \r\nQ 5.515625 40.234375 12.765625 48.109375 \r\nQ 20.015625 56 32.328125 56 \r\nQ 43.359375 56 49.78125 48.890625 \r\nQ 56.203125 41.796875 56.203125 29.59375 \r\nz\r\nM 47.21875 32.234375 \r\nQ 47.125 39.59375 43.09375 43.984375 \r\nQ 39.0625 48.390625 32.421875 48.390625 \r\nQ 24.90625 48.390625 20.390625 44.140625 \r\nQ 15.875 39.890625 15.1875 32.171875 \r\nz\r\n\" id=\"DejaVuSans-101\"/>\r\n      </defs>\r\n      <use xlink:href=\"#DejaVuSans-67\"/>\r\n      <use x=\"69.824219\" xlink:href=\"#DejaVuSans-111\"/>\r\n      <use x=\"131.005859\" xlink:href=\"#DejaVuSans-97\"/>\r\n      <use x=\"192.285156\" xlink:href=\"#DejaVuSans-112\"/>\r\n      <use x=\"255.761719\" xlink:href=\"#DejaVuSans-112\"/>\r\n      <use x=\"319.238281\" xlink:href=\"#DejaVuSans-108\"/>\r\n      <use x=\"347.021484\" xlink:href=\"#DejaVuSans-105\"/>\r\n      <use x=\"374.804688\" xlink:href=\"#DejaVuSans-99\"/>\r\n      <use x=\"429.785156\" xlink:href=\"#DejaVuSans-97\"/>\r\n      <use x=\"491.064453\" xlink:href=\"#DejaVuSans-110\"/>\r\n      <use x=\"554.443359\" xlink:href=\"#DejaVuSans-116\"/>\r\n      <use x=\"593.652344\" xlink:href=\"#DejaVuSans-73\"/>\r\n      <use x=\"623.144531\" xlink:href=\"#DejaVuSans-110\"/>\r\n      <use x=\"686.523438\" xlink:href=\"#DejaVuSans-99\"/>\r\n      <use x=\"741.503906\" xlink:href=\"#DejaVuSans-111\"/>\r\n      <use x=\"802.685547\" xlink:href=\"#DejaVuSans-109\"/>\r\n      <use x=\"900.097656\" xlink:href=\"#DejaVuSans-101\"/>\r\n     </g>\r\n    </g>\r\n   </g>\r\n   <g id=\"matplotlib.axis_2\">\r\n    <g id=\"ytick_1\">\r\n     <g id=\"line2d_6\">\r\n      <defs>\r\n       <path d=\"M 0 0 \r\nL -3.5 0 \r\n\" id=\"m2a2bcc7564\" style=\"stroke:#000000;stroke-width:0.8;\"/>\r\n      </defs>\r\n      <g>\r\n       <use style=\"stroke:#000000;stroke-width:0.8;\" x=\"69.23125\" xlink:href=\"#m2a2bcc7564\" y=\"224.64\"/>\r\n      </g>\r\n     </g>\r\n     <g id=\"text_7\">\r\n      <!-- 0.00000 -->\r\n      <g transform=\"translate(20.878125 228.439219)scale(0.1 -0.1)\">\r\n       <defs>\r\n        <path d=\"M 10.6875 12.40625 \r\nL 21 12.40625 \r\nL 21 0 \r\nL 10.6875 0 \r\nz\r\n\" id=\"DejaVuSans-46\"/>\r\n       </defs>\r\n       <use xlink:href=\"#DejaVuSans-48\"/>\r\n       <use x=\"63.623047\" xlink:href=\"#DejaVuSans-46\"/>\r\n       <use x=\"95.410156\" xlink:href=\"#DejaVuSans-48\"/>\r\n       <use x=\"159.033203\" xlink:href=\"#DejaVuSans-48\"/>\r\n       <use x=\"222.65625\" xlink:href=\"#DejaVuSans-48\"/>\r\n       <use x=\"286.279297\" xlink:href=\"#DejaVuSans-48\"/>\r\n       <use x=\"349.902344\" xlink:href=\"#DejaVuSans-48\"/>\r\n      </g>\r\n     </g>\r\n    </g>\r\n    <g id=\"ytick_2\">\r\n     <g id=\"line2d_7\">\r\n      <g>\r\n       <use style=\"stroke:#000000;stroke-width:0.8;\" x=\"69.23125\" xlink:href=\"#m2a2bcc7564\" y=\"194.121652\"/>\r\n      </g>\r\n     </g>\r\n     <g id=\"text_8\">\r\n      <!-- 0.00005 -->\r\n      <g transform=\"translate(20.878125 197.920871)scale(0.1 -0.1)\">\r\n       <defs>\r\n        <path d=\"M 10.796875 72.90625 \r\nL 49.515625 72.90625 \r\nL 49.515625 64.59375 \r\nL 19.828125 64.59375 \r\nL 19.828125 46.734375 \r\nQ 21.96875 47.46875 24.109375 47.828125 \r\nQ 26.265625 48.1875 28.421875 48.1875 \r\nQ 40.625 48.1875 47.75 41.5 \r\nQ 54.890625 34.8125 54.890625 23.390625 \r\nQ 54.890625 11.625 47.5625 5.09375 \r\nQ 40.234375 -1.421875 26.90625 -1.421875 \r\nQ 22.3125 -1.421875 17.546875 -0.640625 \r\nQ 12.796875 0.140625 7.71875 1.703125 \r\nL 7.71875 11.625 \r\nQ 12.109375 9.234375 16.796875 8.0625 \r\nQ 21.484375 6.890625 26.703125 6.890625 \r\nQ 35.15625 6.890625 40.078125 11.328125 \r\nQ 45.015625 15.765625 45.015625 23.390625 \r\nQ 45.015625 31 40.078125 35.4375 \r\nQ 35.15625 39.890625 26.703125 39.890625 \r\nQ 22.75 39.890625 18.8125 39.015625 \r\nQ 14.890625 38.140625 10.796875 36.28125 \r\nz\r\n\" id=\"DejaVuSans-53\"/>\r\n       </defs>\r\n       <use xlink:href=\"#DejaVuSans-48\"/>\r\n       <use x=\"63.623047\" xlink:href=\"#DejaVuSans-46\"/>\r\n       <use x=\"95.410156\" xlink:href=\"#DejaVuSans-48\"/>\r\n       <use x=\"159.033203\" xlink:href=\"#DejaVuSans-48\"/>\r\n       <use x=\"222.65625\" xlink:href=\"#DejaVuSans-48\"/>\r\n       <use x=\"286.279297\" xlink:href=\"#DejaVuSans-48\"/>\r\n       <use x=\"349.902344\" xlink:href=\"#DejaVuSans-53\"/>\r\n      </g>\r\n     </g>\r\n    </g>\r\n    <g id=\"ytick_3\">\r\n     <g id=\"line2d_8\">\r\n      <g>\r\n       <use style=\"stroke:#000000;stroke-width:0.8;\" x=\"69.23125\" xlink:href=\"#m2a2bcc7564\" y=\"163.603304\"/>\r\n      </g>\r\n     </g>\r\n     <g id=\"text_9\">\r\n      <!-- 0.00010 -->\r\n      <g transform=\"translate(20.878125 167.402522)scale(0.1 -0.1)\">\r\n       <use xlink:href=\"#DejaVuSans-48\"/>\r\n       <use x=\"63.623047\" xlink:href=\"#DejaVuSans-46\"/>\r\n       <use x=\"95.410156\" xlink:href=\"#DejaVuSans-48\"/>\r\n       <use x=\"159.033203\" xlink:href=\"#DejaVuSans-48\"/>\r\n       <use x=\"222.65625\" xlink:href=\"#DejaVuSans-48\"/>\r\n       <use x=\"286.279297\" xlink:href=\"#DejaVuSans-49\"/>\r\n       <use x=\"349.902344\" xlink:href=\"#DejaVuSans-48\"/>\r\n      </g>\r\n     </g>\r\n    </g>\r\n    <g id=\"ytick_4\">\r\n     <g id=\"line2d_9\">\r\n      <g>\r\n       <use style=\"stroke:#000000;stroke-width:0.8;\" x=\"69.23125\" xlink:href=\"#m2a2bcc7564\" y=\"133.084956\"/>\r\n      </g>\r\n     </g>\r\n     <g id=\"text_10\">\r\n      <!-- 0.00015 -->\r\n      <g transform=\"translate(20.878125 136.884174)scale(0.1 -0.1)\">\r\n       <use xlink:href=\"#DejaVuSans-48\"/>\r\n       <use x=\"63.623047\" xlink:href=\"#DejaVuSans-46\"/>\r\n       <use x=\"95.410156\" xlink:href=\"#DejaVuSans-48\"/>\r\n       <use x=\"159.033203\" xlink:href=\"#DejaVuSans-48\"/>\r\n       <use x=\"222.65625\" xlink:href=\"#DejaVuSans-48\"/>\r\n       <use x=\"286.279297\" xlink:href=\"#DejaVuSans-49\"/>\r\n       <use x=\"349.902344\" xlink:href=\"#DejaVuSans-53\"/>\r\n      </g>\r\n     </g>\r\n    </g>\r\n    <g id=\"ytick_5\">\r\n     <g id=\"line2d_10\">\r\n      <g>\r\n       <use style=\"stroke:#000000;stroke-width:0.8;\" x=\"69.23125\" xlink:href=\"#m2a2bcc7564\" y=\"102.566607\"/>\r\n      </g>\r\n     </g>\r\n     <g id=\"text_11\">\r\n      <!-- 0.00020 -->\r\n      <g transform=\"translate(20.878125 106.365826)scale(0.1 -0.1)\">\r\n       <use xlink:href=\"#DejaVuSans-48\"/>\r\n       <use x=\"63.623047\" xlink:href=\"#DejaVuSans-46\"/>\r\n       <use x=\"95.410156\" xlink:href=\"#DejaVuSans-48\"/>\r\n       <use x=\"159.033203\" xlink:href=\"#DejaVuSans-48\"/>\r\n       <use x=\"222.65625\" xlink:href=\"#DejaVuSans-48\"/>\r\n       <use x=\"286.279297\" xlink:href=\"#DejaVuSans-50\"/>\r\n       <use x=\"349.902344\" xlink:href=\"#DejaVuSans-48\"/>\r\n      </g>\r\n     </g>\r\n    </g>\r\n    <g id=\"ytick_6\">\r\n     <g id=\"line2d_11\">\r\n      <g>\r\n       <use style=\"stroke:#000000;stroke-width:0.8;\" x=\"69.23125\" xlink:href=\"#m2a2bcc7564\" y=\"72.048259\"/>\r\n      </g>\r\n     </g>\r\n     <g id=\"text_12\">\r\n      <!-- 0.00025 -->\r\n      <g transform=\"translate(20.878125 75.847478)scale(0.1 -0.1)\">\r\n       <use xlink:href=\"#DejaVuSans-48\"/>\r\n       <use x=\"63.623047\" xlink:href=\"#DejaVuSans-46\"/>\r\n       <use x=\"95.410156\" xlink:href=\"#DejaVuSans-48\"/>\r\n       <use x=\"159.033203\" xlink:href=\"#DejaVuSans-48\"/>\r\n       <use x=\"222.65625\" xlink:href=\"#DejaVuSans-48\"/>\r\n       <use x=\"286.279297\" xlink:href=\"#DejaVuSans-50\"/>\r\n       <use x=\"349.902344\" xlink:href=\"#DejaVuSans-53\"/>\r\n      </g>\r\n     </g>\r\n    </g>\r\n    <g id=\"ytick_7\">\r\n     <g id=\"line2d_12\">\r\n      <g>\r\n       <use style=\"stroke:#000000;stroke-width:0.8;\" x=\"69.23125\" xlink:href=\"#m2a2bcc7564\" y=\"41.529911\"/>\r\n      </g>\r\n     </g>\r\n     <g id=\"text_13\">\r\n      <!-- 0.00030 -->\r\n      <g transform=\"translate(20.878125 45.32913)scale(0.1 -0.1)\">\r\n       <use xlink:href=\"#DejaVuSans-48\"/>\r\n       <use x=\"63.623047\" xlink:href=\"#DejaVuSans-46\"/>\r\n       <use x=\"95.410156\" xlink:href=\"#DejaVuSans-48\"/>\r\n       <use x=\"159.033203\" xlink:href=\"#DejaVuSans-48\"/>\r\n       <use x=\"222.65625\" xlink:href=\"#DejaVuSans-48\"/>\r\n       <use x=\"286.279297\" xlink:href=\"#DejaVuSans-51\"/>\r\n       <use x=\"349.902344\" xlink:href=\"#DejaVuSans-48\"/>\r\n      </g>\r\n     </g>\r\n    </g>\r\n    <g id=\"ytick_8\">\r\n     <g id=\"line2d_13\">\r\n      <g>\r\n       <use style=\"stroke:#000000;stroke-width:0.8;\" x=\"69.23125\" xlink:href=\"#m2a2bcc7564\" y=\"11.011563\"/>\r\n      </g>\r\n     </g>\r\n     <g id=\"text_14\">\r\n      <!-- 0.00035 -->\r\n      <g transform=\"translate(20.878125 14.810782)scale(0.1 -0.1)\">\r\n       <use xlink:href=\"#DejaVuSans-48\"/>\r\n       <use x=\"63.623047\" xlink:href=\"#DejaVuSans-46\"/>\r\n       <use x=\"95.410156\" xlink:href=\"#DejaVuSans-48\"/>\r\n       <use x=\"159.033203\" xlink:href=\"#DejaVuSans-48\"/>\r\n       <use x=\"222.65625\" xlink:href=\"#DejaVuSans-48\"/>\r\n       <use x=\"286.279297\" xlink:href=\"#DejaVuSans-51\"/>\r\n       <use x=\"349.902344\" xlink:href=\"#DejaVuSans-53\"/>\r\n      </g>\r\n     </g>\r\n    </g>\r\n    <g id=\"text_15\">\r\n     <!-- Density -->\r\n     <g transform=\"translate(14.798437 134.928594)rotate(-90)scale(0.1 -0.1)\">\r\n      <defs>\r\n       <path d=\"M 19.671875 64.796875 \r\nL 19.671875 8.109375 \r\nL 31.59375 8.109375 \r\nQ 46.6875 8.109375 53.6875 14.9375 \r\nQ 60.6875 21.78125 60.6875 36.53125 \r\nQ 60.6875 51.171875 53.6875 57.984375 \r\nQ 46.6875 64.796875 31.59375 64.796875 \r\nz\r\nM 9.8125 72.90625 \r\nL 30.078125 72.90625 \r\nQ 51.265625 72.90625 61.171875 64.09375 \r\nQ 71.09375 55.28125 71.09375 36.53125 \r\nQ 71.09375 17.671875 61.125 8.828125 \r\nQ 51.171875 0 30.078125 0 \r\nL 9.8125 0 \r\nz\r\n\" id=\"DejaVuSans-68\"/>\r\n       <path d=\"M 44.28125 53.078125 \r\nL 44.28125 44.578125 \r\nQ 40.484375 46.53125 36.375 47.5 \r\nQ 32.28125 48.484375 27.875 48.484375 \r\nQ 21.1875 48.484375 17.84375 46.4375 \r\nQ 14.5 44.390625 14.5 40.28125 \r\nQ 14.5 37.15625 16.890625 35.375 \r\nQ 19.28125 33.59375 26.515625 31.984375 \r\nL 29.59375 31.296875 \r\nQ 39.15625 29.25 43.1875 25.515625 \r\nQ 47.21875 21.78125 47.21875 15.09375 \r\nQ 47.21875 7.46875 41.1875 3.015625 \r\nQ 35.15625 -1.421875 24.609375 -1.421875 \r\nQ 20.21875 -1.421875 15.453125 -0.5625 \r\nQ 10.6875 0.296875 5.421875 2 \r\nL 5.421875 11.28125 \r\nQ 10.40625 8.6875 15.234375 7.390625 \r\nQ 20.0625 6.109375 24.8125 6.109375 \r\nQ 31.15625 6.109375 34.5625 8.28125 \r\nQ 37.984375 10.453125 37.984375 14.40625 \r\nQ 37.984375 18.0625 35.515625 20.015625 \r\nQ 33.0625 21.96875 24.703125 23.78125 \r\nL 21.578125 24.515625 \r\nQ 13.234375 26.265625 9.515625 29.90625 \r\nQ 5.8125 33.546875 5.8125 39.890625 \r\nQ 5.8125 47.609375 11.28125 51.796875 \r\nQ 16.75 56 26.8125 56 \r\nQ 31.78125 56 36.171875 55.265625 \r\nQ 40.578125 54.546875 44.28125 53.078125 \r\nz\r\n\" id=\"DejaVuSans-115\"/>\r\n       <path d=\"M 32.171875 -5.078125 \r\nQ 28.375 -14.84375 24.75 -17.8125 \r\nQ 21.140625 -20.796875 15.09375 -20.796875 \r\nL 7.90625 -20.796875 \r\nL 7.90625 -13.28125 \r\nL 13.1875 -13.28125 \r\nQ 16.890625 -13.28125 18.9375 -11.515625 \r\nQ 21 -9.765625 23.484375 -3.21875 \r\nL 25.09375 0.875 \r\nL 2.984375 54.6875 \r\nL 12.5 54.6875 \r\nL 29.59375 11.921875 \r\nL 46.6875 54.6875 \r\nL 56.203125 54.6875 \r\nz\r\n\" id=\"DejaVuSans-121\"/>\r\n      </defs>\r\n      <use xlink:href=\"#DejaVuSans-68\"/>\r\n      <use x=\"77.001953\" xlink:href=\"#DejaVuSans-101\"/>\r\n      <use x=\"138.525391\" xlink:href=\"#DejaVuSans-110\"/>\r\n      <use x=\"201.904297\" xlink:href=\"#DejaVuSans-115\"/>\r\n      <use x=\"254.003906\" xlink:href=\"#DejaVuSans-105\"/>\r\n      <use x=\"281.787109\" xlink:href=\"#DejaVuSans-116\"/>\r\n      <use x=\"320.996094\" xlink:href=\"#DejaVuSans-121\"/>\r\n     </g>\r\n    </g>\r\n   </g>\r\n   <g id=\"line2d_14\">\r\n    <path clip-path=\"url(#p6f365d5258)\" d=\"M 84.449432 223.137626 \r\nL 85.978897 221.209831 \r\nL 87.508363 217.430718 \r\nL 89.037828 210.68965 \r\nL 90.567294 199.779402 \r\nL 92.096759 183.822184 \r\nL 93.626225 162.855808 \r\nL 96.685156 113.204529 \r\nL 98.214621 91.291956 \r\nL 99.744087 76.125088 \r\nL 101.273552 69.641011 \r\nL 102.803018 71.448297 \r\nL 104.332483 79.062674 \r\nL 107.391414 98.279338 \r\nL 108.92088 105.259911 \r\nL 110.450345 110.043513 \r\nL 111.979811 113.864102 \r\nL 113.509276 118.248501 \r\nL 115.038742 124.278183 \r\nL 116.568208 132.245501 \r\nL 119.627139 151.88218 \r\nL 121.156604 161.855689 \r\nL 122.68607 170.989535 \r\nL 124.215535 178.940964 \r\nL 125.745001 185.648502 \r\nL 127.274466 191.237444 \r\nL 128.803932 195.917034 \r\nL 130.333397 199.902102 \r\nL 131.862863 203.368667 \r\nL 133.392328 206.437916 \r\nL 134.921794 209.177381 \r\nL 136.451259 211.609863 \r\nL 137.980725 213.726201 \r\nL 139.51019 215.502172 \r\nL 141.039656 216.919214 \r\nL 142.569121 217.98426 \r\nL 144.098587 218.740751 \r\nL 145.628052 219.265164 \r\nL 154.804845 221.642377 \r\nL 159.393242 223.033577 \r\nL 162.452173 223.665762 \r\nL 165.511104 223.917656 \r\nL 168.570035 223.842791 \r\nL 173.158431 223.665092 \r\nL 176.217362 223.817888 \r\nL 183.86469 224.503255 \r\nL 188.453086 224.622164 \r\nL 206.806673 224.639975 \r\nL 219.042397 224.568817 \r\nL 223.630793 224.284877 \r\nL 229.748655 223.696213 \r\nL 232.807586 223.706339 \r\nL 237.395983 224.147965 \r\nL 241.984379 224.517424 \r\nL 246.572776 224.625565 \r\nL 267.985293 224.64 \r\nL 312.339793 224.536777 \r\nL 323.046051 224.166325 \r\nL 339.870172 224.638633 \r\nL 362.812155 224.560278 \r\nL 375.047879 224.188818 \r\nL 387.283603 224.627607 \r\nL 388.813068 224.634563 \r\nL 388.813068 224.634563 \r\n\" style=\"fill:none;stroke:#008000;stroke-linecap:square;stroke-width:1.5;\"/>\r\n   </g>\r\n   <g id=\"patch_23\">\r\n    <path d=\"M 69.23125 224.64 \r\nL 69.23125 7.2 \r\n\" style=\"fill:none;stroke:#000000;stroke-linecap:square;stroke-linejoin:miter;stroke-width:0.8;\"/>\r\n   </g>\r\n   <g id=\"patch_24\">\r\n    <path d=\"M 404.03125 224.64 \r\nL 404.03125 7.2 \r\n\" style=\"fill:none;stroke:#000000;stroke-linecap:square;stroke-linejoin:miter;stroke-width:0.8;\"/>\r\n   </g>\r\n   <g id=\"patch_25\">\r\n    <path d=\"M 69.23125 224.64 \r\nL 404.03125 224.64 \r\n\" style=\"fill:none;stroke:#000000;stroke-linecap:square;stroke-linejoin:miter;stroke-width:0.8;\"/>\r\n   </g>\r\n   <g id=\"patch_26\">\r\n    <path d=\"M 69.23125 7.2 \r\nL 404.03125 7.2 \r\n\" style=\"fill:none;stroke:#000000;stroke-linecap:square;stroke-linejoin:miter;stroke-width:0.8;\"/>\r\n   </g>\r\n  </g>\r\n </g>\r\n <defs>\r\n  <clipPath id=\"p6f365d5258\">\r\n   <rect height=\"217.44\" width=\"334.8\" x=\"69.23125\" y=\"7.2\"/>\r\n  </clipPath>\r\n </defs>\r\n</svg>\r\n",
      "image/png": "[encoded data removed]"
     },
     "metadata": {
      "needs_background": "light"
     }
    }
   ],
   "source": [
    "sns.distplot(a=loan_data.CoapplicantIncome, color='g',  \n",
    "            hist_kws={\"edgecolor\": 'white'}, bins=20)"
   ]
  },
  {
   "cell_type": "code",
   "execution_count": 38,
   "metadata": {},
   "outputs": [
    {
     "output_type": "display_data",
     "data": {
      "application/vnd.plotly.v1+json": {
       "config": {
        "plotlyServerURL": "https://plot.ly"
       },
       "data": [
        {
         "alignmentgroup": "True",
         "bingroup": "x",
         "hovertemplate": "Gender=1<br>LoanAmount=%{x}<br>count=%{y}<extra></extra>",
         "legendgroup": "1",
         "marker": {
          "color": "green"
         },
         "name": "1",
         "offsetgroup": "1",
         "orientation": "v",
         "showlegend": true,
         "type": "histogram",
         "x": [
          146.41216216216216,
          128,
          66,
          120,
          141,
          267,
          95,
          158,
          168,
          349,
          70,
          109,
          200,
          114,
          17,
          125,
          100,
          133,
          115,
          104,
          315,
          116,
          151,
          191,
          122,
          110,
          35,
          201,
          74,
          106,
          114,
          320,
          146.41216216216216,
          100,
          184,
          110,
          80,
          47,
          75,
          134,
          96,
          44,
          144,
          134,
          97,
          96,
          135,
          180,
          144,
          120,
          99,
          165,
          146.41216216216216,
          258,
          126,
          312,
          125,
          172,
          97,
          81,
          95,
          187,
          113,
          176,
          110,
          180,
          130,
          146.41216216216216,
          265,
          50,
          136,
          99,
          104,
          210,
          175,
          131,
          188,
          81,
          122,
          25,
          146.41216216216216,
          50,
          115,
          131,
          133,
          151,
          146.41216216216216,
          146.41216216216216,
          160,
          100,
          225,
          120,
          216,
          94,
          136,
          152,
          118,
          185,
          85,
          175,
          180,
          81,
          194,
          146.41216216216216,
          160,
          182,
          650,
          74,
          70,
          25,
          102,
          290,
          88,
          242,
          129,
          185,
          168,
          175,
          122,
          187,
          30,
          125,
          118,
          152,
          244,
          113,
          50,
          600,
          160,
          187,
          120,
          255,
          98,
          275,
          121,
          158,
          75,
          182,
          129,
          63,
          200,
          95,
          81,
          187,
          87,
          116,
          101,
          495,
          116,
          102,
          180,
          67,
          73,
          260,
          120,
          66,
          58,
          188,
          48,
          164,
          160,
          76,
          120,
          170,
          187,
          83,
          90,
          166,
          146.41216216216216,
          135,
          124,
          55,
          59,
          127,
          128,
          240,
          130,
          137,
          100,
          135,
          131,
          72,
          60,
          116,
          144,
          175,
          128,
          170,
          138,
          210,
          158,
          200,
          104,
          42,
          120,
          140,
          170,
          255,
          96,
          120,
          140,
          155,
          108,
          123,
          120,
          112,
          137,
          123,
          90,
          201,
          104,
          279,
          192,
          115,
          94,
          304,
          128,
          330,
          134,
          128,
          151,
          150,
          160,
          136,
          126,
          150,
          90,
          115,
          207,
          80,
          436,
          158,
          112,
          78,
          146.41216216216216,
          89,
          120,
          187,
          139,
          127,
          134,
          172,
          110,
          200,
          113,
          93,
          105,
          96,
          140,
          146.41216216216216,
          480,
          185,
          111,
          144,
          111,
          120,
          88,
          155,
          115,
          124,
          146.41216216216216,
          300,
          376,
          130,
          184,
          117,
          98,
          71,
          490,
          70,
          160,
          176,
          173,
          158,
          74,
          125,
          160,
          152,
          126,
          259,
          187,
          228,
          308,
          95,
          165,
          67,
          100,
          200,
          236,
          130,
          95,
          141,
          133,
          96,
          124,
          175,
          570,
          155,
          380,
          111,
          120,
          130,
          130,
          71,
          130,
          128,
          296,
          128,
          100,
          113,
          132,
          146.41216216216216,
          136,
          125,
          185,
          275,
          120,
          113,
          113,
          135,
          95,
          109,
          45,
          65,
          103,
          115,
          152,
          360,
          160,
          218,
          110,
          239,
          112,
          138,
          138,
          100,
          110,
          96,
          121,
          133,
          87,
          60,
          105,
          405,
          143,
          100,
          50,
          146.41216216216216,
          187,
          187,
          180,
          148,
          152,
          175,
          130,
          110,
          55,
          150,
          190,
          125,
          60,
          149,
          90,
          84,
          96,
          118,
          173,
          136,
          160,
          128,
          153,
          98,
          140,
          70,
          110,
          162,
          113,
          100,
          162,
          150,
          230,
          86,
          146.41216216216216,
          113,
          128,
          234,
          246,
          131,
          80,
          500,
          160,
          75,
          96,
          186,
          110,
          119,
          107,
          111,
          95,
          209,
          208,
          138,
          124,
          243,
          480,
          188,
          100,
          250,
          148,
          70,
          311,
          150,
          123,
          185,
          45,
          55,
          100,
          480,
          146.41216216216216,
          400,
          110,
          161,
          94,
          130,
          216,
          100,
          110,
          196,
          126,
          324,
          107,
          66,
          157,
          128,
          155,
          80,
          145,
          110,
          146.41216216216216,
          146.41216216216216,
          158,
          181,
          132,
          26,
          260,
          162,
          108,
          211,
          132,
          258,
          120,
          70,
          123,
          104,
          186,
          165,
          275,
          187,
          150,
          108,
          110,
          107,
          161,
          205,
          90,
          61,
          146,
          172,
          104,
          106,
          56,
          205,
          142,
          260,
          110,
          187,
          88,
          180,
          192,
          155,
          128,
          172,
          146.41216216216216,
          173,
          157,
          108,
          40,
          253,
          187
         ],
         "xaxis": "x",
         "yaxis": "y"
        },
        {
         "alignmentgroup": "True",
         "hovertemplate": "Gender=1<br>LoanAmount=%{x}<extra></extra>",
         "legendgroup": "1",
         "marker": {
          "color": "green"
         },
         "name": "1",
         "notched": true,
         "offsetgroup": "1",
         "showlegend": false,
         "type": "box",
         "x": [
          146.41216216216216,
          128,
          66,
          120,
          141,
          267,
          95,
          158,
          168,
          349,
          70,
          109,
          200,
          114,
          17,
          125,
          100,
          133,
          115,
          104,
          315,
          116,
          151,
          191,
          122,
          110,
          35,
          201,
          74,
          106,
          114,
          320,
          146.41216216216216,
          100,
          184,
          110,
          80,
          47,
          75,
          134,
          96,
          44,
          144,
          134,
          97,
          96,
          135,
          180,
          144,
          120,
          99,
          165,
          146.41216216216216,
          258,
          126,
          312,
          125,
          172,
          97,
          81,
          95,
          187,
          113,
          176,
          110,
          180,
          130,
          146.41216216216216,
          265,
          50,
          136,
          99,
          104,
          210,
          175,
          131,
          188,
          81,
          122,
          25,
          146.41216216216216,
          50,
          115,
          131,
          133,
          151,
          146.41216216216216,
          146.41216216216216,
          160,
          100,
          225,
          120,
          216,
          94,
          136,
          152,
          118,
          185,
          85,
          175,
          180,
          81,
          194,
          146.41216216216216,
          160,
          182,
          650,
          74,
          70,
          25,
          102,
          290,
          88,
          242,
          129,
          185,
          168,
          175,
          122,
          187,
          30,
          125,
          118,
          152,
          244,
          113,
          50,
          600,
          160,
          187,
          120,
          255,
          98,
          275,
          121,
          158,
          75,
          182,
          129,
          63,
          200,
          95,
          81,
          187,
          87,
          116,
          101,
          495,
          116,
          102,
          180,
          67,
          73,
          260,
          120,
          66,
          58,
          188,
          48,
          164,
          160,
          76,
          120,
          170,
          187,
          83,
          90,
          166,
          146.41216216216216,
          135,
          124,
          55,
          59,
          127,
          128,
          240,
          130,
          137,
          100,
          135,
          131,
          72,
          60,
          116,
          144,
          175,
          128,
          170,
          138,
          210,
          158,
          200,
          104,
          42,
          120,
          140,
          170,
          255,
          96,
          120,
          140,
          155,
          108,
          123,
          120,
          112,
          137,
          123,
          90,
          201,
          104,
          279,
          192,
          115,
          94,
          304,
          128,
          330,
          134,
          128,
          151,
          150,
          160,
          136,
          126,
          150,
          90,
          115,
          207,
          80,
          436,
          158,
          112,
          78,
          146.41216216216216,
          89,
          120,
          187,
          139,
          127,
          134,
          172,
          110,
          200,
          113,
          93,
          105,
          96,
          140,
          146.41216216216216,
          480,
          185,
          111,
          144,
          111,
          120,
          88,
          155,
          115,
          124,
          146.41216216216216,
          300,
          376,
          130,
          184,
          117,
          98,
          71,
          490,
          70,
          160,
          176,
          173,
          158,
          74,
          125,
          160,
          152,
          126,
          259,
          187,
          228,
          308,
          95,
          165,
          67,
          100,
          200,
          236,
          130,
          95,
          141,
          133,
          96,
          124,
          175,
          570,
          155,
          380,
          111,
          120,
          130,
          130,
          71,
          130,
          128,
          296,
          128,
          100,
          113,
          132,
          146.41216216216216,
          136,
          125,
          185,
          275,
          120,
          113,
          113,
          135,
          95,
          109,
          45,
          65,
          103,
          115,
          152,
          360,
          160,
          218,
          110,
          239,
          112,
          138,
          138,
          100,
          110,
          96,
          121,
          133,
          87,
          60,
          105,
          405,
          143,
          100,
          50,
          146.41216216216216,
          187,
          187,
          180,
          148,
          152,
          175,
          130,
          110,
          55,
          150,
          190,
          125,
          60,
          149,
          90,
          84,
          96,
          118,
          173,
          136,
          160,
          128,
          153,
          98,
          140,
          70,
          110,
          162,
          113,
          100,
          162,
          150,
          230,
          86,
          146.41216216216216,
          113,
          128,
          234,
          246,
          131,
          80,
          500,
          160,
          75,
          96,
          186,
          110,
          119,
          107,
          111,
          95,
          209,
          208,
          138,
          124,
          243,
          480,
          188,
          100,
          250,
          148,
          70,
          311,
          150,
          123,
          185,
          45,
          55,
          100,
          480,
          146.41216216216216,
          400,
          110,
          161,
          94,
          130,
          216,
          100,
          110,
          196,
          126,
          324,
          107,
          66,
          157,
          128,
          155,
          80,
          145,
          110,
          146.41216216216216,
          146.41216216216216,
          158,
          181,
          132,
          26,
          260,
          162,
          108,
          211,
          132,
          258,
          120,
          70,
          123,
          104,
          186,
          165,
          275,
          187,
          150,
          108,
          110,
          107,
          161,
          205,
          90,
          61,
          146,
          172,
          104,
          106,
          56,
          205,
          142,
          260,
          110,
          187,
          88,
          180,
          192,
          155,
          128,
          172,
          146.41216216216216,
          173,
          157,
          108,
          40,
          253,
          187
         ],
         "xaxis": "x2",
         "yaxis": "y2"
        },
        {
         "alignmentgroup": "True",
         "bingroup": "x",
         "hovertemplate": "Gender=0<br>LoanAmount=%{x}<br>count=%{y}<extra></extra>",
         "legendgroup": "0",
         "marker": {
          "color": "grey"
         },
         "name": "0",
         "offsetgroup": "0",
         "orientation": "v",
         "showlegend": true,
         "type": "histogram",
         "x": [
          76,
          120,
          144,
          88,
          120,
          144,
          100,
          120,
          112,
          286,
          116,
          136,
          111,
          167,
          137,
          139,
          146.41216216216216,
          154,
          259,
          44,
          137,
          93,
          84,
          100,
          70,
          225,
          112,
          108,
          120,
          113,
          120,
          80,
          214,
          127,
          280,
          122,
          112,
          138,
          255,
          155,
          120,
          135,
          90,
          30,
          124,
          54,
          99,
          115,
          143,
          135,
          151,
          132,
          135,
          104,
          84,
          56,
          112,
          132,
          110,
          67,
          146.41216216216216,
          71,
          46,
          105,
          130,
          116,
          81,
          55,
          110,
          156,
          71,
          103,
          53,
          194,
          115,
          66,
          62,
          178,
          60,
          160,
          80,
          81,
          150,
          146.41216216216216,
          138,
          132,
          98,
          93,
          154,
          225,
          105,
          113,
          100,
          40,
          113,
          95,
          125,
          140,
          99,
          95,
          102,
          103,
          84,
          182,
          600,
          9,
          36,
          70,
          350,
          496,
          71,
          133
         ],
         "xaxis": "x",
         "yaxis": "y"
        },
        {
         "alignmentgroup": "True",
         "hovertemplate": "Gender=0<br>LoanAmount=%{x}<extra></extra>",
         "legendgroup": "0",
         "marker": {
          "color": "grey"
         },
         "name": "0",
         "notched": true,
         "offsetgroup": "0",
         "showlegend": false,
         "type": "box",
         "x": [
          76,
          120,
          144,
          88,
          120,
          144,
          100,
          120,
          112,
          286,
          116,
          136,
          111,
          167,
          137,
          139,
          146.41216216216216,
          154,
          259,
          44,
          137,
          93,
          84,
          100,
          70,
          225,
          112,
          108,
          120,
          113,
          120,
          80,
          214,
          127,
          280,
          122,
          112,
          138,
          255,
          155,
          120,
          135,
          90,
          30,
          124,
          54,
          99,
          115,
          143,
          135,
          151,
          132,
          135,
          104,
          84,
          56,
          112,
          132,
          110,
          67,
          146.41216216216216,
          71,
          46,
          105,
          130,
          116,
          81,
          55,
          110,
          156,
          71,
          103,
          53,
          194,
          115,
          66,
          62,
          178,
          60,
          160,
          80,
          81,
          150,
          146.41216216216216,
          138,
          132,
          98,
          93,
          154,
          225,
          105,
          113,
          100,
          40,
          113,
          95,
          125,
          140,
          99,
          95,
          102,
          103,
          84,
          182,
          600,
          9,
          36,
          70,
          350,
          496,
          71,
          133
         ],
         "xaxis": "x2",
         "yaxis": "y2"
        },
        {
         "alignmentgroup": "True",
         "bingroup": "x",
         "hovertemplate": "Gender=2<br>LoanAmount=%{x}<br>count=%{y}<extra></extra>",
         "legendgroup": "2",
         "marker": {
          "color": "red"
         },
         "name": "2",
         "offsetgroup": "2",
         "orientation": "v",
         "showlegend": true,
         "type": "histogram",
         "x": [
          112,
          370,
          700,
          168,
          159,
          182,
          160,
          110,
          132,
          96,
          136,
          94,
          292
         ],
         "xaxis": "x",
         "yaxis": "y"
        },
        {
         "alignmentgroup": "True",
         "hovertemplate": "Gender=2<br>LoanAmount=%{x}<extra></extra>",
         "legendgroup": "2",
         "marker": {
          "color": "red"
         },
         "name": "2",
         "notched": true,
         "offsetgroup": "2",
         "showlegend": false,
         "type": "box",
         "x": [
          112,
          370,
          700,
          168,
          159,
          182,
          160,
          110,
          132,
          96,
          136,
          94,
          292
         ],
         "xaxis": "x2",
         "yaxis": "y2"
        }
       ],
       "layout": {
        "bargap": 0.1,
        "barmode": "relative",
        "legend": {
         "title": {
          "text": "Gender"
         },
         "tracegroupgap": 0
        },
        "template": {
         "data": {
          "bar": [
           {
            "error_x": {
             "color": "#2a3f5f"
            },
            "error_y": {
             "color": "#2a3f5f"
            },
            "marker": {
             "line": {
              "color": "#E5ECF6",
              "width": 0.5
             }
            },
            "type": "bar"
           }
          ],
          "barpolar": [
           {
            "marker": {
             "line": {
              "color": "#E5ECF6",
              "width": 0.5
             }
            },
            "type": "barpolar"
           }
          ],
          "carpet": [
           {
            "aaxis": {
             "endlinecolor": "#2a3f5f",
             "gridcolor": "white",
             "linecolor": "white",
             "minorgridcolor": "white",
             "startlinecolor": "#2a3f5f"
            },
            "baxis": {
             "endlinecolor": "#2a3f5f",
             "gridcolor": "white",
             "linecolor": "white",
             "minorgridcolor": "white",
             "startlinecolor": "#2a3f5f"
            },
            "type": "carpet"
           }
          ],
          "choropleth": [
           {
            "colorbar": {
             "outlinewidth": 0,
             "ticks": ""
            },
            "type": "choropleth"
           }
          ],
          "contour": [
           {
            "colorbar": {
             "outlinewidth": 0,
             "ticks": ""
            },
            "colorscale": [
             [
              0,
              "#0d0887"
             ],
             [
              0.1111111111111111,
              "#46039f"
             ],
             [
              0.2222222222222222,
              "#7201a8"
             ],
             [
              0.3333333333333333,
              "#9c179e"
             ],
             [
              0.4444444444444444,
              "#bd3786"
             ],
             [
              0.5555555555555556,
              "#d8576b"
             ],
             [
              0.6666666666666666,
              "#ed7953"
             ],
             [
              0.7777777777777778,
              "#fb9f3a"
             ],
             [
              0.8888888888888888,
              "#fdca26"
             ],
             [
              1,
              "#f0f921"
             ]
            ],
            "type": "contour"
           }
          ],
          "contourcarpet": [
           {
            "colorbar": {
             "outlinewidth": 0,
             "ticks": ""
            },
            "type": "contourcarpet"
           }
          ],
          "heatmap": [
           {
            "colorbar": {
             "outlinewidth": 0,
             "ticks": ""
            },
            "colorscale": [
             [
              0,
              "#0d0887"
             ],
             [
              0.1111111111111111,
              "#46039f"
             ],
             [
              0.2222222222222222,
              "#7201a8"
             ],
             [
              0.3333333333333333,
              "#9c179e"
             ],
             [
              0.4444444444444444,
              "#bd3786"
             ],
             [
              0.5555555555555556,
              "#d8576b"
             ],
             [
              0.6666666666666666,
              "#ed7953"
             ],
             [
              0.7777777777777778,
              "#fb9f3a"
             ],
             [
              0.8888888888888888,
              "#fdca26"
             ],
             [
              1,
              "#f0f921"
             ]
            ],
            "type": "heatmap"
           }
          ],
          "heatmapgl": [
           {
            "colorbar": {
             "outlinewidth": 0,
             "ticks": ""
            },
            "colorscale": [
             [
              0,
              "#0d0887"
             ],
             [
              0.1111111111111111,
              "#46039f"
             ],
             [
              0.2222222222222222,
              "#7201a8"
             ],
             [
              0.3333333333333333,
              "#9c179e"
             ],
             [
              0.4444444444444444,
              "#bd3786"
             ],
             [
              0.5555555555555556,
              "#d8576b"
             ],
             [
              0.6666666666666666,
              "#ed7953"
             ],
             [
              0.7777777777777778,
              "#fb9f3a"
             ],
             [
              0.8888888888888888,
              "#fdca26"
             ],
             [
              1,
              "#f0f921"
             ]
            ],
            "type": "heatmapgl"
           }
          ],
          "histogram": [
           {
            "marker": {
             "colorbar": {
              "outlinewidth": 0,
              "ticks": ""
             }
            },
            "type": "histogram"
           }
          ],
          "histogram2d": [
           {
            "colorbar": {
             "outlinewidth": 0,
             "ticks": ""
            },
            "colorscale": [
             [
              0,
              "#0d0887"
             ],
             [
              0.1111111111111111,
              "#46039f"
             ],
             [
              0.2222222222222222,
              "#7201a8"
             ],
             [
              0.3333333333333333,
              "#9c179e"
             ],
             [
              0.4444444444444444,
              "#bd3786"
             ],
             [
              0.5555555555555556,
              "#d8576b"
             ],
             [
              0.6666666666666666,
              "#ed7953"
             ],
             [
              0.7777777777777778,
              "#fb9f3a"
             ],
             [
              0.8888888888888888,
              "#fdca26"
             ],
             [
              1,
              "#f0f921"
             ]
            ],
            "type": "histogram2d"
           }
          ],
          "histogram2dcontour": [
           {
            "colorbar": {
             "outlinewidth": 0,
             "ticks": ""
            },
            "colorscale": [
             [
              0,
              "#0d0887"
             ],
             [
              0.1111111111111111,
              "#46039f"
             ],
             [
              0.2222222222222222,
              "#7201a8"
             ],
             [
              0.3333333333333333,
              "#9c179e"
             ],
             [
              0.4444444444444444,
              "#bd3786"
             ],
             [
              0.5555555555555556,
              "#d8576b"
             ],
             [
              0.6666666666666666,
              "#ed7953"
             ],
             [
              0.7777777777777778,
              "#fb9f3a"
             ],
             [
              0.8888888888888888,
              "#fdca26"
             ],
             [
              1,
              "#f0f921"
             ]
            ],
            "type": "histogram2dcontour"
           }
          ],
          "mesh3d": [
           {
            "colorbar": {
             "outlinewidth": 0,
             "ticks": ""
            },
            "type": "mesh3d"
           }
          ],
          "parcoords": [
           {
            "line": {
             "colorbar": {
              "outlinewidth": 0,
              "ticks": ""
             }
            },
            "type": "parcoords"
           }
          ],
          "pie": [
           {
            "automargin": true,
            "type": "pie"
           }
          ],
          "scatter": [
           {
            "marker": {
             "colorbar": {
              "outlinewidth": 0,
              "ticks": ""
             }
            },
            "type": "scatter"
           }
          ],
          "scatter3d": [
           {
            "line": {
             "colorbar": {
              "outlinewidth": 0,
              "ticks": ""
             }
            },
            "marker": {
             "colorbar": {
              "outlinewidth": 0,
              "ticks": ""
             }
            },
            "type": "scatter3d"
           }
          ],
          "scattercarpet": [
           {
            "marker": {
             "colorbar": {
              "outlinewidth": 0,
              "ticks": ""
             }
            },
            "type": "scattercarpet"
           }
          ],
          "scattergeo": [
           {
            "marker": {
             "colorbar": {
              "outlinewidth": 0,
              "ticks": ""
             }
            },
            "type": "scattergeo"
           }
          ],
          "scattergl": [
           {
            "marker": {
             "colorbar": {
              "outlinewidth": 0,
              "ticks": ""
             }
            },
            "type": "scattergl"
           }
          ],
          "scattermapbox": [
           {
            "marker": {
             "colorbar": {
              "outlinewidth": 0,
              "ticks": ""
             }
            },
            "type": "scattermapbox"
           }
          ],
          "scatterpolar": [
           {
            "marker": {
             "colorbar": {
              "outlinewidth": 0,
              "ticks": ""
             }
            },
            "type": "scatterpolar"
           }
          ],
          "scatterpolargl": [
           {
            "marker": {
             "colorbar": {
              "outlinewidth": 0,
              "ticks": ""
             }
            },
            "type": "scatterpolargl"
           }
          ],
          "scatterternary": [
           {
            "marker": {
             "colorbar": {
              "outlinewidth": 0,
              "ticks": ""
             }
            },
            "type": "scatterternary"
           }
          ],
          "surface": [
           {
            "colorbar": {
             "outlinewidth": 0,
             "ticks": ""
            },
            "colorscale": [
             [
              0,
              "#0d0887"
             ],
             [
              0.1111111111111111,
              "#46039f"
             ],
             [
              0.2222222222222222,
              "#7201a8"
             ],
             [
              0.3333333333333333,
              "#9c179e"
             ],
             [
              0.4444444444444444,
              "#bd3786"
             ],
             [
              0.5555555555555556,
              "#d8576b"
             ],
             [
              0.6666666666666666,
              "#ed7953"
             ],
             [
              0.7777777777777778,
              "#fb9f3a"
             ],
             [
              0.8888888888888888,
              "#fdca26"
             ],
             [
              1,
              "#f0f921"
             ]
            ],
            "type": "surface"
           }
          ],
          "table": [
           {
            "cells": {
             "fill": {
              "color": "#EBF0F8"
             },
             "line": {
              "color": "white"
             }
            },
            "header": {
             "fill": {
              "color": "#C8D4E3"
             },
             "line": {
              "color": "white"
             }
            },
            "type": "table"
           }
          ]
         },
         "layout": {
          "annotationdefaults": {
           "arrowcolor": "#2a3f5f",
           "arrowhead": 0,
           "arrowwidth": 1
          },
          "autotypenumbers": "strict",
          "coloraxis": {
           "colorbar": {
            "outlinewidth": 0,
            "ticks": ""
           }
          },
          "colorscale": {
           "diverging": [
            [
             0,
             "#8e0152"
            ],
            [
             0.1,
             "#c51b7d"
            ],
            [
             0.2,
             "#de77ae"
            ],
            [
             0.3,
             "#f1b6da"
            ],
            [
             0.4,
             "#fde0ef"
            ],
            [
             0.5,
             "#f7f7f7"
            ],
            [
             0.6,
             "#e6f5d0"
            ],
            [
             0.7,
             "#b8e186"
            ],
            [
             0.8,
             "#7fbc41"
            ],
            [
             0.9,
             "#4d9221"
            ],
            [
             1,
             "#276419"
            ]
           ],
           "sequential": [
            [
             0,
             "#0d0887"
            ],
            [
             0.1111111111111111,
             "#46039f"
            ],
            [
             0.2222222222222222,
             "#7201a8"
            ],
            [
             0.3333333333333333,
             "#9c179e"
            ],
            [
             0.4444444444444444,
             "#bd3786"
            ],
            [
             0.5555555555555556,
             "#d8576b"
            ],
            [
             0.6666666666666666,
             "#ed7953"
            ],
            [
             0.7777777777777778,
             "#fb9f3a"
            ],
            [
             0.8888888888888888,
             "#fdca26"
            ],
            [
             1,
             "#f0f921"
            ]
           ],
           "sequentialminus": [
            [
             0,
             "#0d0887"
            ],
            [
             0.1111111111111111,
             "#46039f"
            ],
            [
             0.2222222222222222,
             "#7201a8"
            ],
            [
             0.3333333333333333,
             "#9c179e"
            ],
            [
             0.4444444444444444,
             "#bd3786"
            ],
            [
             0.5555555555555556,
             "#d8576b"
            ],
            [
             0.6666666666666666,
             "#ed7953"
            ],
            [
             0.7777777777777778,
             "#fb9f3a"
            ],
            [
             0.8888888888888888,
             "#fdca26"
            ],
            [
             1,
             "#f0f921"
            ]
           ]
          },
          "colorway": [
           "#636efa",
           "#EF553B",
           "#00cc96",
           "#ab63fa",
           "#FFA15A",
           "#19d3f3",
           "#FF6692",
           "#B6E880",
           "#FF97FF",
           "#FECB52"
          ],
          "font": {
           "color": "#2a3f5f"
          },
          "geo": {
           "bgcolor": "white",
           "lakecolor": "white",
           "landcolor": "#E5ECF6",
           "showlakes": true,
           "showland": true,
           "subunitcolor": "white"
          },
          "hoverlabel": {
           "align": "left"
          },
          "hovermode": "closest",
          "mapbox": {
           "style": "light"
          },
          "paper_bgcolor": "white",
          "plot_bgcolor": "#E5ECF6",
          "polar": {
           "angularaxis": {
            "gridcolor": "white",
            "linecolor": "white",
            "ticks": ""
           },
           "bgcolor": "#E5ECF6",
           "radialaxis": {
            "gridcolor": "white",
            "linecolor": "white",
            "ticks": ""
           }
          },
          "scene": {
           "xaxis": {
            "backgroundcolor": "#E5ECF6",
            "gridcolor": "white",
            "gridwidth": 2,
            "linecolor": "white",
            "showbackground": true,
            "ticks": "",
            "zerolinecolor": "white"
           },
           "yaxis": {
            "backgroundcolor": "#E5ECF6",
            "gridcolor": "white",
            "gridwidth": 2,
            "linecolor": "white",
            "showbackground": true,
            "ticks": "",
            "zerolinecolor": "white"
           },
           "zaxis": {
            "backgroundcolor": "#E5ECF6",
            "gridcolor": "white",
            "gridwidth": 2,
            "linecolor": "white",
            "showbackground": true,
            "ticks": "",
            "zerolinecolor": "white"
           }
          },
          "shapedefaults": {
           "line": {
            "color": "#2a3f5f"
           }
          },
          "ternary": {
           "aaxis": {
            "gridcolor": "white",
            "linecolor": "white",
            "ticks": ""
           },
           "baxis": {
            "gridcolor": "white",
            "linecolor": "white",
            "ticks": ""
           },
           "bgcolor": "#E5ECF6",
           "caxis": {
            "gridcolor": "white",
            "linecolor": "white",
            "ticks": ""
           }
          },
          "title": {
           "x": 0.05
          },
          "xaxis": {
           "automargin": true,
           "gridcolor": "white",
           "linecolor": "white",
           "ticks": "",
           "title": {
            "standoff": 15
           },
           "zerolinecolor": "white",
           "zerolinewidth": 2
          },
          "yaxis": {
           "automargin": true,
           "gridcolor": "white",
           "linecolor": "white",
           "ticks": "",
           "title": {
            "standoff": 15
           },
           "zerolinecolor": "white",
           "zerolinewidth": 2
          }
         }
        },
        "title": {
         "text": "Loan Amount in Relation to Gender"
        },
        "xaxis": {
         "anchor": "y",
         "domain": [
          0,
          1
         ],
         "title": {
          "text": "LoanAmount"
         }
        },
        "xaxis2": {
         "anchor": "y2",
         "domain": [
          0,
          1
         ],
         "matches": "x",
         "showgrid": true,
         "showticklabels": false
        },
        "yaxis": {
         "anchor": "x",
         "domain": [
          0,
          0.7326
         ],
         "title": {
          "text": "count"
         }
        },
        "yaxis2": {
         "anchor": "x2",
         "domain": [
          0.7426,
          1
         ],
         "matches": "y2",
         "showgrid": false,
         "showline": false,
         "showticklabels": false,
         "ticks": ""
        }
       }
      }
     },
     "metadata": {}
    }
   ],
   "source": [
    "fig = px.histogram(loan_data, x='LoanAmount', marginal='box', color='Gender', color_discrete_sequence=['green', 'grey', 'red'], title='Loan Amount in Relation to Gender')\n",
    "fig.update_layout(bargap=0.1)\n",
    "fig.show()"
   ]
  },
  {
   "cell_type": "code",
   "execution_count": 40,
   "metadata": {},
   "outputs": [
    {
     "output_type": "display_data",
     "data": {
      "application/vnd.plotly.v1+json": {
       "config": {
        "plotlyServerURL": "https://plot.ly"
       },
       "data": [
        {
         "alignmentgroup": "True",
         "bingroup": "x",
         "hovertemplate": "Dependents=0.0<br>LoanAmount=%{x}<br>count=%{y}<extra></extra>",
         "legendgroup": "0.0",
         "marker": {
          "color": "green"
         },
         "name": "0.0",
         "offsetgroup": "0.0",
         "orientation": "v",
         "showlegend": true,
         "type": "histogram",
         "x": [
          146.41216216216216,
          66,
          120,
          141,
          95,
          114,
          125,
          76,
          133,
          115,
          104,
          116,
          191,
          122,
          35,
          74,
          114,
          146.41216216216216,
          100,
          144,
          184,
          110,
          80,
          47,
          75,
          134,
          96,
          88,
          144,
          120,
          144,
          100,
          120,
          112,
          96,
          135,
          120,
          165,
          116,
          258,
          126,
          136,
          172,
          81,
          113,
          176,
          111,
          265,
          136,
          104,
          210,
          175,
          131,
          122,
          25,
          146.41216216216216,
          137,
          50,
          115,
          131,
          151,
          146.41216216216216,
          146.41216216216216,
          160,
          120,
          136,
          139,
          152,
          118,
          154,
          175,
          259,
          180,
          44,
          137,
          194,
          93,
          146.41216216216216,
          182,
          650,
          74,
          70,
          25,
          102,
          84,
          242,
          168,
          175,
          122,
          100,
          225,
          125,
          118,
          152,
          244,
          50,
          120,
          255,
          98,
          275,
          75,
          182,
          112,
          129,
          63,
          95,
          187,
          87,
          116,
          102,
          67,
          73,
          108,
          120,
          58,
          168,
          188,
          48,
          164,
          160,
          76,
          120,
          187,
          120,
          113,
          83,
          120,
          80,
          55,
          59,
          127,
          214,
          137,
          135,
          131,
          60,
          144,
          175,
          128,
          170,
          138,
          158,
          200,
          42,
          120,
          280,
          255,
          122,
          155,
          123,
          120,
          90,
          201,
          104,
          192,
          115,
          304,
          134,
          120,
          128,
          151,
          135,
          30,
          136,
          126,
          150,
          207,
          80,
          436,
          124,
          112,
          54,
          146.41216216216216,
          89,
          99,
          120,
          115,
          187,
          139,
          143,
          172,
          151,
          93,
          105,
          132,
          140,
          146.41216216216216,
          135,
          104,
          480,
          84,
          111,
          56,
          159,
          88,
          115,
          132,
          130,
          184,
          110,
          67,
          98,
          71,
          490,
          70,
          71,
          46,
          160,
          152,
          259,
          187,
          228,
          308,
          105,
          130,
          116,
          100,
          130,
          95,
          141,
          133,
          96,
          124,
          570,
          55,
          110,
          120,
          130,
          71,
          128,
          296,
          156,
          128,
          132,
          146.41216216216216,
          136,
          125,
          120,
          71,
          95,
          109,
          103,
          65,
          103,
          53,
          194,
          115,
          115,
          66,
          160,
          218,
          110,
          178,
          60,
          112,
          138,
          138,
          80,
          100,
          96,
          121,
          87,
          60,
          105,
          405,
          143,
          100,
          146.41216216216216,
          50,
          146.41216216216216,
          187,
          138,
          187,
          180,
          175,
          55,
          149,
          90,
          84,
          118,
          173,
          160,
          160,
          153,
          98,
          140,
          110,
          110,
          93,
          154,
          128,
          234,
          75,
          96,
          110,
          225,
          119,
          107,
          111,
          209,
          113,
          100,
          124,
          480,
          96,
          188,
          100,
          70,
          311,
          123,
          185,
          95,
          55,
          146.41216216216216,
          110,
          130,
          216,
          125,
          126,
          324,
          66,
          99,
          102,
          155,
          80,
          145,
          103,
          110,
          181,
          132,
          84,
          162,
          182,
          211,
          132,
          120,
          70,
          9,
          104,
          165,
          136,
          110,
          161,
          90,
          36,
          104,
          70,
          94,
          56,
          142,
          260,
          110,
          88,
          180,
          155,
          172,
          146.41216216216216,
          108,
          71,
          133
         ],
         "xaxis": "x",
         "yaxis": "y"
        },
        {
         "alignmentgroup": "True",
         "hovertemplate": "Dependents=0.0<br>LoanAmount=%{x}<extra></extra>",
         "legendgroup": "0.0",
         "marker": {
          "color": "green"
         },
         "name": "0.0",
         "notched": true,
         "offsetgroup": "0.0",
         "showlegend": false,
         "type": "box",
         "x": [
          146.41216216216216,
          66,
          120,
          141,
          95,
          114,
          125,
          76,
          133,
          115,
          104,
          116,
          191,
          122,
          35,
          74,
          114,
          146.41216216216216,
          100,
          144,
          184,
          110,
          80,
          47,
          75,
          134,
          96,
          88,
          144,
          120,
          144,
          100,
          120,
          112,
          96,
          135,
          120,
          165,
          116,
          258,
          126,
          136,
          172,
          81,
          113,
          176,
          111,
          265,
          136,
          104,
          210,
          175,
          131,
          122,
          25,
          146.41216216216216,
          137,
          50,
          115,
          131,
          151,
          146.41216216216216,
          146.41216216216216,
          160,
          120,
          136,
          139,
          152,
          118,
          154,
          175,
          259,
          180,
          44,
          137,
          194,
          93,
          146.41216216216216,
          182,
          650,
          74,
          70,
          25,
          102,
          84,
          242,
          168,
          175,
          122,
          100,
          225,
          125,
          118,
          152,
          244,
          50,
          120,
          255,
          98,
          275,
          75,
          182,
          112,
          129,
          63,
          95,
          187,
          87,
          116,
          102,
          67,
          73,
          108,
          120,
          58,
          168,
          188,
          48,
          164,
          160,
          76,
          120,
          187,
          120,
          113,
          83,
          120,
          80,
          55,
          59,
          127,
          214,
          137,
          135,
          131,
          60,
          144,
          175,
          128,
          170,
          138,
          158,
          200,
          42,
          120,
          280,
          255,
          122,
          155,
          123,
          120,
          90,
          201,
          104,
          192,
          115,
          304,
          134,
          120,
          128,
          151,
          135,
          30,
          136,
          126,
          150,
          207,
          80,
          436,
          124,
          112,
          54,
          146.41216216216216,
          89,
          99,
          120,
          115,
          187,
          139,
          143,
          172,
          151,
          93,
          105,
          132,
          140,
          146.41216216216216,
          135,
          104,
          480,
          84,
          111,
          56,
          159,
          88,
          115,
          132,
          130,
          184,
          110,
          67,
          98,
          71,
          490,
          70,
          71,
          46,
          160,
          152,
          259,
          187,
          228,
          308,
          105,
          130,
          116,
          100,
          130,
          95,
          141,
          133,
          96,
          124,
          570,
          55,
          110,
          120,
          130,
          71,
          128,
          296,
          156,
          128,
          132,
          146.41216216216216,
          136,
          125,
          120,
          71,
          95,
          109,
          103,
          65,
          103,
          53,
          194,
          115,
          115,
          66,
          160,
          218,
          110,
          178,
          60,
          112,
          138,
          138,
          80,
          100,
          96,
          121,
          87,
          60,
          105,
          405,
          143,
          100,
          146.41216216216216,
          50,
          146.41216216216216,
          187,
          138,
          187,
          180,
          175,
          55,
          149,
          90,
          84,
          118,
          173,
          160,
          160,
          153,
          98,
          140,
          110,
          110,
          93,
          154,
          128,
          234,
          75,
          96,
          110,
          225,
          119,
          107,
          111,
          209,
          113,
          100,
          124,
          480,
          96,
          188,
          100,
          70,
          311,
          123,
          185,
          95,
          55,
          146.41216216216216,
          110,
          130,
          216,
          125,
          126,
          324,
          66,
          99,
          102,
          155,
          80,
          145,
          103,
          110,
          181,
          132,
          84,
          162,
          182,
          211,
          132,
          120,
          70,
          9,
          104,
          165,
          136,
          110,
          161,
          90,
          36,
          104,
          70,
          94,
          56,
          142,
          260,
          110,
          88,
          180,
          155,
          172,
          146.41216216216216,
          108,
          71,
          133
         ],
         "xaxis": "x2",
         "yaxis": "y2"
        },
        {
         "alignmentgroup": "True",
         "bingroup": "x",
         "hovertemplate": "Dependents=1.0<br>LoanAmount=%{x}<br>count=%{y}<extra></extra>",
         "legendgroup": "1.0",
         "marker": {
          "color": "grey"
         },
         "name": "1.0",
         "offsetgroup": "1.0",
         "orientation": "v",
         "showlegend": true,
         "type": "histogram",
         "x": [
          128,
          349,
          100,
          315,
          151,
          201,
          106,
          44,
          286,
          180,
          146.41216216216216,
          312,
          110,
          146.41216216216216,
          50,
          100,
          146.41216216216216,
          185,
          85,
          160,
          30,
          160,
          187,
          121,
          116,
          180,
          260,
          66,
          170,
          90,
          135,
          240,
          104,
          140,
          170,
          112,
          96,
          140,
          137,
          123,
          279,
          330,
          155,
          90,
          115,
          158,
          200,
          135,
          113,
          96,
          111,
          112,
          155,
          376,
          117,
          182,
          160,
          158,
          67,
          81,
          175,
          111,
          113,
          152,
          62,
          160,
          110,
          81,
          150,
          152,
          130,
          190,
          132,
          162,
          113,
          86,
          131,
          500,
          186,
          105,
          95,
          138,
          40,
          250,
          161,
          94,
          196,
          140,
          95,
          128,
          146.41216216216216,
          158,
          26,
          600,
          186,
          107,
          61,
          146,
          172,
          496,
          173,
          253
         ],
         "xaxis": "x",
         "yaxis": "y"
        },
        {
         "alignmentgroup": "True",
         "hovertemplate": "Dependents=1.0<br>LoanAmount=%{x}<extra></extra>",
         "legendgroup": "1.0",
         "marker": {
          "color": "grey"
         },
         "name": "1.0",
         "notched": true,
         "offsetgroup": "1.0",
         "showlegend": false,
         "type": "box",
         "x": [
          128,
          349,
          100,
          315,
          151,
          201,
          106,
          44,
          286,
          180,
          146.41216216216216,
          312,
          110,
          146.41216216216216,
          50,
          100,
          146.41216216216216,
          185,
          85,
          160,
          30,
          160,
          187,
          121,
          116,
          180,
          260,
          66,
          170,
          90,
          135,
          240,
          104,
          140,
          170,
          112,
          96,
          140,
          137,
          123,
          279,
          330,
          155,
          90,
          115,
          158,
          200,
          135,
          113,
          96,
          111,
          112,
          155,
          376,
          117,
          182,
          160,
          158,
          67,
          81,
          175,
          111,
          113,
          152,
          62,
          160,
          110,
          81,
          150,
          152,
          130,
          190,
          132,
          162,
          113,
          86,
          131,
          500,
          186,
          105,
          95,
          138,
          40,
          250,
          161,
          94,
          196,
          140,
          95,
          128,
          146.41216216216216,
          158,
          26,
          600,
          186,
          107,
          61,
          146,
          172,
          496,
          173,
          253
         ],
         "xaxis": "x2",
         "yaxis": "y2"
        },
        {
         "alignmentgroup": "True",
         "bingroup": "x",
         "hovertemplate": "Dependents=2.0<br>LoanAmount=%{x}<br>count=%{y}<extra></extra>",
         "legendgroup": "2.0",
         "marker": {
          "color": "red"
         },
         "name": "2.0",
         "offsetgroup": "2.0",
         "orientation": "v",
         "showlegend": true,
         "type": "histogram",
         "x": [
          267,
          168,
          70,
          109,
          200,
          17,
          112,
          110,
          120,
          134,
          97,
          144,
          97,
          167,
          99,
          188,
          81,
          133,
          225,
          216,
          81,
          88,
          129,
          185,
          187,
          70,
          113,
          158,
          200,
          101,
          166,
          124,
          72,
          127,
          116,
          210,
          120,
          108,
          112,
          138,
          150,
          90,
          78,
          127,
          134,
          185,
          144,
          120,
          146.41216216216216,
          176,
          125,
          126,
          165,
          236,
          155,
          380,
          130,
          100,
          113,
          113,
          135,
          45,
          239,
          133,
          110,
          150,
          125,
          60,
          96,
          136,
          98,
          162,
          150,
          230,
          132,
          146.41216216216216,
          246,
          80,
          160,
          208,
          243,
          148,
          113,
          45,
          480,
          400,
          110,
          107,
          146.41216216216216,
          108,
          258,
          275,
          187,
          108,
          205,
          106,
          205,
          187,
          192,
          157,
          187
         ],
         "xaxis": "x",
         "yaxis": "y"
        },
        {
         "alignmentgroup": "True",
         "hovertemplate": "Dependents=2.0<br>LoanAmount=%{x}<extra></extra>",
         "legendgroup": "2.0",
         "marker": {
          "color": "red"
         },
         "name": "2.0",
         "notched": true,
         "offsetgroup": "2.0",
         "showlegend": false,
         "type": "box",
         "x": [
          267,
          168,
          70,
          109,
          200,
          17,
          112,
          110,
          120,
          134,
          97,
          144,
          97,
          167,
          99,
          188,
          81,
          133,
          225,
          216,
          81,
          88,
          129,
          185,
          187,
          70,
          113,
          158,
          200,
          101,
          166,
          124,
          72,
          127,
          116,
          210,
          120,
          108,
          112,
          138,
          150,
          90,
          78,
          127,
          134,
          185,
          144,
          120,
          146.41216216216216,
          176,
          125,
          126,
          165,
          236,
          155,
          380,
          130,
          100,
          113,
          113,
          135,
          45,
          239,
          133,
          110,
          150,
          125,
          60,
          96,
          136,
          98,
          162,
          150,
          230,
          132,
          146.41216216216216,
          246,
          80,
          160,
          208,
          243,
          148,
          113,
          45,
          480,
          400,
          110,
          107,
          146.41216216216216,
          108,
          258,
          275,
          187,
          108,
          205,
          106,
          205,
          187,
          192,
          157,
          187
         ],
         "xaxis": "x2",
         "yaxis": "y2"
        },
        {
         "alignmentgroup": "True",
         "bingroup": "x",
         "hovertemplate": "Dependents=3.0<br>LoanAmount=%{x}<br>count=%{y}<extra></extra>",
         "legendgroup": "3.0",
         "marker": {
          "color": "purple"
         },
         "name": "3.0",
         "offsetgroup": "3.0",
         "orientation": "v",
         "showlegend": true,
         "type": "histogram",
         "x": [
          158,
          320,
          99,
          125,
          95,
          187,
          180,
          130,
          94,
          370,
          290,
          600,
          700,
          81,
          495,
          146.41216216216216,
          128,
          130,
          100,
          255,
          94,
          128,
          160,
          110,
          124,
          300,
          146.41216216216216,
          173,
          74,
          95,
          200,
          130,
          185,
          275,
          360,
          148,
          128,
          70,
          100,
          113,
          150,
          100,
          100,
          157,
          260,
          123,
          150,
          292,
          350,
          128,
          40
         ],
         "xaxis": "x",
         "yaxis": "y"
        },
        {
         "alignmentgroup": "True",
         "hovertemplate": "Dependents=3.0<br>LoanAmount=%{x}<extra></extra>",
         "legendgroup": "3.0",
         "marker": {
          "color": "purple"
         },
         "name": "3.0",
         "notched": true,
         "offsetgroup": "3.0",
         "showlegend": false,
         "type": "box",
         "x": [
          158,
          320,
          99,
          125,
          95,
          187,
          180,
          130,
          94,
          370,
          290,
          600,
          700,
          81,
          495,
          146.41216216216216,
          128,
          130,
          100,
          255,
          94,
          128,
          160,
          110,
          124,
          300,
          146.41216216216216,
          173,
          74,
          95,
          200,
          130,
          185,
          275,
          360,
          148,
          128,
          70,
          100,
          113,
          150,
          100,
          100,
          157,
          260,
          123,
          150,
          292,
          350,
          128,
          40
         ],
         "xaxis": "x2",
         "yaxis": "y2"
        }
       ],
       "layout": {
        "bargap": 0.1,
        "barmode": "relative",
        "legend": {
         "title": {
          "text": "Dependents"
         },
         "tracegroupgap": 0
        },
        "template": {
         "data": {
          "bar": [
           {
            "error_x": {
             "color": "#2a3f5f"
            },
            "error_y": {
             "color": "#2a3f5f"
            },
            "marker": {
             "line": {
              "color": "#E5ECF6",
              "width": 0.5
             }
            },
            "type": "bar"
           }
          ],
          "barpolar": [
           {
            "marker": {
             "line": {
              "color": "#E5ECF6",
              "width": 0.5
             }
            },
            "type": "barpolar"
           }
          ],
          "carpet": [
           {
            "aaxis": {
             "endlinecolor": "#2a3f5f",
             "gridcolor": "white",
             "linecolor": "white",
             "minorgridcolor": "white",
             "startlinecolor": "#2a3f5f"
            },
            "baxis": {
             "endlinecolor": "#2a3f5f",
             "gridcolor": "white",
             "linecolor": "white",
             "minorgridcolor": "white",
             "startlinecolor": "#2a3f5f"
            },
            "type": "carpet"
           }
          ],
          "choropleth": [
           {
            "colorbar": {
             "outlinewidth": 0,
             "ticks": ""
            },
            "type": "choropleth"
           }
          ],
          "contour": [
           {
            "colorbar": {
             "outlinewidth": 0,
             "ticks": ""
            },
            "colorscale": [
             [
              0,
              "#0d0887"
             ],
             [
              0.1111111111111111,
              "#46039f"
             ],
             [
              0.2222222222222222,
              "#7201a8"
             ],
             [
              0.3333333333333333,
              "#9c179e"
             ],
             [
              0.4444444444444444,
              "#bd3786"
             ],
             [
              0.5555555555555556,
              "#d8576b"
             ],
             [
              0.6666666666666666,
              "#ed7953"
             ],
             [
              0.7777777777777778,
              "#fb9f3a"
             ],
             [
              0.8888888888888888,
              "#fdca26"
             ],
             [
              1,
              "#f0f921"
             ]
            ],
            "type": "contour"
           }
          ],
          "contourcarpet": [
           {
            "colorbar": {
             "outlinewidth": 0,
             "ticks": ""
            },
            "type": "contourcarpet"
           }
          ],
          "heatmap": [
           {
            "colorbar": {
             "outlinewidth": 0,
             "ticks": ""
            },
            "colorscale": [
             [
              0,
              "#0d0887"
             ],
             [
              0.1111111111111111,
              "#46039f"
             ],
             [
              0.2222222222222222,
              "#7201a8"
             ],
             [
              0.3333333333333333,
              "#9c179e"
             ],
             [
              0.4444444444444444,
              "#bd3786"
             ],
             [
              0.5555555555555556,
              "#d8576b"
             ],
             [
              0.6666666666666666,
              "#ed7953"
             ],
             [
              0.7777777777777778,
              "#fb9f3a"
             ],
             [
              0.8888888888888888,
              "#fdca26"
             ],
             [
              1,
              "#f0f921"
             ]
            ],
            "type": "heatmap"
           }
          ],
          "heatmapgl": [
           {
            "colorbar": {
             "outlinewidth": 0,
             "ticks": ""
            },
            "colorscale": [
             [
              0,
              "#0d0887"
             ],
             [
              0.1111111111111111,
              "#46039f"
             ],
             [
              0.2222222222222222,
              "#7201a8"
             ],
             [
              0.3333333333333333,
              "#9c179e"
             ],
             [
              0.4444444444444444,
              "#bd3786"
             ],
             [
              0.5555555555555556,
              "#d8576b"
             ],
             [
              0.6666666666666666,
              "#ed7953"
             ],
             [
              0.7777777777777778,
              "#fb9f3a"
             ],
             [
              0.8888888888888888,
              "#fdca26"
             ],
             [
              1,
              "#f0f921"
             ]
            ],
            "type": "heatmapgl"
           }
          ],
          "histogram": [
           {
            "marker": {
             "colorbar": {
              "outlinewidth": 0,
              "ticks": ""
             }
            },
            "type": "histogram"
           }
          ],
          "histogram2d": [
           {
            "colorbar": {
             "outlinewidth": 0,
             "ticks": ""
            },
            "colorscale": [
             [
              0,
              "#0d0887"
             ],
             [
              0.1111111111111111,
              "#46039f"
             ],
             [
              0.2222222222222222,
              "#7201a8"
             ],
             [
              0.3333333333333333,
              "#9c179e"
             ],
             [
              0.4444444444444444,
              "#bd3786"
             ],
             [
              0.5555555555555556,
              "#d8576b"
             ],
             [
              0.6666666666666666,
              "#ed7953"
             ],
             [
              0.7777777777777778,
              "#fb9f3a"
             ],
             [
              0.8888888888888888,
              "#fdca26"
             ],
             [
              1,
              "#f0f921"
             ]
            ],
            "type": "histogram2d"
           }
          ],
          "histogram2dcontour": [
           {
            "colorbar": {
             "outlinewidth": 0,
             "ticks": ""
            },
            "colorscale": [
             [
              0,
              "#0d0887"
             ],
             [
              0.1111111111111111,
              "#46039f"
             ],
             [
              0.2222222222222222,
              "#7201a8"
             ],
             [
              0.3333333333333333,
              "#9c179e"
             ],
             [
              0.4444444444444444,
              "#bd3786"
             ],
             [
              0.5555555555555556,
              "#d8576b"
             ],
             [
              0.6666666666666666,
              "#ed7953"
             ],
             [
              0.7777777777777778,
              "#fb9f3a"
             ],
             [
              0.8888888888888888,
              "#fdca26"
             ],
             [
              1,
              "#f0f921"
             ]
            ],
            "type": "histogram2dcontour"
           }
          ],
          "mesh3d": [
           {
            "colorbar": {
             "outlinewidth": 0,
             "ticks": ""
            },
            "type": "mesh3d"
           }
          ],
          "parcoords": [
           {
            "line": {
             "colorbar": {
              "outlinewidth": 0,
              "ticks": ""
             }
            },
            "type": "parcoords"
           }
          ],
          "pie": [
           {
            "automargin": true,
            "type": "pie"
           }
          ],
          "scatter": [
           {
            "marker": {
             "colorbar": {
              "outlinewidth": 0,
              "ticks": ""
             }
            },
            "type": "scatter"
           }
          ],
          "scatter3d": [
           {
            "line": {
             "colorbar": {
              "outlinewidth": 0,
              "ticks": ""
             }
            },
            "marker": {
             "colorbar": {
              "outlinewidth": 0,
              "ticks": ""
             }
            },
            "type": "scatter3d"
           }
          ],
          "scattercarpet": [
           {
            "marker": {
             "colorbar": {
              "outlinewidth": 0,
              "ticks": ""
             }
            },
            "type": "scattercarpet"
           }
          ],
          "scattergeo": [
           {
            "marker": {
             "colorbar": {
              "outlinewidth": 0,
              "ticks": ""
             }
            },
            "type": "scattergeo"
           }
          ],
          "scattergl": [
           {
            "marker": {
             "colorbar": {
              "outlinewidth": 0,
              "ticks": ""
             }
            },
            "type": "scattergl"
           }
          ],
          "scattermapbox": [
           {
            "marker": {
             "colorbar": {
              "outlinewidth": 0,
              "ticks": ""
             }
            },
            "type": "scattermapbox"
           }
          ],
          "scatterpolar": [
           {
            "marker": {
             "colorbar": {
              "outlinewidth": 0,
              "ticks": ""
             }
            },
            "type": "scatterpolar"
           }
          ],
          "scatterpolargl": [
           {
            "marker": {
             "colorbar": {
              "outlinewidth": 0,
              "ticks": ""
             }
            },
            "type": "scatterpolargl"
           }
          ],
          "scatterternary": [
           {
            "marker": {
             "colorbar": {
              "outlinewidth": 0,
              "ticks": ""
             }
            },
            "type": "scatterternary"
           }
          ],
          "surface": [
           {
            "colorbar": {
             "outlinewidth": 0,
             "ticks": ""
            },
            "colorscale": [
             [
              0,
              "#0d0887"
             ],
             [
              0.1111111111111111,
              "#46039f"
             ],
             [
              0.2222222222222222,
              "#7201a8"
             ],
             [
              0.3333333333333333,
              "#9c179e"
             ],
             [
              0.4444444444444444,
              "#bd3786"
             ],
             [
              0.5555555555555556,
              "#d8576b"
             ],
             [
              0.6666666666666666,
              "#ed7953"
             ],
             [
              0.7777777777777778,
              "#fb9f3a"
             ],
             [
              0.8888888888888888,
              "#fdca26"
             ],
             [
              1,
              "#f0f921"
             ]
            ],
            "type": "surface"
           }
          ],
          "table": [
           {
            "cells": {
             "fill": {
              "color": "#EBF0F8"
             },
             "line": {
              "color": "white"
             }
            },
            "header": {
             "fill": {
              "color": "#C8D4E3"
             },
             "line": {
              "color": "white"
             }
            },
            "type": "table"
           }
          ]
         },
         "layout": {
          "annotationdefaults": {
           "arrowcolor": "#2a3f5f",
           "arrowhead": 0,
           "arrowwidth": 1
          },
          "autotypenumbers": "strict",
          "coloraxis": {
           "colorbar": {
            "outlinewidth": 0,
            "ticks": ""
           }
          },
          "colorscale": {
           "diverging": [
            [
             0,
             "#8e0152"
            ],
            [
             0.1,
             "#c51b7d"
            ],
            [
             0.2,
             "#de77ae"
            ],
            [
             0.3,
             "#f1b6da"
            ],
            [
             0.4,
             "#fde0ef"
            ],
            [
             0.5,
             "#f7f7f7"
            ],
            [
             0.6,
             "#e6f5d0"
            ],
            [
             0.7,
             "#b8e186"
            ],
            [
             0.8,
             "#7fbc41"
            ],
            [
             0.9,
             "#4d9221"
            ],
            [
             1,
             "#276419"
            ]
           ],
           "sequential": [
            [
             0,
             "#0d0887"
            ],
            [
             0.1111111111111111,
             "#46039f"
            ],
            [
             0.2222222222222222,
             "#7201a8"
            ],
            [
             0.3333333333333333,
             "#9c179e"
            ],
            [
             0.4444444444444444,
             "#bd3786"
            ],
            [
             0.5555555555555556,
             "#d8576b"
            ],
            [
             0.6666666666666666,
             "#ed7953"
            ],
            [
             0.7777777777777778,
             "#fb9f3a"
            ],
            [
             0.8888888888888888,
             "#fdca26"
            ],
            [
             1,
             "#f0f921"
            ]
           ],
           "sequentialminus": [
            [
             0,
             "#0d0887"
            ],
            [
             0.1111111111111111,
             "#46039f"
            ],
            [
             0.2222222222222222,
             "#7201a8"
            ],
            [
             0.3333333333333333,
             "#9c179e"
            ],
            [
             0.4444444444444444,
             "#bd3786"
            ],
            [
             0.5555555555555556,
             "#d8576b"
            ],
            [
             0.6666666666666666,
             "#ed7953"
            ],
            [
             0.7777777777777778,
             "#fb9f3a"
            ],
            [
             0.8888888888888888,
             "#fdca26"
            ],
            [
             1,
             "#f0f921"
            ]
           ]
          },
          "colorway": [
           "#636efa",
           "#EF553B",
           "#00cc96",
           "#ab63fa",
           "#FFA15A",
           "#19d3f3",
           "#FF6692",
           "#B6E880",
           "#FF97FF",
           "#FECB52"
          ],
          "font": {
           "color": "#2a3f5f"
          },
          "geo": {
           "bgcolor": "white",
           "lakecolor": "white",
           "landcolor": "#E5ECF6",
           "showlakes": true,
           "showland": true,
           "subunitcolor": "white"
          },
          "hoverlabel": {
           "align": "left"
          },
          "hovermode": "closest",
          "mapbox": {
           "style": "light"
          },
          "paper_bgcolor": "white",
          "plot_bgcolor": "#E5ECF6",
          "polar": {
           "angularaxis": {
            "gridcolor": "white",
            "linecolor": "white",
            "ticks": ""
           },
           "bgcolor": "#E5ECF6",
           "radialaxis": {
            "gridcolor": "white",
            "linecolor": "white",
            "ticks": ""
           }
          },
          "scene": {
           "xaxis": {
            "backgroundcolor": "#E5ECF6",
            "gridcolor": "white",
            "gridwidth": 2,
            "linecolor": "white",
            "showbackground": true,
            "ticks": "",
            "zerolinecolor": "white"
           },
           "yaxis": {
            "backgroundcolor": "#E5ECF6",
            "gridcolor": "white",
            "gridwidth": 2,
            "linecolor": "white",
            "showbackground": true,
            "ticks": "",
            "zerolinecolor": "white"
           },
           "zaxis": {
            "backgroundcolor": "#E5ECF6",
            "gridcolor": "white",
            "gridwidth": 2,
            "linecolor": "white",
            "showbackground": true,
            "ticks": "",
            "zerolinecolor": "white"
           }
          },
          "shapedefaults": {
           "line": {
            "color": "#2a3f5f"
           }
          },
          "ternary": {
           "aaxis": {
            "gridcolor": "white",
            "linecolor": "white",
            "ticks": ""
           },
           "baxis": {
            "gridcolor": "white",
            "linecolor": "white",
            "ticks": ""
           },
           "bgcolor": "#E5ECF6",
           "caxis": {
            "gridcolor": "white",
            "linecolor": "white",
            "ticks": ""
           }
          },
          "title": {
           "x": 0.05
          },
          "xaxis": {
           "automargin": true,
           "gridcolor": "white",
           "linecolor": "white",
           "ticks": "",
           "title": {
            "standoff": 15
           },
           "zerolinecolor": "white",
           "zerolinewidth": 2
          },
          "yaxis": {
           "automargin": true,
           "gridcolor": "white",
           "linecolor": "white",
           "ticks": "",
           "title": {
            "standoff": 15
           },
           "zerolinecolor": "white",
           "zerolinewidth": 2
          }
         }
        },
        "title": {
         "text": "Loan Amount in Relation to Dependants"
        },
        "xaxis": {
         "anchor": "y",
         "domain": [
          0,
          1
         ],
         "title": {
          "text": "LoanAmount"
         }
        },
        "xaxis2": {
         "anchor": "y2",
         "domain": [
          0,
          1
         ],
         "matches": "x",
         "showgrid": true,
         "showticklabels": false
        },
        "yaxis": {
         "anchor": "x",
         "domain": [
          0,
          0.7326
         ],
         "title": {
          "text": "count"
         }
        },
        "yaxis2": {
         "anchor": "x2",
         "domain": [
          0.7426,
          1
         ],
         "matches": "y2",
         "showgrid": false,
         "showline": false,
         "showticklabels": false,
         "ticks": ""
        }
       }
      }
     },
     "metadata": {}
    }
   ],
   "source": [
    "fig = px.histogram(loan_data, x='LoanAmount', marginal='box', color='Dependents', color_discrete_sequence=['green', 'grey', 'red', 'purple'], title='Loan Amount in Relation to Dependants')\n",
    "fig.update_layout(bargap=0.1)\n",
    "fig.show()"
   ]
  },
  {
   "cell_type": "code",
   "execution_count": 42,
   "metadata": {},
   "outputs": [
    {
     "output_type": "display_data",
     "data": {
      "application/vnd.plotly.v1+json": {
       "config": {
        "plotlyServerURL": "https://plot.ly"
       },
       "data": [
        {
         "alignmentgroup": "True",
         "bingroup": "x",
         "hovertemplate": "Married=0<br>LoanAmount=%{x}<br>count=%{y}<extra></extra>",
         "legendgroup": "0",
         "marker": {
          "color": "red"
         },
         "name": "0",
         "offsetgroup": "0",
         "orientation": "v",
         "showlegend": true,
         "type": "histogram",
         "x": [
          146.41216216216216,
          141,
          114,
          125,
          100,
          76,
          35,
          120,
          74,
          106,
          320,
          184,
          110,
          80,
          47,
          88,
          144,
          120,
          112,
          116,
          126,
          136,
          81,
          113,
          176,
          111,
          136,
          210,
          122,
          25,
          146.41216216216216,
          151,
          120,
          136,
          146.41216216216216,
          118,
          259,
          44,
          137,
          93,
          146.41216216216216,
          650,
          74,
          70,
          102,
          242,
          168,
          175,
          225,
          118,
          244,
          50,
          120,
          63,
          102,
          67,
          48,
          164,
          76,
          120,
          187,
          120,
          83,
          166,
          120,
          80,
          55,
          59,
          127,
          214,
          144,
          200,
          120,
          280,
          122,
          112,
          155,
          120,
          138,
          104,
          192,
          255,
          115,
          134,
          155,
          120,
          128,
          151,
          135,
          90,
          30,
          126,
          158,
          54,
          89,
          99,
          115,
          187,
          143,
          151,
          132,
          140,
          146.41216216216216,
          135,
          104,
          480,
          84,
          111,
          56,
          112,
          132,
          130,
          67,
          117,
          98,
          71,
          146.41216216216216,
          71,
          46,
          308,
          116,
          81,
          141,
          133,
          96,
          124,
          55,
          111,
          110,
          71,
          296,
          156,
          128,
          113,
          132,
          185,
          71,
          109,
          103,
          65,
          103,
          53,
          194,
          115,
          66,
          62,
          60,
          160,
          80,
          81,
          60,
          150,
          105,
          405,
          100,
          50,
          187,
          187,
          148,
          152,
          190,
          84,
          136,
          132,
          98,
          140,
          93,
          162,
          154,
          80,
          75,
          96,
          110,
          225,
          209,
          113,
          100,
          96,
          40,
          100,
          311,
          185,
          95,
          55,
          146.41216216216216,
          94,
          130,
          110,
          196,
          125,
          126,
          107,
          99,
          95,
          80,
          145,
          103,
          84,
          132,
          70,
          9,
          110,
          161,
          90,
          70,
          94,
          292,
          110,
          88,
          350,
          172,
          71,
          133
         ],
         "xaxis": "x",
         "yaxis": "y"
        },
        {
         "alignmentgroup": "True",
         "hovertemplate": "Married=0<br>LoanAmount=%{x}<extra></extra>",
         "legendgroup": "0",
         "marker": {
          "color": "red"
         },
         "name": "0",
         "notched": true,
         "offsetgroup": "0",
         "showlegend": false,
         "type": "box",
         "x": [
          146.41216216216216,
          141,
          114,
          125,
          100,
          76,
          35,
          120,
          74,
          106,
          320,
          184,
          110,
          80,
          47,
          88,
          144,
          120,
          112,
          116,
          126,
          136,
          81,
          113,
          176,
          111,
          136,
          210,
          122,
          25,
          146.41216216216216,
          151,
          120,
          136,
          146.41216216216216,
          118,
          259,
          44,
          137,
          93,
          146.41216216216216,
          650,
          74,
          70,
          102,
          242,
          168,
          175,
          225,
          118,
          244,
          50,
          120,
          63,
          102,
          67,
          48,
          164,
          76,
          120,
          187,
          120,
          83,
          166,
          120,
          80,
          55,
          59,
          127,
          214,
          144,
          200,
          120,
          280,
          122,
          112,
          155,
          120,
          138,
          104,
          192,
          255,
          115,
          134,
          155,
          120,
          128,
          151,
          135,
          90,
          30,
          126,
          158,
          54,
          89,
          99,
          115,
          187,
          143,
          151,
          132,
          140,
          146.41216216216216,
          135,
          104,
          480,
          84,
          111,
          56,
          112,
          132,
          130,
          67,
          117,
          98,
          71,
          146.41216216216216,
          71,
          46,
          308,
          116,
          81,
          141,
          133,
          96,
          124,
          55,
          111,
          110,
          71,
          296,
          156,
          128,
          113,
          132,
          185,
          71,
          109,
          103,
          65,
          103,
          53,
          194,
          115,
          66,
          62,
          60,
          160,
          80,
          81,
          60,
          150,
          105,
          405,
          100,
          50,
          187,
          187,
          148,
          152,
          190,
          84,
          136,
          132,
          98,
          140,
          93,
          162,
          154,
          80,
          75,
          96,
          110,
          225,
          209,
          113,
          100,
          96,
          40,
          100,
          311,
          185,
          95,
          55,
          146.41216216216216,
          94,
          130,
          110,
          196,
          125,
          126,
          107,
          99,
          95,
          80,
          145,
          103,
          84,
          132,
          70,
          9,
          110,
          161,
          90,
          70,
          94,
          292,
          110,
          88,
          350,
          172,
          71,
          133
         ],
         "xaxis": "x2",
         "yaxis": "y2"
        },
        {
         "alignmentgroup": "True",
         "bingroup": "x",
         "hovertemplate": "Married=1<br>LoanAmount=%{x}<br>count=%{y}<extra></extra>",
         "legendgroup": "1",
         "marker": {
          "color": "purple"
         },
         "name": "1",
         "offsetgroup": "1",
         "orientation": "v",
         "showlegend": true,
         "type": "histogram",
         "x": [
          128,
          66,
          120,
          267,
          95,
          158,
          168,
          349,
          70,
          109,
          200,
          17,
          133,
          115,
          104,
          315,
          116,
          112,
          151,
          191,
          122,
          110,
          201,
          114,
          146.41216216216216,
          100,
          144,
          75,
          134,
          96,
          44,
          144,
          120,
          100,
          134,
          286,
          97,
          96,
          135,
          180,
          144,
          120,
          99,
          165,
          146.41216216216216,
          258,
          312,
          125,
          172,
          97,
          95,
          187,
          110,
          180,
          130,
          146.41216216216216,
          167,
          265,
          50,
          99,
          104,
          175,
          131,
          188,
          81,
          137,
          50,
          115,
          131,
          133,
          146.41216216216216,
          146.41216216216216,
          100,
          225,
          216,
          94,
          139,
          152,
          185,
          154,
          85,
          175,
          180,
          81,
          194,
          370,
          160,
          182,
          25,
          290,
          84,
          88,
          129,
          185,
          122,
          187,
          100,
          70,
          30,
          125,
          152,
          113,
          600,
          160,
          187,
          255,
          98,
          275,
          121,
          158,
          75,
          182,
          112,
          129,
          200,
          95,
          700,
          81,
          187,
          87,
          116,
          101,
          495,
          116,
          180,
          73,
          260,
          108,
          120,
          66,
          58,
          168,
          188,
          160,
          170,
          113,
          90,
          146.41216216216216,
          135,
          124,
          128,
          240,
          130,
          137,
          100,
          135,
          131,
          72,
          127,
          60,
          116,
          175,
          128,
          170,
          138,
          210,
          104,
          42,
          140,
          170,
          255,
          96,
          120,
          140,
          108,
          123,
          112,
          137,
          123,
          90,
          201,
          279,
          94,
          304,
          128,
          330,
          150,
          160,
          136,
          150,
          90,
          115,
          207,
          80,
          436,
          124,
          112,
          78,
          146.41216216216216,
          120,
          139,
          127,
          134,
          172,
          110,
          200,
          135,
          113,
          93,
          105,
          96,
          185,
          144,
          159,
          111,
          120,
          88,
          155,
          115,
          124,
          146.41216216216216,
          300,
          376,
          184,
          110,
          490,
          182,
          70,
          160,
          176,
          173,
          158,
          74,
          125,
          160,
          152,
          126,
          259,
          187,
          228,
          95,
          105,
          130,
          165,
          67,
          100,
          200,
          236,
          130,
          95,
          175,
          570,
          155,
          380,
          120,
          130,
          130,
          130,
          128,
          100,
          146.41216216216216,
          136,
          125,
          275,
          120,
          113,
          113,
          135,
          95,
          45,
          115,
          152,
          360,
          160,
          218,
          110,
          178,
          239,
          112,
          138,
          138,
          100,
          110,
          96,
          121,
          133,
          87,
          143,
          146.41216216216216,
          138,
          180,
          175,
          130,
          110,
          55,
          150,
          125,
          60,
          149,
          90,
          96,
          118,
          173,
          160,
          160,
          128,
          153,
          70,
          110,
          98,
          110,
          162,
          113,
          100,
          150,
          230,
          132,
          86,
          146.41216216216216,
          113,
          128,
          234,
          246,
          131,
          500,
          160,
          186,
          119,
          105,
          107,
          111,
          95,
          208,
          138,
          124,
          243,
          480,
          188,
          250,
          148,
          70,
          150,
          113,
          123,
          45,
          100,
          480,
          400,
          110,
          161,
          216,
          100,
          324,
          66,
          157,
          140,
          128,
          102,
          155,
          110,
          146.41216216216216,
          146.41216216216216,
          158,
          181,
          132,
          26,
          260,
          162,
          182,
          108,
          600,
          211,
          258,
          120,
          123,
          104,
          186,
          165,
          275,
          187,
          150,
          108,
          136,
          107,
          205,
          36,
          61,
          146,
          172,
          104,
          106,
          56,
          205,
          142,
          260,
          187,
          180,
          192,
          155,
          128,
          496,
          146.41216216216216,
          173,
          157,
          108,
          40,
          253,
          187
         ],
         "xaxis": "x",
         "yaxis": "y"
        },
        {
         "alignmentgroup": "True",
         "hovertemplate": "Married=1<br>LoanAmount=%{x}<extra></extra>",
         "legendgroup": "1",
         "marker": {
          "color": "purple"
         },
         "name": "1",
         "notched": true,
         "offsetgroup": "1",
         "showlegend": false,
         "type": "box",
         "x": [
          128,
          66,
          120,
          267,
          95,
          158,
          168,
          349,
          70,
          109,
          200,
          17,
          133,
          115,
          104,
          315,
          116,
          112,
          151,
          191,
          122,
          110,
          201,
          114,
          146.41216216216216,
          100,
          144,
          75,
          134,
          96,
          44,
          144,
          120,
          100,
          134,
          286,
          97,
          96,
          135,
          180,
          144,
          120,
          99,
          165,
          146.41216216216216,
          258,
          312,
          125,
          172,
          97,
          95,
          187,
          110,
          180,
          130,
          146.41216216216216,
          167,
          265,
          50,
          99,
          104,
          175,
          131,
          188,
          81,
          137,
          50,
          115,
          131,
          133,
          146.41216216216216,
          146.41216216216216,
          100,
          225,
          216,
          94,
          139,
          152,
          185,
          154,
          85,
          175,
          180,
          81,
          194,
          370,
          160,
          182,
          25,
          290,
          84,
          88,
          129,
          185,
          122,
          187,
          100,
          70,
          30,
          125,
          152,
          113,
          600,
          160,
          187,
          255,
          98,
          275,
          121,
          158,
          75,
          182,
          112,
          129,
          200,
          95,
          700,
          81,
          187,
          87,
          116,
          101,
          495,
          116,
          180,
          73,
          260,
          108,
          120,
          66,
          58,
          168,
          188,
          160,
          170,
          113,
          90,
          146.41216216216216,
          135,
          124,
          128,
          240,
          130,
          137,
          100,
          135,
          131,
          72,
          127,
          60,
          116,
          175,
          128,
          170,
          138,
          210,
          104,
          42,
          140,
          170,
          255,
          96,
          120,
          140,
          108,
          123,
          112,
          137,
          123,
          90,
          201,
          279,
          94,
          304,
          128,
          330,
          150,
          160,
          136,
          150,
          90,
          115,
          207,
          80,
          436,
          124,
          112,
          78,
          146.41216216216216,
          120,
          139,
          127,
          134,
          172,
          110,
          200,
          135,
          113,
          93,
          105,
          96,
          185,
          144,
          159,
          111,
          120,
          88,
          155,
          115,
          124,
          146.41216216216216,
          300,
          376,
          184,
          110,
          490,
          182,
          70,
          160,
          176,
          173,
          158,
          74,
          125,
          160,
          152,
          126,
          259,
          187,
          228,
          95,
          105,
          130,
          165,
          67,
          100,
          200,
          236,
          130,
          95,
          175,
          570,
          155,
          380,
          120,
          130,
          130,
          130,
          128,
          100,
          146.41216216216216,
          136,
          125,
          275,
          120,
          113,
          113,
          135,
          95,
          45,
          115,
          152,
          360,
          160,
          218,
          110,
          178,
          239,
          112,
          138,
          138,
          100,
          110,
          96,
          121,
          133,
          87,
          143,
          146.41216216216216,
          138,
          180,
          175,
          130,
          110,
          55,
          150,
          125,
          60,
          149,
          90,
          96,
          118,
          173,
          160,
          160,
          128,
          153,
          70,
          110,
          98,
          110,
          162,
          113,
          100,
          150,
          230,
          132,
          86,
          146.41216216216216,
          113,
          128,
          234,
          246,
          131,
          500,
          160,
          186,
          119,
          105,
          107,
          111,
          95,
          208,
          138,
          124,
          243,
          480,
          188,
          250,
          148,
          70,
          150,
          113,
          123,
          45,
          100,
          480,
          400,
          110,
          161,
          216,
          100,
          324,
          66,
          157,
          140,
          128,
          102,
          155,
          110,
          146.41216216216216,
          146.41216216216216,
          158,
          181,
          132,
          26,
          260,
          162,
          182,
          108,
          600,
          211,
          258,
          120,
          123,
          104,
          186,
          165,
          275,
          187,
          150,
          108,
          136,
          107,
          205,
          36,
          61,
          146,
          172,
          104,
          106,
          56,
          205,
          142,
          260,
          187,
          180,
          192,
          155,
          128,
          496,
          146.41216216216216,
          173,
          157,
          108,
          40,
          253,
          187
         ],
         "xaxis": "x2",
         "yaxis": "y2"
        },
        {
         "alignmentgroup": "True",
         "bingroup": "x",
         "hovertemplate": "Married=2<br>LoanAmount=%{x}<br>count=%{y}<extra></extra>",
         "legendgroup": "2",
         "marker": {
          "color": "green"
         },
         "name": "2",
         "offsetgroup": "2",
         "orientation": "v",
         "showlegend": true,
         "type": "histogram",
         "x": [
          160,
          158,
          146.41216216216216
         ],
         "xaxis": "x",
         "yaxis": "y"
        },
        {
         "alignmentgroup": "True",
         "hovertemplate": "Married=2<br>LoanAmount=%{x}<extra></extra>",
         "legendgroup": "2",
         "marker": {
          "color": "green"
         },
         "name": "2",
         "notched": true,
         "offsetgroup": "2",
         "showlegend": false,
         "type": "box",
         "x": [
          160,
          158,
          146.41216216216216
         ],
         "xaxis": "x2",
         "yaxis": "y2"
        }
       ],
       "layout": {
        "bargap": 0.1,
        "barmode": "relative",
        "legend": {
         "title": {
          "text": "Married"
         },
         "tracegroupgap": 0
        },
        "template": {
         "data": {
          "bar": [
           {
            "error_x": {
             "color": "#2a3f5f"
            },
            "error_y": {
             "color": "#2a3f5f"
            },
            "marker": {
             "line": {
              "color": "#E5ECF6",
              "width": 0.5
             }
            },
            "type": "bar"
           }
          ],
          "barpolar": [
           {
            "marker": {
             "line": {
              "color": "#E5ECF6",
              "width": 0.5
             }
            },
            "type": "barpolar"
           }
          ],
          "carpet": [
           {
            "aaxis": {
             "endlinecolor": "#2a3f5f",
             "gridcolor": "white",
             "linecolor": "white",
             "minorgridcolor": "white",
             "startlinecolor": "#2a3f5f"
            },
            "baxis": {
             "endlinecolor": "#2a3f5f",
             "gridcolor": "white",
             "linecolor": "white",
             "minorgridcolor": "white",
             "startlinecolor": "#2a3f5f"
            },
            "type": "carpet"
           }
          ],
          "choropleth": [
           {
            "colorbar": {
             "outlinewidth": 0,
             "ticks": ""
            },
            "type": "choropleth"
           }
          ],
          "contour": [
           {
            "colorbar": {
             "outlinewidth": 0,
             "ticks": ""
            },
            "colorscale": [
             [
              0,
              "#0d0887"
             ],
             [
              0.1111111111111111,
              "#46039f"
             ],
             [
              0.2222222222222222,
              "#7201a8"
             ],
             [
              0.3333333333333333,
              "#9c179e"
             ],
             [
              0.4444444444444444,
              "#bd3786"
             ],
             [
              0.5555555555555556,
              "#d8576b"
             ],
             [
              0.6666666666666666,
              "#ed7953"
             ],
             [
              0.7777777777777778,
              "#fb9f3a"
             ],
             [
              0.8888888888888888,
              "#fdca26"
             ],
             [
              1,
              "#f0f921"
             ]
            ],
            "type": "contour"
           }
          ],
          "contourcarpet": [
           {
            "colorbar": {
             "outlinewidth": 0,
             "ticks": ""
            },
            "type": "contourcarpet"
           }
          ],
          "heatmap": [
           {
            "colorbar": {
             "outlinewidth": 0,
             "ticks": ""
            },
            "colorscale": [
             [
              0,
              "#0d0887"
             ],
             [
              0.1111111111111111,
              "#46039f"
             ],
             [
              0.2222222222222222,
              "#7201a8"
             ],
             [
              0.3333333333333333,
              "#9c179e"
             ],
             [
              0.4444444444444444,
              "#bd3786"
             ],
             [
              0.5555555555555556,
              "#d8576b"
             ],
             [
              0.6666666666666666,
              "#ed7953"
             ],
             [
              0.7777777777777778,
              "#fb9f3a"
             ],
             [
              0.8888888888888888,
              "#fdca26"
             ],
             [
              1,
              "#f0f921"
             ]
            ],
            "type": "heatmap"
           }
          ],
          "heatmapgl": [
           {
            "colorbar": {
             "outlinewidth": 0,
             "ticks": ""
            },
            "colorscale": [
             [
              0,
              "#0d0887"
             ],
             [
              0.1111111111111111,
              "#46039f"
             ],
             [
              0.2222222222222222,
              "#7201a8"
             ],
             [
              0.3333333333333333,
              "#9c179e"
             ],
             [
              0.4444444444444444,
              "#bd3786"
             ],
             [
              0.5555555555555556,
              "#d8576b"
             ],
             [
              0.6666666666666666,
              "#ed7953"
             ],
             [
              0.7777777777777778,
              "#fb9f3a"
             ],
             [
              0.8888888888888888,
              "#fdca26"
             ],
             [
              1,
              "#f0f921"
             ]
            ],
            "type": "heatmapgl"
           }
          ],
          "histogram": [
           {
            "marker": {
             "colorbar": {
              "outlinewidth": 0,
              "ticks": ""
             }
            },
            "type": "histogram"
           }
          ],
          "histogram2d": [
           {
            "colorbar": {
             "outlinewidth": 0,
             "ticks": ""
            },
            "colorscale": [
             [
              0,
              "#0d0887"
             ],
             [
              0.1111111111111111,
              "#46039f"
             ],
             [
              0.2222222222222222,
              "#7201a8"
             ],
             [
              0.3333333333333333,
              "#9c179e"
             ],
             [
              0.4444444444444444,
              "#bd3786"
             ],
             [
              0.5555555555555556,
              "#d8576b"
             ],
             [
              0.6666666666666666,
              "#ed7953"
             ],
             [
              0.7777777777777778,
              "#fb9f3a"
             ],
             [
              0.8888888888888888,
              "#fdca26"
             ],
             [
              1,
              "#f0f921"
             ]
            ],
            "type": "histogram2d"
           }
          ],
          "histogram2dcontour": [
           {
            "colorbar": {
             "outlinewidth": 0,
             "ticks": ""
            },
            "colorscale": [
             [
              0,
              "#0d0887"
             ],
             [
              0.1111111111111111,
              "#46039f"
             ],
             [
              0.2222222222222222,
              "#7201a8"
             ],
             [
              0.3333333333333333,
              "#9c179e"
             ],
             [
              0.4444444444444444,
              "#bd3786"
             ],
             [
              0.5555555555555556,
              "#d8576b"
             ],
             [
              0.6666666666666666,
              "#ed7953"
             ],
             [
              0.7777777777777778,
              "#fb9f3a"
             ],
             [
              0.8888888888888888,
              "#fdca26"
             ],
             [
              1,
              "#f0f921"
             ]
            ],
            "type": "histogram2dcontour"
           }
          ],
          "mesh3d": [
           {
            "colorbar": {
             "outlinewidth": 0,
             "ticks": ""
            },
            "type": "mesh3d"
           }
          ],
          "parcoords": [
           {
            "line": {
             "colorbar": {
              "outlinewidth": 0,
              "ticks": ""
             }
            },
            "type": "parcoords"
           }
          ],
          "pie": [
           {
            "automargin": true,
            "type": "pie"
           }
          ],
          "scatter": [
           {
            "marker": {
             "colorbar": {
              "outlinewidth": 0,
              "ticks": ""
             }
            },
            "type": "scatter"
           }
          ],
          "scatter3d": [
           {
            "line": {
             "colorbar": {
              "outlinewidth": 0,
              "ticks": ""
             }
            },
            "marker": {
             "colorbar": {
              "outlinewidth": 0,
              "ticks": ""
             }
            },
            "type": "scatter3d"
           }
          ],
          "scattercarpet": [
           {
            "marker": {
             "colorbar": {
              "outlinewidth": 0,
              "ticks": ""
             }
            },
            "type": "scattercarpet"
           }
          ],
          "scattergeo": [
           {
            "marker": {
             "colorbar": {
              "outlinewidth": 0,
              "ticks": ""
             }
            },
            "type": "scattergeo"
           }
          ],
          "scattergl": [
           {
            "marker": {
             "colorbar": {
              "outlinewidth": 0,
              "ticks": ""
             }
            },
            "type": "scattergl"
           }
          ],
          "scattermapbox": [
           {
            "marker": {
             "colorbar": {
              "outlinewidth": 0,
              "ticks": ""
             }
            },
            "type": "scattermapbox"
           }
          ],
          "scatterpolar": [
           {
            "marker": {
             "colorbar": {
              "outlinewidth": 0,
              "ticks": ""
             }
            },
            "type": "scatterpolar"
           }
          ],
          "scatterpolargl": [
           {
            "marker": {
             "colorbar": {
              "outlinewidth": 0,
              "ticks": ""
             }
            },
            "type": "scatterpolargl"
           }
          ],
          "scatterternary": [
           {
            "marker": {
             "colorbar": {
              "outlinewidth": 0,
              "ticks": ""
             }
            },
            "type": "scatterternary"
           }
          ],
          "surface": [
           {
            "colorbar": {
             "outlinewidth": 0,
             "ticks": ""
            },
            "colorscale": [
             [
              0,
              "#0d0887"
             ],
             [
              0.1111111111111111,
              "#46039f"
             ],
             [
              0.2222222222222222,
              "#7201a8"
             ],
             [
              0.3333333333333333,
              "#9c179e"
             ],
             [
              0.4444444444444444,
              "#bd3786"
             ],
             [
              0.5555555555555556,
              "#d8576b"
             ],
             [
              0.6666666666666666,
              "#ed7953"
             ],
             [
              0.7777777777777778,
              "#fb9f3a"
             ],
             [
              0.8888888888888888,
              "#fdca26"
             ],
             [
              1,
              "#f0f921"
             ]
            ],
            "type": "surface"
           }
          ],
          "table": [
           {
            "cells": {
             "fill": {
              "color": "#EBF0F8"
             },
             "line": {
              "color": "white"
             }
            },
            "header": {
             "fill": {
              "color": "#C8D4E3"
             },
             "line": {
              "color": "white"
             }
            },
            "type": "table"
           }
          ]
         },
         "layout": {
          "annotationdefaults": {
           "arrowcolor": "#2a3f5f",
           "arrowhead": 0,
           "arrowwidth": 1
          },
          "autotypenumbers": "strict",
          "coloraxis": {
           "colorbar": {
            "outlinewidth": 0,
            "ticks": ""
           }
          },
          "colorscale": {
           "diverging": [
            [
             0,
             "#8e0152"
            ],
            [
             0.1,
             "#c51b7d"
            ],
            [
             0.2,
             "#de77ae"
            ],
            [
             0.3,
             "#f1b6da"
            ],
            [
             0.4,
             "#fde0ef"
            ],
            [
             0.5,
             "#f7f7f7"
            ],
            [
             0.6,
             "#e6f5d0"
            ],
            [
             0.7,
             "#b8e186"
            ],
            [
             0.8,
             "#7fbc41"
            ],
            [
             0.9,
             "#4d9221"
            ],
            [
             1,
             "#276419"
            ]
           ],
           "sequential": [
            [
             0,
             "#0d0887"
            ],
            [
             0.1111111111111111,
             "#46039f"
            ],
            [
             0.2222222222222222,
             "#7201a8"
            ],
            [
             0.3333333333333333,
             "#9c179e"
            ],
            [
             0.4444444444444444,
             "#bd3786"
            ],
            [
             0.5555555555555556,
             "#d8576b"
            ],
            [
             0.6666666666666666,
             "#ed7953"
            ],
            [
             0.7777777777777778,
             "#fb9f3a"
            ],
            [
             0.8888888888888888,
             "#fdca26"
            ],
            [
             1,
             "#f0f921"
            ]
           ],
           "sequentialminus": [
            [
             0,
             "#0d0887"
            ],
            [
             0.1111111111111111,
             "#46039f"
            ],
            [
             0.2222222222222222,
             "#7201a8"
            ],
            [
             0.3333333333333333,
             "#9c179e"
            ],
            [
             0.4444444444444444,
             "#bd3786"
            ],
            [
             0.5555555555555556,
             "#d8576b"
            ],
            [
             0.6666666666666666,
             "#ed7953"
            ],
            [
             0.7777777777777778,
             "#fb9f3a"
            ],
            [
             0.8888888888888888,
             "#fdca26"
            ],
            [
             1,
             "#f0f921"
            ]
           ]
          },
          "colorway": [
           "#636efa",
           "#EF553B",
           "#00cc96",
           "#ab63fa",
           "#FFA15A",
           "#19d3f3",
           "#FF6692",
           "#B6E880",
           "#FF97FF",
           "#FECB52"
          ],
          "font": {
           "color": "#2a3f5f"
          },
          "geo": {
           "bgcolor": "white",
           "lakecolor": "white",
           "landcolor": "#E5ECF6",
           "showlakes": true,
           "showland": true,
           "subunitcolor": "white"
          },
          "hoverlabel": {
           "align": "left"
          },
          "hovermode": "closest",
          "mapbox": {
           "style": "light"
          },
          "paper_bgcolor": "white",
          "plot_bgcolor": "#E5ECF6",
          "polar": {
           "angularaxis": {
            "gridcolor": "white",
            "linecolor": "white",
            "ticks": ""
           },
           "bgcolor": "#E5ECF6",
           "radialaxis": {
            "gridcolor": "white",
            "linecolor": "white",
            "ticks": ""
           }
          },
          "scene": {
           "xaxis": {
            "backgroundcolor": "#E5ECF6",
            "gridcolor": "white",
            "gridwidth": 2,
            "linecolor": "white",
            "showbackground": true,
            "ticks": "",
            "zerolinecolor": "white"
           },
           "yaxis": {
            "backgroundcolor": "#E5ECF6",
            "gridcolor": "white",
            "gridwidth": 2,
            "linecolor": "white",
            "showbackground": true,
            "ticks": "",
            "zerolinecolor": "white"
           },
           "zaxis": {
            "backgroundcolor": "#E5ECF6",
            "gridcolor": "white",
            "gridwidth": 2,
            "linecolor": "white",
            "showbackground": true,
            "ticks": "",
            "zerolinecolor": "white"
           }
          },
          "shapedefaults": {
           "line": {
            "color": "#2a3f5f"
           }
          },
          "ternary": {
           "aaxis": {
            "gridcolor": "white",
            "linecolor": "white",
            "ticks": ""
           },
           "baxis": {
            "gridcolor": "white",
            "linecolor": "white",
            "ticks": ""
           },
           "bgcolor": "#E5ECF6",
           "caxis": {
            "gridcolor": "white",
            "linecolor": "white",
            "ticks": ""
           }
          },
          "title": {
           "x": 0.05
          },
          "xaxis": {
           "automargin": true,
           "gridcolor": "white",
           "linecolor": "white",
           "ticks": "",
           "title": {
            "standoff": 15
           },
           "zerolinecolor": "white",
           "zerolinewidth": 2
          },
          "yaxis": {
           "automargin": true,
           "gridcolor": "white",
           "linecolor": "white",
           "ticks": "",
           "title": {
            "standoff": 15
           },
           "zerolinecolor": "white",
           "zerolinewidth": 2
          }
         }
        },
        "title": {
         "text": "Loan Amount in Relation to Marital Status"
        },
        "xaxis": {
         "anchor": "y",
         "domain": [
          0,
          1
         ],
         "title": {
          "text": "LoanAmount"
         }
        },
        "xaxis2": {
         "anchor": "y2",
         "domain": [
          0,
          1
         ],
         "matches": "x",
         "showgrid": true,
         "showticklabels": false
        },
        "yaxis": {
         "anchor": "x",
         "domain": [
          0,
          0.7326
         ],
         "title": {
          "text": "count"
         }
        },
        "yaxis2": {
         "anchor": "x2",
         "domain": [
          0.7426,
          1
         ],
         "matches": "y2",
         "showgrid": false,
         "showline": false,
         "showticklabels": false,
         "ticks": ""
        }
       }
      }
     },
     "metadata": {}
    }
   ],
   "source": [
    "fig = px.histogram(loan_data, x='LoanAmount', marginal='box', color='Married', color_discrete_sequence=['red', 'purple', 'green'], title='Loan Amount in Relation to Marital Status')\n",
    "fig.update_layout(bargap=0.1)\n",
    "fig.show()\n",
    "#MORE MARRIED PEOPLE APPLIED FOR LOANS"
   ]
  },
  {
   "cell_type": "code",
   "execution_count": 23,
   "metadata": {},
   "outputs": [
    {
     "output_type": "display_data",
     "data": {
      "text/plain": "<Figure size 720x720 with 0 Axes>"
     },
     "metadata": {}
    },
    {
     "output_type": "display_data",
     "data": {
      "text/plain": "<Figure size 864x576 with 2 Axes>",
      "image/svg+xml": "<?xml version=\"1.0\" encoding=\"utf-8\" standalone=\"no\"?>\r\n<!DOCTYPE svg PUBLIC \"-//W3C//DTD SVG 1.1//EN\"\r\n  \"http://www.w3.org/Graphics/SVG/1.1/DTD/svg11.dtd\">\r\n<!-- Created with matplotlib (https://matplotlib.org/) -->\r\n<svg height=\"557.593281pt\" version=\"1.1\" viewBox=\"0 0 741.100875 557.593281\" width=\"741.100875pt\" xmlns=\"http://www.w3.org/2000/svg\" xmlns:xlink=\"http://www.w3.org/1999/xlink\">\r\n <metadata>\r\n  <rdf:RDF xmlns:cc=\"http://creativecommons.org/ns#\" xmlns:dc=\"http://purl.org/dc/elements/1.1/\" xmlns:rdf=\"http://www.w3.org/1999/02/22-rdf-syntax-ns#\">\r\n   <cc:Work>\r\n    <dc:type rdf:resource=\"http://purl.org/dc/dcmitype/StillImage\"/>\r\n    <dc:date>2021-07-11T15:55:48.417378</dc:date>\r\n    <dc:format>image/svg+xml</dc:format>\r\n    <dc:creator>\r\n     <cc:Agent>\r\n      <dc:title>Matplotlib v3.3.4, https://matplotlib.org/</dc:title>\r\n     </cc:Agent>\r\n    </dc:creator>\r\n   </cc:Work>\r\n  </rdf:RDF>\r\n </metadata>\r\n <defs>\r\n  <style type=\"text/css\">*{stroke-linecap:butt;stroke-linejoin:round;}</style>\r\n </defs>\r\n <g id=\"figure_1\">\r\n  <g id=\"patch_1\">\r\n   <path d=\"M 0 557.593281 \r\nL 741.100875 557.593281 \r\nL 741.100875 0 \r\nL 0 0 \r\nz\r\n\" style=\"fill:none;\"/>\r\n  </g>\r\n  <g id=\"axes_1\">\r\n   <g id=\"patch_2\">\r\n    <path d=\"M 111.714063 445.879219 \r\nL 647.394063 445.879219 \r\nL 647.394063 10.999219 \r\nL 111.714063 10.999219 \r\nz\r\n\" style=\"fill:#ffffff;\"/>\r\n   </g>\r\n   <g id=\"QuadMesh_1\">\r\n    <path clip-path=\"url(#p29e58aa00d)\" d=\"M 111.714063 27.725373 \r\nL 156.354062 27.725373 \r\nL 156.354062 61.17768 \r\nL 111.714063 61.17768 \r\nL 111.714063 27.725373 \r\n\" style=\"fill:#08306b;\"/>\r\n    <path clip-path=\"url(#p29e58aa00d)\" d=\"M 156.354062 27.725373 \r\nL 200.994063 27.725373 \r\nL 200.994063 61.17768 \r\nL 156.354062 61.17768 \r\nL 156.354062 27.725373 \r\n\" style=\"fill:#81badb;\"/>\r\n    <path clip-path=\"url(#p29e58aa00d)\" d=\"M 200.994063 27.725373 \r\nL 245.634063 27.725373 \r\nL 245.634063 61.17768 \r\nL 200.994063 61.17768 \r\nL 200.994063 27.725373 \r\n\" style=\"fill:#b2d2e8;\"/>\r\n    <path clip-path=\"url(#p29e58aa00d)\" d=\"M 245.634063 27.725373 \r\nL 290.274063 27.725373 \r\nL 290.274063 61.17768 \r\nL 245.634063 61.17768 \r\nL 245.634063 27.725373 \r\n\" style=\"fill:#d2e3f3;\"/>\r\n    <path clip-path=\"url(#p29e58aa00d)\" d=\"M 290.274063 27.725373 \r\nL 334.914062 27.725373 \r\nL 334.914062 61.17768 \r\nL 290.274063 61.17768 \r\nL 290.274063 27.725373 \r\n\" style=\"fill:#d9e8f5;\"/>\r\n    <path clip-path=\"url(#p29e58aa00d)\" d=\"M 334.914062 27.725373 \r\nL 379.554063 27.725373 \r\nL 379.554063 61.17768 \r\nL 334.914062 61.17768 \r\nL 334.914062 27.725373 \r\n\" style=\"fill:#caddf0;\"/>\r\n    <path clip-path=\"url(#p29e58aa00d)\" d=\"M 379.554063 27.725373 \r\nL 424.194063 27.725373 \r\nL 424.194063 61.17768 \r\nL 379.554063 61.17768 \r\nL 379.554063 27.725373 \r\n\" style=\"fill:#caddf0;\"/>\r\n    <path clip-path=\"url(#p29e58aa00d)\" d=\"M 424.194063 27.725373 \r\nL 468.834063 27.725373 \r\nL 468.834063 61.17768 \r\nL 424.194063 61.17768 \r\nL 424.194063 27.725373 \r\n\" style=\"fill:#bcd7eb;\"/>\r\n    <path clip-path=\"url(#p29e58aa00d)\" d=\"M 468.834063 27.725373 \r\nL 513.474062 27.725373 \r\nL 513.474062 61.17768 \r\nL 468.834063 61.17768 \r\nL 468.834063 27.725373 \r\n\" style=\"fill:#e0ecf8;\"/>\r\n    <path clip-path=\"url(#p29e58aa00d)\" d=\"M 513.474062 27.725373 \r\nL 558.114063 27.725373 \r\nL 558.114063 61.17768 \r\nL 513.474062 61.17768 \r\nL 513.474062 27.725373 \r\n\" style=\"fill:#d6e6f4;\"/>\r\n    <path clip-path=\"url(#p29e58aa00d)\" d=\"M 558.114063 27.725373 \r\nL 602.754063 27.725373 \r\nL 602.754063 61.17768 \r\nL 558.114063 61.17768 \r\nL 558.114063 27.725373 \r\n\" style=\"fill:#dae8f6;\"/>\r\n    <path clip-path=\"url(#p29e58aa00d)\" d=\"M 602.754063 27.725373 \r\nL 647.394063 27.725373 \r\nL 647.394063 61.17768 \r\nL 602.754063 61.17768 \r\nL 602.754063 27.725373 \r\n\" style=\"fill:#d4e4f4;\"/>\r\n    <path clip-path=\"url(#p29e58aa00d)\" d=\"M 111.714063 61.17768 \r\nL 156.354062 61.17768 \r\nL 156.354062 94.629988 \r\nL 111.714063 94.629988 \r\nL 111.714063 61.17768 \r\n\" style=\"fill:#81badb;\"/>\r\n    <path clip-path=\"url(#p29e58aa00d)\" d=\"M 156.354062 61.17768 \r\nL 200.994063 61.17768 \r\nL 200.994063 94.629988 \r\nL 156.354062 94.629988 \r\nL 156.354062 61.17768 \r\n\" style=\"fill:#08306b;\"/>\r\n    <path clip-path=\"url(#p29e58aa00d)\" d=\"M 200.994063 61.17768 \r\nL 245.634063 61.17768 \r\nL 245.634063 94.629988 \r\nL 200.994063 94.629988 \r\nL 200.994063 61.17768 \r\n\" style=\"fill:#85bcdc;\"/>\r\n    <path clip-path=\"url(#p29e58aa00d)\" d=\"M 245.634063 61.17768 \r\nL 290.274063 61.17768 \r\nL 290.274063 94.629988 \r\nL 245.634063 94.629988 \r\nL 245.634063 61.17768 \r\n\" style=\"fill:#d4e4f4;\"/>\r\n    <path clip-path=\"url(#p29e58aa00d)\" d=\"M 290.274063 61.17768 \r\nL 334.914062 61.17768 \r\nL 334.914062 94.629988 \r\nL 290.274063 94.629988 \r\nL 290.274063 61.17768 \r\n\" style=\"fill:#dce9f6;\"/>\r\n    <path clip-path=\"url(#p29e58aa00d)\" d=\"M 334.914062 61.17768 \r\nL 379.554063 61.17768 \r\nL 379.554063 94.629988 \r\nL 334.914062 94.629988 \r\nL 334.914062 61.17768 \r\n\" style=\"fill:#d3e3f3;\"/>\r\n    <path clip-path=\"url(#p29e58aa00d)\" d=\"M 379.554063 61.17768 \r\nL 424.194063 61.17768 \r\nL 424.194063 94.629988 \r\nL 379.554063 94.629988 \r\nL 379.554063 61.17768 \r\n\" style=\"fill:#cadef0;\"/>\r\n    <path clip-path=\"url(#p29e58aa00d)\" d=\"M 424.194063 61.17768 \r\nL 468.834063 61.17768 \r\nL 468.834063 94.629988 \r\nL 424.194063 94.629988 \r\nL 424.194063 61.17768 \r\n\" style=\"fill:#b9d6ea;\"/>\r\n    <path clip-path=\"url(#p29e58aa00d)\" d=\"M 468.834063 61.17768 \r\nL 513.474062 61.17768 \r\nL 513.474062 94.629988 \r\nL 468.834063 94.629988 \r\nL 468.834063 61.17768 \r\n\" style=\"fill:#e5eff9;\"/>\r\n    <path clip-path=\"url(#p29e58aa00d)\" d=\"M 513.474062 61.17768 \r\nL 558.114063 61.17768 \r\nL 558.114063 94.629988 \r\nL 513.474062 94.629988 \r\nL 513.474062 61.17768 \r\n\" style=\"fill:#d3e4f3;\"/>\r\n    <path clip-path=\"url(#p29e58aa00d)\" d=\"M 558.114063 61.17768 \r\nL 602.754063 61.17768 \r\nL 602.754063 94.629988 \r\nL 558.114063 94.629988 \r\nL 558.114063 61.17768 \r\n\" style=\"fill:#d4e4f4;\"/>\r\n    <path clip-path=\"url(#p29e58aa00d)\" d=\"M 602.754063 61.17768 \r\nL 647.394063 61.17768 \r\nL 647.394063 94.629988 \r\nL 602.754063 94.629988 \r\nL 602.754063 61.17768 \r\n\" style=\"fill:#c6dbef;\"/>\r\n    <path clip-path=\"url(#p29e58aa00d)\" d=\"M 111.714063 94.629988 \r\nL 156.354062 94.629988 \r\nL 156.354062 128.082296 \r\nL 111.714063 128.082296 \r\nL 111.714063 94.629988 \r\n\" style=\"fill:#b2d2e8;\"/>\r\n    <path clip-path=\"url(#p29e58aa00d)\" d=\"M 156.354062 94.629988 \r\nL 200.994063 94.629988 \r\nL 200.994063 128.082296 \r\nL 156.354062 128.082296 \r\nL 156.354062 94.629988 \r\n\" style=\"fill:#85bcdc;\"/>\r\n    <path clip-path=\"url(#p29e58aa00d)\" d=\"M 200.994063 94.629988 \r\nL 245.634063 94.629988 \r\nL 245.634063 128.082296 \r\nL 200.994063 128.082296 \r\nL 200.994063 94.629988 \r\n\" style=\"fill:#08306b;\"/>\r\n    <path clip-path=\"url(#p29e58aa00d)\" d=\"M 245.634063 94.629988 \r\nL 290.274063 94.629988 \r\nL 290.274063 128.082296 \r\nL 245.634063 128.082296 \r\nL 245.634063 94.629988 \r\n\" style=\"fill:#cddff1;\"/>\r\n    <path clip-path=\"url(#p29e58aa00d)\" d=\"M 290.274063 94.629988 \r\nL 334.914062 94.629988 \r\nL 334.914062 128.082296 \r\nL 290.274063 128.082296 \r\nL 290.274063 94.629988 \r\n\" style=\"fill:#d2e3f3;\"/>\r\n    <path clip-path=\"url(#p29e58aa00d)\" d=\"M 334.914062 94.629988 \r\nL 379.554063 94.629988 \r\nL 379.554063 128.082296 \r\nL 334.914062 128.082296 \r\nL 334.914062 94.629988 \r\n\" style=\"fill:#bcd7eb;\"/>\r\n    <path clip-path=\"url(#p29e58aa00d)\" d=\"M 379.554063 94.629988 \r\nL 424.194063 94.629988 \r\nL 424.194063 128.082296 \r\nL 379.554063 128.082296 \r\nL 379.554063 94.629988 \r\n\" style=\"fill:#d0e2f2;\"/>\r\n    <path clip-path=\"url(#p29e58aa00d)\" d=\"M 424.194063 94.629988 \r\nL 468.834063 94.629988 \r\nL 468.834063 128.082296 \r\nL 424.194063 128.082296 \r\nL 424.194063 94.629988 \r\n\" style=\"fill:#b4d3e9;\"/>\r\n    <path clip-path=\"url(#p29e58aa00d)\" d=\"M 468.834063 94.629988 \r\nL 513.474062 94.629988 \r\nL 513.474062 128.082296 \r\nL 468.834063 128.082296 \r\nL 468.834063 94.629988 \r\n\" style=\"fill:#e7f0fa;\"/>\r\n    <path clip-path=\"url(#p29e58aa00d)\" d=\"M 513.474062 94.629988 \r\nL 558.114063 94.629988 \r\nL 558.114063 128.082296 \r\nL 513.474062 128.082296 \r\nL 513.474062 94.629988 \r\n\" style=\"fill:#dce9f6;\"/>\r\n    <path clip-path=\"url(#p29e58aa00d)\" d=\"M 558.114063 94.629988 \r\nL 602.754063 94.629988 \r\nL 602.754063 128.082296 \r\nL 558.114063 128.082296 \r\nL 558.114063 94.629988 \r\n\" style=\"fill:#d6e5f4;\"/>\r\n    <path clip-path=\"url(#p29e58aa00d)\" d=\"M 602.754063 94.629988 \r\nL 647.394063 94.629988 \r\nL 647.394063 128.082296 \r\nL 602.754063 128.082296 \r\nL 602.754063 94.629988 \r\n\" style=\"fill:#d4e4f4;\"/>\r\n    <path clip-path=\"url(#p29e58aa00d)\" d=\"M 111.714063 128.082296 \r\nL 156.354062 128.082296 \r\nL 156.354062 161.534603 \r\nL 111.714063 161.534603 \r\nL 111.714063 128.082296 \r\n\" style=\"fill:#d2e3f3;\"/>\r\n    <path clip-path=\"url(#p29e58aa00d)\" d=\"M 156.354062 128.082296 \r\nL 200.994063 128.082296 \r\nL 200.994063 161.534603 \r\nL 156.354062 161.534603 \r\nL 156.354062 128.082296 \r\n\" style=\"fill:#d4e4f4;\"/>\r\n    <path clip-path=\"url(#p29e58aa00d)\" d=\"M 200.994063 128.082296 \r\nL 245.634063 128.082296 \r\nL 245.634063 161.534603 \r\nL 200.994063 161.534603 \r\nL 200.994063 128.082296 \r\n\" style=\"fill:#cddff1;\"/>\r\n    <path clip-path=\"url(#p29e58aa00d)\" d=\"M 245.634063 128.082296 \r\nL 290.274063 128.082296 \r\nL 290.274063 161.534603 \r\nL 245.634063 161.534603 \r\nL 245.634063 128.082296 \r\n\" style=\"fill:#08306b;\"/>\r\n    <path clip-path=\"url(#p29e58aa00d)\" d=\"M 290.274063 128.082296 \r\nL 334.914062 128.082296 \r\nL 334.914062 161.534603 \r\nL 290.274063 161.534603 \r\nL 290.274063 128.082296 \r\n\" style=\"fill:#d9e7f5;\"/>\r\n    <path clip-path=\"url(#p29e58aa00d)\" d=\"M 334.914062 128.082296 \r\nL 379.554063 128.082296 \r\nL 379.554063 161.534603 \r\nL 334.914062 161.534603 \r\nL 334.914062 128.082296 \r\n\" style=\"fill:#f5f9fe;\"/>\r\n    <path clip-path=\"url(#p29e58aa00d)\" d=\"M 379.554063 128.082296 \r\nL 424.194063 128.082296 \r\nL 424.194063 161.534603 \r\nL 379.554063 161.534603 \r\nL 379.554063 128.082296 \r\n\" style=\"fill:#dfecf7;\"/>\r\n    <path clip-path=\"url(#p29e58aa00d)\" d=\"M 424.194063 128.082296 \r\nL 468.834063 128.082296 \r\nL 468.834063 161.534603 \r\nL 424.194063 161.534603 \r\nL 424.194063 128.082296 \r\n\" style=\"fill:#f1f7fd;\"/>\r\n    <path clip-path=\"url(#p29e58aa00d)\" d=\"M 468.834063 128.082296 \r\nL 513.474062 128.082296 \r\nL 513.474062 161.534603 \r\nL 468.834063 161.534603 \r\nL 468.834063 128.082296 \r\n\" style=\"fill:#e2edf8;\"/>\r\n    <path clip-path=\"url(#p29e58aa00d)\" d=\"M 513.474062 128.082296 \r\nL 558.114063 128.082296 \r\nL 558.114063 161.534603 \r\nL 513.474062 161.534603 \r\nL 513.474062 128.082296 \r\n\" style=\"fill:#e2edf8;\"/>\r\n    <path clip-path=\"url(#p29e58aa00d)\" d=\"M 558.114063 128.082296 \r\nL 602.754063 128.082296 \r\nL 602.754063 161.534603 \r\nL 558.114063 161.534603 \r\nL 558.114063 128.082296 \r\n\" style=\"fill:#e0ecf8;\"/>\r\n    <path clip-path=\"url(#p29e58aa00d)\" d=\"M 602.754063 128.082296 \r\nL 647.394063 128.082296 \r\nL 647.394063 161.534603 \r\nL 602.754063 161.534603 \r\nL 602.754063 128.082296 \r\n\" style=\"fill:#e3eef9;\"/>\r\n    <path clip-path=\"url(#p29e58aa00d)\" d=\"M 111.714063 161.534603 \r\nL 156.354062 161.534603 \r\nL 156.354062 194.986911 \r\nL 111.714063 194.986911 \r\nL 111.714063 161.534603 \r\n\" style=\"fill:#d9e8f5;\"/>\r\n    <path clip-path=\"url(#p29e58aa00d)\" d=\"M 156.354062 161.534603 \r\nL 200.994063 161.534603 \r\nL 200.994063 194.986911 \r\nL 156.354062 194.986911 \r\nL 156.354062 161.534603 \r\n\" style=\"fill:#dce9f6;\"/>\r\n    <path clip-path=\"url(#p29e58aa00d)\" d=\"M 200.994063 161.534603 \r\nL 245.634063 161.534603 \r\nL 245.634063 194.986911 \r\nL 200.994063 194.986911 \r\nL 200.994063 161.534603 \r\n\" style=\"fill:#d2e3f3;\"/>\r\n    <path clip-path=\"url(#p29e58aa00d)\" d=\"M 245.634063 161.534603 \r\nL 290.274063 161.534603 \r\nL 290.274063 194.986911 \r\nL 245.634063 194.986911 \r\nL 245.634063 161.534603 \r\n\" style=\"fill:#d9e7f5;\"/>\r\n    <path clip-path=\"url(#p29e58aa00d)\" d=\"M 290.274063 161.534603 \r\nL 334.914062 161.534603 \r\nL 334.914062 194.986911 \r\nL 290.274063 194.986911 \r\nL 290.274063 161.534603 \r\n\" style=\"fill:#08306b;\"/>\r\n    <path clip-path=\"url(#p29e58aa00d)\" d=\"M 334.914062 161.534603 \r\nL 379.554063 161.534603 \r\nL 379.554063 194.986911 \r\nL 334.914062 194.986911 \r\nL 334.914062 161.534603 \r\n\" style=\"fill:#c4daee;\"/>\r\n    <path clip-path=\"url(#p29e58aa00d)\" d=\"M 379.554063 161.534603 \r\nL 424.194063 161.534603 \r\nL 424.194063 194.986911 \r\nL 379.554063 194.986911 \r\nL 379.554063 161.534603 \r\n\" style=\"fill:#cde0f1;\"/>\r\n    <path clip-path=\"url(#p29e58aa00d)\" d=\"M 424.194063 161.534603 \r\nL 468.834063 161.534603 \r\nL 468.834063 194.986911 \r\nL 424.194063 194.986911 \r\nL 424.194063 161.534603 \r\n\" style=\"fill:#c7dcef;\"/>\r\n    <path clip-path=\"url(#p29e58aa00d)\" d=\"M 468.834063 161.534603 \r\nL 513.474062 161.534603 \r\nL 513.474062 194.986911 \r\nL 468.834063 194.986911 \r\nL 468.834063 161.534603 \r\n\" style=\"fill:#dce9f6;\"/>\r\n    <path clip-path=\"url(#p29e58aa00d)\" d=\"M 513.474062 161.534603 \r\nL 558.114063 161.534603 \r\nL 558.114063 194.986911 \r\nL 513.474062 194.986911 \r\nL 513.474062 161.534603 \r\n\" style=\"fill:#ccdff1;\"/>\r\n    <path clip-path=\"url(#p29e58aa00d)\" d=\"M 558.114063 161.534603 \r\nL 602.754063 161.534603 \r\nL 602.754063 194.986911 \r\nL 558.114063 194.986911 \r\nL 558.114063 161.534603 \r\n\" style=\"fill:#d8e7f5;\"/>\r\n    <path clip-path=\"url(#p29e58aa00d)\" d=\"M 602.754063 161.534603 \r\nL 647.394063 161.534603 \r\nL 647.394063 194.986911 \r\nL 602.754063 194.986911 \r\nL 602.754063 161.534603 \r\n\" style=\"fill:#d4e4f4;\"/>\r\n    <path clip-path=\"url(#p29e58aa00d)\" d=\"M 111.714063 194.986911 \r\nL 156.354062 194.986911 \r\nL 156.354062 228.439219 \r\nL 111.714063 228.439219 \r\nL 111.714063 194.986911 \r\n\" style=\"fill:#caddf0;\"/>\r\n    <path clip-path=\"url(#p29e58aa00d)\" d=\"M 156.354062 194.986911 \r\nL 200.994063 194.986911 \r\nL 200.994063 228.439219 \r\nL 156.354062 228.439219 \r\nL 156.354062 194.986911 \r\n\" style=\"fill:#d3e3f3;\"/>\r\n    <path clip-path=\"url(#p29e58aa00d)\" d=\"M 200.994063 194.986911 \r\nL 245.634063 194.986911 \r\nL 245.634063 228.439219 \r\nL 200.994063 228.439219 \r\nL 200.994063 194.986911 \r\n\" style=\"fill:#bcd7eb;\"/>\r\n    <path clip-path=\"url(#p29e58aa00d)\" d=\"M 245.634063 194.986911 \r\nL 290.274063 194.986911 \r\nL 290.274063 228.439219 \r\nL 245.634063 228.439219 \r\nL 245.634063 194.986911 \r\n\" style=\"fill:#f5f9fe;\"/>\r\n    <path clip-path=\"url(#p29e58aa00d)\" d=\"M 290.274063 194.986911 \r\nL 334.914062 194.986911 \r\nL 334.914062 228.439219 \r\nL 290.274063 228.439219 \r\nL 290.274063 194.986911 \r\n\" style=\"fill:#c4daee;\"/>\r\n    <path clip-path=\"url(#p29e58aa00d)\" d=\"M 334.914062 194.986911 \r\nL 379.554063 194.986911 \r\nL 379.554063 228.439219 \r\nL 334.914062 228.439219 \r\nL 334.914062 194.986911 \r\n\" style=\"fill:#08306b;\"/>\r\n    <path clip-path=\"url(#p29e58aa00d)\" d=\"M 379.554063 194.986911 \r\nL 424.194063 194.986911 \r\nL 424.194063 228.439219 \r\nL 379.554063 228.439219 \r\nL 379.554063 194.986911 \r\n\" style=\"fill:#f7fbff;\"/>\r\n    <path clip-path=\"url(#p29e58aa00d)\" d=\"M 424.194063 194.986911 \r\nL 468.834063 194.986911 \r\nL 468.834063 228.439219 \r\nL 424.194063 228.439219 \r\nL 424.194063 194.986911 \r\n\" style=\"fill:#4f9bcb;\"/>\r\n    <path clip-path=\"url(#p29e58aa00d)\" d=\"M 468.834063 194.986911 \r\nL 513.474062 194.986911 \r\nL 513.474062 228.439219 \r\nL 468.834063 228.439219 \r\nL 468.834063 194.986911 \r\n\" style=\"fill:#dae8f6;\"/>\r\n    <path clip-path=\"url(#p29e58aa00d)\" d=\"M 513.474062 194.986911 \r\nL 558.114063 194.986911 \r\nL 558.114063 228.439219 \r\nL 513.474062 228.439219 \r\nL 513.474062 194.986911 \r\n\" style=\"fill:#d0e1f2;\"/>\r\n    <path clip-path=\"url(#p29e58aa00d)\" d=\"M 558.114063 194.986911 \r\nL 602.754063 194.986911 \r\nL 602.754063 228.439219 \r\nL 558.114063 228.439219 \r\nL 558.114063 194.986911 \r\n\" style=\"fill:#e0ecf8;\"/>\r\n    <path clip-path=\"url(#p29e58aa00d)\" d=\"M 602.754063 194.986911 \r\nL 647.394063 194.986911 \r\nL 647.394063 228.439219 \r\nL 602.754063 228.439219 \r\nL 602.754063 194.986911 \r\n\" style=\"fill:#d6e6f4;\"/>\r\n    <path clip-path=\"url(#p29e58aa00d)\" d=\"M 111.714063 228.439219 \r\nL 156.354062 228.439219 \r\nL 156.354062 261.891526 \r\nL 111.714063 261.891526 \r\nL 111.714063 228.439219 \r\n\" style=\"fill:#caddf0;\"/>\r\n    <path clip-path=\"url(#p29e58aa00d)\" d=\"M 156.354062 228.439219 \r\nL 200.994063 228.439219 \r\nL 200.994063 261.891526 \r\nL 156.354062 261.891526 \r\nL 156.354062 228.439219 \r\n\" style=\"fill:#cadef0;\"/>\r\n    <path clip-path=\"url(#p29e58aa00d)\" d=\"M 200.994063 228.439219 \r\nL 245.634063 228.439219 \r\nL 245.634063 261.891526 \r\nL 200.994063 261.891526 \r\nL 200.994063 228.439219 \r\n\" style=\"fill:#d0e2f2;\"/>\r\n    <path clip-path=\"url(#p29e58aa00d)\" d=\"M 245.634063 228.439219 \r\nL 290.274063 228.439219 \r\nL 290.274063 261.891526 \r\nL 245.634063 261.891526 \r\nL 245.634063 228.439219 \r\n\" style=\"fill:#dfecf7;\"/>\r\n    <path clip-path=\"url(#p29e58aa00d)\" d=\"M 290.274063 228.439219 \r\nL 334.914062 228.439219 \r\nL 334.914062 261.891526 \r\nL 290.274063 261.891526 \r\nL 290.274063 228.439219 \r\n\" style=\"fill:#cde0f1;\"/>\r\n    <path clip-path=\"url(#p29e58aa00d)\" d=\"M 334.914062 228.439219 \r\nL 379.554063 228.439219 \r\nL 379.554063 261.891526 \r\nL 334.914062 261.891526 \r\nL 334.914062 228.439219 \r\n\" style=\"fill:#f7fbff;\"/>\r\n    <path clip-path=\"url(#p29e58aa00d)\" d=\"M 379.554063 228.439219 \r\nL 424.194063 228.439219 \r\nL 424.194063 261.891526 \r\nL 379.554063 261.891526 \r\nL 379.554063 228.439219 \r\n\" style=\"fill:#08306b;\"/>\r\n    <path clip-path=\"url(#p29e58aa00d)\" d=\"M 424.194063 228.439219 \r\nL 468.834063 228.439219 \r\nL 468.834063 261.891526 \r\nL 424.194063 261.891526 \r\nL 424.194063 228.439219 \r\n\" style=\"fill:#aed1e7;\"/>\r\n    <path clip-path=\"url(#p29e58aa00d)\" d=\"M 468.834063 228.439219 \r\nL 513.474062 228.439219 \r\nL 513.474062 261.891526 \r\nL 468.834063 261.891526 \r\nL 468.834063 228.439219 \r\n\" style=\"fill:#dfecf7;\"/>\r\n    <path clip-path=\"url(#p29e58aa00d)\" d=\"M 513.474062 228.439219 \r\nL 558.114063 228.439219 \r\nL 558.114063 261.891526 \r\nL 513.474062 261.891526 \r\nL 513.474062 228.439219 \r\n\" style=\"fill:#d4e4f4;\"/>\r\n    <path clip-path=\"url(#p29e58aa00d)\" d=\"M 558.114063 228.439219 \r\nL 602.754063 228.439219 \r\nL 602.754063 261.891526 \r\nL 558.114063 261.891526 \r\nL 558.114063 228.439219 \r\n\" style=\"fill:#d4e4f4;\"/>\r\n    <path clip-path=\"url(#p29e58aa00d)\" d=\"M 602.754063 228.439219 \r\nL 647.394063 228.439219 \r\nL 647.394063 261.891526 \r\nL 602.754063 261.891526 \r\nL 602.754063 228.439219 \r\n\" style=\"fill:#dfebf7;\"/>\r\n    <path clip-path=\"url(#p29e58aa00d)\" d=\"M 111.714063 261.891526 \r\nL 156.354062 261.891526 \r\nL 156.354062 295.343834 \r\nL 111.714063 295.343834 \r\nL 111.714063 261.891526 \r\n\" style=\"fill:#bcd7eb;\"/>\r\n    <path clip-path=\"url(#p29e58aa00d)\" d=\"M 156.354062 261.891526 \r\nL 200.994063 261.891526 \r\nL 200.994063 295.343834 \r\nL 156.354062 295.343834 \r\nL 156.354062 261.891526 \r\n\" style=\"fill:#b9d6ea;\"/>\r\n    <path clip-path=\"url(#p29e58aa00d)\" d=\"M 200.994063 261.891526 \r\nL 245.634063 261.891526 \r\nL 245.634063 295.343834 \r\nL 200.994063 295.343834 \r\nL 200.994063 261.891526 \r\n\" style=\"fill:#b4d3e9;\"/>\r\n    <path clip-path=\"url(#p29e58aa00d)\" d=\"M 245.634063 261.891526 \r\nL 290.274063 261.891526 \r\nL 290.274063 295.343834 \r\nL 245.634063 295.343834 \r\nL 245.634063 261.891526 \r\n\" style=\"fill:#f1f7fd;\"/>\r\n    <path clip-path=\"url(#p29e58aa00d)\" d=\"M 290.274063 261.891526 \r\nL 334.914062 261.891526 \r\nL 334.914062 295.343834 \r\nL 290.274063 295.343834 \r\nL 290.274063 261.891526 \r\n\" style=\"fill:#c7dcef;\"/>\r\n    <path clip-path=\"url(#p29e58aa00d)\" d=\"M 334.914062 261.891526 \r\nL 379.554063 261.891526 \r\nL 379.554063 295.343834 \r\nL 334.914062 295.343834 \r\nL 334.914062 261.891526 \r\n\" style=\"fill:#4f9bcb;\"/>\r\n    <path clip-path=\"url(#p29e58aa00d)\" d=\"M 379.554063 261.891526 \r\nL 424.194063 261.891526 \r\nL 424.194063 295.343834 \r\nL 379.554063 295.343834 \r\nL 379.554063 261.891526 \r\n\" style=\"fill:#aed1e7;\"/>\r\n    <path clip-path=\"url(#p29e58aa00d)\" d=\"M 424.194063 261.891526 \r\nL 468.834063 261.891526 \r\nL 468.834063 295.343834 \r\nL 424.194063 295.343834 \r\nL 424.194063 261.891526 \r\n\" style=\"fill:#08306b;\"/>\r\n    <path clip-path=\"url(#p29e58aa00d)\" d=\"M 468.834063 261.891526 \r\nL 513.474062 261.891526 \r\nL 513.474062 295.343834 \r\nL 468.834063 295.343834 \r\nL 468.834063 261.891526 \r\n\" style=\"fill:#d0e1f2;\"/>\r\n    <path clip-path=\"url(#p29e58aa00d)\" d=\"M 513.474062 261.891526 \r\nL 558.114063 261.891526 \r\nL 558.114063 295.343834 \r\nL 513.474062 295.343834 \r\nL 513.474062 261.891526 \r\n\" style=\"fill:#d6e5f4;\"/>\r\n    <path clip-path=\"url(#p29e58aa00d)\" d=\"M 558.114063 261.891526 \r\nL 602.754063 261.891526 \r\nL 602.754063 295.343834 \r\nL 558.114063 295.343834 \r\nL 558.114063 261.891526 \r\n\" style=\"fill:#dceaf6;\"/>\r\n    <path clip-path=\"url(#p29e58aa00d)\" d=\"M 602.754063 261.891526 \r\nL 647.394063 261.891526 \r\nL 647.394063 295.343834 \r\nL 602.754063 295.343834 \r\nL 602.754063 261.891526 \r\n\" style=\"fill:#dce9f6;\"/>\r\n    <path clip-path=\"url(#p29e58aa00d)\" d=\"M 111.714063 295.343834 \r\nL 156.354062 295.343834 \r\nL 156.354062 328.796142 \r\nL 111.714063 328.796142 \r\nL 111.714063 295.343834 \r\n\" style=\"fill:#e0ecf8;\"/>\r\n    <path clip-path=\"url(#p29e58aa00d)\" d=\"M 156.354062 295.343834 \r\nL 200.994063 295.343834 \r\nL 200.994063 328.796142 \r\nL 156.354062 328.796142 \r\nL 156.354062 295.343834 \r\n\" style=\"fill:#e5eff9;\"/>\r\n    <path clip-path=\"url(#p29e58aa00d)\" d=\"M 200.994063 295.343834 \r\nL 245.634063 295.343834 \r\nL 245.634063 328.796142 \r\nL 200.994063 328.796142 \r\nL 200.994063 295.343834 \r\n\" style=\"fill:#e7f0fa;\"/>\r\n    <path clip-path=\"url(#p29e58aa00d)\" d=\"M 245.634063 295.343834 \r\nL 290.274063 295.343834 \r\nL 290.274063 328.796142 \r\nL 245.634063 328.796142 \r\nL 245.634063 295.343834 \r\n\" style=\"fill:#e2edf8;\"/>\r\n    <path clip-path=\"url(#p29e58aa00d)\" d=\"M 290.274063 295.343834 \r\nL 334.914062 295.343834 \r\nL 334.914062 328.796142 \r\nL 290.274063 328.796142 \r\nL 290.274063 295.343834 \r\n\" style=\"fill:#dce9f6;\"/>\r\n    <path clip-path=\"url(#p29e58aa00d)\" d=\"M 334.914062 295.343834 \r\nL 379.554063 295.343834 \r\nL 379.554063 328.796142 \r\nL 334.914062 328.796142 \r\nL 334.914062 295.343834 \r\n\" style=\"fill:#dae8f6;\"/>\r\n    <path clip-path=\"url(#p29e58aa00d)\" d=\"M 379.554063 295.343834 \r\nL 424.194063 295.343834 \r\nL 424.194063 328.796142 \r\nL 379.554063 328.796142 \r\nL 379.554063 295.343834 \r\n\" style=\"fill:#dfecf7;\"/>\r\n    <path clip-path=\"url(#p29e58aa00d)\" d=\"M 424.194063 295.343834 \r\nL 468.834063 295.343834 \r\nL 468.834063 328.796142 \r\nL 424.194063 328.796142 \r\nL 424.194063 295.343834 \r\n\" style=\"fill:#d0e1f2;\"/>\r\n    <path clip-path=\"url(#p29e58aa00d)\" d=\"M 468.834063 295.343834 \r\nL 513.474062 295.343834 \r\nL 513.474062 328.796142 \r\nL 468.834063 328.796142 \r\nL 468.834063 295.343834 \r\n\" style=\"fill:#08306b;\"/>\r\n    <path clip-path=\"url(#p29e58aa00d)\" d=\"M 513.474062 295.343834 \r\nL 558.114063 295.343834 \r\nL 558.114063 328.796142 \r\nL 513.474062 328.796142 \r\nL 513.474062 295.343834 \r\n\" style=\"fill:#d6e6f4;\"/>\r\n    <path clip-path=\"url(#p29e58aa00d)\" d=\"M 558.114063 295.343834 \r\nL 602.754063 295.343834 \r\nL 602.754063 328.796142 \r\nL 558.114063 328.796142 \r\nL 558.114063 295.343834 \r\n\" style=\"fill:#e2edf8;\"/>\r\n    <path clip-path=\"url(#p29e58aa00d)\" d=\"M 602.754063 295.343834 \r\nL 647.394063 295.343834 \r\nL 647.394063 328.796142 \r\nL 602.754063 328.796142 \r\nL 602.754063 295.343834 \r\n\" style=\"fill:#d9e8f5;\"/>\r\n    <path clip-path=\"url(#p29e58aa00d)\" d=\"M 111.714063 328.796142 \r\nL 156.354062 328.796142 \r\nL 156.354062 362.24845 \r\nL 111.714063 362.24845 \r\nL 111.714063 328.796142 \r\n\" style=\"fill:#d6e6f4;\"/>\r\n    <path clip-path=\"url(#p29e58aa00d)\" d=\"M 156.354062 328.796142 \r\nL 200.994063 328.796142 \r\nL 200.994063 362.24845 \r\nL 156.354062 362.24845 \r\nL 156.354062 328.796142 \r\n\" style=\"fill:#d3e4f3;\"/>\r\n    <path clip-path=\"url(#p29e58aa00d)\" d=\"M 200.994063 328.796142 \r\nL 245.634063 328.796142 \r\nL 245.634063 362.24845 \r\nL 200.994063 362.24845 \r\nL 200.994063 328.796142 \r\n\" style=\"fill:#dce9f6;\"/>\r\n    <path clip-path=\"url(#p29e58aa00d)\" d=\"M 245.634063 328.796142 \r\nL 290.274063 328.796142 \r\nL 290.274063 362.24845 \r\nL 245.634063 362.24845 \r\nL 245.634063 328.796142 \r\n\" style=\"fill:#e2edf8;\"/>\r\n    <path clip-path=\"url(#p29e58aa00d)\" d=\"M 290.274063 328.796142 \r\nL 334.914062 328.796142 \r\nL 334.914062 362.24845 \r\nL 290.274063 362.24845 \r\nL 290.274063 328.796142 \r\n\" style=\"fill:#ccdff1;\"/>\r\n    <path clip-path=\"url(#p29e58aa00d)\" d=\"M 334.914062 328.796142 \r\nL 379.554063 328.796142 \r\nL 379.554063 362.24845 \r\nL 334.914062 362.24845 \r\nL 334.914062 328.796142 \r\n\" style=\"fill:#d0e1f2;\"/>\r\n    <path clip-path=\"url(#p29e58aa00d)\" d=\"M 379.554063 328.796142 \r\nL 424.194063 328.796142 \r\nL 424.194063 362.24845 \r\nL 379.554063 362.24845 \r\nL 379.554063 328.796142 \r\n\" style=\"fill:#d4e4f4;\"/>\r\n    <path clip-path=\"url(#p29e58aa00d)\" d=\"M 424.194063 328.796142 \r\nL 468.834063 328.796142 \r\nL 468.834063 362.24845 \r\nL 424.194063 362.24845 \r\nL 424.194063 328.796142 \r\n\" style=\"fill:#d6e5f4;\"/>\r\n    <path clip-path=\"url(#p29e58aa00d)\" d=\"M 468.834063 328.796142 \r\nL 513.474062 328.796142 \r\nL 513.474062 362.24845 \r\nL 468.834063 362.24845 \r\nL 468.834063 328.796142 \r\n\" style=\"fill:#d6e6f4;\"/>\r\n    <path clip-path=\"url(#p29e58aa00d)\" d=\"M 513.474062 328.796142 \r\nL 558.114063 328.796142 \r\nL 558.114063 362.24845 \r\nL 513.474062 362.24845 \r\nL 513.474062 328.796142 \r\n\" style=\"fill:#08306b;\"/>\r\n    <path clip-path=\"url(#p29e58aa00d)\" d=\"M 558.114063 328.796142 \r\nL 602.754063 328.796142 \r\nL 602.754063 362.24845 \r\nL 558.114063 362.24845 \r\nL 558.114063 328.796142 \r\n\" style=\"fill:#d5e5f4;\"/>\r\n    <path clip-path=\"url(#p29e58aa00d)\" d=\"M 602.754063 328.796142 \r\nL 647.394063 328.796142 \r\nL 647.394063 362.24845 \r\nL 602.754063 362.24845 \r\nL 602.754063 328.796142 \r\n\" style=\"fill:#4493c7;\"/>\r\n    <path clip-path=\"url(#p29e58aa00d)\" d=\"M 111.714063 362.24845 \r\nL 156.354062 362.24845 \r\nL 156.354062 395.700757 \r\nL 111.714063 395.700757 \r\nL 111.714063 362.24845 \r\n\" style=\"fill:#dae8f6;\"/>\r\n    <path clip-path=\"url(#p29e58aa00d)\" d=\"M 156.354062 362.24845 \r\nL 200.994063 362.24845 \r\nL 200.994063 395.700757 \r\nL 156.354062 395.700757 \r\nL 156.354062 362.24845 \r\n\" style=\"fill:#d4e4f4;\"/>\r\n    <path clip-path=\"url(#p29e58aa00d)\" d=\"M 200.994063 362.24845 \r\nL 245.634063 362.24845 \r\nL 245.634063 395.700757 \r\nL 200.994063 395.700757 \r\nL 200.994063 362.24845 \r\n\" style=\"fill:#d6e5f4;\"/>\r\n    <path clip-path=\"url(#p29e58aa00d)\" d=\"M 245.634063 362.24845 \r\nL 290.274063 362.24845 \r\nL 290.274063 395.700757 \r\nL 245.634063 395.700757 \r\nL 245.634063 362.24845 \r\n\" style=\"fill:#e0ecf8;\"/>\r\n    <path clip-path=\"url(#p29e58aa00d)\" d=\"M 290.274063 362.24845 \r\nL 334.914062 362.24845 \r\nL 334.914062 395.700757 \r\nL 290.274063 395.700757 \r\nL 290.274063 362.24845 \r\n\" style=\"fill:#d8e7f5;\"/>\r\n    <path clip-path=\"url(#p29e58aa00d)\" d=\"M 334.914062 362.24845 \r\nL 379.554063 362.24845 \r\nL 379.554063 395.700757 \r\nL 334.914062 395.700757 \r\nL 334.914062 362.24845 \r\n\" style=\"fill:#e0ecf8;\"/>\r\n    <path clip-path=\"url(#p29e58aa00d)\" d=\"M 379.554063 362.24845 \r\nL 424.194063 362.24845 \r\nL 424.194063 395.700757 \r\nL 379.554063 395.700757 \r\nL 379.554063 362.24845 \r\n\" style=\"fill:#d4e4f4;\"/>\r\n    <path clip-path=\"url(#p29e58aa00d)\" d=\"M 424.194063 362.24845 \r\nL 468.834063 362.24845 \r\nL 468.834063 395.700757 \r\nL 424.194063 395.700757 \r\nL 424.194063 362.24845 \r\n\" style=\"fill:#dceaf6;\"/>\r\n    <path clip-path=\"url(#p29e58aa00d)\" d=\"M 468.834063 362.24845 \r\nL 513.474062 362.24845 \r\nL 513.474062 395.700757 \r\nL 468.834063 395.700757 \r\nL 468.834063 362.24845 \r\n\" style=\"fill:#e2edf8;\"/>\r\n    <path clip-path=\"url(#p29e58aa00d)\" d=\"M 513.474062 362.24845 \r\nL 558.114063 362.24845 \r\nL 558.114063 395.700757 \r\nL 513.474062 395.700757 \r\nL 513.474062 362.24845 \r\n\" style=\"fill:#d5e5f4;\"/>\r\n    <path clip-path=\"url(#p29e58aa00d)\" d=\"M 558.114063 362.24845 \r\nL 602.754063 362.24845 \r\nL 602.754063 395.700757 \r\nL 558.114063 395.700757 \r\nL 558.114063 362.24845 \r\n\" style=\"fill:#08306b;\"/>\r\n    <path clip-path=\"url(#p29e58aa00d)\" d=\"M 602.754063 362.24845 \r\nL 647.394063 362.24845 \r\nL 647.394063 395.700757 \r\nL 602.754063 395.700757 \r\nL 602.754063 362.24845 \r\n\" style=\"fill:#d0e2f2;\"/>\r\n    <path clip-path=\"url(#p29e58aa00d)\" d=\"M 111.714063 395.700757 \r\nL 156.354062 395.700757 \r\nL 156.354062 429.153065 \r\nL 111.714063 429.153065 \r\nL 111.714063 395.700757 \r\n\" style=\"fill:#d4e4f4;\"/>\r\n    <path clip-path=\"url(#p29e58aa00d)\" d=\"M 156.354062 395.700757 \r\nL 200.994063 395.700757 \r\nL 200.994063 429.153065 \r\nL 156.354062 429.153065 \r\nL 156.354062 395.700757 \r\n\" style=\"fill:#c6dbef;\"/>\r\n    <path clip-path=\"url(#p29e58aa00d)\" d=\"M 200.994063 395.700757 \r\nL 245.634063 395.700757 \r\nL 245.634063 429.153065 \r\nL 200.994063 429.153065 \r\nL 200.994063 395.700757 \r\n\" style=\"fill:#d4e4f4;\"/>\r\n    <path clip-path=\"url(#p29e58aa00d)\" d=\"M 245.634063 395.700757 \r\nL 290.274063 395.700757 \r\nL 290.274063 429.153065 \r\nL 245.634063 429.153065 \r\nL 245.634063 395.700757 \r\n\" style=\"fill:#e3eef9;\"/>\r\n    <path clip-path=\"url(#p29e58aa00d)\" d=\"M 290.274063 395.700757 \r\nL 334.914062 395.700757 \r\nL 334.914062 429.153065 \r\nL 290.274063 429.153065 \r\nL 290.274063 395.700757 \r\n\" style=\"fill:#d4e4f4;\"/>\r\n    <path clip-path=\"url(#p29e58aa00d)\" d=\"M 334.914062 395.700757 \r\nL 379.554063 395.700757 \r\nL 379.554063 429.153065 \r\nL 334.914062 429.153065 \r\nL 334.914062 395.700757 \r\n\" style=\"fill:#d6e6f4;\"/>\r\n    <path clip-path=\"url(#p29e58aa00d)\" d=\"M 379.554063 395.700757 \r\nL 424.194063 395.700757 \r\nL 424.194063 429.153065 \r\nL 379.554063 429.153065 \r\nL 379.554063 395.700757 \r\n\" style=\"fill:#dfebf7;\"/>\r\n    <path clip-path=\"url(#p29e58aa00d)\" d=\"M 424.194063 395.700757 \r\nL 468.834063 395.700757 \r\nL 468.834063 429.153065 \r\nL 424.194063 429.153065 \r\nL 424.194063 395.700757 \r\n\" style=\"fill:#dce9f6;\"/>\r\n    <path clip-path=\"url(#p29e58aa00d)\" d=\"M 468.834063 395.700757 \r\nL 513.474062 395.700757 \r\nL 513.474062 429.153065 \r\nL 468.834063 429.153065 \r\nL 468.834063 395.700757 \r\n\" style=\"fill:#d9e8f5;\"/>\r\n    <path clip-path=\"url(#p29e58aa00d)\" d=\"M 513.474062 395.700757 \r\nL 558.114063 395.700757 \r\nL 558.114063 429.153065 \r\nL 513.474062 429.153065 \r\nL 513.474062 395.700757 \r\n\" style=\"fill:#4493c7;\"/>\r\n    <path clip-path=\"url(#p29e58aa00d)\" d=\"M 558.114063 395.700757 \r\nL 602.754063 395.700757 \r\nL 602.754063 429.153065 \r\nL 558.114063 429.153065 \r\nL 558.114063 395.700757 \r\n\" style=\"fill:#d0e2f2;\"/>\r\n    <path clip-path=\"url(#p29e58aa00d)\" d=\"M 602.754063 395.700757 \r\nL 647.394063 395.700757 \r\nL 647.394063 429.153065 \r\nL 602.754063 429.153065 \r\nL 602.754063 395.700757 \r\n\" style=\"fill:#08306b;\"/>\r\n   </g>\r\n   <g id=\"matplotlib.axis_1\">\r\n    <g id=\"xtick_1\">\r\n     <g id=\"line2d_1\">\r\n      <defs>\r\n       <path d=\"M 0 0 \r\nL 0 3.5 \r\n\" id=\"m7ba0d7becf\" style=\"stroke:#000000;stroke-width:0.8;\"/>\r\n      </defs>\r\n      <g>\r\n       <use style=\"stroke:#000000;stroke-width:0.8;\" x=\"134.034063\" xlink:href=\"#m7ba0d7becf\" y=\"445.879219\"/>\r\n      </g>\r\n     </g>\r\n     <g id=\"text_1\">\r\n      <!-- Gender -->\r\n      <g transform=\"translate(136.793438 489.730781)rotate(-90)scale(0.1 -0.1)\">\r\n       <defs>\r\n        <path d=\"M 59.515625 10.40625 \r\nL 59.515625 29.984375 \r\nL 43.40625 29.984375 \r\nL 43.40625 38.09375 \r\nL 69.28125 38.09375 \r\nL 69.28125 6.78125 \r\nQ 63.578125 2.734375 56.6875 0.65625 \r\nQ 49.8125 -1.421875 42 -1.421875 \r\nQ 24.90625 -1.421875 15.25 8.5625 \r\nQ 5.609375 18.5625 5.609375 36.375 \r\nQ 5.609375 54.25 15.25 64.234375 \r\nQ 24.90625 74.21875 42 74.21875 \r\nQ 49.125 74.21875 55.546875 72.453125 \r\nQ 61.96875 70.703125 67.390625 67.28125 \r\nL 67.390625 56.78125 \r\nQ 61.921875 61.421875 55.765625 63.765625 \r\nQ 49.609375 66.109375 42.828125 66.109375 \r\nQ 29.4375 66.109375 22.71875 58.640625 \r\nQ 16.015625 51.171875 16.015625 36.375 \r\nQ 16.015625 21.625 22.71875 14.15625 \r\nQ 29.4375 6.6875 42.828125 6.6875 \r\nQ 48.046875 6.6875 52.140625 7.59375 \r\nQ 56.25 8.5 59.515625 10.40625 \r\nz\r\n\" id=\"DejaVuSans-71\"/>\r\n        <path d=\"M 56.203125 29.59375 \r\nL 56.203125 25.203125 \r\nL 14.890625 25.203125 \r\nQ 15.484375 15.921875 20.484375 11.0625 \r\nQ 25.484375 6.203125 34.421875 6.203125 \r\nQ 39.59375 6.203125 44.453125 7.46875 \r\nQ 49.3125 8.734375 54.109375 11.28125 \r\nL 54.109375 2.78125 \r\nQ 49.265625 0.734375 44.1875 -0.34375 \r\nQ 39.109375 -1.421875 33.890625 -1.421875 \r\nQ 20.796875 -1.421875 13.15625 6.1875 \r\nQ 5.515625 13.8125 5.515625 26.8125 \r\nQ 5.515625 40.234375 12.765625 48.109375 \r\nQ 20.015625 56 32.328125 56 \r\nQ 43.359375 56 49.78125 48.890625 \r\nQ 56.203125 41.796875 56.203125 29.59375 \r\nz\r\nM 47.21875 32.234375 \r\nQ 47.125 39.59375 43.09375 43.984375 \r\nQ 39.0625 48.390625 32.421875 48.390625 \r\nQ 24.90625 48.390625 20.390625 44.140625 \r\nQ 15.875 39.890625 15.1875 32.171875 \r\nz\r\n\" id=\"DejaVuSans-101\"/>\r\n        <path d=\"M 54.890625 33.015625 \r\nL 54.890625 0 \r\nL 45.90625 0 \r\nL 45.90625 32.71875 \r\nQ 45.90625 40.484375 42.875 44.328125 \r\nQ 39.84375 48.1875 33.796875 48.1875 \r\nQ 26.515625 48.1875 22.3125 43.546875 \r\nQ 18.109375 38.921875 18.109375 30.90625 \r\nL 18.109375 0 \r\nL 9.078125 0 \r\nL 9.078125 54.6875 \r\nL 18.109375 54.6875 \r\nL 18.109375 46.1875 \r\nQ 21.34375 51.125 25.703125 53.5625 \r\nQ 30.078125 56 35.796875 56 \r\nQ 45.21875 56 50.046875 50.171875 \r\nQ 54.890625 44.34375 54.890625 33.015625 \r\nz\r\n\" id=\"DejaVuSans-110\"/>\r\n        <path d=\"M 45.40625 46.390625 \r\nL 45.40625 75.984375 \r\nL 54.390625 75.984375 \r\nL 54.390625 0 \r\nL 45.40625 0 \r\nL 45.40625 8.203125 \r\nQ 42.578125 3.328125 38.25 0.953125 \r\nQ 33.9375 -1.421875 27.875 -1.421875 \r\nQ 17.96875 -1.421875 11.734375 6.484375 \r\nQ 5.515625 14.40625 5.515625 27.296875 \r\nQ 5.515625 40.1875 11.734375 48.09375 \r\nQ 17.96875 56 27.875 56 \r\nQ 33.9375 56 38.25 53.625 \r\nQ 42.578125 51.265625 45.40625 46.390625 \r\nz\r\nM 14.796875 27.296875 \r\nQ 14.796875 17.390625 18.875 11.75 \r\nQ 22.953125 6.109375 30.078125 6.109375 \r\nQ 37.203125 6.109375 41.296875 11.75 \r\nQ 45.40625 17.390625 45.40625 27.296875 \r\nQ 45.40625 37.203125 41.296875 42.84375 \r\nQ 37.203125 48.484375 30.078125 48.484375 \r\nQ 22.953125 48.484375 18.875 42.84375 \r\nQ 14.796875 37.203125 14.796875 27.296875 \r\nz\r\n\" id=\"DejaVuSans-100\"/>\r\n        <path d=\"M 41.109375 46.296875 \r\nQ 39.59375 47.171875 37.8125 47.578125 \r\nQ 36.03125 48 33.890625 48 \r\nQ 26.265625 48 22.1875 43.046875 \r\nQ 18.109375 38.09375 18.109375 28.8125 \r\nL 18.109375 0 \r\nL 9.078125 0 \r\nL 9.078125 54.6875 \r\nL 18.109375 54.6875 \r\nL 18.109375 46.1875 \r\nQ 20.953125 51.171875 25.484375 53.578125 \r\nQ 30.03125 56 36.53125 56 \r\nQ 37.453125 56 38.578125 55.875 \r\nQ 39.703125 55.765625 41.0625 55.515625 \r\nz\r\n\" id=\"DejaVuSans-114\"/>\r\n       </defs>\r\n       <use xlink:href=\"#DejaVuSans-71\"/>\r\n       <use x=\"77.490234\" xlink:href=\"#DejaVuSans-101\"/>\r\n       <use x=\"139.013672\" xlink:href=\"#DejaVuSans-110\"/>\r\n       <use x=\"202.392578\" xlink:href=\"#DejaVuSans-100\"/>\r\n       <use x=\"265.869141\" xlink:href=\"#DejaVuSans-101\"/>\r\n       <use x=\"327.392578\" xlink:href=\"#DejaVuSans-114\"/>\r\n      </g>\r\n     </g>\r\n    </g>\r\n    <g id=\"xtick_2\">\r\n     <g id=\"line2d_2\">\r\n      <g>\r\n       <use style=\"stroke:#000000;stroke-width:0.8;\" x=\"178.674063\" xlink:href=\"#m7ba0d7becf\" y=\"445.879219\"/>\r\n      </g>\r\n     </g>\r\n     <g id=\"text_2\">\r\n      <!-- Married -->\r\n      <g transform=\"translate(181.433438 490.962031)rotate(-90)scale(0.1 -0.1)\">\r\n       <defs>\r\n        <path d=\"M 9.8125 72.90625 \r\nL 24.515625 72.90625 \r\nL 43.109375 23.296875 \r\nL 61.8125 72.90625 \r\nL 76.515625 72.90625 \r\nL 76.515625 0 \r\nL 66.890625 0 \r\nL 66.890625 64.015625 \r\nL 48.09375 14.015625 \r\nL 38.1875 14.015625 \r\nL 19.390625 64.015625 \r\nL 19.390625 0 \r\nL 9.8125 0 \r\nz\r\n\" id=\"DejaVuSans-77\"/>\r\n        <path d=\"M 34.28125 27.484375 \r\nQ 23.390625 27.484375 19.1875 25 \r\nQ 14.984375 22.515625 14.984375 16.5 \r\nQ 14.984375 11.71875 18.140625 8.90625 \r\nQ 21.296875 6.109375 26.703125 6.109375 \r\nQ 34.1875 6.109375 38.703125 11.40625 \r\nQ 43.21875 16.703125 43.21875 25.484375 \r\nL 43.21875 27.484375 \r\nz\r\nM 52.203125 31.203125 \r\nL 52.203125 0 \r\nL 43.21875 0 \r\nL 43.21875 8.296875 \r\nQ 40.140625 3.328125 35.546875 0.953125 \r\nQ 30.953125 -1.421875 24.3125 -1.421875 \r\nQ 15.921875 -1.421875 10.953125 3.296875 \r\nQ 6 8.015625 6 15.921875 \r\nQ 6 25.140625 12.171875 29.828125 \r\nQ 18.359375 34.515625 30.609375 34.515625 \r\nL 43.21875 34.515625 \r\nL 43.21875 35.40625 \r\nQ 43.21875 41.609375 39.140625 45 \r\nQ 35.0625 48.390625 27.6875 48.390625 \r\nQ 23 48.390625 18.546875 47.265625 \r\nQ 14.109375 46.140625 10.015625 43.890625 \r\nL 10.015625 52.203125 \r\nQ 14.9375 54.109375 19.578125 55.046875 \r\nQ 24.21875 56 28.609375 56 \r\nQ 40.484375 56 46.34375 49.84375 \r\nQ 52.203125 43.703125 52.203125 31.203125 \r\nz\r\n\" id=\"DejaVuSans-97\"/>\r\n        <path d=\"M 9.421875 54.6875 \r\nL 18.40625 54.6875 \r\nL 18.40625 0 \r\nL 9.421875 0 \r\nz\r\nM 9.421875 75.984375 \r\nL 18.40625 75.984375 \r\nL 18.40625 64.59375 \r\nL 9.421875 64.59375 \r\nz\r\n\" id=\"DejaVuSans-105\"/>\r\n       </defs>\r\n       <use xlink:href=\"#DejaVuSans-77\"/>\r\n       <use x=\"86.279297\" xlink:href=\"#DejaVuSans-97\"/>\r\n       <use x=\"147.558594\" xlink:href=\"#DejaVuSans-114\"/>\r\n       <use x=\"186.921875\" xlink:href=\"#DejaVuSans-114\"/>\r\n       <use x=\"228.035156\" xlink:href=\"#DejaVuSans-105\"/>\r\n       <use x=\"255.818359\" xlink:href=\"#DejaVuSans-101\"/>\r\n       <use x=\"317.341797\" xlink:href=\"#DejaVuSans-100\"/>\r\n      </g>\r\n     </g>\r\n    </g>\r\n    <g id=\"xtick_3\">\r\n     <g id=\"line2d_3\">\r\n      <g>\r\n       <use style=\"stroke:#000000;stroke-width:0.8;\" x=\"223.314063\" xlink:href=\"#m7ba0d7becf\" y=\"445.879219\"/>\r\n      </g>\r\n     </g>\r\n     <g id=\"text_3\">\r\n      <!-- Dependents -->\r\n      <g transform=\"translate(226.073438 513.540156)rotate(-90)scale(0.1 -0.1)\">\r\n       <defs>\r\n        <path d=\"M 19.671875 64.796875 \r\nL 19.671875 8.109375 \r\nL 31.59375 8.109375 \r\nQ 46.6875 8.109375 53.6875 14.9375 \r\nQ 60.6875 21.78125 60.6875 36.53125 \r\nQ 60.6875 51.171875 53.6875 57.984375 \r\nQ 46.6875 64.796875 31.59375 64.796875 \r\nz\r\nM 9.8125 72.90625 \r\nL 30.078125 72.90625 \r\nQ 51.265625 72.90625 61.171875 64.09375 \r\nQ 71.09375 55.28125 71.09375 36.53125 \r\nQ 71.09375 17.671875 61.125 8.828125 \r\nQ 51.171875 0 30.078125 0 \r\nL 9.8125 0 \r\nz\r\n\" id=\"DejaVuSans-68\"/>\r\n        <path d=\"M 18.109375 8.203125 \r\nL 18.109375 -20.796875 \r\nL 9.078125 -20.796875 \r\nL 9.078125 54.6875 \r\nL 18.109375 54.6875 \r\nL 18.109375 46.390625 \r\nQ 20.953125 51.265625 25.265625 53.625 \r\nQ 29.59375 56 35.59375 56 \r\nQ 45.5625 56 51.78125 48.09375 \r\nQ 58.015625 40.1875 58.015625 27.296875 \r\nQ 58.015625 14.40625 51.78125 6.484375 \r\nQ 45.5625 -1.421875 35.59375 -1.421875 \r\nQ 29.59375 -1.421875 25.265625 0.953125 \r\nQ 20.953125 3.328125 18.109375 8.203125 \r\nz\r\nM 48.6875 27.296875 \r\nQ 48.6875 37.203125 44.609375 42.84375 \r\nQ 40.53125 48.484375 33.40625 48.484375 \r\nQ 26.265625 48.484375 22.1875 42.84375 \r\nQ 18.109375 37.203125 18.109375 27.296875 \r\nQ 18.109375 17.390625 22.1875 11.75 \r\nQ 26.265625 6.109375 33.40625 6.109375 \r\nQ 40.53125 6.109375 44.609375 11.75 \r\nQ 48.6875 17.390625 48.6875 27.296875 \r\nz\r\n\" id=\"DejaVuSans-112\"/>\r\n        <path d=\"M 18.3125 70.21875 \r\nL 18.3125 54.6875 \r\nL 36.8125 54.6875 \r\nL 36.8125 47.703125 \r\nL 18.3125 47.703125 \r\nL 18.3125 18.015625 \r\nQ 18.3125 11.328125 20.140625 9.421875 \r\nQ 21.96875 7.515625 27.59375 7.515625 \r\nL 36.8125 7.515625 \r\nL 36.8125 0 \r\nL 27.59375 0 \r\nQ 17.1875 0 13.234375 3.875 \r\nQ 9.28125 7.765625 9.28125 18.015625 \r\nL 9.28125 47.703125 \r\nL 2.6875 47.703125 \r\nL 2.6875 54.6875 \r\nL 9.28125 54.6875 \r\nL 9.28125 70.21875 \r\nz\r\n\" id=\"DejaVuSans-116\"/>\r\n        <path d=\"M 44.28125 53.078125 \r\nL 44.28125 44.578125 \r\nQ 40.484375 46.53125 36.375 47.5 \r\nQ 32.28125 48.484375 27.875 48.484375 \r\nQ 21.1875 48.484375 17.84375 46.4375 \r\nQ 14.5 44.390625 14.5 40.28125 \r\nQ 14.5 37.15625 16.890625 35.375 \r\nQ 19.28125 33.59375 26.515625 31.984375 \r\nL 29.59375 31.296875 \r\nQ 39.15625 29.25 43.1875 25.515625 \r\nQ 47.21875 21.78125 47.21875 15.09375 \r\nQ 47.21875 7.46875 41.1875 3.015625 \r\nQ 35.15625 -1.421875 24.609375 -1.421875 \r\nQ 20.21875 -1.421875 15.453125 -0.5625 \r\nQ 10.6875 0.296875 5.421875 2 \r\nL 5.421875 11.28125 \r\nQ 10.40625 8.6875 15.234375 7.390625 \r\nQ 20.0625 6.109375 24.8125 6.109375 \r\nQ 31.15625 6.109375 34.5625 8.28125 \r\nQ 37.984375 10.453125 37.984375 14.40625 \r\nQ 37.984375 18.0625 35.515625 20.015625 \r\nQ 33.0625 21.96875 24.703125 23.78125 \r\nL 21.578125 24.515625 \r\nQ 13.234375 26.265625 9.515625 29.90625 \r\nQ 5.8125 33.546875 5.8125 39.890625 \r\nQ 5.8125 47.609375 11.28125 51.796875 \r\nQ 16.75 56 26.8125 56 \r\nQ 31.78125 56 36.171875 55.265625 \r\nQ 40.578125 54.546875 44.28125 53.078125 \r\nz\r\n\" id=\"DejaVuSans-115\"/>\r\n       </defs>\r\n       <use xlink:href=\"#DejaVuSans-68\"/>\r\n       <use x=\"77.001953\" xlink:href=\"#DejaVuSans-101\"/>\r\n       <use x=\"138.525391\" xlink:href=\"#DejaVuSans-112\"/>\r\n       <use x=\"202.001953\" xlink:href=\"#DejaVuSans-101\"/>\r\n       <use x=\"263.525391\" xlink:href=\"#DejaVuSans-110\"/>\r\n       <use x=\"326.904297\" xlink:href=\"#DejaVuSans-100\"/>\r\n       <use x=\"390.380859\" xlink:href=\"#DejaVuSans-101\"/>\r\n       <use x=\"451.904297\" xlink:href=\"#DejaVuSans-110\"/>\r\n       <use x=\"515.283203\" xlink:href=\"#DejaVuSans-116\"/>\r\n       <use x=\"554.492188\" xlink:href=\"#DejaVuSans-115\"/>\r\n      </g>\r\n     </g>\r\n    </g>\r\n    <g id=\"xtick_4\">\r\n     <g id=\"line2d_4\">\r\n      <g>\r\n       <use style=\"stroke:#000000;stroke-width:0.8;\" x=\"267.954063\" xlink:href=\"#m7ba0d7becf\" y=\"445.879219\"/>\r\n      </g>\r\n     </g>\r\n     <g id=\"text_4\">\r\n      <!-- Education -->\r\n      <g transform=\"translate(270.713437 502.665156)rotate(-90)scale(0.1 -0.1)\">\r\n       <defs>\r\n        <path d=\"M 9.8125 72.90625 \r\nL 55.90625 72.90625 \r\nL 55.90625 64.59375 \r\nL 19.671875 64.59375 \r\nL 19.671875 43.015625 \r\nL 54.390625 43.015625 \r\nL 54.390625 34.71875 \r\nL 19.671875 34.71875 \r\nL 19.671875 8.296875 \r\nL 56.78125 8.296875 \r\nL 56.78125 0 \r\nL 9.8125 0 \r\nz\r\n\" id=\"DejaVuSans-69\"/>\r\n        <path d=\"M 8.5 21.578125 \r\nL 8.5 54.6875 \r\nL 17.484375 54.6875 \r\nL 17.484375 21.921875 \r\nQ 17.484375 14.15625 20.5 10.265625 \r\nQ 23.53125 6.390625 29.59375 6.390625 \r\nQ 36.859375 6.390625 41.078125 11.03125 \r\nQ 45.3125 15.671875 45.3125 23.6875 \r\nL 45.3125 54.6875 \r\nL 54.296875 54.6875 \r\nL 54.296875 0 \r\nL 45.3125 0 \r\nL 45.3125 8.40625 \r\nQ 42.046875 3.421875 37.71875 1 \r\nQ 33.40625 -1.421875 27.6875 -1.421875 \r\nQ 18.265625 -1.421875 13.375 4.4375 \r\nQ 8.5 10.296875 8.5 21.578125 \r\nz\r\nM 31.109375 56 \r\nz\r\n\" id=\"DejaVuSans-117\"/>\r\n        <path d=\"M 48.78125 52.59375 \r\nL 48.78125 44.1875 \r\nQ 44.96875 46.296875 41.140625 47.34375 \r\nQ 37.3125 48.390625 33.40625 48.390625 \r\nQ 24.65625 48.390625 19.8125 42.84375 \r\nQ 14.984375 37.3125 14.984375 27.296875 \r\nQ 14.984375 17.28125 19.8125 11.734375 \r\nQ 24.65625 6.203125 33.40625 6.203125 \r\nQ 37.3125 6.203125 41.140625 7.25 \r\nQ 44.96875 8.296875 48.78125 10.40625 \r\nL 48.78125 2.09375 \r\nQ 45.015625 0.34375 40.984375 -0.53125 \r\nQ 36.96875 -1.421875 32.421875 -1.421875 \r\nQ 20.0625 -1.421875 12.78125 6.34375 \r\nQ 5.515625 14.109375 5.515625 27.296875 \r\nQ 5.515625 40.671875 12.859375 48.328125 \r\nQ 20.21875 56 33.015625 56 \r\nQ 37.15625 56 41.109375 55.140625 \r\nQ 45.0625 54.296875 48.78125 52.59375 \r\nz\r\n\" id=\"DejaVuSans-99\"/>\r\n        <path d=\"M 30.609375 48.390625 \r\nQ 23.390625 48.390625 19.1875 42.75 \r\nQ 14.984375 37.109375 14.984375 27.296875 \r\nQ 14.984375 17.484375 19.15625 11.84375 \r\nQ 23.34375 6.203125 30.609375 6.203125 \r\nQ 37.796875 6.203125 41.984375 11.859375 \r\nQ 46.1875 17.53125 46.1875 27.296875 \r\nQ 46.1875 37.015625 41.984375 42.703125 \r\nQ 37.796875 48.390625 30.609375 48.390625 \r\nz\r\nM 30.609375 56 \r\nQ 42.328125 56 49.015625 48.375 \r\nQ 55.71875 40.765625 55.71875 27.296875 \r\nQ 55.71875 13.875 49.015625 6.21875 \r\nQ 42.328125 -1.421875 30.609375 -1.421875 \r\nQ 18.84375 -1.421875 12.171875 6.21875 \r\nQ 5.515625 13.875 5.515625 27.296875 \r\nQ 5.515625 40.765625 12.171875 48.375 \r\nQ 18.84375 56 30.609375 56 \r\nz\r\n\" id=\"DejaVuSans-111\"/>\r\n       </defs>\r\n       <use xlink:href=\"#DejaVuSans-69\"/>\r\n       <use x=\"63.183594\" xlink:href=\"#DejaVuSans-100\"/>\r\n       <use x=\"126.660156\" xlink:href=\"#DejaVuSans-117\"/>\r\n       <use x=\"190.039062\" xlink:href=\"#DejaVuSans-99\"/>\r\n       <use x=\"245.019531\" xlink:href=\"#DejaVuSans-97\"/>\r\n       <use x=\"306.298828\" xlink:href=\"#DejaVuSans-116\"/>\r\n       <use x=\"345.507812\" xlink:href=\"#DejaVuSans-105\"/>\r\n       <use x=\"373.291016\" xlink:href=\"#DejaVuSans-111\"/>\r\n       <use x=\"434.472656\" xlink:href=\"#DejaVuSans-110\"/>\r\n      </g>\r\n     </g>\r\n    </g>\r\n    <g id=\"xtick_5\">\r\n     <g id=\"line2d_5\">\r\n      <g>\r\n       <use style=\"stroke:#000000;stroke-width:0.8;\" x=\"312.594063\" xlink:href=\"#m7ba0d7becf\" y=\"445.879219\"/>\r\n      </g>\r\n     </g>\r\n     <g id=\"text_5\">\r\n      <!-- Self_Employed -->\r\n      <g transform=\"translate(315.214375 526.404219)rotate(-90)scale(0.1 -0.1)\">\r\n       <defs>\r\n        <path d=\"M 53.515625 70.515625 \r\nL 53.515625 60.890625 \r\nQ 47.90625 63.578125 42.921875 64.890625 \r\nQ 37.9375 66.21875 33.296875 66.21875 \r\nQ 25.25 66.21875 20.875 63.09375 \r\nQ 16.5 59.96875 16.5 54.203125 \r\nQ 16.5 49.359375 19.40625 46.890625 \r\nQ 22.3125 44.4375 30.421875 42.921875 \r\nL 36.375 41.703125 \r\nQ 47.40625 39.59375 52.65625 34.296875 \r\nQ 57.90625 29 57.90625 20.125 \r\nQ 57.90625 9.515625 50.796875 4.046875 \r\nQ 43.703125 -1.421875 29.984375 -1.421875 \r\nQ 24.8125 -1.421875 18.96875 -0.25 \r\nQ 13.140625 0.921875 6.890625 3.21875 \r\nL 6.890625 13.375 \r\nQ 12.890625 10.015625 18.65625 8.296875 \r\nQ 24.421875 6.59375 29.984375 6.59375 \r\nQ 38.421875 6.59375 43.015625 9.90625 \r\nQ 47.609375 13.234375 47.609375 19.390625 \r\nQ 47.609375 24.75 44.3125 27.78125 \r\nQ 41.015625 30.8125 33.5 32.328125 \r\nL 27.484375 33.5 \r\nQ 16.453125 35.6875 11.515625 40.375 \r\nQ 6.59375 45.0625 6.59375 53.421875 \r\nQ 6.59375 63.09375 13.40625 68.65625 \r\nQ 20.21875 74.21875 32.171875 74.21875 \r\nQ 37.3125 74.21875 42.625 73.28125 \r\nQ 47.953125 72.359375 53.515625 70.515625 \r\nz\r\n\" id=\"DejaVuSans-83\"/>\r\n        <path d=\"M 9.421875 75.984375 \r\nL 18.40625 75.984375 \r\nL 18.40625 0 \r\nL 9.421875 0 \r\nz\r\n\" id=\"DejaVuSans-108\"/>\r\n        <path d=\"M 37.109375 75.984375 \r\nL 37.109375 68.5 \r\nL 28.515625 68.5 \r\nQ 23.6875 68.5 21.796875 66.546875 \r\nQ 19.921875 64.59375 19.921875 59.515625 \r\nL 19.921875 54.6875 \r\nL 34.71875 54.6875 \r\nL 34.71875 47.703125 \r\nL 19.921875 47.703125 \r\nL 19.921875 0 \r\nL 10.890625 0 \r\nL 10.890625 47.703125 \r\nL 2.296875 47.703125 \r\nL 2.296875 54.6875 \r\nL 10.890625 54.6875 \r\nL 10.890625 58.5 \r\nQ 10.890625 67.625 15.140625 71.796875 \r\nQ 19.390625 75.984375 28.609375 75.984375 \r\nz\r\n\" id=\"DejaVuSans-102\"/>\r\n        <path d=\"M 50.984375 -16.609375 \r\nL 50.984375 -23.578125 \r\nL -0.984375 -23.578125 \r\nL -0.984375 -16.609375 \r\nz\r\n\" id=\"DejaVuSans-95\"/>\r\n        <path d=\"M 52 44.1875 \r\nQ 55.375 50.25 60.0625 53.125 \r\nQ 64.75 56 71.09375 56 \r\nQ 79.640625 56 84.28125 50.015625 \r\nQ 88.921875 44.046875 88.921875 33.015625 \r\nL 88.921875 0 \r\nL 79.890625 0 \r\nL 79.890625 32.71875 \r\nQ 79.890625 40.578125 77.09375 44.375 \r\nQ 74.3125 48.1875 68.609375 48.1875 \r\nQ 61.625 48.1875 57.5625 43.546875 \r\nQ 53.515625 38.921875 53.515625 30.90625 \r\nL 53.515625 0 \r\nL 44.484375 0 \r\nL 44.484375 32.71875 \r\nQ 44.484375 40.625 41.703125 44.40625 \r\nQ 38.921875 48.1875 33.109375 48.1875 \r\nQ 26.21875 48.1875 22.15625 43.53125 \r\nQ 18.109375 38.875 18.109375 30.90625 \r\nL 18.109375 0 \r\nL 9.078125 0 \r\nL 9.078125 54.6875 \r\nL 18.109375 54.6875 \r\nL 18.109375 46.1875 \r\nQ 21.1875 51.21875 25.484375 53.609375 \r\nQ 29.78125 56 35.6875 56 \r\nQ 41.65625 56 45.828125 52.96875 \r\nQ 50 49.953125 52 44.1875 \r\nz\r\n\" id=\"DejaVuSans-109\"/>\r\n        <path d=\"M 32.171875 -5.078125 \r\nQ 28.375 -14.84375 24.75 -17.8125 \r\nQ 21.140625 -20.796875 15.09375 -20.796875 \r\nL 7.90625 -20.796875 \r\nL 7.90625 -13.28125 \r\nL 13.1875 -13.28125 \r\nQ 16.890625 -13.28125 18.9375 -11.515625 \r\nQ 21 -9.765625 23.484375 -3.21875 \r\nL 25.09375 0.875 \r\nL 2.984375 54.6875 \r\nL 12.5 54.6875 \r\nL 29.59375 11.921875 \r\nL 46.6875 54.6875 \r\nL 56.203125 54.6875 \r\nz\r\n\" id=\"DejaVuSans-121\"/>\r\n       </defs>\r\n       <use xlink:href=\"#DejaVuSans-83\"/>\r\n       <use x=\"63.476562\" xlink:href=\"#DejaVuSans-101\"/>\r\n       <use x=\"125\" xlink:href=\"#DejaVuSans-108\"/>\r\n       <use x=\"152.783203\" xlink:href=\"#DejaVuSans-102\"/>\r\n       <use x=\"187.988281\" xlink:href=\"#DejaVuSans-95\"/>\r\n       <use x=\"237.988281\" xlink:href=\"#DejaVuSans-69\"/>\r\n       <use x=\"301.171875\" xlink:href=\"#DejaVuSans-109\"/>\r\n       <use x=\"398.583984\" xlink:href=\"#DejaVuSans-112\"/>\r\n       <use x=\"462.060547\" xlink:href=\"#DejaVuSans-108\"/>\r\n       <use x=\"489.84375\" xlink:href=\"#DejaVuSans-111\"/>\r\n       <use x=\"551.025391\" xlink:href=\"#DejaVuSans-121\"/>\r\n       <use x=\"610.205078\" xlink:href=\"#DejaVuSans-101\"/>\r\n       <use x=\"671.728516\" xlink:href=\"#DejaVuSans-100\"/>\r\n      </g>\r\n     </g>\r\n    </g>\r\n    <g id=\"xtick_6\">\r\n     <g id=\"line2d_6\">\r\n      <g>\r\n       <use style=\"stroke:#000000;stroke-width:0.8;\" x=\"357.234063\" xlink:href=\"#m7ba0d7becf\" y=\"445.879219\"/>\r\n      </g>\r\n     </g>\r\n     <g id=\"text_6\">\r\n      <!-- ApplicantIncome -->\r\n      <g transform=\"translate(359.993438 536.655781)rotate(-90)scale(0.1 -0.1)\">\r\n       <defs>\r\n        <path d=\"M 34.1875 63.1875 \r\nL 20.796875 26.90625 \r\nL 47.609375 26.90625 \r\nz\r\nM 28.609375 72.90625 \r\nL 39.796875 72.90625 \r\nL 67.578125 0 \r\nL 57.328125 0 \r\nL 50.6875 18.703125 \r\nL 17.828125 18.703125 \r\nL 11.1875 0 \r\nL 0.78125 0 \r\nz\r\n\" id=\"DejaVuSans-65\"/>\r\n        <path d=\"M 9.8125 72.90625 \r\nL 19.671875 72.90625 \r\nL 19.671875 0 \r\nL 9.8125 0 \r\nz\r\n\" id=\"DejaVuSans-73\"/>\r\n       </defs>\r\n       <use xlink:href=\"#DejaVuSans-65\"/>\r\n       <use x=\"68.408203\" xlink:href=\"#DejaVuSans-112\"/>\r\n       <use x=\"131.884766\" xlink:href=\"#DejaVuSans-112\"/>\r\n       <use x=\"195.361328\" xlink:href=\"#DejaVuSans-108\"/>\r\n       <use x=\"223.144531\" xlink:href=\"#DejaVuSans-105\"/>\r\n       <use x=\"250.927734\" xlink:href=\"#DejaVuSans-99\"/>\r\n       <use x=\"305.908203\" xlink:href=\"#DejaVuSans-97\"/>\r\n       <use x=\"367.1875\" xlink:href=\"#DejaVuSans-110\"/>\r\n       <use x=\"430.566406\" xlink:href=\"#DejaVuSans-116\"/>\r\n       <use x=\"469.775391\" xlink:href=\"#DejaVuSans-73\"/>\r\n       <use x=\"499.267578\" xlink:href=\"#DejaVuSans-110\"/>\r\n       <use x=\"562.646484\" xlink:href=\"#DejaVuSans-99\"/>\r\n       <use x=\"617.626953\" xlink:href=\"#DejaVuSans-111\"/>\r\n       <use x=\"678.808594\" xlink:href=\"#DejaVuSans-109\"/>\r\n       <use x=\"776.220703\" xlink:href=\"#DejaVuSans-101\"/>\r\n      </g>\r\n     </g>\r\n    </g>\r\n    <g id=\"xtick_7\">\r\n     <g id=\"line2d_7\">\r\n      <g>\r\n       <use style=\"stroke:#000000;stroke-width:0.8;\" x=\"401.874063\" xlink:href=\"#m7ba0d7becf\" y=\"445.879219\"/>\r\n      </g>\r\n     </g>\r\n     <g id=\"text_7\">\r\n      <!-- CoapplicantIncome -->\r\n      <g transform=\"translate(404.633438 549.044844)rotate(-90)scale(0.1 -0.1)\">\r\n       <defs>\r\n        <path d=\"M 64.40625 67.28125 \r\nL 64.40625 56.890625 \r\nQ 59.421875 61.53125 53.78125 63.8125 \r\nQ 48.140625 66.109375 41.796875 66.109375 \r\nQ 29.296875 66.109375 22.65625 58.46875 \r\nQ 16.015625 50.828125 16.015625 36.375 \r\nQ 16.015625 21.96875 22.65625 14.328125 \r\nQ 29.296875 6.6875 41.796875 6.6875 \r\nQ 48.140625 6.6875 53.78125 8.984375 \r\nQ 59.421875 11.28125 64.40625 15.921875 \r\nL 64.40625 5.609375 \r\nQ 59.234375 2.09375 53.4375 0.328125 \r\nQ 47.65625 -1.421875 41.21875 -1.421875 \r\nQ 24.65625 -1.421875 15.125 8.703125 \r\nQ 5.609375 18.84375 5.609375 36.375 \r\nQ 5.609375 53.953125 15.125 64.078125 \r\nQ 24.65625 74.21875 41.21875 74.21875 \r\nQ 47.75 74.21875 53.53125 72.484375 \r\nQ 59.328125 70.75 64.40625 67.28125 \r\nz\r\n\" id=\"DejaVuSans-67\"/>\r\n       </defs>\r\n       <use xlink:href=\"#DejaVuSans-67\"/>\r\n       <use x=\"69.824219\" xlink:href=\"#DejaVuSans-111\"/>\r\n       <use x=\"131.005859\" xlink:href=\"#DejaVuSans-97\"/>\r\n       <use x=\"192.285156\" xlink:href=\"#DejaVuSans-112\"/>\r\n       <use x=\"255.761719\" xlink:href=\"#DejaVuSans-112\"/>\r\n       <use x=\"319.238281\" xlink:href=\"#DejaVuSans-108\"/>\r\n       <use x=\"347.021484\" xlink:href=\"#DejaVuSans-105\"/>\r\n       <use x=\"374.804688\" xlink:href=\"#DejaVuSans-99\"/>\r\n       <use x=\"429.785156\" xlink:href=\"#DejaVuSans-97\"/>\r\n       <use x=\"491.064453\" xlink:href=\"#DejaVuSans-110\"/>\r\n       <use x=\"554.443359\" xlink:href=\"#DejaVuSans-116\"/>\r\n       <use x=\"593.652344\" xlink:href=\"#DejaVuSans-73\"/>\r\n       <use x=\"623.144531\" xlink:href=\"#DejaVuSans-110\"/>\r\n       <use x=\"686.523438\" xlink:href=\"#DejaVuSans-99\"/>\r\n       <use x=\"741.503906\" xlink:href=\"#DejaVuSans-111\"/>\r\n       <use x=\"802.685547\" xlink:href=\"#DejaVuSans-109\"/>\r\n       <use x=\"900.097656\" xlink:href=\"#DejaVuSans-101\"/>\r\n      </g>\r\n     </g>\r\n    </g>\r\n    <g id=\"xtick_8\">\r\n     <g id=\"line2d_8\">\r\n      <g>\r\n       <use style=\"stroke:#000000;stroke-width:0.8;\" x=\"446.514063\" xlink:href=\"#m7ba0d7becf\" y=\"445.879219\"/>\r\n      </g>\r\n     </g>\r\n     <g id=\"text_8\">\r\n      <!-- LoanAmount -->\r\n      <g transform=\"translate(449.273438 516.155781)rotate(-90)scale(0.1 -0.1)\">\r\n       <defs>\r\n        <path d=\"M 9.8125 72.90625 \r\nL 19.671875 72.90625 \r\nL 19.671875 8.296875 \r\nL 55.171875 8.296875 \r\nL 55.171875 0 \r\nL 9.8125 0 \r\nz\r\n\" id=\"DejaVuSans-76\"/>\r\n       </defs>\r\n       <use xlink:href=\"#DejaVuSans-76\"/>\r\n       <use x=\"53.962891\" xlink:href=\"#DejaVuSans-111\"/>\r\n       <use x=\"115.144531\" xlink:href=\"#DejaVuSans-97\"/>\r\n       <use x=\"176.423828\" xlink:href=\"#DejaVuSans-110\"/>\r\n       <use x=\"239.802734\" xlink:href=\"#DejaVuSans-65\"/>\r\n       <use x=\"308.210938\" xlink:href=\"#DejaVuSans-109\"/>\r\n       <use x=\"405.623047\" xlink:href=\"#DejaVuSans-111\"/>\r\n       <use x=\"466.804688\" xlink:href=\"#DejaVuSans-117\"/>\r\n       <use x=\"530.183594\" xlink:href=\"#DejaVuSans-110\"/>\r\n       <use x=\"593.5625\" xlink:href=\"#DejaVuSans-116\"/>\r\n      </g>\r\n     </g>\r\n    </g>\r\n    <g id=\"xtick_9\">\r\n     <g id=\"line2d_9\">\r\n      <g>\r\n       <use style=\"stroke:#000000;stroke-width:0.8;\" x=\"491.154063\" xlink:href=\"#m7ba0d7becf\" y=\"445.879219\"/>\r\n      </g>\r\n     </g>\r\n     <g id=\"text_9\">\r\n      <!-- Loan_Amount_Term -->\r\n      <g transform=\"translate(493.635312 550.393281)rotate(-90)scale(0.1 -0.1)\">\r\n       <defs>\r\n        <path d=\"M -0.296875 72.90625 \r\nL 61.375 72.90625 \r\nL 61.375 64.59375 \r\nL 35.5 64.59375 \r\nL 35.5 0 \r\nL 25.59375 0 \r\nL 25.59375 64.59375 \r\nL -0.296875 64.59375 \r\nz\r\n\" id=\"DejaVuSans-84\"/>\r\n       </defs>\r\n       <use xlink:href=\"#DejaVuSans-76\"/>\r\n       <use x=\"53.962891\" xlink:href=\"#DejaVuSans-111\"/>\r\n       <use x=\"115.144531\" xlink:href=\"#DejaVuSans-97\"/>\r\n       <use x=\"176.423828\" xlink:href=\"#DejaVuSans-110\"/>\r\n       <use x=\"239.802734\" xlink:href=\"#DejaVuSans-95\"/>\r\n       <use x=\"289.802734\" xlink:href=\"#DejaVuSans-65\"/>\r\n       <use x=\"358.210938\" xlink:href=\"#DejaVuSans-109\"/>\r\n       <use x=\"455.623047\" xlink:href=\"#DejaVuSans-111\"/>\r\n       <use x=\"516.804688\" xlink:href=\"#DejaVuSans-117\"/>\r\n       <use x=\"580.183594\" xlink:href=\"#DejaVuSans-110\"/>\r\n       <use x=\"643.5625\" xlink:href=\"#DejaVuSans-116\"/>\r\n       <use x=\"682.771484\" xlink:href=\"#DejaVuSans-95\"/>\r\n       <use x=\"732.771484\" xlink:href=\"#DejaVuSans-84\"/>\r\n       <use x=\"776.855469\" xlink:href=\"#DejaVuSans-101\"/>\r\n       <use x=\"838.378906\" xlink:href=\"#DejaVuSans-114\"/>\r\n       <use x=\"877.742188\" xlink:href=\"#DejaVuSans-109\"/>\r\n      </g>\r\n     </g>\r\n    </g>\r\n    <g id=\"xtick_10\">\r\n     <g id=\"line2d_10\">\r\n      <g>\r\n       <use style=\"stroke:#000000;stroke-width:0.8;\" x=\"535.794062\" xlink:href=\"#m7ba0d7becf\" y=\"445.879219\"/>\r\n      </g>\r\n     </g>\r\n     <g id=\"text_10\">\r\n      <!-- Credit_History -->\r\n      <g transform=\"translate(538.414375 523.524531)rotate(-90)scale(0.1 -0.1)\">\r\n       <defs>\r\n        <path d=\"M 9.8125 72.90625 \r\nL 19.671875 72.90625 \r\nL 19.671875 43.015625 \r\nL 55.515625 43.015625 \r\nL 55.515625 72.90625 \r\nL 65.375 72.90625 \r\nL 65.375 0 \r\nL 55.515625 0 \r\nL 55.515625 34.71875 \r\nL 19.671875 34.71875 \r\nL 19.671875 0 \r\nL 9.8125 0 \r\nz\r\n\" id=\"DejaVuSans-72\"/>\r\n       </defs>\r\n       <use xlink:href=\"#DejaVuSans-67\"/>\r\n       <use x=\"69.824219\" xlink:href=\"#DejaVuSans-114\"/>\r\n       <use x=\"108.6875\" xlink:href=\"#DejaVuSans-101\"/>\r\n       <use x=\"170.210938\" xlink:href=\"#DejaVuSans-100\"/>\r\n       <use x=\"233.6875\" xlink:href=\"#DejaVuSans-105\"/>\r\n       <use x=\"261.470703\" xlink:href=\"#DejaVuSans-116\"/>\r\n       <use x=\"300.679688\" xlink:href=\"#DejaVuSans-95\"/>\r\n       <use x=\"350.679688\" xlink:href=\"#DejaVuSans-72\"/>\r\n       <use x=\"425.875\" xlink:href=\"#DejaVuSans-105\"/>\r\n       <use x=\"453.658203\" xlink:href=\"#DejaVuSans-115\"/>\r\n       <use x=\"505.757812\" xlink:href=\"#DejaVuSans-116\"/>\r\n       <use x=\"544.966797\" xlink:href=\"#DejaVuSans-111\"/>\r\n       <use x=\"606.148438\" xlink:href=\"#DejaVuSans-114\"/>\r\n       <use x=\"647.261719\" xlink:href=\"#DejaVuSans-121\"/>\r\n      </g>\r\n     </g>\r\n    </g>\r\n    <g id=\"xtick_11\">\r\n     <g id=\"line2d_11\">\r\n      <g>\r\n       <use style=\"stroke:#000000;stroke-width:0.8;\" x=\"580.434062\" xlink:href=\"#m7ba0d7becf\" y=\"445.879219\"/>\r\n      </g>\r\n     </g>\r\n     <g id=\"text_11\">\r\n      <!-- Property_Area -->\r\n      <g transform=\"translate(582.915313 523.197969)rotate(-90)scale(0.1 -0.1)\">\r\n       <defs>\r\n        <path d=\"M 19.671875 64.796875 \r\nL 19.671875 37.40625 \r\nL 32.078125 37.40625 \r\nQ 38.96875 37.40625 42.71875 40.96875 \r\nQ 46.484375 44.53125 46.484375 51.125 \r\nQ 46.484375 57.671875 42.71875 61.234375 \r\nQ 38.96875 64.796875 32.078125 64.796875 \r\nz\r\nM 9.8125 72.90625 \r\nL 32.078125 72.90625 \r\nQ 44.34375 72.90625 50.609375 67.359375 \r\nQ 56.890625 61.8125 56.890625 51.125 \r\nQ 56.890625 40.328125 50.609375 34.8125 \r\nQ 44.34375 29.296875 32.078125 29.296875 \r\nL 19.671875 29.296875 \r\nL 19.671875 0 \r\nL 9.8125 0 \r\nz\r\n\" id=\"DejaVuSans-80\"/>\r\n       </defs>\r\n       <use xlink:href=\"#DejaVuSans-80\"/>\r\n       <use x=\"58.552734\" xlink:href=\"#DejaVuSans-114\"/>\r\n       <use x=\"97.416016\" xlink:href=\"#DejaVuSans-111\"/>\r\n       <use x=\"158.597656\" xlink:href=\"#DejaVuSans-112\"/>\r\n       <use x=\"222.074219\" xlink:href=\"#DejaVuSans-101\"/>\r\n       <use x=\"283.597656\" xlink:href=\"#DejaVuSans-114\"/>\r\n       <use x=\"324.710938\" xlink:href=\"#DejaVuSans-116\"/>\r\n       <use x=\"363.919922\" xlink:href=\"#DejaVuSans-121\"/>\r\n       <use x=\"423.099609\" xlink:href=\"#DejaVuSans-95\"/>\r\n       <use x=\"473.099609\" xlink:href=\"#DejaVuSans-65\"/>\r\n       <use x=\"541.507812\" xlink:href=\"#DejaVuSans-114\"/>\r\n       <use x=\"580.371094\" xlink:href=\"#DejaVuSans-101\"/>\r\n       <use x=\"641.894531\" xlink:href=\"#DejaVuSans-97\"/>\r\n      </g>\r\n     </g>\r\n    </g>\r\n    <g id=\"xtick_12\">\r\n     <g id=\"line2d_12\">\r\n      <g>\r\n       <use style=\"stroke:#000000;stroke-width:0.8;\" x=\"625.074063\" xlink:href=\"#m7ba0d7becf\" y=\"445.879219\"/>\r\n      </g>\r\n     </g>\r\n     <g id=\"text_12\">\r\n      <!-- Loan_Status -->\r\n      <g transform=\"translate(627.606094 513.724531)rotate(-90)scale(0.1 -0.1)\">\r\n       <use xlink:href=\"#DejaVuSans-76\"/>\r\n       <use x=\"53.962891\" xlink:href=\"#DejaVuSans-111\"/>\r\n       <use x=\"115.144531\" xlink:href=\"#DejaVuSans-97\"/>\r\n       <use x=\"176.423828\" xlink:href=\"#DejaVuSans-110\"/>\r\n       <use x=\"239.802734\" xlink:href=\"#DejaVuSans-95\"/>\r\n       <use x=\"289.802734\" xlink:href=\"#DejaVuSans-83\"/>\r\n       <use x=\"353.279297\" xlink:href=\"#DejaVuSans-116\"/>\r\n       <use x=\"392.488281\" xlink:href=\"#DejaVuSans-97\"/>\r\n       <use x=\"453.767578\" xlink:href=\"#DejaVuSans-116\"/>\r\n       <use x=\"492.976562\" xlink:href=\"#DejaVuSans-117\"/>\r\n       <use x=\"556.355469\" xlink:href=\"#DejaVuSans-115\"/>\r\n      </g>\r\n     </g>\r\n    </g>\r\n   </g>\r\n   <g id=\"matplotlib.axis_2\">\r\n    <g id=\"ytick_1\">\r\n     <g id=\"line2d_13\">\r\n      <defs>\r\n       <path d=\"M 0 0 \r\nL -3.5 0 \r\n\" id=\"m8774e3d327\" style=\"stroke:#000000;stroke-width:0.8;\"/>\r\n      </defs>\r\n      <g>\r\n       <use style=\"stroke:#000000;stroke-width:0.8;\" x=\"111.714063\" xlink:href=\"#m8774e3d327\" y=\"44.451526\"/>\r\n      </g>\r\n     </g>\r\n     <g id=\"text_13\">\r\n      <!-- Gender -->\r\n      <g transform=\"translate(67.8625 48.250745)scale(0.1 -0.1)\">\r\n       <use xlink:href=\"#DejaVuSans-71\"/>\r\n       <use x=\"77.490234\" xlink:href=\"#DejaVuSans-101\"/>\r\n       <use x=\"139.013672\" xlink:href=\"#DejaVuSans-110\"/>\r\n       <use x=\"202.392578\" xlink:href=\"#DejaVuSans-100\"/>\r\n       <use x=\"265.869141\" xlink:href=\"#DejaVuSans-101\"/>\r\n       <use x=\"327.392578\" xlink:href=\"#DejaVuSans-114\"/>\r\n      </g>\r\n     </g>\r\n    </g>\r\n    <g id=\"ytick_2\">\r\n     <g id=\"line2d_14\">\r\n      <g>\r\n       <use style=\"stroke:#000000;stroke-width:0.8;\" x=\"111.714063\" xlink:href=\"#m8774e3d327\" y=\"77.903834\"/>\r\n      </g>\r\n     </g>\r\n     <g id=\"text_14\">\r\n      <!-- Married -->\r\n      <g transform=\"translate(66.63125 81.703053)scale(0.1 -0.1)\">\r\n       <use xlink:href=\"#DejaVuSans-77\"/>\r\n       <use x=\"86.279297\" xlink:href=\"#DejaVuSans-97\"/>\r\n       <use x=\"147.558594\" xlink:href=\"#DejaVuSans-114\"/>\r\n       <use x=\"186.921875\" xlink:href=\"#DejaVuSans-114\"/>\r\n       <use x=\"228.035156\" xlink:href=\"#DejaVuSans-105\"/>\r\n       <use x=\"255.818359\" xlink:href=\"#DejaVuSans-101\"/>\r\n       <use x=\"317.341797\" xlink:href=\"#DejaVuSans-100\"/>\r\n      </g>\r\n     </g>\r\n    </g>\r\n    <g id=\"ytick_3\">\r\n     <g id=\"line2d_15\">\r\n      <g>\r\n       <use style=\"stroke:#000000;stroke-width:0.8;\" x=\"111.714063\" xlink:href=\"#m8774e3d327\" y=\"111.356142\"/>\r\n      </g>\r\n     </g>\r\n     <g id=\"text_15\">\r\n      <!-- Dependents -->\r\n      <g transform=\"translate(44.053125 115.155361)scale(0.1 -0.1)\">\r\n       <use xlink:href=\"#DejaVuSans-68\"/>\r\n       <use x=\"77.001953\" xlink:href=\"#DejaVuSans-101\"/>\r\n       <use x=\"138.525391\" xlink:href=\"#DejaVuSans-112\"/>\r\n       <use x=\"202.001953\" xlink:href=\"#DejaVuSans-101\"/>\r\n       <use x=\"263.525391\" xlink:href=\"#DejaVuSans-110\"/>\r\n       <use x=\"326.904297\" xlink:href=\"#DejaVuSans-100\"/>\r\n       <use x=\"390.380859\" xlink:href=\"#DejaVuSans-101\"/>\r\n       <use x=\"451.904297\" xlink:href=\"#DejaVuSans-110\"/>\r\n       <use x=\"515.283203\" xlink:href=\"#DejaVuSans-116\"/>\r\n       <use x=\"554.492188\" xlink:href=\"#DejaVuSans-115\"/>\r\n      </g>\r\n     </g>\r\n    </g>\r\n    <g id=\"ytick_4\">\r\n     <g id=\"line2d_16\">\r\n      <g>\r\n       <use style=\"stroke:#000000;stroke-width:0.8;\" x=\"111.714063\" xlink:href=\"#m8774e3d327\" y=\"144.80845\"/>\r\n      </g>\r\n     </g>\r\n     <g id=\"text_16\">\r\n      <!-- Education -->\r\n      <g transform=\"translate(54.928125 148.607668)scale(0.1 -0.1)\">\r\n       <use xlink:href=\"#DejaVuSans-69\"/>\r\n       <use x=\"63.183594\" xlink:href=\"#DejaVuSans-100\"/>\r\n       <use x=\"126.660156\" xlink:href=\"#DejaVuSans-117\"/>\r\n       <use x=\"190.039062\" xlink:href=\"#DejaVuSans-99\"/>\r\n       <use x=\"245.019531\" xlink:href=\"#DejaVuSans-97\"/>\r\n       <use x=\"306.298828\" xlink:href=\"#DejaVuSans-116\"/>\r\n       <use x=\"345.507812\" xlink:href=\"#DejaVuSans-105\"/>\r\n       <use x=\"373.291016\" xlink:href=\"#DejaVuSans-111\"/>\r\n       <use x=\"434.472656\" xlink:href=\"#DejaVuSans-110\"/>\r\n      </g>\r\n     </g>\r\n    </g>\r\n    <g id=\"ytick_5\">\r\n     <g id=\"line2d_17\">\r\n      <g>\r\n       <use style=\"stroke:#000000;stroke-width:0.8;\" x=\"111.714063\" xlink:href=\"#m8774e3d327\" y=\"178.260757\"/>\r\n      </g>\r\n     </g>\r\n     <g id=\"text_17\">\r\n      <!-- Self_Employed -->\r\n      <g transform=\"translate(31.189063 182.059976)scale(0.1 -0.1)\">\r\n       <use xlink:href=\"#DejaVuSans-83\"/>\r\n       <use x=\"63.476562\" xlink:href=\"#DejaVuSans-101\"/>\r\n       <use x=\"125\" xlink:href=\"#DejaVuSans-108\"/>\r\n       <use x=\"152.783203\" xlink:href=\"#DejaVuSans-102\"/>\r\n       <use x=\"187.988281\" xlink:href=\"#DejaVuSans-95\"/>\r\n       <use x=\"237.988281\" xlink:href=\"#DejaVuSans-69\"/>\r\n       <use x=\"301.171875\" xlink:href=\"#DejaVuSans-109\"/>\r\n       <use x=\"398.583984\" xlink:href=\"#DejaVuSans-112\"/>\r\n       <use x=\"462.060547\" xlink:href=\"#DejaVuSans-108\"/>\r\n       <use x=\"489.84375\" xlink:href=\"#DejaVuSans-111\"/>\r\n       <use x=\"551.025391\" xlink:href=\"#DejaVuSans-121\"/>\r\n       <use x=\"610.205078\" xlink:href=\"#DejaVuSans-101\"/>\r\n       <use x=\"671.728516\" xlink:href=\"#DejaVuSans-100\"/>\r\n      </g>\r\n     </g>\r\n    </g>\r\n    <g id=\"ytick_6\">\r\n     <g id=\"line2d_18\">\r\n      <g>\r\n       <use style=\"stroke:#000000;stroke-width:0.8;\" x=\"111.714063\" xlink:href=\"#m8774e3d327\" y=\"211.713065\"/>\r\n      </g>\r\n     </g>\r\n     <g id=\"text_18\">\r\n      <!-- ApplicantIncome -->\r\n      <g transform=\"translate(20.9375 215.512284)scale(0.1 -0.1)\">\r\n       <use xlink:href=\"#DejaVuSans-65\"/>\r\n       <use x=\"68.408203\" xlink:href=\"#DejaVuSans-112\"/>\r\n       <use x=\"131.884766\" xlink:href=\"#DejaVuSans-112\"/>\r\n       <use x=\"195.361328\" xlink:href=\"#DejaVuSans-108\"/>\r\n       <use x=\"223.144531\" xlink:href=\"#DejaVuSans-105\"/>\r\n       <use x=\"250.927734\" xlink:href=\"#DejaVuSans-99\"/>\r\n       <use x=\"305.908203\" xlink:href=\"#DejaVuSans-97\"/>\r\n       <use x=\"367.1875\" xlink:href=\"#DejaVuSans-110\"/>\r\n       <use x=\"430.566406\" xlink:href=\"#DejaVuSans-116\"/>\r\n       <use x=\"469.775391\" xlink:href=\"#DejaVuSans-73\"/>\r\n       <use x=\"499.267578\" xlink:href=\"#DejaVuSans-110\"/>\r\n       <use x=\"562.646484\" xlink:href=\"#DejaVuSans-99\"/>\r\n       <use x=\"617.626953\" xlink:href=\"#DejaVuSans-111\"/>\r\n       <use x=\"678.808594\" xlink:href=\"#DejaVuSans-109\"/>\r\n       <use x=\"776.220703\" xlink:href=\"#DejaVuSans-101\"/>\r\n      </g>\r\n     </g>\r\n    </g>\r\n    <g id=\"ytick_7\">\r\n     <g id=\"line2d_19\">\r\n      <g>\r\n       <use style=\"stroke:#000000;stroke-width:0.8;\" x=\"111.714063\" xlink:href=\"#m8774e3d327\" y=\"245.165373\"/>\r\n      </g>\r\n     </g>\r\n     <g id=\"text_19\">\r\n      <!-- CoapplicantIncome -->\r\n      <g transform=\"translate(8.548438 248.964591)scale(0.1 -0.1)\">\r\n       <use xlink:href=\"#DejaVuSans-67\"/>\r\n       <use x=\"69.824219\" xlink:href=\"#DejaVuSans-111\"/>\r\n       <use x=\"131.005859\" xlink:href=\"#DejaVuSans-97\"/>\r\n       <use x=\"192.285156\" xlink:href=\"#DejaVuSans-112\"/>\r\n       <use x=\"255.761719\" xlink:href=\"#DejaVuSans-112\"/>\r\n       <use x=\"319.238281\" xlink:href=\"#DejaVuSans-108\"/>\r\n       <use x=\"347.021484\" xlink:href=\"#DejaVuSans-105\"/>\r\n       <use x=\"374.804688\" xlink:href=\"#DejaVuSans-99\"/>\r\n       <use x=\"429.785156\" xlink:href=\"#DejaVuSans-97\"/>\r\n       <use x=\"491.064453\" xlink:href=\"#DejaVuSans-110\"/>\r\n       <use x=\"554.443359\" xlink:href=\"#DejaVuSans-116\"/>\r\n       <use x=\"593.652344\" xlink:href=\"#DejaVuSans-73\"/>\r\n       <use x=\"623.144531\" xlink:href=\"#DejaVuSans-110\"/>\r\n       <use x=\"686.523438\" xlink:href=\"#DejaVuSans-99\"/>\r\n       <use x=\"741.503906\" xlink:href=\"#DejaVuSans-111\"/>\r\n       <use x=\"802.685547\" xlink:href=\"#DejaVuSans-109\"/>\r\n       <use x=\"900.097656\" xlink:href=\"#DejaVuSans-101\"/>\r\n      </g>\r\n     </g>\r\n    </g>\r\n    <g id=\"ytick_8\">\r\n     <g id=\"line2d_20\">\r\n      <g>\r\n       <use style=\"stroke:#000000;stroke-width:0.8;\" x=\"111.714063\" xlink:href=\"#m8774e3d327\" y=\"278.61768\"/>\r\n      </g>\r\n     </g>\r\n     <g id=\"text_20\">\r\n      <!-- LoanAmount -->\r\n      <g transform=\"translate(41.4375 282.416899)scale(0.1 -0.1)\">\r\n       <use xlink:href=\"#DejaVuSans-76\"/>\r\n       <use x=\"53.962891\" xlink:href=\"#DejaVuSans-111\"/>\r\n       <use x=\"115.144531\" xlink:href=\"#DejaVuSans-97\"/>\r\n       <use x=\"176.423828\" xlink:href=\"#DejaVuSans-110\"/>\r\n       <use x=\"239.802734\" xlink:href=\"#DejaVuSans-65\"/>\r\n       <use x=\"308.210938\" xlink:href=\"#DejaVuSans-109\"/>\r\n       <use x=\"405.623047\" xlink:href=\"#DejaVuSans-111\"/>\r\n       <use x=\"466.804688\" xlink:href=\"#DejaVuSans-117\"/>\r\n       <use x=\"530.183594\" xlink:href=\"#DejaVuSans-110\"/>\r\n       <use x=\"593.5625\" xlink:href=\"#DejaVuSans-116\"/>\r\n      </g>\r\n     </g>\r\n    </g>\r\n    <g id=\"ytick_9\">\r\n     <g id=\"line2d_21\">\r\n      <g>\r\n       <use style=\"stroke:#000000;stroke-width:0.8;\" x=\"111.714063\" xlink:href=\"#m8774e3d327\" y=\"312.069988\"/>\r\n      </g>\r\n     </g>\r\n     <g id=\"text_21\">\r\n      <!-- Loan_Amount_Term -->\r\n      <g transform=\"translate(7.2 315.730144)scale(0.1 -0.1)\">\r\n       <use xlink:href=\"#DejaVuSans-76\"/>\r\n       <use x=\"53.962891\" xlink:href=\"#DejaVuSans-111\"/>\r\n       <use x=\"115.144531\" xlink:href=\"#DejaVuSans-97\"/>\r\n       <use x=\"176.423828\" xlink:href=\"#DejaVuSans-110\"/>\r\n       <use x=\"239.802734\" xlink:href=\"#DejaVuSans-95\"/>\r\n       <use x=\"289.802734\" xlink:href=\"#DejaVuSans-65\"/>\r\n       <use x=\"358.210938\" xlink:href=\"#DejaVuSans-109\"/>\r\n       <use x=\"455.623047\" xlink:href=\"#DejaVuSans-111\"/>\r\n       <use x=\"516.804688\" xlink:href=\"#DejaVuSans-117\"/>\r\n       <use x=\"580.183594\" xlink:href=\"#DejaVuSans-110\"/>\r\n       <use x=\"643.5625\" xlink:href=\"#DejaVuSans-116\"/>\r\n       <use x=\"682.771484\" xlink:href=\"#DejaVuSans-95\"/>\r\n       <use x=\"732.771484\" xlink:href=\"#DejaVuSans-84\"/>\r\n       <use x=\"776.855469\" xlink:href=\"#DejaVuSans-101\"/>\r\n       <use x=\"838.378906\" xlink:href=\"#DejaVuSans-114\"/>\r\n       <use x=\"877.742188\" xlink:href=\"#DejaVuSans-109\"/>\r\n      </g>\r\n     </g>\r\n    </g>\r\n    <g id=\"ytick_10\">\r\n     <g id=\"line2d_22\">\r\n      <g>\r\n       <use style=\"stroke:#000000;stroke-width:0.8;\" x=\"111.714063\" xlink:href=\"#m8774e3d327\" y=\"345.522296\"/>\r\n      </g>\r\n     </g>\r\n     <g id=\"text_22\">\r\n      <!-- Credit_History -->\r\n      <g transform=\"translate(34.06875 349.321514)scale(0.1 -0.1)\">\r\n       <use xlink:href=\"#DejaVuSans-67\"/>\r\n       <use x=\"69.824219\" xlink:href=\"#DejaVuSans-114\"/>\r\n       <use x=\"108.6875\" xlink:href=\"#DejaVuSans-101\"/>\r\n       <use x=\"170.210938\" xlink:href=\"#DejaVuSans-100\"/>\r\n       <use x=\"233.6875\" xlink:href=\"#DejaVuSans-105\"/>\r\n       <use x=\"261.470703\" xlink:href=\"#DejaVuSans-116\"/>\r\n       <use x=\"300.679688\" xlink:href=\"#DejaVuSans-95\"/>\r\n       <use x=\"350.679688\" xlink:href=\"#DejaVuSans-72\"/>\r\n       <use x=\"425.875\" xlink:href=\"#DejaVuSans-105\"/>\r\n       <use x=\"453.658203\" xlink:href=\"#DejaVuSans-115\"/>\r\n       <use x=\"505.757812\" xlink:href=\"#DejaVuSans-116\"/>\r\n       <use x=\"544.966797\" xlink:href=\"#DejaVuSans-111\"/>\r\n       <use x=\"606.148438\" xlink:href=\"#DejaVuSans-114\"/>\r\n       <use x=\"647.261719\" xlink:href=\"#DejaVuSans-121\"/>\r\n      </g>\r\n     </g>\r\n    </g>\r\n    <g id=\"ytick_11\">\r\n     <g id=\"line2d_23\">\r\n      <g>\r\n       <use style=\"stroke:#000000;stroke-width:0.8;\" x=\"111.714063\" xlink:href=\"#m8774e3d327\" y=\"378.974603\"/>\r\n      </g>\r\n     </g>\r\n     <g id=\"text_23\">\r\n      <!-- Property_Area -->\r\n      <g transform=\"translate(34.395313 382.63476)scale(0.1 -0.1)\">\r\n       <use xlink:href=\"#DejaVuSans-80\"/>\r\n       <use x=\"58.552734\" xlink:href=\"#DejaVuSans-114\"/>\r\n       <use x=\"97.416016\" xlink:href=\"#DejaVuSans-111\"/>\r\n       <use x=\"158.597656\" xlink:href=\"#DejaVuSans-112\"/>\r\n       <use x=\"222.074219\" xlink:href=\"#DejaVuSans-101\"/>\r\n       <use x=\"283.597656\" xlink:href=\"#DejaVuSans-114\"/>\r\n       <use x=\"324.710938\" xlink:href=\"#DejaVuSans-116\"/>\r\n       <use x=\"363.919922\" xlink:href=\"#DejaVuSans-121\"/>\r\n       <use x=\"423.099609\" xlink:href=\"#DejaVuSans-95\"/>\r\n       <use x=\"473.099609\" xlink:href=\"#DejaVuSans-65\"/>\r\n       <use x=\"541.507812\" xlink:href=\"#DejaVuSans-114\"/>\r\n       <use x=\"580.371094\" xlink:href=\"#DejaVuSans-101\"/>\r\n       <use x=\"641.894531\" xlink:href=\"#DejaVuSans-97\"/>\r\n      </g>\r\n     </g>\r\n    </g>\r\n    <g id=\"ytick_12\">\r\n     <g id=\"line2d_24\">\r\n      <g>\r\n       <use style=\"stroke:#000000;stroke-width:0.8;\" x=\"111.714063\" xlink:href=\"#m8774e3d327\" y=\"412.426911\"/>\r\n      </g>\r\n     </g>\r\n     <g id=\"text_24\">\r\n      <!-- Loan_Status -->\r\n      <g transform=\"translate(43.86875 416.137849)scale(0.1 -0.1)\">\r\n       <use xlink:href=\"#DejaVuSans-76\"/>\r\n       <use x=\"53.962891\" xlink:href=\"#DejaVuSans-111\"/>\r\n       <use x=\"115.144531\" xlink:href=\"#DejaVuSans-97\"/>\r\n       <use x=\"176.423828\" xlink:href=\"#DejaVuSans-110\"/>\r\n       <use x=\"239.802734\" xlink:href=\"#DejaVuSans-95\"/>\r\n       <use x=\"289.802734\" xlink:href=\"#DejaVuSans-83\"/>\r\n       <use x=\"353.279297\" xlink:href=\"#DejaVuSans-116\"/>\r\n       <use x=\"392.488281\" xlink:href=\"#DejaVuSans-97\"/>\r\n       <use x=\"453.767578\" xlink:href=\"#DejaVuSans-116\"/>\r\n       <use x=\"492.976562\" xlink:href=\"#DejaVuSans-117\"/>\r\n       <use x=\"556.355469\" xlink:href=\"#DejaVuSans-115\"/>\r\n      </g>\r\n     </g>\r\n    </g>\r\n   </g>\r\n   <g id=\"text_25\">\r\n    <!-- 1 -->\r\n    <g style=\"fill:#ffffff;\" transform=\"translate(130.852812 47.210901)scale(0.1 -0.1)\">\r\n     <defs>\r\n      <path d=\"M 12.40625 8.296875 \r\nL 28.515625 8.296875 \r\nL 28.515625 63.921875 \r\nL 10.984375 60.40625 \r\nL 10.984375 69.390625 \r\nL 28.421875 72.90625 \r\nL 38.28125 72.90625 \r\nL 38.28125 8.296875 \r\nL 54.390625 8.296875 \r\nL 54.390625 0 \r\nL 12.40625 0 \r\nz\r\n\" id=\"DejaVuSans-49\"/>\r\n     </defs>\r\n     <use xlink:href=\"#DejaVuSans-49\"/>\r\n    </g>\r\n   </g>\r\n   <g id=\"text_26\">\r\n    <!-- 0.34 -->\r\n    <g style=\"fill:#262626;\" transform=\"translate(167.54125 47.210901)scale(0.1 -0.1)\">\r\n     <defs>\r\n      <path d=\"M 31.78125 66.40625 \r\nQ 24.171875 66.40625 20.328125 58.90625 \r\nQ 16.5 51.421875 16.5 36.375 \r\nQ 16.5 21.390625 20.328125 13.890625 \r\nQ 24.171875 6.390625 31.78125 6.390625 \r\nQ 39.453125 6.390625 43.28125 13.890625 \r\nQ 47.125 21.390625 47.125 36.375 \r\nQ 47.125 51.421875 43.28125 58.90625 \r\nQ 39.453125 66.40625 31.78125 66.40625 \r\nz\r\nM 31.78125 74.21875 \r\nQ 44.046875 74.21875 50.515625 64.515625 \r\nQ 56.984375 54.828125 56.984375 36.375 \r\nQ 56.984375 17.96875 50.515625 8.265625 \r\nQ 44.046875 -1.421875 31.78125 -1.421875 \r\nQ 19.53125 -1.421875 13.0625 8.265625 \r\nQ 6.59375 17.96875 6.59375 36.375 \r\nQ 6.59375 54.828125 13.0625 64.515625 \r\nQ 19.53125 74.21875 31.78125 74.21875 \r\nz\r\n\" id=\"DejaVuSans-48\"/>\r\n      <path d=\"M 10.6875 12.40625 \r\nL 21 12.40625 \r\nL 21 0 \r\nL 10.6875 0 \r\nz\r\n\" id=\"DejaVuSans-46\"/>\r\n      <path d=\"M 40.578125 39.3125 \r\nQ 47.65625 37.796875 51.625 33 \r\nQ 55.609375 28.21875 55.609375 21.1875 \r\nQ 55.609375 10.40625 48.1875 4.484375 \r\nQ 40.765625 -1.421875 27.09375 -1.421875 \r\nQ 22.515625 -1.421875 17.65625 -0.515625 \r\nQ 12.796875 0.390625 7.625 2.203125 \r\nL 7.625 11.71875 \r\nQ 11.71875 9.328125 16.59375 8.109375 \r\nQ 21.484375 6.890625 26.8125 6.890625 \r\nQ 36.078125 6.890625 40.9375 10.546875 \r\nQ 45.796875 14.203125 45.796875 21.1875 \r\nQ 45.796875 27.640625 41.28125 31.265625 \r\nQ 36.765625 34.90625 28.71875 34.90625 \r\nL 20.21875 34.90625 \r\nL 20.21875 43.015625 \r\nL 29.109375 43.015625 \r\nQ 36.375 43.015625 40.234375 45.921875 \r\nQ 44.09375 48.828125 44.09375 54.296875 \r\nQ 44.09375 59.90625 40.109375 62.90625 \r\nQ 36.140625 65.921875 28.71875 65.921875 \r\nQ 24.65625 65.921875 20.015625 65.03125 \r\nQ 15.375 64.15625 9.8125 62.3125 \r\nL 9.8125 71.09375 \r\nQ 15.4375 72.65625 20.34375 73.4375 \r\nQ 25.25 74.21875 29.59375 74.21875 \r\nQ 40.828125 74.21875 47.359375 69.109375 \r\nQ 53.90625 64.015625 53.90625 55.328125 \r\nQ 53.90625 49.265625 50.4375 45.09375 \r\nQ 46.96875 40.921875 40.578125 39.3125 \r\nz\r\n\" id=\"DejaVuSans-51\"/>\r\n      <path d=\"M 37.796875 64.3125 \r\nL 12.890625 25.390625 \r\nL 37.796875 25.390625 \r\nz\r\nM 35.203125 72.90625 \r\nL 47.609375 72.90625 \r\nL 47.609375 25.390625 \r\nL 58.015625 25.390625 \r\nL 58.015625 17.1875 \r\nL 47.609375 17.1875 \r\nL 47.609375 0 \r\nL 37.796875 0 \r\nL 37.796875 17.1875 \r\nL 4.890625 17.1875 \r\nL 4.890625 26.703125 \r\nz\r\n\" id=\"DejaVuSans-52\"/>\r\n     </defs>\r\n     <use xlink:href=\"#DejaVuSans-48\"/>\r\n     <use x=\"63.623047\" xlink:href=\"#DejaVuSans-46\"/>\r\n     <use x=\"95.410156\" xlink:href=\"#DejaVuSans-51\"/>\r\n     <use x=\"159.033203\" xlink:href=\"#DejaVuSans-52\"/>\r\n    </g>\r\n   </g>\r\n   <g id=\"text_27\">\r\n    <!-- 0.18 -->\r\n    <g style=\"fill:#262626;\" transform=\"translate(212.18125 47.210901)scale(0.1 -0.1)\">\r\n     <defs>\r\n      <path d=\"M 31.78125 34.625 \r\nQ 24.75 34.625 20.71875 30.859375 \r\nQ 16.703125 27.09375 16.703125 20.515625 \r\nQ 16.703125 13.921875 20.71875 10.15625 \r\nQ 24.75 6.390625 31.78125 6.390625 \r\nQ 38.8125 6.390625 42.859375 10.171875 \r\nQ 46.921875 13.96875 46.921875 20.515625 \r\nQ 46.921875 27.09375 42.890625 30.859375 \r\nQ 38.875 34.625 31.78125 34.625 \r\nz\r\nM 21.921875 38.8125 \r\nQ 15.578125 40.375 12.03125 44.71875 \r\nQ 8.5 49.078125 8.5 55.328125 \r\nQ 8.5 64.0625 14.71875 69.140625 \r\nQ 20.953125 74.21875 31.78125 74.21875 \r\nQ 42.671875 74.21875 48.875 69.140625 \r\nQ 55.078125 64.0625 55.078125 55.328125 \r\nQ 55.078125 49.078125 51.53125 44.71875 \r\nQ 48 40.375 41.703125 38.8125 \r\nQ 48.828125 37.15625 52.796875 32.3125 \r\nQ 56.78125 27.484375 56.78125 20.515625 \r\nQ 56.78125 9.90625 50.3125 4.234375 \r\nQ 43.84375 -1.421875 31.78125 -1.421875 \r\nQ 19.734375 -1.421875 13.25 4.234375 \r\nQ 6.78125 9.90625 6.78125 20.515625 \r\nQ 6.78125 27.484375 10.78125 32.3125 \r\nQ 14.796875 37.15625 21.921875 38.8125 \r\nz\r\nM 18.3125 54.390625 \r\nQ 18.3125 48.734375 21.84375 45.5625 \r\nQ 25.390625 42.390625 31.78125 42.390625 \r\nQ 38.140625 42.390625 41.71875 45.5625 \r\nQ 45.3125 48.734375 45.3125 54.390625 \r\nQ 45.3125 60.0625 41.71875 63.234375 \r\nQ 38.140625 66.40625 31.78125 66.40625 \r\nQ 25.390625 66.40625 21.84375 63.234375 \r\nQ 18.3125 60.0625 18.3125 54.390625 \r\nz\r\n\" id=\"DejaVuSans-56\"/>\r\n     </defs>\r\n     <use xlink:href=\"#DejaVuSans-48\"/>\r\n     <use x=\"63.623047\" xlink:href=\"#DejaVuSans-46\"/>\r\n     <use x=\"95.410156\" xlink:href=\"#DejaVuSans-49\"/>\r\n     <use x=\"159.033203\" xlink:href=\"#DejaVuSans-56\"/>\r\n    </g>\r\n   </g>\r\n   <g id=\"text_28\">\r\n    <!-- 0.024 -->\r\n    <g style=\"fill:#262626;\" transform=\"translate(253.64 47.210901)scale(0.1 -0.1)\">\r\n     <defs>\r\n      <path d=\"M 19.1875 8.296875 \r\nL 53.609375 8.296875 \r\nL 53.609375 0 \r\nL 7.328125 0 \r\nL 7.328125 8.296875 \r\nQ 12.9375 14.109375 22.625 23.890625 \r\nQ 32.328125 33.6875 34.8125 36.53125 \r\nQ 39.546875 41.84375 41.421875 45.53125 \r\nQ 43.3125 49.21875 43.3125 52.78125 \r\nQ 43.3125 58.59375 39.234375 62.25 \r\nQ 35.15625 65.921875 28.609375 65.921875 \r\nQ 23.96875 65.921875 18.8125 64.3125 \r\nQ 13.671875 62.703125 7.8125 59.421875 \r\nL 7.8125 69.390625 \r\nQ 13.765625 71.78125 18.9375 73 \r\nQ 24.125 74.21875 28.421875 74.21875 \r\nQ 39.75 74.21875 46.484375 68.546875 \r\nQ 53.21875 62.890625 53.21875 53.421875 \r\nQ 53.21875 48.921875 51.53125 44.890625 \r\nQ 49.859375 40.875 45.40625 35.40625 \r\nQ 44.1875 33.984375 37.640625 27.21875 \r\nQ 31.109375 20.453125 19.1875 8.296875 \r\nz\r\n\" id=\"DejaVuSans-50\"/>\r\n     </defs>\r\n     <use xlink:href=\"#DejaVuSans-48\"/>\r\n     <use x=\"63.623047\" xlink:href=\"#DejaVuSans-46\"/>\r\n     <use x=\"95.410156\" xlink:href=\"#DejaVuSans-48\"/>\r\n     <use x=\"159.033203\" xlink:href=\"#DejaVuSans-50\"/>\r\n     <use x=\"222.65625\" xlink:href=\"#DejaVuSans-52\"/>\r\n    </g>\r\n   </g>\r\n   <g id=\"text_29\">\r\n    <!-- -0.025 -->\r\n    <g style=\"fill:#262626;\" transform=\"translate(296.476094 47.210901)scale(0.1 -0.1)\">\r\n     <defs>\r\n      <path d=\"M 4.890625 31.390625 \r\nL 31.203125 31.390625 \r\nL 31.203125 23.390625 \r\nL 4.890625 23.390625 \r\nz\r\n\" id=\"DejaVuSans-45\"/>\r\n      <path d=\"M 10.796875 72.90625 \r\nL 49.515625 72.90625 \r\nL 49.515625 64.59375 \r\nL 19.828125 64.59375 \r\nL 19.828125 46.734375 \r\nQ 21.96875 47.46875 24.109375 47.828125 \r\nQ 26.265625 48.1875 28.421875 48.1875 \r\nQ 40.625 48.1875 47.75 41.5 \r\nQ 54.890625 34.8125 54.890625 23.390625 \r\nQ 54.890625 11.625 47.5625 5.09375 \r\nQ 40.234375 -1.421875 26.90625 -1.421875 \r\nQ 22.3125 -1.421875 17.546875 -0.640625 \r\nQ 12.796875 0.140625 7.71875 1.703125 \r\nL 7.71875 11.625 \r\nQ 12.109375 9.234375 16.796875 8.0625 \r\nQ 21.484375 6.890625 26.703125 6.890625 \r\nQ 35.15625 6.890625 40.078125 11.328125 \r\nQ 45.015625 15.765625 45.015625 23.390625 \r\nQ 45.015625 31 40.078125 35.4375 \r\nQ 35.15625 39.890625 26.703125 39.890625 \r\nQ 22.75 39.890625 18.8125 39.015625 \r\nQ 14.890625 38.140625 10.796875 36.28125 \r\nz\r\n\" id=\"DejaVuSans-53\"/>\r\n     </defs>\r\n     <use xlink:href=\"#DejaVuSans-45\"/>\r\n     <use x=\"36.083984\" xlink:href=\"#DejaVuSans-48\"/>\r\n     <use x=\"99.707031\" xlink:href=\"#DejaVuSans-46\"/>\r\n     <use x=\"131.494141\" xlink:href=\"#DejaVuSans-48\"/>\r\n     <use x=\"195.117188\" xlink:href=\"#DejaVuSans-50\"/>\r\n     <use x=\"258.740234\" xlink:href=\"#DejaVuSans-53\"/>\r\n    </g>\r\n   </g>\r\n   <g id=\"text_30\">\r\n    <!-- 0.076 -->\r\n    <g style=\"fill:#262626;\" transform=\"translate(342.92 47.210901)scale(0.1 -0.1)\">\r\n     <defs>\r\n      <path d=\"M 8.203125 72.90625 \r\nL 55.078125 72.90625 \r\nL 55.078125 68.703125 \r\nL 28.609375 0 \r\nL 18.3125 0 \r\nL 43.21875 64.59375 \r\nL 8.203125 64.59375 \r\nz\r\n\" id=\"DejaVuSans-55\"/>\r\n      <path d=\"M 33.015625 40.375 \r\nQ 26.375 40.375 22.484375 35.828125 \r\nQ 18.609375 31.296875 18.609375 23.390625 \r\nQ 18.609375 15.53125 22.484375 10.953125 \r\nQ 26.375 6.390625 33.015625 6.390625 \r\nQ 39.65625 6.390625 43.53125 10.953125 \r\nQ 47.40625 15.53125 47.40625 23.390625 \r\nQ 47.40625 31.296875 43.53125 35.828125 \r\nQ 39.65625 40.375 33.015625 40.375 \r\nz\r\nM 52.59375 71.296875 \r\nL 52.59375 62.3125 \r\nQ 48.875 64.0625 45.09375 64.984375 \r\nQ 41.3125 65.921875 37.59375 65.921875 \r\nQ 27.828125 65.921875 22.671875 59.328125 \r\nQ 17.53125 52.734375 16.796875 39.40625 \r\nQ 19.671875 43.65625 24.015625 45.921875 \r\nQ 28.375 48.1875 33.59375 48.1875 \r\nQ 44.578125 48.1875 50.953125 41.515625 \r\nQ 57.328125 34.859375 57.328125 23.390625 \r\nQ 57.328125 12.15625 50.6875 5.359375 \r\nQ 44.046875 -1.421875 33.015625 -1.421875 \r\nQ 20.359375 -1.421875 13.671875 8.265625 \r\nQ 6.984375 17.96875 6.984375 36.375 \r\nQ 6.984375 53.65625 15.1875 63.9375 \r\nQ 23.390625 74.21875 37.203125 74.21875 \r\nQ 40.921875 74.21875 44.703125 73.484375 \r\nQ 48.484375 72.75 52.59375 71.296875 \r\nz\r\n\" id=\"DejaVuSans-54\"/>\r\n     </defs>\r\n     <use xlink:href=\"#DejaVuSans-48\"/>\r\n     <use x=\"63.623047\" xlink:href=\"#DejaVuSans-46\"/>\r\n     <use x=\"95.410156\" xlink:href=\"#DejaVuSans-48\"/>\r\n     <use x=\"159.033203\" xlink:href=\"#DejaVuSans-55\"/>\r\n     <use x=\"222.65625\" xlink:href=\"#DejaVuSans-54\"/>\r\n    </g>\r\n   </g>\r\n   <g id=\"text_31\">\r\n    <!-- 0.073 -->\r\n    <g style=\"fill:#262626;\" transform=\"translate(387.56 47.210901)scale(0.1 -0.1)\">\r\n     <use xlink:href=\"#DejaVuSans-48\"/>\r\n     <use x=\"63.623047\" xlink:href=\"#DejaVuSans-46\"/>\r\n     <use x=\"95.410156\" xlink:href=\"#DejaVuSans-48\"/>\r\n     <use x=\"159.033203\" xlink:href=\"#DejaVuSans-55\"/>\r\n     <use x=\"222.65625\" xlink:href=\"#DejaVuSans-51\"/>\r\n    </g>\r\n   </g>\r\n   <g id=\"text_32\">\r\n    <!-- 0.14 -->\r\n    <g style=\"fill:#262626;\" transform=\"translate(435.38125 47.210901)scale(0.1 -0.1)\">\r\n     <use xlink:href=\"#DejaVuSans-48\"/>\r\n     <use x=\"63.623047\" xlink:href=\"#DejaVuSans-46\"/>\r\n     <use x=\"95.410156\" xlink:href=\"#DejaVuSans-49\"/>\r\n     <use x=\"159.033203\" xlink:href=\"#DejaVuSans-52\"/>\r\n    </g>\r\n   </g>\r\n   <g id=\"text_33\">\r\n    <!-- -0.069 -->\r\n    <g style=\"fill:#262626;\" transform=\"translate(475.036094 47.210901)scale(0.1 -0.1)\">\r\n     <defs>\r\n      <path d=\"M 10.984375 1.515625 \r\nL 10.984375 10.5 \r\nQ 14.703125 8.734375 18.5 7.8125 \r\nQ 22.3125 6.890625 25.984375 6.890625 \r\nQ 35.75 6.890625 40.890625 13.453125 \r\nQ 46.046875 20.015625 46.78125 33.40625 \r\nQ 43.953125 29.203125 39.59375 26.953125 \r\nQ 35.25 24.703125 29.984375 24.703125 \r\nQ 19.046875 24.703125 12.671875 31.3125 \r\nQ 6.296875 37.9375 6.296875 49.421875 \r\nQ 6.296875 60.640625 12.9375 67.421875 \r\nQ 19.578125 74.21875 30.609375 74.21875 \r\nQ 43.265625 74.21875 49.921875 64.515625 \r\nQ 56.59375 54.828125 56.59375 36.375 \r\nQ 56.59375 19.140625 48.40625 8.859375 \r\nQ 40.234375 -1.421875 26.421875 -1.421875 \r\nQ 22.703125 -1.421875 18.890625 -0.6875 \r\nQ 15.09375 0.046875 10.984375 1.515625 \r\nz\r\nM 30.609375 32.421875 \r\nQ 37.25 32.421875 41.125 36.953125 \r\nQ 45.015625 41.5 45.015625 49.421875 \r\nQ 45.015625 57.28125 41.125 61.84375 \r\nQ 37.25 66.40625 30.609375 66.40625 \r\nQ 23.96875 66.40625 20.09375 61.84375 \r\nQ 16.21875 57.28125 16.21875 49.421875 \r\nQ 16.21875 41.5 20.09375 36.953125 \r\nQ 23.96875 32.421875 30.609375 32.421875 \r\nz\r\n\" id=\"DejaVuSans-57\"/>\r\n     </defs>\r\n     <use xlink:href=\"#DejaVuSans-45\"/>\r\n     <use x=\"36.083984\" xlink:href=\"#DejaVuSans-48\"/>\r\n     <use x=\"99.707031\" xlink:href=\"#DejaVuSans-46\"/>\r\n     <use x=\"131.494141\" xlink:href=\"#DejaVuSans-48\"/>\r\n     <use x=\"195.117188\" xlink:href=\"#DejaVuSans-54\"/>\r\n     <use x=\"258.740234\" xlink:href=\"#DejaVuSans-57\"/>\r\n    </g>\r\n   </g>\r\n   <g id=\"text_34\">\r\n    <!-- -0.0038 -->\r\n    <g style=\"fill:#262626;\" transform=\"translate(516.494844 47.210901)scale(0.1 -0.1)\">\r\n     <use xlink:href=\"#DejaVuSans-45\"/>\r\n     <use x=\"36.083984\" xlink:href=\"#DejaVuSans-48\"/>\r\n     <use x=\"99.707031\" xlink:href=\"#DejaVuSans-46\"/>\r\n     <use x=\"131.494141\" xlink:href=\"#DejaVuSans-48\"/>\r\n     <use x=\"195.117188\" xlink:href=\"#DejaVuSans-48\"/>\r\n     <use x=\"258.740234\" xlink:href=\"#DejaVuSans-51\"/>\r\n     <use x=\"322.363281\" xlink:href=\"#DejaVuSans-56\"/>\r\n    </g>\r\n   </g>\r\n   <g id=\"text_35\">\r\n    <!-- -0.031 -->\r\n    <g style=\"fill:#262626;\" transform=\"translate(564.316094 47.210901)scale(0.1 -0.1)\">\r\n     <use xlink:href=\"#DejaVuSans-45\"/>\r\n     <use x=\"36.083984\" xlink:href=\"#DejaVuSans-48\"/>\r\n     <use x=\"99.707031\" xlink:href=\"#DejaVuSans-46\"/>\r\n     <use x=\"131.494141\" xlink:href=\"#DejaVuSans-48\"/>\r\n     <use x=\"195.117188\" xlink:href=\"#DejaVuSans-51\"/>\r\n     <use x=\"258.740234\" xlink:href=\"#DejaVuSans-49\"/>\r\n    </g>\r\n   </g>\r\n   <g id=\"text_36\">\r\n    <!-- 0.0087 -->\r\n    <g style=\"fill:#262626;\" transform=\"translate(607.57875 47.210901)scale(0.1 -0.1)\">\r\n     <use xlink:href=\"#DejaVuSans-48\"/>\r\n     <use x=\"63.623047\" xlink:href=\"#DejaVuSans-46\"/>\r\n     <use x=\"95.410156\" xlink:href=\"#DejaVuSans-48\"/>\r\n     <use x=\"159.033203\" xlink:href=\"#DejaVuSans-48\"/>\r\n     <use x=\"222.65625\" xlink:href=\"#DejaVuSans-56\"/>\r\n     <use x=\"286.279297\" xlink:href=\"#DejaVuSans-55\"/>\r\n    </g>\r\n   </g>\r\n   <g id=\"text_37\">\r\n    <!-- 0.34 -->\r\n    <g style=\"fill:#262626;\" transform=\"translate(122.90125 80.663209)scale(0.1 -0.1)\">\r\n     <use xlink:href=\"#DejaVuSans-48\"/>\r\n     <use x=\"63.623047\" xlink:href=\"#DejaVuSans-46\"/>\r\n     <use x=\"95.410156\" xlink:href=\"#DejaVuSans-51\"/>\r\n     <use x=\"159.033203\" xlink:href=\"#DejaVuSans-52\"/>\r\n    </g>\r\n   </g>\r\n   <g id=\"text_38\">\r\n    <!-- 1 -->\r\n    <g style=\"fill:#ffffff;\" transform=\"translate(175.492813 80.663209)scale(0.1 -0.1)\">\r\n     <use xlink:href=\"#DejaVuSans-49\"/>\r\n    </g>\r\n   </g>\r\n   <g id=\"text_39\">\r\n    <!-- 0.32 -->\r\n    <g style=\"fill:#262626;\" transform=\"translate(212.18125 80.663209)scale(0.1 -0.1)\">\r\n     <use xlink:href=\"#DejaVuSans-48\"/>\r\n     <use x=\"63.623047\" xlink:href=\"#DejaVuSans-46\"/>\r\n     <use x=\"95.410156\" xlink:href=\"#DejaVuSans-51\"/>\r\n     <use x=\"159.033203\" xlink:href=\"#DejaVuSans-50\"/>\r\n    </g>\r\n   </g>\r\n   <g id=\"text_40\">\r\n    <!-- 0.0068 -->\r\n    <g style=\"fill:#262626;\" transform=\"translate(250.45875 80.663209)scale(0.1 -0.1)\">\r\n     <use xlink:href=\"#DejaVuSans-48\"/>\r\n     <use x=\"63.623047\" xlink:href=\"#DejaVuSans-46\"/>\r\n     <use x=\"95.410156\" xlink:href=\"#DejaVuSans-48\"/>\r\n     <use x=\"159.033203\" xlink:href=\"#DejaVuSans-48\"/>\r\n     <use x=\"222.65625\" xlink:href=\"#DejaVuSans-54\"/>\r\n     <use x=\"286.279297\" xlink:href=\"#DejaVuSans-56\"/>\r\n    </g>\r\n   </g>\r\n   <g id=\"text_41\">\r\n    <!-- -0.038 -->\r\n    <g style=\"fill:#262626;\" transform=\"translate(296.476094 80.663209)scale(0.1 -0.1)\">\r\n     <use xlink:href=\"#DejaVuSans-45\"/>\r\n     <use x=\"36.083984\" xlink:href=\"#DejaVuSans-48\"/>\r\n     <use x=\"99.707031\" xlink:href=\"#DejaVuSans-46\"/>\r\n     <use x=\"131.494141\" xlink:href=\"#DejaVuSans-48\"/>\r\n     <use x=\"195.117188\" xlink:href=\"#DejaVuSans-51\"/>\r\n     <use x=\"258.740234\" xlink:href=\"#DejaVuSans-56\"/>\r\n    </g>\r\n   </g>\r\n   <g id=\"text_42\">\r\n    <!-- 0.017 -->\r\n    <g style=\"fill:#262626;\" transform=\"translate(342.92 80.663209)scale(0.1 -0.1)\">\r\n     <use xlink:href=\"#DejaVuSans-48\"/>\r\n     <use x=\"63.623047\" xlink:href=\"#DejaVuSans-46\"/>\r\n     <use x=\"95.410156\" xlink:href=\"#DejaVuSans-48\"/>\r\n     <use x=\"159.033203\" xlink:href=\"#DejaVuSans-49\"/>\r\n     <use x=\"222.65625\" xlink:href=\"#DejaVuSans-55\"/>\r\n    </g>\r\n   </g>\r\n   <g id=\"text_43\">\r\n    <!-- 0.07 -->\r\n    <g style=\"fill:#262626;\" transform=\"translate(390.74125 80.663209)scale(0.1 -0.1)\">\r\n     <use xlink:href=\"#DejaVuSans-48\"/>\r\n     <use x=\"63.623047\" xlink:href=\"#DejaVuSans-46\"/>\r\n     <use x=\"95.410156\" xlink:href=\"#DejaVuSans-48\"/>\r\n     <use x=\"159.033203\" xlink:href=\"#DejaVuSans-55\"/>\r\n    </g>\r\n   </g>\r\n   <g id=\"text_44\">\r\n    <!-- 0.15 -->\r\n    <g style=\"fill:#262626;\" transform=\"translate(435.38125 80.663209)scale(0.1 -0.1)\">\r\n     <use xlink:href=\"#DejaVuSans-48\"/>\r\n     <use x=\"63.623047\" xlink:href=\"#DejaVuSans-46\"/>\r\n     <use x=\"95.410156\" xlink:href=\"#DejaVuSans-49\"/>\r\n     <use x=\"159.033203\" xlink:href=\"#DejaVuSans-53\"/>\r\n    </g>\r\n   </g>\r\n   <g id=\"text_45\">\r\n    <!-- -0.096 -->\r\n    <g style=\"fill:#262626;\" transform=\"translate(475.036094 80.663209)scale(0.1 -0.1)\">\r\n     <use xlink:href=\"#DejaVuSans-45\"/>\r\n     <use x=\"36.083984\" xlink:href=\"#DejaVuSans-48\"/>\r\n     <use x=\"99.707031\" xlink:href=\"#DejaVuSans-46\"/>\r\n     <use x=\"131.494141\" xlink:href=\"#DejaVuSans-48\"/>\r\n     <use x=\"195.117188\" xlink:href=\"#DejaVuSans-57\"/>\r\n     <use x=\"258.740234\" xlink:href=\"#DejaVuSans-54\"/>\r\n    </g>\r\n   </g>\r\n   <g id=\"text_46\">\r\n    <!-- 0.015 -->\r\n    <g style=\"fill:#262626;\" transform=\"translate(521.48 80.663209)scale(0.1 -0.1)\">\r\n     <use xlink:href=\"#DejaVuSans-48\"/>\r\n     <use x=\"63.623047\" xlink:href=\"#DejaVuSans-46\"/>\r\n     <use x=\"95.410156\" xlink:href=\"#DejaVuSans-48\"/>\r\n     <use x=\"159.033203\" xlink:href=\"#DejaVuSans-49\"/>\r\n     <use x=\"222.65625\" xlink:href=\"#DejaVuSans-53\"/>\r\n    </g>\r\n   </g>\r\n   <g id=\"text_47\">\r\n    <!-- 0.008 -->\r\n    <g style=\"fill:#262626;\" transform=\"translate(566.12 80.663209)scale(0.1 -0.1)\">\r\n     <use xlink:href=\"#DejaVuSans-48\"/>\r\n     <use x=\"63.623047\" xlink:href=\"#DejaVuSans-46\"/>\r\n     <use x=\"95.410156\" xlink:href=\"#DejaVuSans-48\"/>\r\n     <use x=\"159.033203\" xlink:href=\"#DejaVuSans-48\"/>\r\n     <use x=\"222.65625\" xlink:href=\"#DejaVuSans-56\"/>\r\n    </g>\r\n   </g>\r\n   <g id=\"text_48\">\r\n    <!-- 0.097 -->\r\n    <g style=\"fill:#262626;\" transform=\"translate(610.76 80.663209)scale(0.1 -0.1)\">\r\n     <use xlink:href=\"#DejaVuSans-48\"/>\r\n     <use x=\"63.623047\" xlink:href=\"#DejaVuSans-46\"/>\r\n     <use x=\"95.410156\" xlink:href=\"#DejaVuSans-48\"/>\r\n     <use x=\"159.033203\" xlink:href=\"#DejaVuSans-57\"/>\r\n     <use x=\"222.65625\" xlink:href=\"#DejaVuSans-55\"/>\r\n    </g>\r\n   </g>\r\n   <g id=\"text_49\">\r\n    <!-- 0.18 -->\r\n    <g style=\"fill:#262626;\" transform=\"translate(122.90125 114.115517)scale(0.1 -0.1)\">\r\n     <use xlink:href=\"#DejaVuSans-48\"/>\r\n     <use x=\"63.623047\" xlink:href=\"#DejaVuSans-46\"/>\r\n     <use x=\"95.410156\" xlink:href=\"#DejaVuSans-49\"/>\r\n     <use x=\"159.033203\" xlink:href=\"#DejaVuSans-56\"/>\r\n    </g>\r\n   </g>\r\n   <g id=\"text_50\">\r\n    <!-- 0.32 -->\r\n    <g style=\"fill:#262626;\" transform=\"translate(167.54125 114.115517)scale(0.1 -0.1)\">\r\n     <use xlink:href=\"#DejaVuSans-48\"/>\r\n     <use x=\"63.623047\" xlink:href=\"#DejaVuSans-46\"/>\r\n     <use x=\"95.410156\" xlink:href=\"#DejaVuSans-51\"/>\r\n     <use x=\"159.033203\" xlink:href=\"#DejaVuSans-50\"/>\r\n    </g>\r\n   </g>\r\n   <g id=\"text_51\">\r\n    <!-- 1 -->\r\n    <g style=\"fill:#ffffff;\" transform=\"translate(220.132812 114.115517)scale(0.1 -0.1)\">\r\n     <use xlink:href=\"#DejaVuSans-49\"/>\r\n    </g>\r\n   </g>\r\n   <g id=\"text_52\">\r\n    <!-- 0.056 -->\r\n    <g style=\"fill:#262626;\" transform=\"translate(253.64 114.115517)scale(0.1 -0.1)\">\r\n     <use xlink:href=\"#DejaVuSans-48\"/>\r\n     <use x=\"63.623047\" xlink:href=\"#DejaVuSans-46\"/>\r\n     <use x=\"95.410156\" xlink:href=\"#DejaVuSans-48\"/>\r\n     <use x=\"159.033203\" xlink:href=\"#DejaVuSans-53\"/>\r\n     <use x=\"222.65625\" xlink:href=\"#DejaVuSans-54\"/>\r\n    </g>\r\n   </g>\r\n   <g id=\"text_53\">\r\n    <!-- 0.025 -->\r\n    <g style=\"fill:#262626;\" transform=\"translate(298.28 114.115517)scale(0.1 -0.1)\">\r\n     <use xlink:href=\"#DejaVuSans-48\"/>\r\n     <use x=\"63.623047\" xlink:href=\"#DejaVuSans-46\"/>\r\n     <use x=\"95.410156\" xlink:href=\"#DejaVuSans-48\"/>\r\n     <use x=\"159.033203\" xlink:href=\"#DejaVuSans-50\"/>\r\n     <use x=\"222.65625\" xlink:href=\"#DejaVuSans-53\"/>\r\n    </g>\r\n   </g>\r\n   <g id=\"text_54\">\r\n    <!-- 0.14 -->\r\n    <g style=\"fill:#262626;\" transform=\"translate(346.10125 114.115517)scale(0.1 -0.1)\">\r\n     <use xlink:href=\"#DejaVuSans-48\"/>\r\n     <use x=\"63.623047\" xlink:href=\"#DejaVuSans-46\"/>\r\n     <use x=\"95.410156\" xlink:href=\"#DejaVuSans-49\"/>\r\n     <use x=\"159.033203\" xlink:href=\"#DejaVuSans-52\"/>\r\n    </g>\r\n   </g>\r\n   <g id=\"text_55\">\r\n    <!-- 0.03 -->\r\n    <g style=\"fill:#262626;\" transform=\"translate(390.74125 114.115517)scale(0.1 -0.1)\">\r\n     <use xlink:href=\"#DejaVuSans-48\"/>\r\n     <use x=\"63.623047\" xlink:href=\"#DejaVuSans-46\"/>\r\n     <use x=\"95.410156\" xlink:href=\"#DejaVuSans-48\"/>\r\n     <use x=\"159.033203\" xlink:href=\"#DejaVuSans-51\"/>\r\n    </g>\r\n   </g>\r\n   <g id=\"text_56\">\r\n    <!-- 0.16 -->\r\n    <g style=\"fill:#262626;\" transform=\"translate(435.38125 114.115517)scale(0.1 -0.1)\">\r\n     <use xlink:href=\"#DejaVuSans-48\"/>\r\n     <use x=\"63.623047\" xlink:href=\"#DejaVuSans-46\"/>\r\n     <use x=\"95.410156\" xlink:href=\"#DejaVuSans-49\"/>\r\n     <use x=\"159.033203\" xlink:href=\"#DejaVuSans-54\"/>\r\n    </g>\r\n   </g>\r\n   <g id=\"text_57\">\r\n    <!-- -0.1 -->\r\n    <g style=\"fill:#262626;\" transform=\"translate(481.398594 114.115517)scale(0.1 -0.1)\">\r\n     <use xlink:href=\"#DejaVuSans-45\"/>\r\n     <use x=\"36.083984\" xlink:href=\"#DejaVuSans-48\"/>\r\n     <use x=\"99.707031\" xlink:href=\"#DejaVuSans-46\"/>\r\n     <use x=\"131.494141\" xlink:href=\"#DejaVuSans-49\"/>\r\n    </g>\r\n   </g>\r\n   <g id=\"text_58\">\r\n    <!-- -0.04 -->\r\n    <g style=\"fill:#262626;\" transform=\"translate(522.857344 114.115517)scale(0.1 -0.1)\">\r\n     <use xlink:href=\"#DejaVuSans-45\"/>\r\n     <use x=\"36.083984\" xlink:href=\"#DejaVuSans-48\"/>\r\n     <use x=\"99.707031\" xlink:href=\"#DejaVuSans-46\"/>\r\n     <use x=\"131.494141\" xlink:href=\"#DejaVuSans-48\"/>\r\n     <use x=\"195.117188\" xlink:href=\"#DejaVuSans-52\"/>\r\n    </g>\r\n   </g>\r\n   <g id=\"text_59\">\r\n    <!-- -0.00024 -->\r\n    <g style=\"fill:#262626;\" transform=\"translate(557.953594 114.115517)scale(0.1 -0.1)\">\r\n     <use xlink:href=\"#DejaVuSans-45\"/>\r\n     <use x=\"36.083984\" xlink:href=\"#DejaVuSans-48\"/>\r\n     <use x=\"99.707031\" xlink:href=\"#DejaVuSans-46\"/>\r\n     <use x=\"131.494141\" xlink:href=\"#DejaVuSans-48\"/>\r\n     <use x=\"195.117188\" xlink:href=\"#DejaVuSans-48\"/>\r\n     <use x=\"258.740234\" xlink:href=\"#DejaVuSans-48\"/>\r\n     <use x=\"322.363281\" xlink:href=\"#DejaVuSans-50\"/>\r\n     <use x=\"385.986328\" xlink:href=\"#DejaVuSans-52\"/>\r\n    </g>\r\n   </g>\r\n   <g id=\"text_60\">\r\n    <!-- 0.01 -->\r\n    <g style=\"fill:#262626;\" transform=\"translate(613.94125 114.115517)scale(0.1 -0.1)\">\r\n     <use xlink:href=\"#DejaVuSans-48\"/>\r\n     <use x=\"63.623047\" xlink:href=\"#DejaVuSans-46\"/>\r\n     <use x=\"95.410156\" xlink:href=\"#DejaVuSans-48\"/>\r\n     <use x=\"159.033203\" xlink:href=\"#DejaVuSans-49\"/>\r\n    </g>\r\n   </g>\r\n   <g id=\"text_61\">\r\n    <!-- 0.024 -->\r\n    <g style=\"fill:#262626;\" transform=\"translate(119.72 147.567825)scale(0.1 -0.1)\">\r\n     <use xlink:href=\"#DejaVuSans-48\"/>\r\n     <use x=\"63.623047\" xlink:href=\"#DejaVuSans-46\"/>\r\n     <use x=\"95.410156\" xlink:href=\"#DejaVuSans-48\"/>\r\n     <use x=\"159.033203\" xlink:href=\"#DejaVuSans-50\"/>\r\n     <use x=\"222.65625\" xlink:href=\"#DejaVuSans-52\"/>\r\n    </g>\r\n   </g>\r\n   <g id=\"text_62\">\r\n    <!-- 0.0068 -->\r\n    <g style=\"fill:#262626;\" transform=\"translate(161.17875 147.567825)scale(0.1 -0.1)\">\r\n     <use xlink:href=\"#DejaVuSans-48\"/>\r\n     <use x=\"63.623047\" xlink:href=\"#DejaVuSans-46\"/>\r\n     <use x=\"95.410156\" xlink:href=\"#DejaVuSans-48\"/>\r\n     <use x=\"159.033203\" xlink:href=\"#DejaVuSans-48\"/>\r\n     <use x=\"222.65625\" xlink:href=\"#DejaVuSans-54\"/>\r\n     <use x=\"286.279297\" xlink:href=\"#DejaVuSans-56\"/>\r\n    </g>\r\n   </g>\r\n   <g id=\"text_63\">\r\n    <!-- 0.056 -->\r\n    <g style=\"fill:#262626;\" transform=\"translate(209 147.567825)scale(0.1 -0.1)\">\r\n     <use xlink:href=\"#DejaVuSans-48\"/>\r\n     <use x=\"63.623047\" xlink:href=\"#DejaVuSans-46\"/>\r\n     <use x=\"95.410156\" xlink:href=\"#DejaVuSans-48\"/>\r\n     <use x=\"159.033203\" xlink:href=\"#DejaVuSans-53\"/>\r\n     <use x=\"222.65625\" xlink:href=\"#DejaVuSans-54\"/>\r\n    </g>\r\n   </g>\r\n   <g id=\"text_64\">\r\n    <!-- 1 -->\r\n    <g style=\"fill:#ffffff;\" transform=\"translate(264.772813 147.567825)scale(0.1 -0.1)\">\r\n     <use xlink:href=\"#DejaVuSans-49\"/>\r\n    </g>\r\n   </g>\r\n   <g id=\"text_65\">\r\n    <!-- -0.021 -->\r\n    <g style=\"fill:#262626;\" transform=\"translate(296.476094 147.567825)scale(0.1 -0.1)\">\r\n     <use xlink:href=\"#DejaVuSans-45\"/>\r\n     <use x=\"36.083984\" xlink:href=\"#DejaVuSans-48\"/>\r\n     <use x=\"99.707031\" xlink:href=\"#DejaVuSans-46\"/>\r\n     <use x=\"131.494141\" xlink:href=\"#DejaVuSans-48\"/>\r\n     <use x=\"195.117188\" xlink:href=\"#DejaVuSans-50\"/>\r\n     <use x=\"258.740234\" xlink:href=\"#DejaVuSans-49\"/>\r\n    </g>\r\n   </g>\r\n   <g id=\"text_66\">\r\n    <!-- -0.19 -->\r\n    <g style=\"fill:#262626;\" transform=\"translate(344.297344 147.567825)scale(0.1 -0.1)\">\r\n     <use xlink:href=\"#DejaVuSans-45\"/>\r\n     <use x=\"36.083984\" xlink:href=\"#DejaVuSans-48\"/>\r\n     <use x=\"99.707031\" xlink:href=\"#DejaVuSans-46\"/>\r\n     <use x=\"131.494141\" xlink:href=\"#DejaVuSans-49\"/>\r\n     <use x=\"195.117188\" xlink:href=\"#DejaVuSans-57\"/>\r\n    </g>\r\n   </g>\r\n   <g id=\"text_67\">\r\n    <!-- -0.062 -->\r\n    <g style=\"fill:#262626;\" transform=\"translate(385.756094 147.567825)scale(0.1 -0.1)\">\r\n     <use xlink:href=\"#DejaVuSans-45\"/>\r\n     <use x=\"36.083984\" xlink:href=\"#DejaVuSans-48\"/>\r\n     <use x=\"99.707031\" xlink:href=\"#DejaVuSans-46\"/>\r\n     <use x=\"131.494141\" xlink:href=\"#DejaVuSans-48\"/>\r\n     <use x=\"195.117188\" xlink:href=\"#DejaVuSans-54\"/>\r\n     <use x=\"258.740234\" xlink:href=\"#DejaVuSans-50\"/>\r\n    </g>\r\n   </g>\r\n   <g id=\"text_68\">\r\n    <!-- -0.17 -->\r\n    <g style=\"fill:#262626;\" transform=\"translate(433.577344 147.567825)scale(0.1 -0.1)\">\r\n     <use xlink:href=\"#DejaVuSans-45\"/>\r\n     <use x=\"36.083984\" xlink:href=\"#DejaVuSans-48\"/>\r\n     <use x=\"99.707031\" xlink:href=\"#DejaVuSans-46\"/>\r\n     <use x=\"131.494141\" xlink:href=\"#DejaVuSans-49\"/>\r\n     <use x=\"195.117188\" xlink:href=\"#DejaVuSans-55\"/>\r\n    </g>\r\n   </g>\r\n   <g id=\"text_69\">\r\n    <!-- -0.074 -->\r\n    <g style=\"fill:#262626;\" transform=\"translate(475.036094 147.567825)scale(0.1 -0.1)\">\r\n     <use xlink:href=\"#DejaVuSans-45\"/>\r\n     <use x=\"36.083984\" xlink:href=\"#DejaVuSans-48\"/>\r\n     <use x=\"99.707031\" xlink:href=\"#DejaVuSans-46\"/>\r\n     <use x=\"131.494141\" xlink:href=\"#DejaVuSans-48\"/>\r\n     <use x=\"195.117188\" xlink:href=\"#DejaVuSans-55\"/>\r\n     <use x=\"258.740234\" xlink:href=\"#DejaVuSans-52\"/>\r\n    </g>\r\n   </g>\r\n   <g id=\"text_70\">\r\n    <!-- -0.074 -->\r\n    <g style=\"fill:#262626;\" transform=\"translate(519.676094 147.567825)scale(0.1 -0.1)\">\r\n     <use xlink:href=\"#DejaVuSans-45\"/>\r\n     <use x=\"36.083984\" xlink:href=\"#DejaVuSans-48\"/>\r\n     <use x=\"99.707031\" xlink:href=\"#DejaVuSans-46\"/>\r\n     <use x=\"131.494141\" xlink:href=\"#DejaVuSans-48\"/>\r\n     <use x=\"195.117188\" xlink:href=\"#DejaVuSans-55\"/>\r\n     <use x=\"258.740234\" xlink:href=\"#DejaVuSans-52\"/>\r\n    </g>\r\n   </g>\r\n   <g id=\"text_71\">\r\n    <!-- -0.065 -->\r\n    <g style=\"fill:#262626;\" transform=\"translate(564.316094 147.567825)scale(0.1 -0.1)\">\r\n     <use xlink:href=\"#DejaVuSans-45\"/>\r\n     <use x=\"36.083984\" xlink:href=\"#DejaVuSans-48\"/>\r\n     <use x=\"99.707031\" xlink:href=\"#DejaVuSans-46\"/>\r\n     <use x=\"131.494141\" xlink:href=\"#DejaVuSans-48\"/>\r\n     <use x=\"195.117188\" xlink:href=\"#DejaVuSans-54\"/>\r\n     <use x=\"258.740234\" xlink:href=\"#DejaVuSans-53\"/>\r\n    </g>\r\n   </g>\r\n   <g id=\"text_72\">\r\n    <!-- -0.086 -->\r\n    <g style=\"fill:#262626;\" transform=\"translate(608.956094 147.567825)scale(0.1 -0.1)\">\r\n     <use xlink:href=\"#DejaVuSans-45\"/>\r\n     <use x=\"36.083984\" xlink:href=\"#DejaVuSans-48\"/>\r\n     <use x=\"99.707031\" xlink:href=\"#DejaVuSans-46\"/>\r\n     <use x=\"131.494141\" xlink:href=\"#DejaVuSans-48\"/>\r\n     <use x=\"195.117188\" xlink:href=\"#DejaVuSans-56\"/>\r\n     <use x=\"258.740234\" xlink:href=\"#DejaVuSans-54\"/>\r\n    </g>\r\n   </g>\r\n   <g id=\"text_73\">\r\n    <!-- -0.025 -->\r\n    <g style=\"fill:#262626;\" transform=\"translate(117.916094 181.020132)scale(0.1 -0.1)\">\r\n     <use xlink:href=\"#DejaVuSans-45\"/>\r\n     <use x=\"36.083984\" xlink:href=\"#DejaVuSans-48\"/>\r\n     <use x=\"99.707031\" xlink:href=\"#DejaVuSans-46\"/>\r\n     <use x=\"131.494141\" xlink:href=\"#DejaVuSans-48\"/>\r\n     <use x=\"195.117188\" xlink:href=\"#DejaVuSans-50\"/>\r\n     <use x=\"258.740234\" xlink:href=\"#DejaVuSans-53\"/>\r\n    </g>\r\n   </g>\r\n   <g id=\"text_74\">\r\n    <!-- -0.038 -->\r\n    <g style=\"fill:#262626;\" transform=\"translate(162.556094 181.020132)scale(0.1 -0.1)\">\r\n     <use xlink:href=\"#DejaVuSans-45\"/>\r\n     <use x=\"36.083984\" xlink:href=\"#DejaVuSans-48\"/>\r\n     <use x=\"99.707031\" xlink:href=\"#DejaVuSans-46\"/>\r\n     <use x=\"131.494141\" xlink:href=\"#DejaVuSans-48\"/>\r\n     <use x=\"195.117188\" xlink:href=\"#DejaVuSans-51\"/>\r\n     <use x=\"258.740234\" xlink:href=\"#DejaVuSans-56\"/>\r\n    </g>\r\n   </g>\r\n   <g id=\"text_75\">\r\n    <!-- 0.025 -->\r\n    <g style=\"fill:#262626;\" transform=\"translate(209 181.020132)scale(0.1 -0.1)\">\r\n     <use xlink:href=\"#DejaVuSans-48\"/>\r\n     <use x=\"63.623047\" xlink:href=\"#DejaVuSans-46\"/>\r\n     <use x=\"95.410156\" xlink:href=\"#DejaVuSans-48\"/>\r\n     <use x=\"159.033203\" xlink:href=\"#DejaVuSans-50\"/>\r\n     <use x=\"222.65625\" xlink:href=\"#DejaVuSans-53\"/>\r\n    </g>\r\n   </g>\r\n   <g id=\"text_76\">\r\n    <!-- -0.021 -->\r\n    <g style=\"fill:#262626;\" transform=\"translate(251.836094 181.020132)scale(0.1 -0.1)\">\r\n     <use xlink:href=\"#DejaVuSans-45\"/>\r\n     <use x=\"36.083984\" xlink:href=\"#DejaVuSans-48\"/>\r\n     <use x=\"99.707031\" xlink:href=\"#DejaVuSans-46\"/>\r\n     <use x=\"131.494141\" xlink:href=\"#DejaVuSans-48\"/>\r\n     <use x=\"195.117188\" xlink:href=\"#DejaVuSans-50\"/>\r\n     <use x=\"258.740234\" xlink:href=\"#DejaVuSans-49\"/>\r\n    </g>\r\n   </g>\r\n   <g id=\"text_77\">\r\n    <!-- 1 -->\r\n    <g style=\"fill:#ffffff;\" transform=\"translate(309.412813 181.020132)scale(0.1 -0.1)\">\r\n     <use xlink:href=\"#DejaVuSans-49\"/>\r\n    </g>\r\n   </g>\r\n   <g id=\"text_78\">\r\n    <!-- 0.1 -->\r\n    <g style=\"fill:#262626;\" transform=\"translate(349.2825 181.020132)scale(0.1 -0.1)\">\r\n     <use xlink:href=\"#DejaVuSans-48\"/>\r\n     <use x=\"63.623047\" xlink:href=\"#DejaVuSans-46\"/>\r\n     <use x=\"95.410156\" xlink:href=\"#DejaVuSans-49\"/>\r\n    </g>\r\n   </g>\r\n   <g id=\"text_79\">\r\n    <!-- 0.052 -->\r\n    <g style=\"fill:#262626;\" transform=\"translate(387.56 181.020132)scale(0.1 -0.1)\">\r\n     <use xlink:href=\"#DejaVuSans-48\"/>\r\n     <use x=\"63.623047\" xlink:href=\"#DejaVuSans-46\"/>\r\n     <use x=\"95.410156\" xlink:href=\"#DejaVuSans-48\"/>\r\n     <use x=\"159.033203\" xlink:href=\"#DejaVuSans-53\"/>\r\n     <use x=\"222.65625\" xlink:href=\"#DejaVuSans-50\"/>\r\n    </g>\r\n   </g>\r\n   <g id=\"text_80\">\r\n    <!-- 0.09 -->\r\n    <g style=\"fill:#262626;\" transform=\"translate(435.38125 181.020132)scale(0.1 -0.1)\">\r\n     <use xlink:href=\"#DejaVuSans-48\"/>\r\n     <use x=\"63.623047\" xlink:href=\"#DejaVuSans-46\"/>\r\n     <use x=\"95.410156\" xlink:href=\"#DejaVuSans-48\"/>\r\n     <use x=\"159.033203\" xlink:href=\"#DejaVuSans-57\"/>\r\n    </g>\r\n   </g>\r\n   <g id=\"text_81\">\r\n    <!-- -0.036 -->\r\n    <g style=\"fill:#262626;\" transform=\"translate(475.036094 181.020132)scale(0.1 -0.1)\">\r\n     <use xlink:href=\"#DejaVuSans-45\"/>\r\n     <use x=\"36.083984\" xlink:href=\"#DejaVuSans-48\"/>\r\n     <use x=\"99.707031\" xlink:href=\"#DejaVuSans-46\"/>\r\n     <use x=\"131.494141\" xlink:href=\"#DejaVuSans-48\"/>\r\n     <use x=\"195.117188\" xlink:href=\"#DejaVuSans-51\"/>\r\n     <use x=\"258.740234\" xlink:href=\"#DejaVuSans-54\"/>\r\n    </g>\r\n   </g>\r\n   <g id=\"text_82\">\r\n    <!-- 0.062 -->\r\n    <g style=\"fill:#262626;\" transform=\"translate(521.48 181.020132)scale(0.1 -0.1)\">\r\n     <use xlink:href=\"#DejaVuSans-48\"/>\r\n     <use x=\"63.623047\" xlink:href=\"#DejaVuSans-46\"/>\r\n     <use x=\"95.410156\" xlink:href=\"#DejaVuSans-48\"/>\r\n     <use x=\"159.033203\" xlink:href=\"#DejaVuSans-54\"/>\r\n     <use x=\"222.65625\" xlink:href=\"#DejaVuSans-50\"/>\r\n    </g>\r\n   </g>\r\n   <g id=\"text_83\">\r\n    <!-- -0.013 -->\r\n    <g style=\"fill:#262626;\" transform=\"translate(564.316094 181.020132)scale(0.1 -0.1)\">\r\n     <use xlink:href=\"#DejaVuSans-45\"/>\r\n     <use x=\"36.083984\" xlink:href=\"#DejaVuSans-48\"/>\r\n     <use x=\"99.707031\" xlink:href=\"#DejaVuSans-46\"/>\r\n     <use x=\"131.494141\" xlink:href=\"#DejaVuSans-48\"/>\r\n     <use x=\"195.117188\" xlink:href=\"#DejaVuSans-49\"/>\r\n     <use x=\"258.740234\" xlink:href=\"#DejaVuSans-51\"/>\r\n    </g>\r\n   </g>\r\n   <g id=\"text_84\">\r\n    <!-- 0.011 -->\r\n    <g style=\"fill:#262626;\" transform=\"translate(610.76 181.020132)scale(0.1 -0.1)\">\r\n     <use xlink:href=\"#DejaVuSans-48\"/>\r\n     <use x=\"63.623047\" xlink:href=\"#DejaVuSans-46\"/>\r\n     <use x=\"95.410156\" xlink:href=\"#DejaVuSans-48\"/>\r\n     <use x=\"159.033203\" xlink:href=\"#DejaVuSans-49\"/>\r\n     <use x=\"222.65625\" xlink:href=\"#DejaVuSans-49\"/>\r\n    </g>\r\n   </g>\r\n   <g id=\"text_85\">\r\n    <!-- 0.076 -->\r\n    <g style=\"fill:#262626;\" transform=\"translate(119.72 214.47244)scale(0.1 -0.1)\">\r\n     <use xlink:href=\"#DejaVuSans-48\"/>\r\n     <use x=\"63.623047\" xlink:href=\"#DejaVuSans-46\"/>\r\n     <use x=\"95.410156\" xlink:href=\"#DejaVuSans-48\"/>\r\n     <use x=\"159.033203\" xlink:href=\"#DejaVuSans-55\"/>\r\n     <use x=\"222.65625\" xlink:href=\"#DejaVuSans-54\"/>\r\n    </g>\r\n   </g>\r\n   <g id=\"text_86\">\r\n    <!-- 0.017 -->\r\n    <g style=\"fill:#262626;\" transform=\"translate(164.36 214.47244)scale(0.1 -0.1)\">\r\n     <use xlink:href=\"#DejaVuSans-48\"/>\r\n     <use x=\"63.623047\" xlink:href=\"#DejaVuSans-46\"/>\r\n     <use x=\"95.410156\" xlink:href=\"#DejaVuSans-48\"/>\r\n     <use x=\"159.033203\" xlink:href=\"#DejaVuSans-49\"/>\r\n     <use x=\"222.65625\" xlink:href=\"#DejaVuSans-55\"/>\r\n    </g>\r\n   </g>\r\n   <g id=\"text_87\">\r\n    <!-- 0.14 -->\r\n    <g style=\"fill:#262626;\" transform=\"translate(212.18125 214.47244)scale(0.1 -0.1)\">\r\n     <use xlink:href=\"#DejaVuSans-48\"/>\r\n     <use x=\"63.623047\" xlink:href=\"#DejaVuSans-46\"/>\r\n     <use x=\"95.410156\" xlink:href=\"#DejaVuSans-49\"/>\r\n     <use x=\"159.033203\" xlink:href=\"#DejaVuSans-52\"/>\r\n    </g>\r\n   </g>\r\n   <g id=\"text_88\">\r\n    <!-- -0.19 -->\r\n    <g style=\"fill:#262626;\" transform=\"translate(255.017344 214.47244)scale(0.1 -0.1)\">\r\n     <use xlink:href=\"#DejaVuSans-45\"/>\r\n     <use x=\"36.083984\" xlink:href=\"#DejaVuSans-48\"/>\r\n     <use x=\"99.707031\" xlink:href=\"#DejaVuSans-46\"/>\r\n     <use x=\"131.494141\" xlink:href=\"#DejaVuSans-49\"/>\r\n     <use x=\"195.117188\" xlink:href=\"#DejaVuSans-57\"/>\r\n    </g>\r\n   </g>\r\n   <g id=\"text_89\">\r\n    <!-- 0.1 -->\r\n    <g style=\"fill:#262626;\" transform=\"translate(304.6425 214.47244)scale(0.1 -0.1)\">\r\n     <use xlink:href=\"#DejaVuSans-48\"/>\r\n     <use x=\"63.623047\" xlink:href=\"#DejaVuSans-46\"/>\r\n     <use x=\"95.410156\" xlink:href=\"#DejaVuSans-49\"/>\r\n    </g>\r\n   </g>\r\n   <g id=\"text_90\">\r\n    <!-- 1 -->\r\n    <g style=\"fill:#ffffff;\" transform=\"translate(354.052813 214.47244)scale(0.1 -0.1)\">\r\n     <use xlink:href=\"#DejaVuSans-49\"/>\r\n    </g>\r\n   </g>\r\n   <g id=\"text_91\">\r\n    <!-- -0.21 -->\r\n    <g style=\"fill:#262626;\" transform=\"translate(388.937344 214.47244)scale(0.1 -0.1)\">\r\n     <use xlink:href=\"#DejaVuSans-45\"/>\r\n     <use x=\"36.083984\" xlink:href=\"#DejaVuSans-48\"/>\r\n     <use x=\"99.707031\" xlink:href=\"#DejaVuSans-46\"/>\r\n     <use x=\"131.494141\" xlink:href=\"#DejaVuSans-50\"/>\r\n     <use x=\"195.117188\" xlink:href=\"#DejaVuSans-49\"/>\r\n    </g>\r\n   </g>\r\n   <g id=\"text_92\">\r\n    <!-- 0.5 -->\r\n    <g style=\"fill:#ffffff;\" transform=\"translate(438.5625 214.47244)scale(0.1 -0.1)\">\r\n     <use xlink:href=\"#DejaVuSans-48\"/>\r\n     <use x=\"63.623047\" xlink:href=\"#DejaVuSans-46\"/>\r\n     <use x=\"95.410156\" xlink:href=\"#DejaVuSans-53\"/>\r\n    </g>\r\n   </g>\r\n   <g id=\"text_93\">\r\n    <!-- -0.027 -->\r\n    <g style=\"fill:#262626;\" transform=\"translate(475.036094 214.47244)scale(0.1 -0.1)\">\r\n     <use xlink:href=\"#DejaVuSans-45\"/>\r\n     <use x=\"36.083984\" xlink:href=\"#DejaVuSans-48\"/>\r\n     <use x=\"99.707031\" xlink:href=\"#DejaVuSans-46\"/>\r\n     <use x=\"131.494141\" xlink:href=\"#DejaVuSans-48\"/>\r\n     <use x=\"195.117188\" xlink:href=\"#DejaVuSans-50\"/>\r\n     <use x=\"258.740234\" xlink:href=\"#DejaVuSans-55\"/>\r\n    </g>\r\n   </g>\r\n   <g id=\"text_94\">\r\n    <!-- 0.038 -->\r\n    <g style=\"fill:#262626;\" transform=\"translate(521.48 214.47244)scale(0.1 -0.1)\">\r\n     <use xlink:href=\"#DejaVuSans-48\"/>\r\n     <use x=\"63.623047\" xlink:href=\"#DejaVuSans-46\"/>\r\n     <use x=\"95.410156\" xlink:href=\"#DejaVuSans-48\"/>\r\n     <use x=\"159.033203\" xlink:href=\"#DejaVuSans-51\"/>\r\n     <use x=\"222.65625\" xlink:href=\"#DejaVuSans-56\"/>\r\n    </g>\r\n   </g>\r\n   <g id=\"text_95\">\r\n    <!-- -0.065 -->\r\n    <g style=\"fill:#262626;\" transform=\"translate(564.316094 214.47244)scale(0.1 -0.1)\">\r\n     <use xlink:href=\"#DejaVuSans-45\"/>\r\n     <use x=\"36.083984\" xlink:href=\"#DejaVuSans-48\"/>\r\n     <use x=\"99.707031\" xlink:href=\"#DejaVuSans-46\"/>\r\n     <use x=\"131.494141\" xlink:href=\"#DejaVuSans-48\"/>\r\n     <use x=\"195.117188\" xlink:href=\"#DejaVuSans-54\"/>\r\n     <use x=\"258.740234\" xlink:href=\"#DejaVuSans-53\"/>\r\n    </g>\r\n   </g>\r\n   <g id=\"text_96\">\r\n    <!-- -0.0031 -->\r\n    <g style=\"fill:#262626;\" transform=\"translate(605.774844 214.47244)scale(0.1 -0.1)\">\r\n     <use xlink:href=\"#DejaVuSans-45\"/>\r\n     <use x=\"36.083984\" xlink:href=\"#DejaVuSans-48\"/>\r\n     <use x=\"99.707031\" xlink:href=\"#DejaVuSans-46\"/>\r\n     <use x=\"131.494141\" xlink:href=\"#DejaVuSans-48\"/>\r\n     <use x=\"195.117188\" xlink:href=\"#DejaVuSans-48\"/>\r\n     <use x=\"258.740234\" xlink:href=\"#DejaVuSans-51\"/>\r\n     <use x=\"322.363281\" xlink:href=\"#DejaVuSans-49\"/>\r\n    </g>\r\n   </g>\r\n   <g id=\"text_97\">\r\n    <!-- 0.073 -->\r\n    <g style=\"fill:#262626;\" transform=\"translate(119.72 247.924748)scale(0.1 -0.1)\">\r\n     <use xlink:href=\"#DejaVuSans-48\"/>\r\n     <use x=\"63.623047\" xlink:href=\"#DejaVuSans-46\"/>\r\n     <use x=\"95.410156\" xlink:href=\"#DejaVuSans-48\"/>\r\n     <use x=\"159.033203\" xlink:href=\"#DejaVuSans-55\"/>\r\n     <use x=\"222.65625\" xlink:href=\"#DejaVuSans-51\"/>\r\n    </g>\r\n   </g>\r\n   <g id=\"text_98\">\r\n    <!-- 0.07 -->\r\n    <g style=\"fill:#262626;\" transform=\"translate(167.54125 247.924748)scale(0.1 -0.1)\">\r\n     <use xlink:href=\"#DejaVuSans-48\"/>\r\n     <use x=\"63.623047\" xlink:href=\"#DejaVuSans-46\"/>\r\n     <use x=\"95.410156\" xlink:href=\"#DejaVuSans-48\"/>\r\n     <use x=\"159.033203\" xlink:href=\"#DejaVuSans-55\"/>\r\n    </g>\r\n   </g>\r\n   <g id=\"text_99\">\r\n    <!-- 0.03 -->\r\n    <g style=\"fill:#262626;\" transform=\"translate(212.18125 247.924748)scale(0.1 -0.1)\">\r\n     <use xlink:href=\"#DejaVuSans-48\"/>\r\n     <use x=\"63.623047\" xlink:href=\"#DejaVuSans-46\"/>\r\n     <use x=\"95.410156\" xlink:href=\"#DejaVuSans-48\"/>\r\n     <use x=\"159.033203\" xlink:href=\"#DejaVuSans-51\"/>\r\n    </g>\r\n   </g>\r\n   <g id=\"text_100\">\r\n    <!-- -0.062 -->\r\n    <g style=\"fill:#262626;\" transform=\"translate(251.836094 247.924748)scale(0.1 -0.1)\">\r\n     <use xlink:href=\"#DejaVuSans-45\"/>\r\n     <use x=\"36.083984\" xlink:href=\"#DejaVuSans-48\"/>\r\n     <use x=\"99.707031\" xlink:href=\"#DejaVuSans-46\"/>\r\n     <use x=\"131.494141\" xlink:href=\"#DejaVuSans-48\"/>\r\n     <use x=\"195.117188\" xlink:href=\"#DejaVuSans-54\"/>\r\n     <use x=\"258.740234\" xlink:href=\"#DejaVuSans-50\"/>\r\n    </g>\r\n   </g>\r\n   <g id=\"text_101\">\r\n    <!-- 0.052 -->\r\n    <g style=\"fill:#262626;\" transform=\"translate(298.28 247.924748)scale(0.1 -0.1)\">\r\n     <use xlink:href=\"#DejaVuSans-48\"/>\r\n     <use x=\"63.623047\" xlink:href=\"#DejaVuSans-46\"/>\r\n     <use x=\"95.410156\" xlink:href=\"#DejaVuSans-48\"/>\r\n     <use x=\"159.033203\" xlink:href=\"#DejaVuSans-53\"/>\r\n     <use x=\"222.65625\" xlink:href=\"#DejaVuSans-50\"/>\r\n    </g>\r\n   </g>\r\n   <g id=\"text_102\">\r\n    <!-- -0.21 -->\r\n    <g style=\"fill:#262626;\" transform=\"translate(344.297344 247.924748)scale(0.1 -0.1)\">\r\n     <use xlink:href=\"#DejaVuSans-45\"/>\r\n     <use x=\"36.083984\" xlink:href=\"#DejaVuSans-48\"/>\r\n     <use x=\"99.707031\" xlink:href=\"#DejaVuSans-46\"/>\r\n     <use x=\"131.494141\" xlink:href=\"#DejaVuSans-50\"/>\r\n     <use x=\"195.117188\" xlink:href=\"#DejaVuSans-49\"/>\r\n    </g>\r\n   </g>\r\n   <g id=\"text_103\">\r\n    <!-- 1 -->\r\n    <g style=\"fill:#ffffff;\" transform=\"translate(398.692813 247.924748)scale(0.1 -0.1)\">\r\n     <use xlink:href=\"#DejaVuSans-49\"/>\r\n    </g>\r\n   </g>\r\n   <g id=\"text_104\">\r\n    <!-- 0.19 -->\r\n    <g style=\"fill:#262626;\" transform=\"translate(435.38125 247.924748)scale(0.1 -0.1)\">\r\n     <use xlink:href=\"#DejaVuSans-48\"/>\r\n     <use x=\"63.623047\" xlink:href=\"#DejaVuSans-46\"/>\r\n     <use x=\"95.410156\" xlink:href=\"#DejaVuSans-49\"/>\r\n     <use x=\"159.033203\" xlink:href=\"#DejaVuSans-57\"/>\r\n    </g>\r\n   </g>\r\n   <g id=\"text_105\">\r\n    <!-- -0.059 -->\r\n    <g style=\"fill:#262626;\" transform=\"translate(475.036094 247.924748)scale(0.1 -0.1)\">\r\n     <use xlink:href=\"#DejaVuSans-45\"/>\r\n     <use x=\"36.083984\" xlink:href=\"#DejaVuSans-48\"/>\r\n     <use x=\"99.707031\" xlink:href=\"#DejaVuSans-46\"/>\r\n     <use x=\"131.494141\" xlink:href=\"#DejaVuSans-48\"/>\r\n     <use x=\"195.117188\" xlink:href=\"#DejaVuSans-53\"/>\r\n     <use x=\"258.740234\" xlink:href=\"#DejaVuSans-57\"/>\r\n    </g>\r\n   </g>\r\n   <g id=\"text_106\">\r\n    <!-- 0.011 -->\r\n    <g style=\"fill:#262626;\" transform=\"translate(521.48 247.924748)scale(0.1 -0.1)\">\r\n     <use xlink:href=\"#DejaVuSans-48\"/>\r\n     <use x=\"63.623047\" xlink:href=\"#DejaVuSans-46\"/>\r\n     <use x=\"95.410156\" xlink:href=\"#DejaVuSans-48\"/>\r\n     <use x=\"159.033203\" xlink:href=\"#DejaVuSans-49\"/>\r\n     <use x=\"222.65625\" xlink:href=\"#DejaVuSans-49\"/>\r\n    </g>\r\n   </g>\r\n   <g id=\"text_107\">\r\n    <!-- 0.011 -->\r\n    <g style=\"fill:#262626;\" transform=\"translate(566.12 247.924748)scale(0.1 -0.1)\">\r\n     <use xlink:href=\"#DejaVuSans-48\"/>\r\n     <use x=\"63.623047\" xlink:href=\"#DejaVuSans-46\"/>\r\n     <use x=\"95.410156\" xlink:href=\"#DejaVuSans-48\"/>\r\n     <use x=\"159.033203\" xlink:href=\"#DejaVuSans-49\"/>\r\n     <use x=\"222.65625\" xlink:href=\"#DejaVuSans-49\"/>\r\n    </g>\r\n   </g>\r\n   <g id=\"text_108\">\r\n    <!-- -0.059 -->\r\n    <g style=\"fill:#262626;\" transform=\"translate(608.956094 247.924748)scale(0.1 -0.1)\">\r\n     <use xlink:href=\"#DejaVuSans-45\"/>\r\n     <use x=\"36.083984\" xlink:href=\"#DejaVuSans-48\"/>\r\n     <use x=\"99.707031\" xlink:href=\"#DejaVuSans-46\"/>\r\n     <use x=\"131.494141\" xlink:href=\"#DejaVuSans-48\"/>\r\n     <use x=\"195.117188\" xlink:href=\"#DejaVuSans-53\"/>\r\n     <use x=\"258.740234\" xlink:href=\"#DejaVuSans-57\"/>\r\n    </g>\r\n   </g>\r\n   <g id=\"text_109\">\r\n    <!-- 0.14 -->\r\n    <g style=\"fill:#262626;\" transform=\"translate(122.90125 281.377055)scale(0.1 -0.1)\">\r\n     <use xlink:href=\"#DejaVuSans-48\"/>\r\n     <use x=\"63.623047\" xlink:href=\"#DejaVuSans-46\"/>\r\n     <use x=\"95.410156\" xlink:href=\"#DejaVuSans-49\"/>\r\n     <use x=\"159.033203\" xlink:href=\"#DejaVuSans-52\"/>\r\n    </g>\r\n   </g>\r\n   <g id=\"text_110\">\r\n    <!-- 0.15 -->\r\n    <g style=\"fill:#262626;\" transform=\"translate(167.54125 281.377055)scale(0.1 -0.1)\">\r\n     <use xlink:href=\"#DejaVuSans-48\"/>\r\n     <use x=\"63.623047\" xlink:href=\"#DejaVuSans-46\"/>\r\n     <use x=\"95.410156\" xlink:href=\"#DejaVuSans-49\"/>\r\n     <use x=\"159.033203\" xlink:href=\"#DejaVuSans-53\"/>\r\n    </g>\r\n   </g>\r\n   <g id=\"text_111\">\r\n    <!-- 0.16 -->\r\n    <g style=\"fill:#262626;\" transform=\"translate(212.18125 281.377055)scale(0.1 -0.1)\">\r\n     <use xlink:href=\"#DejaVuSans-48\"/>\r\n     <use x=\"63.623047\" xlink:href=\"#DejaVuSans-46\"/>\r\n     <use x=\"95.410156\" xlink:href=\"#DejaVuSans-49\"/>\r\n     <use x=\"159.033203\" xlink:href=\"#DejaVuSans-54\"/>\r\n    </g>\r\n   </g>\r\n   <g id=\"text_112\">\r\n    <!-- -0.17 -->\r\n    <g style=\"fill:#262626;\" transform=\"translate(255.017344 281.377055)scale(0.1 -0.1)\">\r\n     <use xlink:href=\"#DejaVuSans-45\"/>\r\n     <use x=\"36.083984\" xlink:href=\"#DejaVuSans-48\"/>\r\n     <use x=\"99.707031\" xlink:href=\"#DejaVuSans-46\"/>\r\n     <use x=\"131.494141\" xlink:href=\"#DejaVuSans-49\"/>\r\n     <use x=\"195.117188\" xlink:href=\"#DejaVuSans-55\"/>\r\n    </g>\r\n   </g>\r\n   <g id=\"text_113\">\r\n    <!-- 0.09 -->\r\n    <g style=\"fill:#262626;\" transform=\"translate(301.46125 281.377055)scale(0.1 -0.1)\">\r\n     <use xlink:href=\"#DejaVuSans-48\"/>\r\n     <use x=\"63.623047\" xlink:href=\"#DejaVuSans-46\"/>\r\n     <use x=\"95.410156\" xlink:href=\"#DejaVuSans-48\"/>\r\n     <use x=\"159.033203\" xlink:href=\"#DejaVuSans-57\"/>\r\n    </g>\r\n   </g>\r\n   <g id=\"text_114\">\r\n    <!-- 0.5 -->\r\n    <g style=\"fill:#ffffff;\" transform=\"translate(349.2825 281.377055)scale(0.1 -0.1)\">\r\n     <use xlink:href=\"#DejaVuSans-48\"/>\r\n     <use x=\"63.623047\" xlink:href=\"#DejaVuSans-46\"/>\r\n     <use x=\"95.410156\" xlink:href=\"#DejaVuSans-53\"/>\r\n    </g>\r\n   </g>\r\n   <g id=\"text_115\">\r\n    <!-- 0.19 -->\r\n    <g style=\"fill:#262626;\" transform=\"translate(390.74125 281.377055)scale(0.1 -0.1)\">\r\n     <use xlink:href=\"#DejaVuSans-48\"/>\r\n     <use x=\"63.623047\" xlink:href=\"#DejaVuSans-46\"/>\r\n     <use x=\"95.410156\" xlink:href=\"#DejaVuSans-49\"/>\r\n     <use x=\"159.033203\" xlink:href=\"#DejaVuSans-57\"/>\r\n    </g>\r\n   </g>\r\n   <g id=\"text_116\">\r\n    <!-- 1 -->\r\n    <g style=\"fill:#ffffff;\" transform=\"translate(443.332813 281.377055)scale(0.1 -0.1)\">\r\n     <use xlink:href=\"#DejaVuSans-49\"/>\r\n    </g>\r\n   </g>\r\n   <g id=\"text_117\">\r\n    <!-- 0.036 -->\r\n    <g style=\"fill:#262626;\" transform=\"translate(476.84 281.377055)scale(0.1 -0.1)\">\r\n     <use xlink:href=\"#DejaVuSans-48\"/>\r\n     <use x=\"63.623047\" xlink:href=\"#DejaVuSans-46\"/>\r\n     <use x=\"95.410156\" xlink:href=\"#DejaVuSans-48\"/>\r\n     <use x=\"159.033203\" xlink:href=\"#DejaVuSans-51\"/>\r\n     <use x=\"222.65625\" xlink:href=\"#DejaVuSans-54\"/>\r\n    </g>\r\n   </g>\r\n   <g id=\"text_118\">\r\n    <!-- -0.0014 -->\r\n    <g style=\"fill:#262626;\" transform=\"translate(516.494844 281.377055)scale(0.1 -0.1)\">\r\n     <use xlink:href=\"#DejaVuSans-45\"/>\r\n     <use x=\"36.083984\" xlink:href=\"#DejaVuSans-48\"/>\r\n     <use x=\"99.707031\" xlink:href=\"#DejaVuSans-46\"/>\r\n     <use x=\"131.494141\" xlink:href=\"#DejaVuSans-48\"/>\r\n     <use x=\"195.117188\" xlink:href=\"#DejaVuSans-48\"/>\r\n     <use x=\"258.740234\" xlink:href=\"#DejaVuSans-49\"/>\r\n     <use x=\"322.363281\" xlink:href=\"#DejaVuSans-52\"/>\r\n    </g>\r\n   </g>\r\n   <g id=\"text_119\">\r\n    <!-- -0.045 -->\r\n    <g style=\"fill:#262626;\" transform=\"translate(564.316094 281.377055)scale(0.1 -0.1)\">\r\n     <use xlink:href=\"#DejaVuSans-45\"/>\r\n     <use x=\"36.083984\" xlink:href=\"#DejaVuSans-48\"/>\r\n     <use x=\"99.707031\" xlink:href=\"#DejaVuSans-46\"/>\r\n     <use x=\"131.494141\" xlink:href=\"#DejaVuSans-48\"/>\r\n     <use x=\"195.117188\" xlink:href=\"#DejaVuSans-52\"/>\r\n     <use x=\"258.740234\" xlink:href=\"#DejaVuSans-53\"/>\r\n    </g>\r\n   </g>\r\n   <g id=\"text_120\">\r\n    <!-- -0.036 -->\r\n    <g style=\"fill:#262626;\" transform=\"translate(608.956094 281.377055)scale(0.1 -0.1)\">\r\n     <use xlink:href=\"#DejaVuSans-45\"/>\r\n     <use x=\"36.083984\" xlink:href=\"#DejaVuSans-48\"/>\r\n     <use x=\"99.707031\" xlink:href=\"#DejaVuSans-46\"/>\r\n     <use x=\"131.494141\" xlink:href=\"#DejaVuSans-48\"/>\r\n     <use x=\"195.117188\" xlink:href=\"#DejaVuSans-51\"/>\r\n     <use x=\"258.740234\" xlink:href=\"#DejaVuSans-54\"/>\r\n    </g>\r\n   </g>\r\n   <g id=\"text_121\">\r\n    <!-- -0.069 -->\r\n    <g style=\"fill:#262626;\" transform=\"translate(117.916094 314.829363)scale(0.1 -0.1)\">\r\n     <use xlink:href=\"#DejaVuSans-45\"/>\r\n     <use x=\"36.083984\" xlink:href=\"#DejaVuSans-48\"/>\r\n     <use x=\"99.707031\" xlink:href=\"#DejaVuSans-46\"/>\r\n     <use x=\"131.494141\" xlink:href=\"#DejaVuSans-48\"/>\r\n     <use x=\"195.117188\" xlink:href=\"#DejaVuSans-54\"/>\r\n     <use x=\"258.740234\" xlink:href=\"#DejaVuSans-57\"/>\r\n    </g>\r\n   </g>\r\n   <g id=\"text_122\">\r\n    <!-- -0.096 -->\r\n    <g style=\"fill:#262626;\" transform=\"translate(162.556094 314.829363)scale(0.1 -0.1)\">\r\n     <use xlink:href=\"#DejaVuSans-45\"/>\r\n     <use x=\"36.083984\" xlink:href=\"#DejaVuSans-48\"/>\r\n     <use x=\"99.707031\" xlink:href=\"#DejaVuSans-46\"/>\r\n     <use x=\"131.494141\" xlink:href=\"#DejaVuSans-48\"/>\r\n     <use x=\"195.117188\" xlink:href=\"#DejaVuSans-57\"/>\r\n     <use x=\"258.740234\" xlink:href=\"#DejaVuSans-54\"/>\r\n    </g>\r\n   </g>\r\n   <g id=\"text_123\">\r\n    <!-- -0.1 -->\r\n    <g style=\"fill:#262626;\" transform=\"translate(213.558594 314.829363)scale(0.1 -0.1)\">\r\n     <use xlink:href=\"#DejaVuSans-45\"/>\r\n     <use x=\"36.083984\" xlink:href=\"#DejaVuSans-48\"/>\r\n     <use x=\"99.707031\" xlink:href=\"#DejaVuSans-46\"/>\r\n     <use x=\"131.494141\" xlink:href=\"#DejaVuSans-49\"/>\r\n    </g>\r\n   </g>\r\n   <g id=\"text_124\">\r\n    <!-- -0.074 -->\r\n    <g style=\"fill:#262626;\" transform=\"translate(251.836094 314.829363)scale(0.1 -0.1)\">\r\n     <use xlink:href=\"#DejaVuSans-45\"/>\r\n     <use x=\"36.083984\" xlink:href=\"#DejaVuSans-48\"/>\r\n     <use x=\"99.707031\" xlink:href=\"#DejaVuSans-46\"/>\r\n     <use x=\"131.494141\" xlink:href=\"#DejaVuSans-48\"/>\r\n     <use x=\"195.117188\" xlink:href=\"#DejaVuSans-55\"/>\r\n     <use x=\"258.740234\" xlink:href=\"#DejaVuSans-52\"/>\r\n    </g>\r\n   </g>\r\n   <g id=\"text_125\">\r\n    <!-- -0.036 -->\r\n    <g style=\"fill:#262626;\" transform=\"translate(296.476094 314.829363)scale(0.1 -0.1)\">\r\n     <use xlink:href=\"#DejaVuSans-45\"/>\r\n     <use x=\"36.083984\" xlink:href=\"#DejaVuSans-48\"/>\r\n     <use x=\"99.707031\" xlink:href=\"#DejaVuSans-46\"/>\r\n     <use x=\"131.494141\" xlink:href=\"#DejaVuSans-48\"/>\r\n     <use x=\"195.117188\" xlink:href=\"#DejaVuSans-51\"/>\r\n     <use x=\"258.740234\" xlink:href=\"#DejaVuSans-54\"/>\r\n    </g>\r\n   </g>\r\n   <g id=\"text_126\">\r\n    <!-- -0.027 -->\r\n    <g style=\"fill:#262626;\" transform=\"translate(341.116094 314.829363)scale(0.1 -0.1)\">\r\n     <use xlink:href=\"#DejaVuSans-45\"/>\r\n     <use x=\"36.083984\" xlink:href=\"#DejaVuSans-48\"/>\r\n     <use x=\"99.707031\" xlink:href=\"#DejaVuSans-46\"/>\r\n     <use x=\"131.494141\" xlink:href=\"#DejaVuSans-48\"/>\r\n     <use x=\"195.117188\" xlink:href=\"#DejaVuSans-50\"/>\r\n     <use x=\"258.740234\" xlink:href=\"#DejaVuSans-55\"/>\r\n    </g>\r\n   </g>\r\n   <g id=\"text_127\">\r\n    <!-- -0.059 -->\r\n    <g style=\"fill:#262626;\" transform=\"translate(385.756094 314.829363)scale(0.1 -0.1)\">\r\n     <use xlink:href=\"#DejaVuSans-45\"/>\r\n     <use x=\"36.083984\" xlink:href=\"#DejaVuSans-48\"/>\r\n     <use x=\"99.707031\" xlink:href=\"#DejaVuSans-46\"/>\r\n     <use x=\"131.494141\" xlink:href=\"#DejaVuSans-48\"/>\r\n     <use x=\"195.117188\" xlink:href=\"#DejaVuSans-53\"/>\r\n     <use x=\"258.740234\" xlink:href=\"#DejaVuSans-57\"/>\r\n    </g>\r\n   </g>\r\n   <g id=\"text_128\">\r\n    <!-- 0.036 -->\r\n    <g style=\"fill:#262626;\" transform=\"translate(432.2 314.829363)scale(0.1 -0.1)\">\r\n     <use xlink:href=\"#DejaVuSans-48\"/>\r\n     <use x=\"63.623047\" xlink:href=\"#DejaVuSans-46\"/>\r\n     <use x=\"95.410156\" xlink:href=\"#DejaVuSans-48\"/>\r\n     <use x=\"159.033203\" xlink:href=\"#DejaVuSans-51\"/>\r\n     <use x=\"222.65625\" xlink:href=\"#DejaVuSans-54\"/>\r\n    </g>\r\n   </g>\r\n   <g id=\"text_129\">\r\n    <!-- 1 -->\r\n    <g style=\"fill:#ffffff;\" transform=\"translate(487.972813 314.829363)scale(0.1 -0.1)\">\r\n     <use xlink:href=\"#DejaVuSans-49\"/>\r\n    </g>\r\n   </g>\r\n   <g id=\"text_130\">\r\n    <!-- -0.0047 -->\r\n    <g style=\"fill:#262626;\" transform=\"translate(516.494844 314.829363)scale(0.1 -0.1)\">\r\n     <use xlink:href=\"#DejaVuSans-45\"/>\r\n     <use x=\"36.083984\" xlink:href=\"#DejaVuSans-48\"/>\r\n     <use x=\"99.707031\" xlink:href=\"#DejaVuSans-46\"/>\r\n     <use x=\"131.494141\" xlink:href=\"#DejaVuSans-48\"/>\r\n     <use x=\"195.117188\" xlink:href=\"#DejaVuSans-48\"/>\r\n     <use x=\"258.740234\" xlink:href=\"#DejaVuSans-52\"/>\r\n     <use x=\"322.363281\" xlink:href=\"#DejaVuSans-55\"/>\r\n    </g>\r\n   </g>\r\n   <g id=\"text_131\">\r\n    <!-- -0.076 -->\r\n    <g style=\"fill:#262626;\" transform=\"translate(564.316094 314.829363)scale(0.1 -0.1)\">\r\n     <use xlink:href=\"#DejaVuSans-45\"/>\r\n     <use x=\"36.083984\" xlink:href=\"#DejaVuSans-48\"/>\r\n     <use x=\"99.707031\" xlink:href=\"#DejaVuSans-46\"/>\r\n     <use x=\"131.494141\" xlink:href=\"#DejaVuSans-48\"/>\r\n     <use x=\"195.117188\" xlink:href=\"#DejaVuSans-55\"/>\r\n     <use x=\"258.740234\" xlink:href=\"#DejaVuSans-54\"/>\r\n    </g>\r\n   </g>\r\n   <g id=\"text_132\">\r\n    <!-- -0.023 -->\r\n    <g style=\"fill:#262626;\" transform=\"translate(608.956094 314.829363)scale(0.1 -0.1)\">\r\n     <use xlink:href=\"#DejaVuSans-45\"/>\r\n     <use x=\"36.083984\" xlink:href=\"#DejaVuSans-48\"/>\r\n     <use x=\"99.707031\" xlink:href=\"#DejaVuSans-46\"/>\r\n     <use x=\"131.494141\" xlink:href=\"#DejaVuSans-48\"/>\r\n     <use x=\"195.117188\" xlink:href=\"#DejaVuSans-50\"/>\r\n     <use x=\"258.740234\" xlink:href=\"#DejaVuSans-51\"/>\r\n    </g>\r\n   </g>\r\n   <g id=\"text_133\">\r\n    <!-- -0.0038 -->\r\n    <g style=\"fill:#262626;\" transform=\"translate(114.734844 348.281671)scale(0.1 -0.1)\">\r\n     <use xlink:href=\"#DejaVuSans-45\"/>\r\n     <use x=\"36.083984\" xlink:href=\"#DejaVuSans-48\"/>\r\n     <use x=\"99.707031\" xlink:href=\"#DejaVuSans-46\"/>\r\n     <use x=\"131.494141\" xlink:href=\"#DejaVuSans-48\"/>\r\n     <use x=\"195.117188\" xlink:href=\"#DejaVuSans-48\"/>\r\n     <use x=\"258.740234\" xlink:href=\"#DejaVuSans-51\"/>\r\n     <use x=\"322.363281\" xlink:href=\"#DejaVuSans-56\"/>\r\n    </g>\r\n   </g>\r\n   <g id=\"text_134\">\r\n    <!-- 0.015 -->\r\n    <g style=\"fill:#262626;\" transform=\"translate(164.36 348.281671)scale(0.1 -0.1)\">\r\n     <use xlink:href=\"#DejaVuSans-48\"/>\r\n     <use x=\"63.623047\" xlink:href=\"#DejaVuSans-46\"/>\r\n     <use x=\"95.410156\" xlink:href=\"#DejaVuSans-48\"/>\r\n     <use x=\"159.033203\" xlink:href=\"#DejaVuSans-49\"/>\r\n     <use x=\"222.65625\" xlink:href=\"#DejaVuSans-53\"/>\r\n    </g>\r\n   </g>\r\n   <g id=\"text_135\">\r\n    <!-- -0.04 -->\r\n    <g style=\"fill:#262626;\" transform=\"translate(210.377344 348.281671)scale(0.1 -0.1)\">\r\n     <use xlink:href=\"#DejaVuSans-45\"/>\r\n     <use x=\"36.083984\" xlink:href=\"#DejaVuSans-48\"/>\r\n     <use x=\"99.707031\" xlink:href=\"#DejaVuSans-46\"/>\r\n     <use x=\"131.494141\" xlink:href=\"#DejaVuSans-48\"/>\r\n     <use x=\"195.117188\" xlink:href=\"#DejaVuSans-52\"/>\r\n    </g>\r\n   </g>\r\n   <g id=\"text_136\">\r\n    <!-- -0.074 -->\r\n    <g style=\"fill:#262626;\" transform=\"translate(251.836094 348.281671)scale(0.1 -0.1)\">\r\n     <use xlink:href=\"#DejaVuSans-45\"/>\r\n     <use x=\"36.083984\" xlink:href=\"#DejaVuSans-48\"/>\r\n     <use x=\"99.707031\" xlink:href=\"#DejaVuSans-46\"/>\r\n     <use x=\"131.494141\" xlink:href=\"#DejaVuSans-48\"/>\r\n     <use x=\"195.117188\" xlink:href=\"#DejaVuSans-55\"/>\r\n     <use x=\"258.740234\" xlink:href=\"#DejaVuSans-52\"/>\r\n    </g>\r\n   </g>\r\n   <g id=\"text_137\">\r\n    <!-- 0.062 -->\r\n    <g style=\"fill:#262626;\" transform=\"translate(298.28 348.281671)scale(0.1 -0.1)\">\r\n     <use xlink:href=\"#DejaVuSans-48\"/>\r\n     <use x=\"63.623047\" xlink:href=\"#DejaVuSans-46\"/>\r\n     <use x=\"95.410156\" xlink:href=\"#DejaVuSans-48\"/>\r\n     <use x=\"159.033203\" xlink:href=\"#DejaVuSans-54\"/>\r\n     <use x=\"222.65625\" xlink:href=\"#DejaVuSans-50\"/>\r\n    </g>\r\n   </g>\r\n   <g id=\"text_138\">\r\n    <!-- 0.038 -->\r\n    <g style=\"fill:#262626;\" transform=\"translate(342.92 348.281671)scale(0.1 -0.1)\">\r\n     <use xlink:href=\"#DejaVuSans-48\"/>\r\n     <use x=\"63.623047\" xlink:href=\"#DejaVuSans-46\"/>\r\n     <use x=\"95.410156\" xlink:href=\"#DejaVuSans-48\"/>\r\n     <use x=\"159.033203\" xlink:href=\"#DejaVuSans-51\"/>\r\n     <use x=\"222.65625\" xlink:href=\"#DejaVuSans-56\"/>\r\n    </g>\r\n   </g>\r\n   <g id=\"text_139\">\r\n    <!-- 0.011 -->\r\n    <g style=\"fill:#262626;\" transform=\"translate(387.56 348.281671)scale(0.1 -0.1)\">\r\n     <use xlink:href=\"#DejaVuSans-48\"/>\r\n     <use x=\"63.623047\" xlink:href=\"#DejaVuSans-46\"/>\r\n     <use x=\"95.410156\" xlink:href=\"#DejaVuSans-48\"/>\r\n     <use x=\"159.033203\" xlink:href=\"#DejaVuSans-49\"/>\r\n     <use x=\"222.65625\" xlink:href=\"#DejaVuSans-49\"/>\r\n    </g>\r\n   </g>\r\n   <g id=\"text_140\">\r\n    <!-- -0.0014 -->\r\n    <g style=\"fill:#262626;\" transform=\"translate(427.214844 348.281671)scale(0.1 -0.1)\">\r\n     <use xlink:href=\"#DejaVuSans-45\"/>\r\n     <use x=\"36.083984\" xlink:href=\"#DejaVuSans-48\"/>\r\n     <use x=\"99.707031\" xlink:href=\"#DejaVuSans-46\"/>\r\n     <use x=\"131.494141\" xlink:href=\"#DejaVuSans-48\"/>\r\n     <use x=\"195.117188\" xlink:href=\"#DejaVuSans-48\"/>\r\n     <use x=\"258.740234\" xlink:href=\"#DejaVuSans-49\"/>\r\n     <use x=\"322.363281\" xlink:href=\"#DejaVuSans-52\"/>\r\n    </g>\r\n   </g>\r\n   <g id=\"text_141\">\r\n    <!-- -0.0047 -->\r\n    <g style=\"fill:#262626;\" transform=\"translate(471.854844 348.281671)scale(0.1 -0.1)\">\r\n     <use xlink:href=\"#DejaVuSans-45\"/>\r\n     <use x=\"36.083984\" xlink:href=\"#DejaVuSans-48\"/>\r\n     <use x=\"99.707031\" xlink:href=\"#DejaVuSans-46\"/>\r\n     <use x=\"131.494141\" xlink:href=\"#DejaVuSans-48\"/>\r\n     <use x=\"195.117188\" xlink:href=\"#DejaVuSans-48\"/>\r\n     <use x=\"258.740234\" xlink:href=\"#DejaVuSans-52\"/>\r\n     <use x=\"322.363281\" xlink:href=\"#DejaVuSans-55\"/>\r\n    </g>\r\n   </g>\r\n   <g id=\"text_142\">\r\n    <!-- 1 -->\r\n    <g style=\"fill:#ffffff;\" transform=\"translate(532.612813 348.281671)scale(0.1 -0.1)\">\r\n     <use xlink:href=\"#DejaVuSans-49\"/>\r\n    </g>\r\n   </g>\r\n   <g id=\"text_143\">\r\n    <!-- 0.002 -->\r\n    <g style=\"fill:#262626;\" transform=\"translate(566.12 348.281671)scale(0.1 -0.1)\">\r\n     <use xlink:href=\"#DejaVuSans-48\"/>\r\n     <use x=\"63.623047\" xlink:href=\"#DejaVuSans-46\"/>\r\n     <use x=\"95.410156\" xlink:href=\"#DejaVuSans-48\"/>\r\n     <use x=\"159.033203\" xlink:href=\"#DejaVuSans-48\"/>\r\n     <use x=\"222.65625\" xlink:href=\"#DejaVuSans-50\"/>\r\n    </g>\r\n   </g>\r\n   <g id=\"text_144\">\r\n    <!-- 0.54 -->\r\n    <g style=\"fill:#ffffff;\" transform=\"translate(613.94125 348.281671)scale(0.1 -0.1)\">\r\n     <use xlink:href=\"#DejaVuSans-48\"/>\r\n     <use x=\"63.623047\" xlink:href=\"#DejaVuSans-46\"/>\r\n     <use x=\"95.410156\" xlink:href=\"#DejaVuSans-53\"/>\r\n     <use x=\"159.033203\" xlink:href=\"#DejaVuSans-52\"/>\r\n    </g>\r\n   </g>\r\n   <g id=\"text_145\">\r\n    <!-- -0.031 -->\r\n    <g style=\"fill:#262626;\" transform=\"translate(117.916094 381.733978)scale(0.1 -0.1)\">\r\n     <use xlink:href=\"#DejaVuSans-45\"/>\r\n     <use x=\"36.083984\" xlink:href=\"#DejaVuSans-48\"/>\r\n     <use x=\"99.707031\" xlink:href=\"#DejaVuSans-46\"/>\r\n     <use x=\"131.494141\" xlink:href=\"#DejaVuSans-48\"/>\r\n     <use x=\"195.117188\" xlink:href=\"#DejaVuSans-51\"/>\r\n     <use x=\"258.740234\" xlink:href=\"#DejaVuSans-49\"/>\r\n    </g>\r\n   </g>\r\n   <g id=\"text_146\">\r\n    <!-- 0.008 -->\r\n    <g style=\"fill:#262626;\" transform=\"translate(164.36 381.733978)scale(0.1 -0.1)\">\r\n     <use xlink:href=\"#DejaVuSans-48\"/>\r\n     <use x=\"63.623047\" xlink:href=\"#DejaVuSans-46\"/>\r\n     <use x=\"95.410156\" xlink:href=\"#DejaVuSans-48\"/>\r\n     <use x=\"159.033203\" xlink:href=\"#DejaVuSans-48\"/>\r\n     <use x=\"222.65625\" xlink:href=\"#DejaVuSans-56\"/>\r\n    </g>\r\n   </g>\r\n   <g id=\"text_147\">\r\n    <!-- -0.00024 -->\r\n    <g style=\"fill:#262626;\" transform=\"translate(200.833594 381.733978)scale(0.1 -0.1)\">\r\n     <use xlink:href=\"#DejaVuSans-45\"/>\r\n     <use x=\"36.083984\" xlink:href=\"#DejaVuSans-48\"/>\r\n     <use x=\"99.707031\" xlink:href=\"#DejaVuSans-46\"/>\r\n     <use x=\"131.494141\" xlink:href=\"#DejaVuSans-48\"/>\r\n     <use x=\"195.117188\" xlink:href=\"#DejaVuSans-48\"/>\r\n     <use x=\"258.740234\" xlink:href=\"#DejaVuSans-48\"/>\r\n     <use x=\"322.363281\" xlink:href=\"#DejaVuSans-50\"/>\r\n     <use x=\"385.986328\" xlink:href=\"#DejaVuSans-52\"/>\r\n    </g>\r\n   </g>\r\n   <g id=\"text_148\">\r\n    <!-- -0.065 -->\r\n    <g style=\"fill:#262626;\" transform=\"translate(251.836094 381.733978)scale(0.1 -0.1)\">\r\n     <use xlink:href=\"#DejaVuSans-45\"/>\r\n     <use x=\"36.083984\" xlink:href=\"#DejaVuSans-48\"/>\r\n     <use x=\"99.707031\" xlink:href=\"#DejaVuSans-46\"/>\r\n     <use x=\"131.494141\" xlink:href=\"#DejaVuSans-48\"/>\r\n     <use x=\"195.117188\" xlink:href=\"#DejaVuSans-54\"/>\r\n     <use x=\"258.740234\" xlink:href=\"#DejaVuSans-53\"/>\r\n    </g>\r\n   </g>\r\n   <g id=\"text_149\">\r\n    <!-- -0.013 -->\r\n    <g style=\"fill:#262626;\" transform=\"translate(296.476094 381.733978)scale(0.1 -0.1)\">\r\n     <use xlink:href=\"#DejaVuSans-45\"/>\r\n     <use x=\"36.083984\" xlink:href=\"#DejaVuSans-48\"/>\r\n     <use x=\"99.707031\" xlink:href=\"#DejaVuSans-46\"/>\r\n     <use x=\"131.494141\" xlink:href=\"#DejaVuSans-48\"/>\r\n     <use x=\"195.117188\" xlink:href=\"#DejaVuSans-49\"/>\r\n     <use x=\"258.740234\" xlink:href=\"#DejaVuSans-51\"/>\r\n    </g>\r\n   </g>\r\n   <g id=\"text_150\">\r\n    <!-- -0.065 -->\r\n    <g style=\"fill:#262626;\" transform=\"translate(341.116094 381.733978)scale(0.1 -0.1)\">\r\n     <use xlink:href=\"#DejaVuSans-45\"/>\r\n     <use x=\"36.083984\" xlink:href=\"#DejaVuSans-48\"/>\r\n     <use x=\"99.707031\" xlink:href=\"#DejaVuSans-46\"/>\r\n     <use x=\"131.494141\" xlink:href=\"#DejaVuSans-48\"/>\r\n     <use x=\"195.117188\" xlink:href=\"#DejaVuSans-54\"/>\r\n     <use x=\"258.740234\" xlink:href=\"#DejaVuSans-53\"/>\r\n    </g>\r\n   </g>\r\n   <g id=\"text_151\">\r\n    <!-- 0.011 -->\r\n    <g style=\"fill:#262626;\" transform=\"translate(387.56 381.733978)scale(0.1 -0.1)\">\r\n     <use xlink:href=\"#DejaVuSans-48\"/>\r\n     <use x=\"63.623047\" xlink:href=\"#DejaVuSans-46\"/>\r\n     <use x=\"95.410156\" xlink:href=\"#DejaVuSans-48\"/>\r\n     <use x=\"159.033203\" xlink:href=\"#DejaVuSans-49\"/>\r\n     <use x=\"222.65625\" xlink:href=\"#DejaVuSans-49\"/>\r\n    </g>\r\n   </g>\r\n   <g id=\"text_152\">\r\n    <!-- -0.045 -->\r\n    <g style=\"fill:#262626;\" transform=\"translate(430.396094 381.733978)scale(0.1 -0.1)\">\r\n     <use xlink:href=\"#DejaVuSans-45\"/>\r\n     <use x=\"36.083984\" xlink:href=\"#DejaVuSans-48\"/>\r\n     <use x=\"99.707031\" xlink:href=\"#DejaVuSans-46\"/>\r\n     <use x=\"131.494141\" xlink:href=\"#DejaVuSans-48\"/>\r\n     <use x=\"195.117188\" xlink:href=\"#DejaVuSans-52\"/>\r\n     <use x=\"258.740234\" xlink:href=\"#DejaVuSans-53\"/>\r\n    </g>\r\n   </g>\r\n   <g id=\"text_153\">\r\n    <!-- -0.076 -->\r\n    <g style=\"fill:#262626;\" transform=\"translate(475.036094 381.733978)scale(0.1 -0.1)\">\r\n     <use xlink:href=\"#DejaVuSans-45\"/>\r\n     <use x=\"36.083984\" xlink:href=\"#DejaVuSans-48\"/>\r\n     <use x=\"99.707031\" xlink:href=\"#DejaVuSans-46\"/>\r\n     <use x=\"131.494141\" xlink:href=\"#DejaVuSans-48\"/>\r\n     <use x=\"195.117188\" xlink:href=\"#DejaVuSans-55\"/>\r\n     <use x=\"258.740234\" xlink:href=\"#DejaVuSans-54\"/>\r\n    </g>\r\n   </g>\r\n   <g id=\"text_154\">\r\n    <!-- 0.002 -->\r\n    <g style=\"fill:#262626;\" transform=\"translate(521.48 381.733978)scale(0.1 -0.1)\">\r\n     <use xlink:href=\"#DejaVuSans-48\"/>\r\n     <use x=\"63.623047\" xlink:href=\"#DejaVuSans-46\"/>\r\n     <use x=\"95.410156\" xlink:href=\"#DejaVuSans-48\"/>\r\n     <use x=\"159.033203\" xlink:href=\"#DejaVuSans-48\"/>\r\n     <use x=\"222.65625\" xlink:href=\"#DejaVuSans-50\"/>\r\n    </g>\r\n   </g>\r\n   <g id=\"text_155\">\r\n    <!-- 1 -->\r\n    <g style=\"fill:#ffffff;\" transform=\"translate(577.252813 381.733978)scale(0.1 -0.1)\">\r\n     <use xlink:href=\"#DejaVuSans-49\"/>\r\n    </g>\r\n   </g>\r\n   <g id=\"text_156\">\r\n    <!-- 0.032 -->\r\n    <g style=\"fill:#262626;\" transform=\"translate(610.76 381.733978)scale(0.1 -0.1)\">\r\n     <use xlink:href=\"#DejaVuSans-48\"/>\r\n     <use x=\"63.623047\" xlink:href=\"#DejaVuSans-46\"/>\r\n     <use x=\"95.410156\" xlink:href=\"#DejaVuSans-48\"/>\r\n     <use x=\"159.033203\" xlink:href=\"#DejaVuSans-51\"/>\r\n     <use x=\"222.65625\" xlink:href=\"#DejaVuSans-50\"/>\r\n    </g>\r\n   </g>\r\n   <g id=\"text_157\">\r\n    <!-- 0.0087 -->\r\n    <g style=\"fill:#262626;\" transform=\"translate(116.53875 415.186286)scale(0.1 -0.1)\">\r\n     <use xlink:href=\"#DejaVuSans-48\"/>\r\n     <use x=\"63.623047\" xlink:href=\"#DejaVuSans-46\"/>\r\n     <use x=\"95.410156\" xlink:href=\"#DejaVuSans-48\"/>\r\n     <use x=\"159.033203\" xlink:href=\"#DejaVuSans-48\"/>\r\n     <use x=\"222.65625\" xlink:href=\"#DejaVuSans-56\"/>\r\n     <use x=\"286.279297\" xlink:href=\"#DejaVuSans-55\"/>\r\n    </g>\r\n   </g>\r\n   <g id=\"text_158\">\r\n    <!-- 0.097 -->\r\n    <g style=\"fill:#262626;\" transform=\"translate(164.36 415.186286)scale(0.1 -0.1)\">\r\n     <use xlink:href=\"#DejaVuSans-48\"/>\r\n     <use x=\"63.623047\" xlink:href=\"#DejaVuSans-46\"/>\r\n     <use x=\"95.410156\" xlink:href=\"#DejaVuSans-48\"/>\r\n     <use x=\"159.033203\" xlink:href=\"#DejaVuSans-57\"/>\r\n     <use x=\"222.65625\" xlink:href=\"#DejaVuSans-55\"/>\r\n    </g>\r\n   </g>\r\n   <g id=\"text_159\">\r\n    <!-- 0.01 -->\r\n    <g style=\"fill:#262626;\" transform=\"translate(212.18125 415.186286)scale(0.1 -0.1)\">\r\n     <use xlink:href=\"#DejaVuSans-48\"/>\r\n     <use x=\"63.623047\" xlink:href=\"#DejaVuSans-46\"/>\r\n     <use x=\"95.410156\" xlink:href=\"#DejaVuSans-48\"/>\r\n     <use x=\"159.033203\" xlink:href=\"#DejaVuSans-49\"/>\r\n    </g>\r\n   </g>\r\n   <g id=\"text_160\">\r\n    <!-- -0.086 -->\r\n    <g style=\"fill:#262626;\" transform=\"translate(251.836094 415.186286)scale(0.1 -0.1)\">\r\n     <use xlink:href=\"#DejaVuSans-45\"/>\r\n     <use x=\"36.083984\" xlink:href=\"#DejaVuSans-48\"/>\r\n     <use x=\"99.707031\" xlink:href=\"#DejaVuSans-46\"/>\r\n     <use x=\"131.494141\" xlink:href=\"#DejaVuSans-48\"/>\r\n     <use x=\"195.117188\" xlink:href=\"#DejaVuSans-56\"/>\r\n     <use x=\"258.740234\" xlink:href=\"#DejaVuSans-54\"/>\r\n    </g>\r\n   </g>\r\n   <g id=\"text_161\">\r\n    <!-- 0.011 -->\r\n    <g style=\"fill:#262626;\" transform=\"translate(298.28 415.186286)scale(0.1 -0.1)\">\r\n     <use xlink:href=\"#DejaVuSans-48\"/>\r\n     <use x=\"63.623047\" xlink:href=\"#DejaVuSans-46\"/>\r\n     <use x=\"95.410156\" xlink:href=\"#DejaVuSans-48\"/>\r\n     <use x=\"159.033203\" xlink:href=\"#DejaVuSans-49\"/>\r\n     <use x=\"222.65625\" xlink:href=\"#DejaVuSans-49\"/>\r\n    </g>\r\n   </g>\r\n   <g id=\"text_162\">\r\n    <!-- -0.0031 -->\r\n    <g style=\"fill:#262626;\" transform=\"translate(337.934844 415.186286)scale(0.1 -0.1)\">\r\n     <use xlink:href=\"#DejaVuSans-45\"/>\r\n     <use x=\"36.083984\" xlink:href=\"#DejaVuSans-48\"/>\r\n     <use x=\"99.707031\" xlink:href=\"#DejaVuSans-46\"/>\r\n     <use x=\"131.494141\" xlink:href=\"#DejaVuSans-48\"/>\r\n     <use x=\"195.117188\" xlink:href=\"#DejaVuSans-48\"/>\r\n     <use x=\"258.740234\" xlink:href=\"#DejaVuSans-51\"/>\r\n     <use x=\"322.363281\" xlink:href=\"#DejaVuSans-49\"/>\r\n    </g>\r\n   </g>\r\n   <g id=\"text_163\">\r\n    <!-- -0.059 -->\r\n    <g style=\"fill:#262626;\" transform=\"translate(385.756094 415.186286)scale(0.1 -0.1)\">\r\n     <use xlink:href=\"#DejaVuSans-45\"/>\r\n     <use x=\"36.083984\" xlink:href=\"#DejaVuSans-48\"/>\r\n     <use x=\"99.707031\" xlink:href=\"#DejaVuSans-46\"/>\r\n     <use x=\"131.494141\" xlink:href=\"#DejaVuSans-48\"/>\r\n     <use x=\"195.117188\" xlink:href=\"#DejaVuSans-53\"/>\r\n     <use x=\"258.740234\" xlink:href=\"#DejaVuSans-57\"/>\r\n    </g>\r\n   </g>\r\n   <g id=\"text_164\">\r\n    <!-- -0.036 -->\r\n    <g style=\"fill:#262626;\" transform=\"translate(430.396094 415.186286)scale(0.1 -0.1)\">\r\n     <use xlink:href=\"#DejaVuSans-45\"/>\r\n     <use x=\"36.083984\" xlink:href=\"#DejaVuSans-48\"/>\r\n     <use x=\"99.707031\" xlink:href=\"#DejaVuSans-46\"/>\r\n     <use x=\"131.494141\" xlink:href=\"#DejaVuSans-48\"/>\r\n     <use x=\"195.117188\" xlink:href=\"#DejaVuSans-51\"/>\r\n     <use x=\"258.740234\" xlink:href=\"#DejaVuSans-54\"/>\r\n    </g>\r\n   </g>\r\n   <g id=\"text_165\">\r\n    <!-- -0.023 -->\r\n    <g style=\"fill:#262626;\" transform=\"translate(475.036094 415.186286)scale(0.1 -0.1)\">\r\n     <use xlink:href=\"#DejaVuSans-45\"/>\r\n     <use x=\"36.083984\" xlink:href=\"#DejaVuSans-48\"/>\r\n     <use x=\"99.707031\" xlink:href=\"#DejaVuSans-46\"/>\r\n     <use x=\"131.494141\" xlink:href=\"#DejaVuSans-48\"/>\r\n     <use x=\"195.117188\" xlink:href=\"#DejaVuSans-50\"/>\r\n     <use x=\"258.740234\" xlink:href=\"#DejaVuSans-51\"/>\r\n    </g>\r\n   </g>\r\n   <g id=\"text_166\">\r\n    <!-- 0.54 -->\r\n    <g style=\"fill:#ffffff;\" transform=\"translate(524.66125 415.186286)scale(0.1 -0.1)\">\r\n     <use xlink:href=\"#DejaVuSans-48\"/>\r\n     <use x=\"63.623047\" xlink:href=\"#DejaVuSans-46\"/>\r\n     <use x=\"95.410156\" xlink:href=\"#DejaVuSans-53\"/>\r\n     <use x=\"159.033203\" xlink:href=\"#DejaVuSans-52\"/>\r\n    </g>\r\n   </g>\r\n   <g id=\"text_167\">\r\n    <!-- 0.032 -->\r\n    <g style=\"fill:#262626;\" transform=\"translate(566.12 415.186286)scale(0.1 -0.1)\">\r\n     <use xlink:href=\"#DejaVuSans-48\"/>\r\n     <use x=\"63.623047\" xlink:href=\"#DejaVuSans-46\"/>\r\n     <use x=\"95.410156\" xlink:href=\"#DejaVuSans-48\"/>\r\n     <use x=\"159.033203\" xlink:href=\"#DejaVuSans-51\"/>\r\n     <use x=\"222.65625\" xlink:href=\"#DejaVuSans-50\"/>\r\n    </g>\r\n   </g>\r\n   <g id=\"text_168\">\r\n    <!-- 1 -->\r\n    <g style=\"fill:#ffffff;\" transform=\"translate(621.892813 415.186286)scale(0.1 -0.1)\">\r\n     <use xlink:href=\"#DejaVuSans-49\"/>\r\n    </g>\r\n   </g>\r\n  </g>\r\n  <g id=\"axes_2\">\r\n   <g id=\"patch_3\">\r\n    <path clip-path=\"url(#pa24fa4ba01)\" d=\"M 680.874063 445.879219 \r\nL 680.874063 444.180469 \r\nL 680.874063 12.697969 \r\nL 680.874063 10.999219 \r\nL 702.618063 10.999219 \r\nL 702.618063 12.697969 \r\nL 702.618063 444.180469 \r\nL 702.618063 445.879219 \r\nz\r\n\" style=\"fill:#ffffff;stroke:#ffffff;stroke-linejoin:miter;stroke-width:0.01;\"/>\r\n   </g>\r\n   <image height=\"435\" id=\"imagef13f046055\" transform=\"scale(1 -1)translate(0 -435)\" width=\"22\" x=\"681\" xlink:href=\"data:image/png;base64,\r\niVBORw0KGgoAAAANSUhEUgAAABYAAAGzCAYAAAArEufSAAACEElEQVR4nO2cQW6EMBAEnRX//24OK+E92G74QB9KqnpAy+opBgJJ/v6/c44CVyd2jE8ndoxrjs6Rr1JutYoOxROXjlyzoleFuh3ULfCqqJ3YKoK6vYI7uS76h94jFvHK66BuQd0CULfaoh/e8zY83ZBV0HQjLvpWMLAKddvB3vMOPN1cQkHdgroFdXsFe8/b8HRzCQV1C+oW1O0J9p534OnmEgrqFtQtAHW7S74Bq/DKS/BtFRt1C+oW1K0fXLznObwEW8VG3YK/oReuWeqiqVspmFeFuiW4ZQWvCt7a5F0gtdcKvCp4FwhyV3SCie/drGLTPHEpGDg8f7jZAHXjXXkOL8G852Pea97e8HBrkzc84q7wA8vC4T3BwCpKwQ4vuOiDT0L9YIcX/MASkNvNRb9Qt0DUrRKrbi98dROAV17v65hVbPwYG3yuCETd/MCyUbcnGLjocV8V1C3BQN3cbifYRX/g6WYVQd1CUzeHt0AOr5ILrIKnm1UEnm5WEdQtqFtA6ubwFsjhlYLv0psQXhXqFnwoDOrWD+b9Z0WHF3hVeOJQ/NejuCo8cYJdmwfeia0i8NYmr2Pg8Hgn9i598MT9YJ7HvOHxTmwVgXeBAKvgnXj0fhzr/BUkr4rmie04wbwqeCd2eAt3xTvYKhbqFtQtEHUr/X4FsQrgiR3ewl0ReB1bReDpZhWBpxuvilrwD2FhHCIUoW2WAAAAAElFTkSuQmCC\" y=\"-10\"/>\r\n   <g id=\"matplotlib.axis_3\"/>\r\n   <g id=\"matplotlib.axis_4\">\r\n    <g id=\"ytick_13\">\r\n     <g id=\"line2d_25\">\r\n      <defs>\r\n       <path d=\"M 0 0 \r\nL 3.5 0 \r\n\" id=\"m6262761f15\" style=\"stroke:#000000;stroke-width:0.8;\"/>\r\n      </defs>\r\n      <g>\r\n       <use style=\"stroke:#000000;stroke-width:0.8;\" x=\"702.618063\" xlink:href=\"#m6262761f15\" y=\"443.981093\"/>\r\n      </g>\r\n     </g>\r\n     <g id=\"text_169\">\r\n      <!-- −0.2 -->\r\n      <g transform=\"translate(709.618063 447.780312)scale(0.1 -0.1)\">\r\n       <defs>\r\n        <path d=\"M 10.59375 35.5 \r\nL 73.1875 35.5 \r\nL 73.1875 27.203125 \r\nL 10.59375 27.203125 \r\nz\r\n\" id=\"DejaVuSans-8722\"/>\r\n       </defs>\r\n       <use xlink:href=\"#DejaVuSans-8722\"/>\r\n       <use x=\"83.789062\" xlink:href=\"#DejaVuSans-48\"/>\r\n       <use x=\"147.412109\" xlink:href=\"#DejaVuSans-46\"/>\r\n       <use x=\"179.199219\" xlink:href=\"#DejaVuSans-50\"/>\r\n      </g>\r\n     </g>\r\n    </g>\r\n    <g id=\"ytick_14\">\r\n     <g id=\"line2d_26\">\r\n      <g>\r\n       <use style=\"stroke:#000000;stroke-width:0.8;\" x=\"702.618063\" xlink:href=\"#m6262761f15\" y=\"371.817448\"/>\r\n      </g>\r\n     </g>\r\n     <g id=\"text_170\">\r\n      <!-- 0.0 -->\r\n      <g transform=\"translate(709.618063 375.616666)scale(0.1 -0.1)\">\r\n       <use xlink:href=\"#DejaVuSans-48\"/>\r\n       <use x=\"63.623047\" xlink:href=\"#DejaVuSans-46\"/>\r\n       <use x=\"95.410156\" xlink:href=\"#DejaVuSans-48\"/>\r\n      </g>\r\n     </g>\r\n    </g>\r\n    <g id=\"ytick_15\">\r\n     <g id=\"line2d_27\">\r\n      <g>\r\n       <use style=\"stroke:#000000;stroke-width:0.8;\" x=\"702.618063\" xlink:href=\"#m6262761f15\" y=\"299.653802\"/>\r\n      </g>\r\n     </g>\r\n     <g id=\"text_171\">\r\n      <!-- 0.2 -->\r\n      <g transform=\"translate(709.618063 303.453021)scale(0.1 -0.1)\">\r\n       <use xlink:href=\"#DejaVuSans-48\"/>\r\n       <use x=\"63.623047\" xlink:href=\"#DejaVuSans-46\"/>\r\n       <use x=\"95.410156\" xlink:href=\"#DejaVuSans-50\"/>\r\n      </g>\r\n     </g>\r\n    </g>\r\n    <g id=\"ytick_16\">\r\n     <g id=\"line2d_28\">\r\n      <g>\r\n       <use style=\"stroke:#000000;stroke-width:0.8;\" x=\"702.618063\" xlink:href=\"#m6262761f15\" y=\"227.490156\"/>\r\n      </g>\r\n     </g>\r\n     <g id=\"text_172\">\r\n      <!-- 0.4 -->\r\n      <g transform=\"translate(709.618063 231.289375)scale(0.1 -0.1)\">\r\n       <use xlink:href=\"#DejaVuSans-48\"/>\r\n       <use x=\"63.623047\" xlink:href=\"#DejaVuSans-46\"/>\r\n       <use x=\"95.410156\" xlink:href=\"#DejaVuSans-52\"/>\r\n      </g>\r\n     </g>\r\n    </g>\r\n    <g id=\"ytick_17\">\r\n     <g id=\"line2d_29\">\r\n      <g>\r\n       <use style=\"stroke:#000000;stroke-width:0.8;\" x=\"702.618063\" xlink:href=\"#m6262761f15\" y=\"155.32651\"/>\r\n      </g>\r\n     </g>\r\n     <g id=\"text_173\">\r\n      <!-- 0.6 -->\r\n      <g transform=\"translate(709.618063 159.125729)scale(0.1 -0.1)\">\r\n       <use xlink:href=\"#DejaVuSans-48\"/>\r\n       <use x=\"63.623047\" xlink:href=\"#DejaVuSans-46\"/>\r\n       <use x=\"95.410156\" xlink:href=\"#DejaVuSans-54\"/>\r\n      </g>\r\n     </g>\r\n    </g>\r\n    <g id=\"ytick_18\">\r\n     <g id=\"line2d_30\">\r\n      <g>\r\n       <use style=\"stroke:#000000;stroke-width:0.8;\" x=\"702.618063\" xlink:href=\"#m6262761f15\" y=\"83.162865\"/>\r\n      </g>\r\n     </g>\r\n     <g id=\"text_174\">\r\n      <!-- 0.8 -->\r\n      <g transform=\"translate(709.618063 86.962083)scale(0.1 -0.1)\">\r\n       <use xlink:href=\"#DejaVuSans-48\"/>\r\n       <use x=\"63.623047\" xlink:href=\"#DejaVuSans-46\"/>\r\n       <use x=\"95.410156\" xlink:href=\"#DejaVuSans-56\"/>\r\n      </g>\r\n     </g>\r\n    </g>\r\n    <g id=\"ytick_19\">\r\n     <g id=\"line2d_31\">\r\n      <g>\r\n       <use style=\"stroke:#000000;stroke-width:0.8;\" x=\"702.618063\" xlink:href=\"#m6262761f15\" y=\"10.999219\"/>\r\n      </g>\r\n     </g>\r\n     <g id=\"text_175\">\r\n      <!-- 1.0 -->\r\n      <g transform=\"translate(709.618063 14.798437)scale(0.1 -0.1)\">\r\n       <use xlink:href=\"#DejaVuSans-49\"/>\r\n       <use x=\"63.623047\" xlink:href=\"#DejaVuSans-46\"/>\r\n       <use x=\"95.410156\" xlink:href=\"#DejaVuSans-48\"/>\r\n      </g>\r\n     </g>\r\n    </g>\r\n   </g>\r\n   <g id=\"patch_4\">\r\n    <path d=\"M 680.874063 445.879219 \r\nL 680.874063 444.180469 \r\nL 680.874063 12.697969 \r\nL 680.874063 10.999219 \r\nL 702.618063 10.999219 \r\nL 702.618063 12.697969 \r\nL 702.618063 444.180469 \r\nL 702.618063 445.879219 \r\nz\r\n\" style=\"fill:none;\"/>\r\n   </g>\r\n  </g>\r\n </g>\r\n <defs>\r\n  <clipPath id=\"p29e58aa00d\">\r\n   <rect height=\"434.88\" width=\"535.68\" x=\"111.714063\" y=\"10.999219\"/>\r\n  </clipPath>\r\n  <clipPath id=\"pa24fa4ba01\">\r\n   <rect height=\"434.88\" width=\"21.744\" x=\"680.874063\" y=\"10.999219\"/>\r\n  </clipPath>\r\n </defs>\r\n</svg>\r\n",
      "image/png": "[encoded data removed]"
     },
     "metadata": {
      "needs_background": "light"
     }
    }
   ],
   "source": [
    "cor_mat = loan_data.corr()\n",
    "feature_corr = cor_mat.index\n",
    "plt.figure(figsize=(10,10))\n",
    "f, ax= plt.subplots(figsize=(12,8))\n",
    "\n",
    "g = sns.heatmap(loan_data[feature_corr].corr(), annot=True, cmap='Blues')\n",
    "bottom, top = ax.get_ylim()\n",
    "ax.set_ylim(bottom + 0.5, top - 0.5)\n",
    "plt.show()"
   ]
  },
  {
   "cell_type": "code",
   "execution_count": 24,
   "metadata": {},
   "outputs": [
    {
     "output_type": "execute_result",
     "data": {
      "text/plain": [
       "             Gender  Married  Dependents  Education  Self_Employed  \\\n",
       "Loan_Status                                                          \n",
       "0               192      192         192        192            192   \n",
       "1               422      422         422        422            422   \n",
       "\n",
       "             ApplicantIncome  CoapplicantIncome  LoanAmount  Loan_Amount_Term  \\\n",
       "Loan_Status                                                                     \n",
       "0                        192                192         192               192   \n",
       "1                        422                422         422               422   \n",
       "\n",
       "             Credit_History  Property_Area  \n",
       "Loan_Status                                 \n",
       "0                       192            192  \n",
       "1                       422            422  "
      ],
      "text/html": "<div>\n<style scoped>\n    .dataframe tbody tr th:only-of-type {\n        vertical-align: middle;\n    }\n\n    .dataframe tbody tr th {\n        vertical-align: top;\n    }\n\n    .dataframe thead th {\n        text-align: right;\n    }\n</style>\n<table border=\"1\" class=\"dataframe\">\n  <thead>\n    <tr style=\"text-align: right;\">\n      <th></th>\n      <th>Gender</th>\n      <th>Married</th>\n      <th>Dependents</th>\n      <th>Education</th>\n      <th>Self_Employed</th>\n      <th>ApplicantIncome</th>\n      <th>CoapplicantIncome</th>\n      <th>LoanAmount</th>\n      <th>Loan_Amount_Term</th>\n      <th>Credit_History</th>\n      <th>Property_Area</th>\n    </tr>\n    <tr>\n      <th>Loan_Status</th>\n      <th></th>\n      <th></th>\n      <th></th>\n      <th></th>\n      <th></th>\n      <th></th>\n      <th></th>\n      <th></th>\n      <th></th>\n      <th></th>\n      <th></th>\n    </tr>\n  </thead>\n  <tbody>\n    <tr>\n      <th>0</th>\n      <td>192</td>\n      <td>192</td>\n      <td>192</td>\n      <td>192</td>\n      <td>192</td>\n      <td>192</td>\n      <td>192</td>\n      <td>192</td>\n      <td>192</td>\n      <td>192</td>\n      <td>192</td>\n    </tr>\n    <tr>\n      <th>1</th>\n      <td>422</td>\n      <td>422</td>\n      <td>422</td>\n      <td>422</td>\n      <td>422</td>\n      <td>422</td>\n      <td>422</td>\n      <td>422</td>\n      <td>422</td>\n      <td>422</td>\n      <td>422</td>\n    </tr>\n  </tbody>\n</table>\n</div>"
     },
     "metadata": {},
     "execution_count": 24
    }
   ],
   "source": [
    "loan_data.groupby(\"Loan_Status\").count()"
   ]
  },
  {
   "cell_type": "code",
   "execution_count": 25,
   "metadata": {},
   "outputs": [],
   "source": [
    "#feature selection\n",
    "#we will use all columns except the Loan_status column as x inputs\n",
    "X= loan_data.drop(columns =['Loan_Status'])\n",
    "y = loan_data['Loan_Status']"
   ]
  },
  {
   "cell_type": "code",
   "execution_count": 26,
   "metadata": {},
   "outputs": [],
   "source": [
    "#SPLITTING THE X AND y CATEGORIES INTO TRAINING AND TESTING SETS\n",
    "X_train, X_test, y_train, y_test = train_test_split(X, y, test_size=0.3,random_state=30)"
   ]
  },
  {
   "cell_type": "code",
   "execution_count": 27,
   "metadata": {},
   "outputs": [],
   "source": [
    "#SCALING THE VALUES TO A SUITABLE RANGE\n",
    "scaled = StandardScaler()\n",
    "x_train_scaled = scaled.fit_transform(X_train)\n",
    "x_test_scaled = scaled.fit_transform(X_test)"
   ]
  },
  {
   "cell_type": "code",
   "execution_count": 28,
   "metadata": {},
   "outputs": [
    {
     "output_type": "execute_result",
     "data": {
      "text/plain": [
       "SVC(C=1, kernel='linear', random_state=1)"
      ]
     },
     "metadata": {},
     "execution_count": 28
    }
   ],
   "source": [
    "#DEFINING AND FITTING THE SVM MODEL\n",
    "svm = SVC(kernel= 'linear', C=1, random_state=1 )\n",
    "svm.fit(x_train_scaled, y_train)"
   ]
  },
  {
   "cell_type": "code",
   "execution_count": 29,
   "metadata": {},
   "outputs": [
    {
     "output_type": "stream",
     "name": "stdout",
     "text": [
      "Accuracy = 80.0%\n"
     ]
    }
   ],
   "source": [
    "#MAKING PREDICTIONS & DETERMINING THE MODEL'S ACCURACY\n",
    "y_pred = svm.predict(x_test_scaled)\n",
    "accuracy = accuracy_score(y_test, y_pred)\n",
    "print('Accuracy = {:.1f}%'.format(accuracy*100))"
   ]
  },
  {
   "cell_type": "code",
   "execution_count": 30,
   "metadata": {},
   "outputs": [
    {
     "output_type": "stream",
     "name": "stdout",
     "text": [
      "Loan Status = 0: 35.29%\nLoan Status = 1: 97.01%\n"
     ]
    }
   ],
   "source": [
    "confusion = confusion_matrix(y_test, y_pred)\n",
    "scores = confusion.diagonal() / confusion.sum(axis = 1) * 100\n",
    "print('Loan Status = 0: {:.2f}%'.format(scores[0]))\n",
    "print('Loan Status = 1: {:.2f}%'.format(scores[1]))"
   ]
  },
  {
   "cell_type": "code",
   "execution_count": 31,
   "metadata": {},
   "outputs": [
    {
     "output_type": "execute_result",
     "data": {
      "text/plain": [
       "<AxesSubplot:>"
      ]
     },
     "metadata": {},
     "execution_count": 31
    },
    {
     "output_type": "display_data",
     "data": {
      "text/plain": "<Figure size 432x288 with 2 Axes>",
      "image/svg+xml": "<?xml version=\"1.0\" encoding=\"utf-8\" standalone=\"no\"?>\r\n<!DOCTYPE svg PUBLIC \"-//W3C//DTD SVG 1.1//EN\"\r\n  \"http://www.w3.org/Graphics/SVG/1.1/DTD/svg11.dtd\">\r\n<!-- Created with matplotlib (https://matplotlib.org/) -->\r\n<svg height=\"251.454487pt\" version=\"1.1\" viewBox=\"0 0 349.43325 251.454487\" width=\"349.43325pt\" xmlns=\"http://www.w3.org/2000/svg\" xmlns:xlink=\"http://www.w3.org/1999/xlink\">\r\n <metadata>\r\n  <rdf:RDF xmlns:cc=\"http://creativecommons.org/ns#\" xmlns:dc=\"http://purl.org/dc/elements/1.1/\" xmlns:rdf=\"http://www.w3.org/1999/02/22-rdf-syntax-ns#\">\r\n   <cc:Work>\r\n    <dc:type rdf:resource=\"http://purl.org/dc/dcmitype/StillImage\"/>\r\n    <dc:date>2021-07-11T15:55:54.425274</dc:date>\r\n    <dc:format>image/svg+xml</dc:format>\r\n    <dc:creator>\r\n     <cc:Agent>\r\n      <dc:title>Matplotlib v3.3.4, https://matplotlib.org/</dc:title>\r\n     </cc:Agent>\r\n    </dc:creator>\r\n   </cc:Work>\r\n  </rdf:RDF>\r\n </metadata>\r\n <defs>\r\n  <style type=\"text/css\">*{stroke-linecap:butt;stroke-linejoin:round;}</style>\r\n </defs>\r\n <g id=\"figure_1\">\r\n  <g id=\"patch_1\">\r\n   <path d=\"M -0 251.454487 \r\nL 349.43325 251.454487 \r\nL 349.43325 0 \r\nL -0 0 \r\nz\r\n\" style=\"fill:none;\"/>\r\n  </g>\r\n  <g id=\"axes_1\">\r\n   <g id=\"patch_2\">\r\n    <path d=\"M 23.878125 227.576362 \r\nL 291.718125 227.576362 \r\nL 291.718125 10.136362 \r\nL 23.878125 10.136362 \r\nz\r\n\" style=\"fill:#ffffff;\"/>\r\n   </g>\r\n   <g id=\"QuadMesh_1\">\r\n    <path clip-path=\"url(#pf526a2f81d)\" d=\"M 23.878125 10.136362 \r\nL 157.798125 10.136362 \r\nL 157.798125 118.856362 \r\nL 23.878125 118.856362 \r\nL 23.878125 10.136362 \r\n\" style=\"fill:#e1edf8;\"/>\r\n    <path clip-path=\"url(#pf526a2f81d)\" d=\"M 157.798125 10.136362 \r\nL 291.718125 10.136362 \r\nL 291.718125 118.856362 \r\nL 157.798125 118.856362 \r\nL 157.798125 10.136362 \r\n\" style=\"fill:#cadef0;\"/>\r\n    <path clip-path=\"url(#pf526a2f81d)\" d=\"M 23.878125 118.856362 \r\nL 157.798125 118.856362 \r\nL 157.798125 227.576362 \r\nL 23.878125 227.576362 \r\nL 23.878125 118.856362 \r\n\" style=\"fill:#f7fbff;\"/>\r\n    <path clip-path=\"url(#pf526a2f81d)\" d=\"M 157.798125 118.856362 \r\nL 291.718125 118.856362 \r\nL 291.718125 227.576362 \r\nL 157.798125 227.576362 \r\nL 157.798125 118.856362 \r\n\" style=\"fill:#08306b;\"/>\r\n   </g>\r\n   <g id=\"matplotlib.axis_1\">\r\n    <g id=\"xtick_1\">\r\n     <g id=\"line2d_1\">\r\n      <defs>\r\n       <path d=\"M 0 0 \r\nL 0 3.5 \r\n\" id=\"md05ab15cde\" style=\"stroke:#000000;stroke-width:0.8;\"/>\r\n      </defs>\r\n      <g>\r\n       <use style=\"stroke:#000000;stroke-width:0.8;\" x=\"90.838125\" xlink:href=\"#md05ab15cde\" y=\"227.576362\"/>\r\n      </g>\r\n     </g>\r\n     <g id=\"text_1\">\r\n      <!-- 0 -->\r\n      <g transform=\"translate(87.656875 242.174799)scale(0.1 -0.1)\">\r\n       <defs>\r\n        <path d=\"M 31.78125 66.40625 \r\nQ 24.171875 66.40625 20.328125 58.90625 \r\nQ 16.5 51.421875 16.5 36.375 \r\nQ 16.5 21.390625 20.328125 13.890625 \r\nQ 24.171875 6.390625 31.78125 6.390625 \r\nQ 39.453125 6.390625 43.28125 13.890625 \r\nQ 47.125 21.390625 47.125 36.375 \r\nQ 47.125 51.421875 43.28125 58.90625 \r\nQ 39.453125 66.40625 31.78125 66.40625 \r\nz\r\nM 31.78125 74.21875 \r\nQ 44.046875 74.21875 50.515625 64.515625 \r\nQ 56.984375 54.828125 56.984375 36.375 \r\nQ 56.984375 17.96875 50.515625 8.265625 \r\nQ 44.046875 -1.421875 31.78125 -1.421875 \r\nQ 19.53125 -1.421875 13.0625 8.265625 \r\nQ 6.59375 17.96875 6.59375 36.375 \r\nQ 6.59375 54.828125 13.0625 64.515625 \r\nQ 19.53125 74.21875 31.78125 74.21875 \r\nz\r\n\" id=\"DejaVuSans-48\"/>\r\n       </defs>\r\n       <use xlink:href=\"#DejaVuSans-48\"/>\r\n      </g>\r\n     </g>\r\n    </g>\r\n    <g id=\"xtick_2\">\r\n     <g id=\"line2d_2\">\r\n      <g>\r\n       <use style=\"stroke:#000000;stroke-width:0.8;\" x=\"224.758125\" xlink:href=\"#md05ab15cde\" y=\"227.576362\"/>\r\n      </g>\r\n     </g>\r\n     <g id=\"text_2\">\r\n      <!-- 1 -->\r\n      <g transform=\"translate(221.576875 242.174799)scale(0.1 -0.1)\">\r\n       <defs>\r\n        <path d=\"M 12.40625 8.296875 \r\nL 28.515625 8.296875 \r\nL 28.515625 63.921875 \r\nL 10.984375 60.40625 \r\nL 10.984375 69.390625 \r\nL 28.421875 72.90625 \r\nL 38.28125 72.90625 \r\nL 38.28125 8.296875 \r\nL 54.390625 8.296875 \r\nL 54.390625 0 \r\nL 12.40625 0 \r\nz\r\n\" id=\"DejaVuSans-49\"/>\r\n       </defs>\r\n       <use xlink:href=\"#DejaVuSans-49\"/>\r\n      </g>\r\n     </g>\r\n    </g>\r\n   </g>\r\n   <g id=\"matplotlib.axis_2\">\r\n    <g id=\"ytick_1\">\r\n     <g id=\"line2d_3\">\r\n      <defs>\r\n       <path d=\"M 0 0 \r\nL -3.5 0 \r\n\" id=\"m5dc71d59f5\" style=\"stroke:#000000;stroke-width:0.8;\"/>\r\n      </defs>\r\n      <g>\r\n       <use style=\"stroke:#000000;stroke-width:0.8;\" x=\"23.878125\" xlink:href=\"#m5dc71d59f5\" y=\"64.496362\"/>\r\n      </g>\r\n     </g>\r\n     <g id=\"text_3\">\r\n      <!-- 0 -->\r\n      <g transform=\"translate(14.798438 67.059643)rotate(-90)scale(0.1 -0.1)\">\r\n       <use xlink:href=\"#DejaVuSans-48\"/>\r\n      </g>\r\n     </g>\r\n    </g>\r\n    <g id=\"ytick_2\">\r\n     <g id=\"line2d_4\">\r\n      <g>\r\n       <use style=\"stroke:#000000;stroke-width:0.8;\" x=\"23.878125\" xlink:href=\"#m5dc71d59f5\" y=\"173.216362\"/>\r\n      </g>\r\n     </g>\r\n     <g id=\"text_4\">\r\n      <!-- 1 -->\r\n      <g transform=\"translate(14.798438 175.779643)rotate(-90)scale(0.1 -0.1)\">\r\n       <use xlink:href=\"#DejaVuSans-49\"/>\r\n      </g>\r\n     </g>\r\n    </g>\r\n   </g>\r\n   <g id=\"text_5\">\r\n    <!-- 9.73% -->\r\n    <g style=\"fill:#262626;\" transform=\"translate(74.954531 67.255737)scale(0.1 -0.1)\">\r\n     <defs>\r\n      <path d=\"M 10.984375 1.515625 \r\nL 10.984375 10.5 \r\nQ 14.703125 8.734375 18.5 7.8125 \r\nQ 22.3125 6.890625 25.984375 6.890625 \r\nQ 35.75 6.890625 40.890625 13.453125 \r\nQ 46.046875 20.015625 46.78125 33.40625 \r\nQ 43.953125 29.203125 39.59375 26.953125 \r\nQ 35.25 24.703125 29.984375 24.703125 \r\nQ 19.046875 24.703125 12.671875 31.3125 \r\nQ 6.296875 37.9375 6.296875 49.421875 \r\nQ 6.296875 60.640625 12.9375 67.421875 \r\nQ 19.578125 74.21875 30.609375 74.21875 \r\nQ 43.265625 74.21875 49.921875 64.515625 \r\nQ 56.59375 54.828125 56.59375 36.375 \r\nQ 56.59375 19.140625 48.40625 8.859375 \r\nQ 40.234375 -1.421875 26.421875 -1.421875 \r\nQ 22.703125 -1.421875 18.890625 -0.6875 \r\nQ 15.09375 0.046875 10.984375 1.515625 \r\nz\r\nM 30.609375 32.421875 \r\nQ 37.25 32.421875 41.125 36.953125 \r\nQ 45.015625 41.5 45.015625 49.421875 \r\nQ 45.015625 57.28125 41.125 61.84375 \r\nQ 37.25 66.40625 30.609375 66.40625 \r\nQ 23.96875 66.40625 20.09375 61.84375 \r\nQ 16.21875 57.28125 16.21875 49.421875 \r\nQ 16.21875 41.5 20.09375 36.953125 \r\nQ 23.96875 32.421875 30.609375 32.421875 \r\nz\r\n\" id=\"DejaVuSans-57\"/>\r\n      <path d=\"M 10.6875 12.40625 \r\nL 21 12.40625 \r\nL 21 0 \r\nL 10.6875 0 \r\nz\r\n\" id=\"DejaVuSans-46\"/>\r\n      <path d=\"M 8.203125 72.90625 \r\nL 55.078125 72.90625 \r\nL 55.078125 68.703125 \r\nL 28.609375 0 \r\nL 18.3125 0 \r\nL 43.21875 64.59375 \r\nL 8.203125 64.59375 \r\nz\r\n\" id=\"DejaVuSans-55\"/>\r\n      <path d=\"M 40.578125 39.3125 \r\nQ 47.65625 37.796875 51.625 33 \r\nQ 55.609375 28.21875 55.609375 21.1875 \r\nQ 55.609375 10.40625 48.1875 4.484375 \r\nQ 40.765625 -1.421875 27.09375 -1.421875 \r\nQ 22.515625 -1.421875 17.65625 -0.515625 \r\nQ 12.796875 0.390625 7.625 2.203125 \r\nL 7.625 11.71875 \r\nQ 11.71875 9.328125 16.59375 8.109375 \r\nQ 21.484375 6.890625 26.8125 6.890625 \r\nQ 36.078125 6.890625 40.9375 10.546875 \r\nQ 45.796875 14.203125 45.796875 21.1875 \r\nQ 45.796875 27.640625 41.28125 31.265625 \r\nQ 36.765625 34.90625 28.71875 34.90625 \r\nL 20.21875 34.90625 \r\nL 20.21875 43.015625 \r\nL 29.109375 43.015625 \r\nQ 36.375 43.015625 40.234375 45.921875 \r\nQ 44.09375 48.828125 44.09375 54.296875 \r\nQ 44.09375 59.90625 40.109375 62.90625 \r\nQ 36.140625 65.921875 28.71875 65.921875 \r\nQ 24.65625 65.921875 20.015625 65.03125 \r\nQ 15.375 64.15625 9.8125 62.3125 \r\nL 9.8125 71.09375 \r\nQ 15.4375 72.65625 20.34375 73.4375 \r\nQ 25.25 74.21875 29.59375 74.21875 \r\nQ 40.828125 74.21875 47.359375 69.109375 \r\nQ 53.90625 64.015625 53.90625 55.328125 \r\nQ 53.90625 49.265625 50.4375 45.09375 \r\nQ 46.96875 40.921875 40.578125 39.3125 \r\nz\r\n\" id=\"DejaVuSans-51\"/>\r\n      <path d=\"M 72.703125 32.078125 \r\nQ 68.453125 32.078125 66.03125 28.46875 \r\nQ 63.625 24.859375 63.625 18.40625 \r\nQ 63.625 12.0625 66.03125 8.421875 \r\nQ 68.453125 4.78125 72.703125 4.78125 \r\nQ 76.859375 4.78125 79.265625 8.421875 \r\nQ 81.6875 12.0625 81.6875 18.40625 \r\nQ 81.6875 24.8125 79.265625 28.4375 \r\nQ 76.859375 32.078125 72.703125 32.078125 \r\nz\r\nM 72.703125 38.28125 \r\nQ 80.421875 38.28125 84.953125 32.90625 \r\nQ 89.5 27.546875 89.5 18.40625 \r\nQ 89.5 9.28125 84.9375 3.921875 \r\nQ 80.375 -1.421875 72.703125 -1.421875 \r\nQ 64.890625 -1.421875 60.34375 3.921875 \r\nQ 55.8125 9.28125 55.8125 18.40625 \r\nQ 55.8125 27.59375 60.375 32.9375 \r\nQ 64.9375 38.28125 72.703125 38.28125 \r\nz\r\nM 22.3125 68.015625 \r\nQ 18.109375 68.015625 15.6875 64.375 \r\nQ 13.28125 60.75 13.28125 54.390625 \r\nQ 13.28125 47.953125 15.671875 44.328125 \r\nQ 18.0625 40.71875 22.3125 40.71875 \r\nQ 26.5625 40.71875 28.96875 44.328125 \r\nQ 31.390625 47.953125 31.390625 54.390625 \r\nQ 31.390625 60.6875 28.953125 64.34375 \r\nQ 26.515625 68.015625 22.3125 68.015625 \r\nz\r\nM 66.40625 74.21875 \r\nL 74.21875 74.21875 \r\nL 28.609375 -1.421875 \r\nL 20.796875 -1.421875 \r\nz\r\nM 22.3125 74.21875 \r\nQ 30.03125 74.21875 34.609375 68.875 \r\nQ 39.203125 63.53125 39.203125 54.390625 \r\nQ 39.203125 45.171875 34.640625 39.84375 \r\nQ 30.078125 34.515625 22.3125 34.515625 \r\nQ 14.546875 34.515625 10.03125 39.859375 \r\nQ 5.515625 45.21875 5.515625 54.390625 \r\nQ 5.515625 63.484375 10.046875 68.84375 \r\nQ 14.59375 74.21875 22.3125 74.21875 \r\nz\r\n\" id=\"DejaVuSans-37\"/>\r\n     </defs>\r\n     <use xlink:href=\"#DejaVuSans-57\"/>\r\n     <use x=\"63.623047\" xlink:href=\"#DejaVuSans-46\"/>\r\n     <use x=\"95.410156\" xlink:href=\"#DejaVuSans-55\"/>\r\n     <use x=\"159.033203\" xlink:href=\"#DejaVuSans-51\"/>\r\n     <use x=\"222.65625\" xlink:href=\"#DejaVuSans-37\"/>\r\n    </g>\r\n   </g>\r\n   <g id=\"text_6\">\r\n    <!-- 17.84% -->\r\n    <g style=\"fill:#262626;\" transform=\"translate(205.693281 67.255737)scale(0.1 -0.1)\">\r\n     <defs>\r\n      <path d=\"M 31.78125 34.625 \r\nQ 24.75 34.625 20.71875 30.859375 \r\nQ 16.703125 27.09375 16.703125 20.515625 \r\nQ 16.703125 13.921875 20.71875 10.15625 \r\nQ 24.75 6.390625 31.78125 6.390625 \r\nQ 38.8125 6.390625 42.859375 10.171875 \r\nQ 46.921875 13.96875 46.921875 20.515625 \r\nQ 46.921875 27.09375 42.890625 30.859375 \r\nQ 38.875 34.625 31.78125 34.625 \r\nz\r\nM 21.921875 38.8125 \r\nQ 15.578125 40.375 12.03125 44.71875 \r\nQ 8.5 49.078125 8.5 55.328125 \r\nQ 8.5 64.0625 14.71875 69.140625 \r\nQ 20.953125 74.21875 31.78125 74.21875 \r\nQ 42.671875 74.21875 48.875 69.140625 \r\nQ 55.078125 64.0625 55.078125 55.328125 \r\nQ 55.078125 49.078125 51.53125 44.71875 \r\nQ 48 40.375 41.703125 38.8125 \r\nQ 48.828125 37.15625 52.796875 32.3125 \r\nQ 56.78125 27.484375 56.78125 20.515625 \r\nQ 56.78125 9.90625 50.3125 4.234375 \r\nQ 43.84375 -1.421875 31.78125 -1.421875 \r\nQ 19.734375 -1.421875 13.25 4.234375 \r\nQ 6.78125 9.90625 6.78125 20.515625 \r\nQ 6.78125 27.484375 10.78125 32.3125 \r\nQ 14.796875 37.15625 21.921875 38.8125 \r\nz\r\nM 18.3125 54.390625 \r\nQ 18.3125 48.734375 21.84375 45.5625 \r\nQ 25.390625 42.390625 31.78125 42.390625 \r\nQ 38.140625 42.390625 41.71875 45.5625 \r\nQ 45.3125 48.734375 45.3125 54.390625 \r\nQ 45.3125 60.0625 41.71875 63.234375 \r\nQ 38.140625 66.40625 31.78125 66.40625 \r\nQ 25.390625 66.40625 21.84375 63.234375 \r\nQ 18.3125 60.0625 18.3125 54.390625 \r\nz\r\n\" id=\"DejaVuSans-56\"/>\r\n      <path d=\"M 37.796875 64.3125 \r\nL 12.890625 25.390625 \r\nL 37.796875 25.390625 \r\nz\r\nM 35.203125 72.90625 \r\nL 47.609375 72.90625 \r\nL 47.609375 25.390625 \r\nL 58.015625 25.390625 \r\nL 58.015625 17.1875 \r\nL 47.609375 17.1875 \r\nL 47.609375 0 \r\nL 37.796875 0 \r\nL 37.796875 17.1875 \r\nL 4.890625 17.1875 \r\nL 4.890625 26.703125 \r\nz\r\n\" id=\"DejaVuSans-52\"/>\r\n     </defs>\r\n     <use xlink:href=\"#DejaVuSans-49\"/>\r\n     <use x=\"63.623047\" xlink:href=\"#DejaVuSans-55\"/>\r\n     <use x=\"127.246094\" xlink:href=\"#DejaVuSans-46\"/>\r\n     <use x=\"159.033203\" xlink:href=\"#DejaVuSans-56\"/>\r\n     <use x=\"222.65625\" xlink:href=\"#DejaVuSans-52\"/>\r\n     <use x=\"286.279297\" xlink:href=\"#DejaVuSans-37\"/>\r\n    </g>\r\n   </g>\r\n   <g id=\"text_7\">\r\n    <!-- 2.16% -->\r\n    <g style=\"fill:#262626;\" transform=\"translate(74.954531 175.975737)scale(0.1 -0.1)\">\r\n     <defs>\r\n      <path d=\"M 19.1875 8.296875 \r\nL 53.609375 8.296875 \r\nL 53.609375 0 \r\nL 7.328125 0 \r\nL 7.328125 8.296875 \r\nQ 12.9375 14.109375 22.625 23.890625 \r\nQ 32.328125 33.6875 34.8125 36.53125 \r\nQ 39.546875 41.84375 41.421875 45.53125 \r\nQ 43.3125 49.21875 43.3125 52.78125 \r\nQ 43.3125 58.59375 39.234375 62.25 \r\nQ 35.15625 65.921875 28.609375 65.921875 \r\nQ 23.96875 65.921875 18.8125 64.3125 \r\nQ 13.671875 62.703125 7.8125 59.421875 \r\nL 7.8125 69.390625 \r\nQ 13.765625 71.78125 18.9375 73 \r\nQ 24.125 74.21875 28.421875 74.21875 \r\nQ 39.75 74.21875 46.484375 68.546875 \r\nQ 53.21875 62.890625 53.21875 53.421875 \r\nQ 53.21875 48.921875 51.53125 44.890625 \r\nQ 49.859375 40.875 45.40625 35.40625 \r\nQ 44.1875 33.984375 37.640625 27.21875 \r\nQ 31.109375 20.453125 19.1875 8.296875 \r\nz\r\n\" id=\"DejaVuSans-50\"/>\r\n      <path d=\"M 33.015625 40.375 \r\nQ 26.375 40.375 22.484375 35.828125 \r\nQ 18.609375 31.296875 18.609375 23.390625 \r\nQ 18.609375 15.53125 22.484375 10.953125 \r\nQ 26.375 6.390625 33.015625 6.390625 \r\nQ 39.65625 6.390625 43.53125 10.953125 \r\nQ 47.40625 15.53125 47.40625 23.390625 \r\nQ 47.40625 31.296875 43.53125 35.828125 \r\nQ 39.65625 40.375 33.015625 40.375 \r\nz\r\nM 52.59375 71.296875 \r\nL 52.59375 62.3125 \r\nQ 48.875 64.0625 45.09375 64.984375 \r\nQ 41.3125 65.921875 37.59375 65.921875 \r\nQ 27.828125 65.921875 22.671875 59.328125 \r\nQ 17.53125 52.734375 16.796875 39.40625 \r\nQ 19.671875 43.65625 24.015625 45.921875 \r\nQ 28.375 48.1875 33.59375 48.1875 \r\nQ 44.578125 48.1875 50.953125 41.515625 \r\nQ 57.328125 34.859375 57.328125 23.390625 \r\nQ 57.328125 12.15625 50.6875 5.359375 \r\nQ 44.046875 -1.421875 33.015625 -1.421875 \r\nQ 20.359375 -1.421875 13.671875 8.265625 \r\nQ 6.984375 17.96875 6.984375 36.375 \r\nQ 6.984375 53.65625 15.1875 63.9375 \r\nQ 23.390625 74.21875 37.203125 74.21875 \r\nQ 40.921875 74.21875 44.703125 73.484375 \r\nQ 48.484375 72.75 52.59375 71.296875 \r\nz\r\n\" id=\"DejaVuSans-54\"/>\r\n     </defs>\r\n     <use xlink:href=\"#DejaVuSans-50\"/>\r\n     <use x=\"63.623047\" xlink:href=\"#DejaVuSans-46\"/>\r\n     <use x=\"95.410156\" xlink:href=\"#DejaVuSans-49\"/>\r\n     <use x=\"159.033203\" xlink:href=\"#DejaVuSans-54\"/>\r\n     <use x=\"222.65625\" xlink:href=\"#DejaVuSans-37\"/>\r\n    </g>\r\n   </g>\r\n   <g id=\"text_8\">\r\n    <!-- 70.27% -->\r\n    <g style=\"fill:#ffffff;\" transform=\"translate(205.693281 175.975737)scale(0.1 -0.1)\">\r\n     <use xlink:href=\"#DejaVuSans-55\"/>\r\n     <use x=\"63.623047\" xlink:href=\"#DejaVuSans-48\"/>\r\n     <use x=\"127.246094\" xlink:href=\"#DejaVuSans-46\"/>\r\n     <use x=\"159.033203\" xlink:href=\"#DejaVuSans-50\"/>\r\n     <use x=\"222.65625\" xlink:href=\"#DejaVuSans-55\"/>\r\n     <use x=\"286.279297\" xlink:href=\"#DejaVuSans-37\"/>\r\n    </g>\r\n   </g>\r\n  </g>\r\n  <g id=\"axes_2\">\r\n   <g id=\"patch_3\">\r\n    <path clip-path=\"url(#paa243df9b2)\" d=\"M 308.458125 227.576362 \r\nL 308.458125 226.726987 \r\nL 308.458125 10.985737 \r\nL 308.458125 10.136362 \r\nL 319.330125 10.136362 \r\nL 319.330125 10.985737 \r\nL 319.330125 226.726987 \r\nL 319.330125 227.576362 \r\nz\r\n\" style=\"fill:#ffffff;stroke:#ffffff;stroke-linejoin:miter;stroke-width:0.01;\"/>\r\n   </g>\r\n   <image height=\"217\" id=\"image521b5bf045\" transform=\"scale(1 -1)translate(0 -217)\" width=\"11\" x=\"308\" xlink:href=\"data:image/png;base64,\r\niVBORw0KGgoAAAANSUhEUgAAAAsAAADZCAYAAAD2WsoCAAABG0lEQVR4nO2YMQ5DIQxDqcT9j9uh+oSu7cYbnmQQna3IcRyH39f7M2db/PXZlrGtA2zrANt6rVM2aQAWUDpWOYTGOhYPBXAuUtmj4Uk3iflNGqiytbBo3CHxlbKwG0p3fPJf8/+Difk9GhnSDTH5rQvrxRdTIyNFi+lscUY0Ql4ycNwWjdIqm+YHlU01AHiAlGGbwuIrY60eogbjrJ1jVBmBvTsYYiRm/vXC6k3RjPSADvcMc7bdEeYXD72WdV58ed8pW3rDM7/4jI/wRoj5QypXrSd0CmdmpDvuHzBUIyIYxVfBOLxBtN3sXzXRGxo4w/whOp/vjYxxh3gDHvoIzoxGDQBmDaJN8SoT8PlqeN5AOt9x51X2xm01+AXeLt0TcCgzLwAAAABJRU5ErkJggg==\" y=\"-10\"/>\r\n   <g id=\"matplotlib.axis_3\"/>\r\n   <g id=\"matplotlib.axis_4\">\r\n    <g id=\"ytick_3\">\r\n     <g id=\"line2d_5\">\r\n      <defs>\r\n       <path d=\"M 0 0 \r\nL 3.5 0 \r\n\" id=\"mba65c40d2f\" style=\"stroke:#000000;stroke-width:0.8;\"/>\r\n      </defs>\r\n      <g>\r\n       <use style=\"stroke:#000000;stroke-width:0.8;\" x=\"319.330125\" xlink:href=\"#mba65c40d2f\" y=\"202.553504\"/>\r\n      </g>\r\n     </g>\r\n     <g id=\"text_9\">\r\n      <!-- 0.1 -->\r\n      <g transform=\"translate(326.330125 206.352723)scale(0.1 -0.1)\">\r\n       <use xlink:href=\"#DejaVuSans-48\"/>\r\n       <use x=\"63.623047\" xlink:href=\"#DejaVuSans-46\"/>\r\n       <use x=\"95.410156\" xlink:href=\"#DejaVuSans-49\"/>\r\n      </g>\r\n     </g>\r\n    </g>\r\n    <g id=\"ytick_4\">\r\n     <g id=\"line2d_6\">\r\n      <g>\r\n       <use style=\"stroke:#000000;stroke-width:0.8;\" x=\"319.330125\" xlink:href=\"#mba65c40d2f\" y=\"170.62779\"/>\r\n      </g>\r\n     </g>\r\n     <g id=\"text_10\">\r\n      <!-- 0.2 -->\r\n      <g transform=\"translate(326.330125 174.427009)scale(0.1 -0.1)\">\r\n       <use xlink:href=\"#DejaVuSans-48\"/>\r\n       <use x=\"63.623047\" xlink:href=\"#DejaVuSans-46\"/>\r\n       <use x=\"95.410156\" xlink:href=\"#DejaVuSans-50\"/>\r\n      </g>\r\n     </g>\r\n    </g>\r\n    <g id=\"ytick_5\">\r\n     <g id=\"line2d_7\">\r\n      <g>\r\n       <use style=\"stroke:#000000;stroke-width:0.8;\" x=\"319.330125\" xlink:href=\"#mba65c40d2f\" y=\"138.702076\"/>\r\n      </g>\r\n     </g>\r\n     <g id=\"text_11\">\r\n      <!-- 0.3 -->\r\n      <g transform=\"translate(326.330125 142.501295)scale(0.1 -0.1)\">\r\n       <use xlink:href=\"#DejaVuSans-48\"/>\r\n       <use x=\"63.623047\" xlink:href=\"#DejaVuSans-46\"/>\r\n       <use x=\"95.410156\" xlink:href=\"#DejaVuSans-51\"/>\r\n      </g>\r\n     </g>\r\n    </g>\r\n    <g id=\"ytick_6\">\r\n     <g id=\"line2d_8\">\r\n      <g>\r\n       <use style=\"stroke:#000000;stroke-width:0.8;\" x=\"319.330125\" xlink:href=\"#mba65c40d2f\" y=\"106.776362\"/>\r\n      </g>\r\n     </g>\r\n     <g id=\"text_12\">\r\n      <!-- 0.4 -->\r\n      <g transform=\"translate(326.330125 110.57558)scale(0.1 -0.1)\">\r\n       <use xlink:href=\"#DejaVuSans-48\"/>\r\n       <use x=\"63.623047\" xlink:href=\"#DejaVuSans-46\"/>\r\n       <use x=\"95.410156\" xlink:href=\"#DejaVuSans-52\"/>\r\n      </g>\r\n     </g>\r\n    </g>\r\n    <g id=\"ytick_7\">\r\n     <g id=\"line2d_9\">\r\n      <g>\r\n       <use style=\"stroke:#000000;stroke-width:0.8;\" x=\"319.330125\" xlink:href=\"#mba65c40d2f\" y=\"74.850647\"/>\r\n      </g>\r\n     </g>\r\n     <g id=\"text_13\">\r\n      <!-- 0.5 -->\r\n      <g transform=\"translate(326.330125 78.649866)scale(0.1 -0.1)\">\r\n       <defs>\r\n        <path d=\"M 10.796875 72.90625 \r\nL 49.515625 72.90625 \r\nL 49.515625 64.59375 \r\nL 19.828125 64.59375 \r\nL 19.828125 46.734375 \r\nQ 21.96875 47.46875 24.109375 47.828125 \r\nQ 26.265625 48.1875 28.421875 48.1875 \r\nQ 40.625 48.1875 47.75 41.5 \r\nQ 54.890625 34.8125 54.890625 23.390625 \r\nQ 54.890625 11.625 47.5625 5.09375 \r\nQ 40.234375 -1.421875 26.90625 -1.421875 \r\nQ 22.3125 -1.421875 17.546875 -0.640625 \r\nQ 12.796875 0.140625 7.71875 1.703125 \r\nL 7.71875 11.625 \r\nQ 12.109375 9.234375 16.796875 8.0625 \r\nQ 21.484375 6.890625 26.703125 6.890625 \r\nQ 35.15625 6.890625 40.078125 11.328125 \r\nQ 45.015625 15.765625 45.015625 23.390625 \r\nQ 45.015625 31 40.078125 35.4375 \r\nQ 35.15625 39.890625 26.703125 39.890625 \r\nQ 22.75 39.890625 18.8125 39.015625 \r\nQ 14.890625 38.140625 10.796875 36.28125 \r\nz\r\n\" id=\"DejaVuSans-53\"/>\r\n       </defs>\r\n       <use xlink:href=\"#DejaVuSans-48\"/>\r\n       <use x=\"63.623047\" xlink:href=\"#DejaVuSans-46\"/>\r\n       <use x=\"95.410156\" xlink:href=\"#DejaVuSans-53\"/>\r\n      </g>\r\n     </g>\r\n    </g>\r\n    <g id=\"ytick_8\">\r\n     <g id=\"line2d_10\">\r\n      <g>\r\n       <use style=\"stroke:#000000;stroke-width:0.8;\" x=\"319.330125\" xlink:href=\"#mba65c40d2f\" y=\"42.924933\"/>\r\n      </g>\r\n     </g>\r\n     <g id=\"text_14\">\r\n      <!-- 0.6 -->\r\n      <g transform=\"translate(326.330125 46.724152)scale(0.1 -0.1)\">\r\n       <use xlink:href=\"#DejaVuSans-48\"/>\r\n       <use x=\"63.623047\" xlink:href=\"#DejaVuSans-46\"/>\r\n       <use x=\"95.410156\" xlink:href=\"#DejaVuSans-54\"/>\r\n      </g>\r\n     </g>\r\n    </g>\r\n    <g id=\"ytick_9\">\r\n     <g id=\"line2d_11\">\r\n      <g>\r\n       <use style=\"stroke:#000000;stroke-width:0.8;\" x=\"319.330125\" xlink:href=\"#mba65c40d2f\" y=\"10.999219\"/>\r\n      </g>\r\n     </g>\r\n     <g id=\"text_15\">\r\n      <!-- 0.7 -->\r\n      <g transform=\"translate(326.330125 14.798438)scale(0.1 -0.1)\">\r\n       <use xlink:href=\"#DejaVuSans-48\"/>\r\n       <use x=\"63.623047\" xlink:href=\"#DejaVuSans-46\"/>\r\n       <use x=\"95.410156\" xlink:href=\"#DejaVuSans-55\"/>\r\n      </g>\r\n     </g>\r\n    </g>\r\n   </g>\r\n   <g id=\"patch_4\">\r\n    <path d=\"M 308.458125 227.576362 \r\nL 308.458125 226.726987 \r\nL 308.458125 10.985737 \r\nL 308.458125 10.136362 \r\nL 319.330125 10.136362 \r\nL 319.330125 10.985737 \r\nL 319.330125 226.726987 \r\nL 319.330125 227.576362 \r\nz\r\n\" style=\"fill:none;\"/>\r\n   </g>\r\n  </g>\r\n </g>\r\n <defs>\r\n  <clipPath id=\"pf526a2f81d\">\r\n   <rect height=\"217.44\" width=\"267.84\" x=\"23.878125\" y=\"10.136362\"/>\r\n  </clipPath>\r\n  <clipPath id=\"paa243df9b2\">\r\n   <rect height=\"217.44\" width=\"10.872\" x=\"308.458125\" y=\"10.136362\"/>\r\n  </clipPath>\r\n </defs>\r\n</svg>\r\n",
      "image/png": "[encoded data removed]"
     },
     "metadata": {
      "needs_background": "light"
     }
    }
   ],
   "source": [
    "sns.heatmap(confusion/np.sum(confusion), annot=True, fmt='.2%', cmap='Blues')"
   ]
  },
  {
   "cell_type": "code",
   "execution_count": 32,
   "metadata": {},
   "outputs": [
    {
     "output_type": "stream",
     "name": "stdout",
     "text": [
      "              precision    recall  f1-score   support\n\n           0       0.82      0.35      0.49        51\n           1       0.80      0.97      0.88       134\n\n    accuracy                           0.80       185\n   macro avg       0.81      0.66      0.68       185\nweighted avg       0.80      0.80      0.77       185\n\n"
     ]
    }
   ],
   "source": [
    "print(classification_report(y_test, y_pred))"
   ]
  },
  {
   "cell_type": "code",
   "execution_count": 45,
   "metadata": {},
   "outputs": [
    {
     "output_type": "execute_result",
     "data": {
      "text/plain": [
       "0.2"
      ]
     },
     "metadata": {},
     "execution_count": 45
    }
   ],
   "source": [
    "mean_absolute_error(y_test, y_pred)"
   ]
  },
  {
   "cell_type": "code",
   "execution_count": 46,
   "metadata": {},
   "outputs": [
    {
     "output_type": "execute_result",
     "data": {
      "text/plain": [
       "0.4472135954999579"
      ]
     },
     "metadata": {},
     "execution_count": 46
    }
   ],
   "source": [
    "mean_squared_error(y_test, y_pred)\n",
    "math.sqrt(mean_squared_error(y_test, y_pred))"
   ]
  },
  {
   "cell_type": "code",
   "execution_count": 47,
   "metadata": {},
   "outputs": [
    {
     "output_type": "execute_result",
     "data": {
      "text/plain": [
       "0.7243243243243244"
      ]
     },
     "metadata": {},
     "execution_count": 47
    }
   ],
   "source": [
    "np.mean(y_test)"
   ]
  },
  {
   "cell_type": "code",
   "execution_count": 48,
   "metadata": {},
   "outputs": [
    {
     "output_type": "execute_result",
     "data": {
      "text/plain": [
       "0.8810810810810811"
      ]
     },
     "metadata": {},
     "execution_count": 48
    }
   ],
   "source": [
    "np.mean(y_pred)"
   ]
  },
  {
   "cell_type": "code",
   "execution_count": 33,
   "metadata": {},
   "outputs": [],
   "source": [
    "filename = 'loan_determinant_SVM.sav'\n",
    "pickle.dump(svm, open(filename, 'wb'))"
   ]
  },
  {
   "source": [
    "THE ARTIFICIAL NEURAL NETWORK MODEL REGISTERED A RELATIVELY HIGHER MEAN ABSOLUTE ERROR - M.A.E, (37%) COMPARED TO THE SUPPORT VECTOR MACHINE WHICH RECORDED AN M.A.E OF 20%. THIS IMPLIES THAT THE PREDICTIONS MADE BY THE SVM ARE MUCH CLOSER TO 'REAL' VALUES COMPARED TO THE PREDICTIONS MADE BY THE A.N.N. \n",
    "\n",
    "HOWEVER, THE ACCURACY, PRECISION, RECALL AND F1SCORE SCORES OF THE A.N.N MODEL WERE RELATIVELY HIGHER (BETTER) THAN THOSE REGISTERED BY THE SVM MODEL. HENCE THE ANN MODEL WOULD BE A BETTER CHOICE MODEL FOR DETERMINING THE BEST SOLUTION TO THE STATEMENT PROBLEM."
   ],
   "cell_type": "markdown",
   "metadata": {}
  }
 ]
}